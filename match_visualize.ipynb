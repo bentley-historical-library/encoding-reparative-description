{
 "cells": [
  {
   "cell_type": "markdown",
   "metadata": {},
   "source": [
    "# Match Terms and Visualize\n",
    "\n",
    "This notebook uses the results from the `parse_resources.ipynb` notebook.\n",
    "The parse resources step pulls data from ArchivesSpace and creates a\n",
    "dataframe that was output to a CSV file. \n",
    "This notebook starts from the CSV file, but it could\n",
    "relatively easily be changed to take the previous dataframe\n",
    "as an input. \n",
    "\n",
    "## Setup\n",
    "\n",
    "If continuing or adapting this code, you have likely already imported these libraries.\n",
    "We will use `pandas` for data processing, `re` for text processing and parsing,\n",
    "and a few others."
   ]
  },
  {
   "cell_type": "code",
   "execution_count": 16,
   "metadata": {},
   "outputs": [],
   "source": [
    "import pandas as pd \n",
    "import re\n",
    "\n",
    "import matplotlib.pyplot as plt\n",
    "import matplotlib.colors as mcolors\n",
    "import plotly.express as px\n",
    "import plotly.io as pio"
   ]
  },
  {
   "cell_type": "markdown",
   "metadata": {},
   "source": [
    "**pd.set_option('display.max_colwidth', -1)**: controls the maximum width of each column in a pandas dataframe. By setting it to -1, pandas will display the full contents of each column, without any truncation:"
   ]
  },
  {
   "cell_type": "code",
   "execution_count": 17,
   "metadata": {},
   "outputs": [],
   "source": [
    "#pd.set_option('display.max_colwidth', -1)"
   ]
  },
  {
   "cell_type": "markdown",
   "metadata": {},
   "source": [
    "**pd.set_option('display.max_rows', None)**: Sets the maximum number of rows displayed when a pandas DataFrame or Series is printed to be unlimited. When this option is set to an integer (as in the commented line # **pd.set_option('display.max_rows', 10)**), only the specified number of rows would be displayed. This is useful for controlling the output length, especially when working with large DataFrames."
   ]
  },
  {
   "cell_type": "code",
   "execution_count": 18,
   "metadata": {},
   "outputs": [],
   "source": [
    "# pd.set_option('display.max_rows', None)\n",
    "pd.set_option('display.max_rows', 10)"
   ]
  },
  {
   "cell_type": "markdown",
   "metadata": {},
   "source": [
    "Note: the following functions and code is based on\n",
    "work by Ella Li, who created an initial version of this project\n",
    "that parsed EAD data from XML files. \n",
    "The process here is similar but\n",
    "continues to use the data pulled from the ArchivesSpace API,\n",
    "which exports data in JSON rather than XML. "
   ]
  },
  {
   "cell_type": "markdown",
   "metadata": {},
   "source": [
    "## Provide Terms\n",
    "\n",
    "Terms of interest are supplied in a plain text file, with\n",
    "each term of interest on its own line. "
   ]
  },
  {
   "cell_type": "code",
   "execution_count": 19,
   "metadata": {},
   "outputs": [],
   "source": [
    "# read in the txt file term list\n",
    "term_list_file = 'terms-nativeAmerican.txt'\n",
    "# term_list_file = 'terms-philippines.txt'\n",
    "\n",
    "with open(term_list_file, 'r') as f:\n",
    "    terms = [line.strip() for line in f]"
   ]
  },
  {
   "cell_type": "code",
   "execution_count": 20,
   "metadata": {},
   "outputs": [
    {
     "name": "stdout",
     "output_type": "stream",
     "text": [
      "Read term list from terms-nativeAmerican.txt and recorded 94 terms of interest.\n"
     ]
    }
   ],
   "source": [
    "print(f'Read term list from {term_list_file} and recorded {len(terms)} terms of interest.')"
   ]
  },
  {
   "cell_type": "markdown",
   "metadata": {},
   "source": [
    "## Match Terms\n",
    "\n",
    "The next block defines the `match_terms` function, which analyses the EAD data\n",
    "and identify occurences, tally occurences, and record their source tags.\n",
    "First, pull the CSV `results.csv` data into a dataframe.\n",
    "Then, the function searches for each term in the specified columns of a given row in your DataFrame. It performs an exact match, searching for the whole term, not part of it (due to the use of the `\\b` word boundary in the regular expression). The search is case-insensitive due to the `re.IGNORECASE` flag.\n",
    "\n",
    "If a term is found in a paragraph of the column, a dictionary is created with details about the match, including the term, the number of matches in the paragraph, the paragraph text itself, and other related information. These dictionaries are appended to the results list."
   ]
  },
  {
   "cell_type": "code",
   "execution_count": 21,
   "metadata": {},
   "outputs": [],
   "source": [
    "# match terms\n",
    "\n",
    "def match_terms(row, terms, columns):\n",
    "    results = []\n",
    "    for term in terms:\n",
    "        for col in columns:\n",
    "            if not isinstance(row[col], float):\n",
    "                # split the column into paragraphs\n",
    "                # wonky try/except to work through integers, if not converted to strings\n",
    "                try:\n",
    "                    paragraphs = row[col].split('\\n')\n",
    "                except:\n",
    "                    paragraphs = str(row[col]).split('\\n')\n",
    "                # loop through each paragraph\n",
    "                for paragraph in paragraphs:\n",
    "                    # check if the term is in the current paragraph\n",
    "                    if re.search(r'\\b' + re.escape(term) + r'\\b', paragraph, re.IGNORECASE):\n",
    "                        results.append({\n",
    "                            'ead_id': row['ead_id'],\n",
    "#                            'source_filename': row['source_filename'],\n",
    "                            'resource_id': row['resource_id'],\n",
    "                            'titleproper': row.get('titleproper', None), \n",
    "                            'Term': term, \n",
    "                            'Matched_Times': len(re.findall(r'\\b' + re.escape(term) + r'\\b', paragraph, re.IGNORECASE)),\n",
    "                            'Matched_From': col, \n",
    "                            'Matched_Paragraph': paragraph\n",
    "                        })\n",
    "    return results"
   ]
  },
  {
   "cell_type": "markdown",
   "metadata": {},
   "source": [
    "Next, using the match term function, tally and record the results.\n",
    "These outputs will be the basis of additional reports and visualizations,\n",
    "including the term in context report, charts, and other visualizations."
   ]
  },
  {
   "cell_type": "code",
   "execution_count": 22,
   "metadata": {},
   "outputs": [],
   "source": [
    "def match_and_visualize(df, name):\n",
    "    # Match results\n",
    "    results_df = pd.DataFrame([result for index, row in df.iterrows() for result in match_terms(row, terms, df.columns)])\n",
    "    \n",
    "    # Show matched results\n",
    "    print('Matched results for', name)\n",
    "    display(results_df) # control dislay\n",
    "\n",
    "    return results_df  # Return the DataFrame for later use"
   ]
  },
  {
   "cell_type": "markdown",
   "metadata": {},
   "source": [
    "To use the above functions, create a dataframe (or reuse the data from the `parse_resources.ipynb` scripts), then initialize the functions. \n",
    "The following code block demonstrates how to do this with `results.csv`\n",
    "as an input."
   ]
  },
  {
   "cell_type": "code",
   "execution_count": 23,
   "metadata": {},
   "outputs": [],
   "source": [
    "eads_df = pd.read_csv('results-nativeAmerican.csv', encoding='utf-8')\n",
    "# eads_df = pd.read_csv('results-philippines.csv', encoding='utf-8')"
   ]
  },
  {
   "cell_type": "code",
   "execution_count": 24,
   "metadata": {},
   "outputs": [
    {
     "data": {
      "text/html": [
       "<div>\n",
       "<style scoped>\n",
       "    .dataframe tbody tr th:only-of-type {\n",
       "        vertical-align: middle;\n",
       "    }\n",
       "\n",
       "    .dataframe tbody tr th {\n",
       "        vertical-align: top;\n",
       "    }\n",
       "\n",
       "    .dataframe thead th {\n",
       "        text-align: right;\n",
       "    }\n",
       "</style>\n",
       "<table border=\"1\" class=\"dataframe\">\n",
       "  <thead>\n",
       "    <tr style=\"text-align: right;\">\n",
       "      <th></th>\n",
       "      <th>resource_id</th>\n",
       "      <th>ead_id</th>\n",
       "      <th>titleproper</th>\n",
       "      <th>abstract</th>\n",
       "      <th>language</th>\n",
       "      <th>scopecontent</th>\n",
       "      <th>bioghist</th>\n",
       "      <th>subject_ids</th>\n",
       "      <th>subjects</th>\n",
       "      <th>subjects_source</th>\n",
       "      <th>...</th>\n",
       "      <th>geognames_source</th>\n",
       "      <th>persname_ids</th>\n",
       "      <th>persnames</th>\n",
       "      <th>persnames_source</th>\n",
       "      <th>corpname_ids</th>\n",
       "      <th>corpnames</th>\n",
       "      <th>corpnames_source</th>\n",
       "      <th>famname_ids</th>\n",
       "      <th>famnames</th>\n",
       "      <th>famnames_source</th>\n",
       "    </tr>\n",
       "  </thead>\n",
       "  <tbody>\n",
       "    <tr>\n",
       "      <th>0</th>\n",
       "      <td>229</td>\n",
       "      <td>umich-bhl-92745</td>\n",
       "      <td>Ed Beach photographs, 1931-1948</td>\n",
       "      <td>Ed Beach was an amateur photographer whose pho...</td>\n",
       "      <td>The finding aid is written in English</td>\n",
       "      <td>The Ed Beach collection consists of photograph...</td>\n",
       "      <td>William E. Beach, known to all as Ed Beach, wa...</td>\n",
       "      <td>3784; 3785; 3663; 3786; 3787; 3788; 3789; 3790...</td>\n",
       "      <td>Airports; Animals; Automobiles; Automobile ser...</td>\n",
       "      <td>lctgm; lctgm; lctgm; lctgm; lctgm; lctgm; lctg...</td>\n",
       "      <td>...</td>\n",
       "      <td>lcsh; lcsh; lcsh; lcsh; lcsh; lcsh; lcsh; lcsh...</td>\n",
       "      <td>8552; 4615</td>\n",
       "      <td>Beach, William Edward.; Winans, Edwin B., 1826...</td>\n",
       "      <td>lcnaf; lcnaf</td>\n",
       "      <td>NaN</td>\n",
       "      <td>NaN</td>\n",
       "      <td>NaN</td>\n",
       "      <td>298</td>\n",
       "      <td>Beach family.</td>\n",
       "      <td>lcnaf</td>\n",
       "    </tr>\n",
       "    <tr>\n",
       "      <th>1</th>\n",
       "      <td>8482</td>\n",
       "      <td>No EAD ID</td>\n",
       "      <td>the Francis S. Belton drawing collection.</td>\n",
       "      <td>NaN</td>\n",
       "      <td>The finding aid is written in English</td>\n",
       "      <td>Drawing of Mackinac Island from Round Island.</td>\n",
       "      <td>Officer in the United States Army.</td>\n",
       "      <td>6130; 3941</td>\n",
       "      <td>Indians of North America; Ships</td>\n",
       "      <td>lcsh; lctgm</td>\n",
       "      <td>...</td>\n",
       "      <td>lcsh; lcsh</td>\n",
       "      <td>14333</td>\n",
       "      <td>Belton, Francis S.</td>\n",
       "      <td>local</td>\n",
       "      <td>NaN</td>\n",
       "      <td>NaN</td>\n",
       "      <td>NaN</td>\n",
       "      <td>NaN</td>\n",
       "      <td>NaN</td>\n",
       "      <td>NaN</td>\n",
       "    </tr>\n",
       "    <tr>\n",
       "      <th>2</th>\n",
       "      <td>4460</td>\n",
       "      <td>No EAD ID</td>\n",
       "      <td>the Bentley Historical Library Realia Collection</td>\n",
       "      <td>NaN</td>\n",
       "      <td>The finding aid is written in English</td>\n",
       "      <td>A collection of artifacts and three-dimensiona...</td>\n",
       "      <td>NaN</td>\n",
       "      <td>NaN</td>\n",
       "      <td>NaN</td>\n",
       "      <td>NaN</td>\n",
       "      <td>...</td>\n",
       "      <td>lcsh</td>\n",
       "      <td>NaN</td>\n",
       "      <td>NaN</td>\n",
       "      <td>NaN</td>\n",
       "      <td>8371; 6527</td>\n",
       "      <td>Bentley Historical Library.; University of Mic...</td>\n",
       "      <td>local; local</td>\n",
       "      <td>NaN</td>\n",
       "      <td>NaN</td>\n",
       "      <td>NaN</td>\n",
       "    </tr>\n",
       "    <tr>\n",
       "      <th>3</th>\n",
       "      <td>256</td>\n",
       "      <td>umich-bhl-93291</td>\n",
       "      <td>Fred E. Benz motion picture collection, 1929-1950</td>\n",
       "      <td>Amateur photographer; sixty-two reels of film ...</td>\n",
       "      <td>The finding aid is written in English</td>\n",
       "      <td>When the University of Michigan Media Resource...</td>\n",
       "      <td>In 1911, Fred Benz, an Ann Arbor, Michigan nat...</td>\n",
       "      <td>3773; 3840; 3841; 3582; 6328; 3842; 6329; 3843...</td>\n",
       "      <td>Animals.; Bullfighting.; Cemeteries.; Children...</td>\n",
       "      <td>lctgm; lctgm; lctgm; lctgm; lcsh; lctgm; lcsh;...</td>\n",
       "      <td>...</td>\n",
       "      <td>lcsh; lcsh; lcsh; lcsh; lcsh; lcsh; lcsh; lcsh...</td>\n",
       "      <td>6041</td>\n",
       "      <td>Benz, Fred E., -1963</td>\n",
       "      <td>lcnaf</td>\n",
       "      <td>NaN</td>\n",
       "      <td>NaN</td>\n",
       "      <td>NaN</td>\n",
       "      <td>NaN</td>\n",
       "      <td>NaN</td>\n",
       "      <td>NaN</td>\n",
       "    </tr>\n",
       "    <tr>\n",
       "      <th>4</th>\n",
       "      <td>8480</td>\n",
       "      <td>No EAD ID</td>\n",
       "      <td>the Black Hawk visual material collection.</td>\n",
       "      <td>NaN</td>\n",
       "      <td>The finding aid is written in English</td>\n",
       "      <td>Photoprint of portrait painting.</td>\n",
       "      <td>NaN</td>\n",
       "      <td>6806</td>\n",
       "      <td>Indians of North America.</td>\n",
       "      <td>lcsh</td>\n",
       "      <td>...</td>\n",
       "      <td>NaN</td>\n",
       "      <td>14702</td>\n",
       "      <td>Black Hawk, Sauk chief, 1767-1838</td>\n",
       "      <td>lcnaf</td>\n",
       "      <td>NaN</td>\n",
       "      <td>NaN</td>\n",
       "      <td>NaN</td>\n",
       "      <td>NaN</td>\n",
       "      <td>NaN</td>\n",
       "      <td>NaN</td>\n",
       "    </tr>\n",
       "  </tbody>\n",
       "</table>\n",
       "<p>5 rows × 25 columns</p>\n",
       "</div>"
      ],
      "text/plain": [
       "   resource_id           ead_id  \\\n",
       "0          229  umich-bhl-92745   \n",
       "1         8482        No EAD ID   \n",
       "2         4460        No EAD ID   \n",
       "3          256  umich-bhl-93291   \n",
       "4         8480        No EAD ID   \n",
       "\n",
       "                                         titleproper  \\\n",
       "0                    Ed Beach photographs, 1931-1948   \n",
       "1          the Francis S. Belton drawing collection.   \n",
       "2   the Bentley Historical Library Realia Collection   \n",
       "3  Fred E. Benz motion picture collection, 1929-1950   \n",
       "4         the Black Hawk visual material collection.   \n",
       "\n",
       "                                            abstract  \\\n",
       "0  Ed Beach was an amateur photographer whose pho...   \n",
       "1                                                NaN   \n",
       "2                                                NaN   \n",
       "3  Amateur photographer; sixty-two reels of film ...   \n",
       "4                                                NaN   \n",
       "\n",
       "                                language  \\\n",
       "0  The finding aid is written in English   \n",
       "1  The finding aid is written in English   \n",
       "2  The finding aid is written in English   \n",
       "3  The finding aid is written in English   \n",
       "4  The finding aid is written in English   \n",
       "\n",
       "                                        scopecontent  \\\n",
       "0  The Ed Beach collection consists of photograph...   \n",
       "1      Drawing of Mackinac Island from Round Island.   \n",
       "2  A collection of artifacts and three-dimensiona...   \n",
       "3  When the University of Michigan Media Resource...   \n",
       "4                   Photoprint of portrait painting.   \n",
       "\n",
       "                                            bioghist  \\\n",
       "0  William E. Beach, known to all as Ed Beach, wa...   \n",
       "1                 Officer in the United States Army.   \n",
       "2                                                NaN   \n",
       "3  In 1911, Fred Benz, an Ann Arbor, Michigan nat...   \n",
       "4                                                NaN   \n",
       "\n",
       "                                         subject_ids  \\\n",
       "0  3784; 3785; 3663; 3786; 3787; 3788; 3789; 3790...   \n",
       "1                                         6130; 3941   \n",
       "2                                                NaN   \n",
       "3  3773; 3840; 3841; 3582; 6328; 3842; 6329; 3843...   \n",
       "4                                               6806   \n",
       "\n",
       "                                            subjects  \\\n",
       "0  Airports; Animals; Automobiles; Automobile ser...   \n",
       "1                    Indians of North America; Ships   \n",
       "2                                                NaN   \n",
       "3  Animals.; Bullfighting.; Cemeteries.; Children...   \n",
       "4                          Indians of North America.   \n",
       "\n",
       "                                     subjects_source  ...  \\\n",
       "0  lctgm; lctgm; lctgm; lctgm; lctgm; lctgm; lctg...  ...   \n",
       "1                                        lcsh; lctgm  ...   \n",
       "2                                                NaN  ...   \n",
       "3  lctgm; lctgm; lctgm; lctgm; lcsh; lctgm; lcsh;...  ...   \n",
       "4                                               lcsh  ...   \n",
       "\n",
       "                                    geognames_source persname_ids  \\\n",
       "0  lcsh; lcsh; lcsh; lcsh; lcsh; lcsh; lcsh; lcsh...   8552; 4615   \n",
       "1                                         lcsh; lcsh        14333   \n",
       "2                                               lcsh          NaN   \n",
       "3  lcsh; lcsh; lcsh; lcsh; lcsh; lcsh; lcsh; lcsh...         6041   \n",
       "4                                                NaN        14702   \n",
       "\n",
       "                                           persnames persnames_source  \\\n",
       "0  Beach, William Edward.; Winans, Edwin B., 1826...     lcnaf; lcnaf   \n",
       "1                                 Belton, Francis S.            local   \n",
       "2                                                NaN              NaN   \n",
       "3                               Benz, Fred E., -1963            lcnaf   \n",
       "4                  Black Hawk, Sauk chief, 1767-1838            lcnaf   \n",
       "\n",
       "  corpname_ids                                          corpnames  \\\n",
       "0          NaN                                                NaN   \n",
       "1          NaN                                                NaN   \n",
       "2   8371; 6527  Bentley Historical Library.; University of Mic...   \n",
       "3          NaN                                                NaN   \n",
       "4          NaN                                                NaN   \n",
       "\n",
       "  corpnames_source famname_ids       famnames famnames_source  \n",
       "0              NaN         298  Beach family.           lcnaf  \n",
       "1              NaN         NaN            NaN             NaN  \n",
       "2     local; local         NaN            NaN             NaN  \n",
       "3              NaN         NaN            NaN             NaN  \n",
       "4              NaN         NaN            NaN             NaN  \n",
       "\n",
       "[5 rows x 25 columns]"
      ]
     },
     "execution_count": 24,
     "metadata": {},
     "output_type": "execute_result"
    }
   ],
   "source": [
    "eads_df.head()"
   ]
  },
  {
   "cell_type": "code",
   "execution_count": 25,
   "metadata": {},
   "outputs": [
    {
     "data": {
      "text/plain": [
       "Index(['resource_id', 'ead_id', 'titleproper', 'abstract', 'language',\n",
       "       'scopecontent', 'bioghist', 'subject_ids', 'subjects',\n",
       "       'subjects_source', 'genreform_ids', 'genreforms', 'genreforms_source',\n",
       "       'geogname_ids', 'geognames', 'geognames_source', 'persname_ids',\n",
       "       'persnames', 'persnames_source', 'corpname_ids', 'corpnames',\n",
       "       'corpnames_source', 'famname_ids', 'famnames', 'famnames_source'],\n",
       "      dtype='object')"
      ]
     },
     "execution_count": 25,
     "metadata": {},
     "output_type": "execute_result"
    }
   ],
   "source": [
    "eads_df.columns"
   ]
  },
  {
   "cell_type": "code",
   "execution_count": 26,
   "metadata": {},
   "outputs": [],
   "source": [
    "# rename eadid to ead_id\n",
    "eads_df = eads_df.rename(columns={'eadid':'ead_id'})"
   ]
  },
  {
   "cell_type": "markdown",
   "metadata": {},
   "source": [
    "## Tally and Record\n",
    "\n",
    "Use the `match_and_visualize()` function to count the matches."
   ]
  },
  {
   "cell_type": "code",
   "execution_count": 27,
   "metadata": {},
   "outputs": [
    {
     "name": "stdout",
     "output_type": "stream",
     "text": [
      "Matched results for nativeAmerican\n"
     ]
    },
    {
     "data": {
      "text/html": [
       "<div>\n",
       "<style scoped>\n",
       "    .dataframe tbody tr th:only-of-type {\n",
       "        vertical-align: middle;\n",
       "    }\n",
       "\n",
       "    .dataframe tbody tr th {\n",
       "        vertical-align: top;\n",
       "    }\n",
       "\n",
       "    .dataframe thead th {\n",
       "        text-align: right;\n",
       "    }\n",
       "</style>\n",
       "<table border=\"1\" class=\"dataframe\">\n",
       "  <thead>\n",
       "    <tr style=\"text-align: right;\">\n",
       "      <th></th>\n",
       "      <th>ead_id</th>\n",
       "      <th>resource_id</th>\n",
       "      <th>titleproper</th>\n",
       "      <th>Term</th>\n",
       "      <th>Matched_Times</th>\n",
       "      <th>Matched_From</th>\n",
       "      <th>Matched_Paragraph</th>\n",
       "    </tr>\n",
       "  </thead>\n",
       "  <tbody>\n",
       "    <tr>\n",
       "      <th>0</th>\n",
       "      <td>umich-bhl-92745</td>\n",
       "      <td>229</td>\n",
       "      <td>Ed Beach photographs, 1931-1948</td>\n",
       "      <td>Dwellings</td>\n",
       "      <td>1</td>\n",
       "      <td>subjects</td>\n",
       "      <td>Airports; Animals; Automobiles; Automobile ser...</td>\n",
       "    </tr>\n",
       "    <tr>\n",
       "      <th>1</th>\n",
       "      <td>umich-bhl-92745</td>\n",
       "      <td>229</td>\n",
       "      <td>Ed Beach photographs, 1931-1948</td>\n",
       "      <td>Indian</td>\n",
       "      <td>1</td>\n",
       "      <td>scopecontent</td>\n",
       "      <td>Beach created the photograph albums around br...</td>\n",
       "    </tr>\n",
       "    <tr>\n",
       "      <th>2</th>\n",
       "      <td>umich-bhl-92745</td>\n",
       "      <td>229</td>\n",
       "      <td>Ed Beach photographs, 1931-1948</td>\n",
       "      <td>Indians</td>\n",
       "      <td>1</td>\n",
       "      <td>subjects</td>\n",
       "      <td>Airports; Animals; Automobiles; Automobile ser...</td>\n",
       "    </tr>\n",
       "    <tr>\n",
       "      <th>3</th>\n",
       "      <td>umich-bhl-92745</td>\n",
       "      <td>229</td>\n",
       "      <td>Ed Beach photographs, 1931-1948</td>\n",
       "      <td>Copper</td>\n",
       "      <td>1</td>\n",
       "      <td>geognames</td>\n",
       "      <td>Acme (Mich.); Ada (Mich.); Adrian (Mich.); Alb...</td>\n",
       "    </tr>\n",
       "    <tr>\n",
       "      <th>4</th>\n",
       "      <td>umich-bhl-92745</td>\n",
       "      <td>229</td>\n",
       "      <td>Ed Beach photographs, 1931-1948</td>\n",
       "      <td>Cass</td>\n",
       "      <td>1</td>\n",
       "      <td>geognames</td>\n",
       "      <td>Acme (Mich.); Ada (Mich.); Adrian (Mich.); Alb...</td>\n",
       "    </tr>\n",
       "    <tr>\n",
       "      <th>...</th>\n",
       "      <td>...</td>\n",
       "      <td>...</td>\n",
       "      <td>...</td>\n",
       "      <td>...</td>\n",
       "      <td>...</td>\n",
       "      <td>...</td>\n",
       "      <td>...</td>\n",
       "    </tr>\n",
       "    <tr>\n",
       "      <th>847</th>\n",
       "      <td>umich-bhl-87257</td>\n",
       "      <td>2634</td>\n",
       "      <td>Scientific Club (University of Michigan) Recor...</td>\n",
       "      <td>Mounds</td>\n",
       "      <td>1</td>\n",
       "      <td>bioghist</td>\n",
       "      <td>The Scientific Club succeeded an earlier orga...</td>\n",
       "    </tr>\n",
       "    <tr>\n",
       "      <th>848</th>\n",
       "      <td>umich-bhl-87257</td>\n",
       "      <td>2634</td>\n",
       "      <td>Scientific Club (University of Michigan) Recor...</td>\n",
       "      <td>Indian</td>\n",
       "      <td>1</td>\n",
       "      <td>bioghist</td>\n",
       "      <td>The Scientific Club succeeded an earlier orga...</td>\n",
       "    </tr>\n",
       "    <tr>\n",
       "      <th>849</th>\n",
       "      <td>umich-bhl-87290</td>\n",
       "      <td>2710</td>\n",
       "      <td>Vice President for Student Life (University of...</td>\n",
       "      <td>Native</td>\n",
       "      <td>4</td>\n",
       "      <td>bioghist</td>\n",
       "      <td>In February 2000, the Students of Color Coali...</td>\n",
       "    </tr>\n",
       "    <tr>\n",
       "      <th>850</th>\n",
       "      <td>umich-bhl-2014119</td>\n",
       "      <td>2843</td>\n",
       "      <td>William Edward Wise visual materials collectio...</td>\n",
       "      <td>Indian</td>\n",
       "      <td>2</td>\n",
       "      <td>corpnames</td>\n",
       "      <td>First Unitarian Church (Ann Arbor, Mich.); Wes...</td>\n",
       "    </tr>\n",
       "    <tr>\n",
       "      <th>851</th>\n",
       "      <td>umich-bhl-2014119</td>\n",
       "      <td>2843</td>\n",
       "      <td>William Edward Wise visual materials collectio...</td>\n",
       "      <td>Savage</td>\n",
       "      <td>1</td>\n",
       "      <td>persnames</td>\n",
       "      <td>Wise, William Edward.; Sunderland, Jabez Thoma...</td>\n",
       "    </tr>\n",
       "  </tbody>\n",
       "</table>\n",
       "<p>852 rows × 7 columns</p>\n",
       "</div>"
      ],
      "text/plain": [
       "                ead_id  resource_id  \\\n",
       "0      umich-bhl-92745          229   \n",
       "1      umich-bhl-92745          229   \n",
       "2      umich-bhl-92745          229   \n",
       "3      umich-bhl-92745          229   \n",
       "4      umich-bhl-92745          229   \n",
       "..                 ...          ...   \n",
       "847    umich-bhl-87257         2634   \n",
       "848    umich-bhl-87257         2634   \n",
       "849    umich-bhl-87290         2710   \n",
       "850  umich-bhl-2014119         2843   \n",
       "851  umich-bhl-2014119         2843   \n",
       "\n",
       "                                           titleproper       Term  \\\n",
       "0                      Ed Beach photographs, 1931-1948  Dwellings   \n",
       "1                      Ed Beach photographs, 1931-1948     Indian   \n",
       "2                      Ed Beach photographs, 1931-1948    Indians   \n",
       "3                      Ed Beach photographs, 1931-1948     Copper   \n",
       "4                      Ed Beach photographs, 1931-1948       Cass   \n",
       "..                                                 ...        ...   \n",
       "847  Scientific Club (University of Michigan) Recor...     Mounds   \n",
       "848  Scientific Club (University of Michigan) Recor...     Indian   \n",
       "849  Vice President for Student Life (University of...     Native   \n",
       "850  William Edward Wise visual materials collectio...     Indian   \n",
       "851  William Edward Wise visual materials collectio...     Savage   \n",
       "\n",
       "     Matched_Times  Matched_From  \\\n",
       "0                1      subjects   \n",
       "1                1  scopecontent   \n",
       "2                1      subjects   \n",
       "3                1     geognames   \n",
       "4                1     geognames   \n",
       "..             ...           ...   \n",
       "847              1      bioghist   \n",
       "848              1      bioghist   \n",
       "849              4      bioghist   \n",
       "850              2     corpnames   \n",
       "851              1     persnames   \n",
       "\n",
       "                                     Matched_Paragraph  \n",
       "0    Airports; Animals; Automobiles; Automobile ser...  \n",
       "1     Beach created the photograph albums around br...  \n",
       "2    Airports; Animals; Automobiles; Automobile ser...  \n",
       "3    Acme (Mich.); Ada (Mich.); Adrian (Mich.); Alb...  \n",
       "4    Acme (Mich.); Ada (Mich.); Adrian (Mich.); Alb...  \n",
       "..                                                 ...  \n",
       "847   The Scientific Club succeeded an earlier orga...  \n",
       "848   The Scientific Club succeeded an earlier orga...  \n",
       "849   In February 2000, the Students of Color Coali...  \n",
       "850  First Unitarian Church (Ann Arbor, Mich.); Wes...  \n",
       "851  Wise, William Edward.; Sunderland, Jabez Thoma...  \n",
       "\n",
       "[852 rows x 7 columns]"
      ]
     },
     "metadata": {},
     "output_type": "display_data"
    },
    {
     "data": {
      "text/html": [
       "<div>\n",
       "<style scoped>\n",
       "    .dataframe tbody tr th:only-of-type {\n",
       "        vertical-align: middle;\n",
       "    }\n",
       "\n",
       "    .dataframe tbody tr th {\n",
       "        vertical-align: top;\n",
       "    }\n",
       "\n",
       "    .dataframe thead th {\n",
       "        text-align: right;\n",
       "    }\n",
       "</style>\n",
       "<table border=\"1\" class=\"dataframe\">\n",
       "  <thead>\n",
       "    <tr style=\"text-align: right;\">\n",
       "      <th></th>\n",
       "      <th>ead_id</th>\n",
       "      <th>resource_id</th>\n",
       "      <th>titleproper</th>\n",
       "      <th>Term</th>\n",
       "      <th>Matched_Times</th>\n",
       "      <th>Matched_From</th>\n",
       "      <th>Matched_Paragraph</th>\n",
       "    </tr>\n",
       "  </thead>\n",
       "  <tbody>\n",
       "    <tr>\n",
       "      <th>0</th>\n",
       "      <td>umich-bhl-92745</td>\n",
       "      <td>229</td>\n",
       "      <td>Ed Beach photographs, 1931-1948</td>\n",
       "      <td>Dwellings</td>\n",
       "      <td>1</td>\n",
       "      <td>subjects</td>\n",
       "      <td>Airports; Animals; Automobiles; Automobile ser...</td>\n",
       "    </tr>\n",
       "    <tr>\n",
       "      <th>1</th>\n",
       "      <td>umich-bhl-92745</td>\n",
       "      <td>229</td>\n",
       "      <td>Ed Beach photographs, 1931-1948</td>\n",
       "      <td>Indian</td>\n",
       "      <td>1</td>\n",
       "      <td>scopecontent</td>\n",
       "      <td>Beach created the photograph albums around br...</td>\n",
       "    </tr>\n",
       "    <tr>\n",
       "      <th>2</th>\n",
       "      <td>umich-bhl-92745</td>\n",
       "      <td>229</td>\n",
       "      <td>Ed Beach photographs, 1931-1948</td>\n",
       "      <td>Indians</td>\n",
       "      <td>1</td>\n",
       "      <td>subjects</td>\n",
       "      <td>Airports; Animals; Automobiles; Automobile ser...</td>\n",
       "    </tr>\n",
       "    <tr>\n",
       "      <th>3</th>\n",
       "      <td>umich-bhl-92745</td>\n",
       "      <td>229</td>\n",
       "      <td>Ed Beach photographs, 1931-1948</td>\n",
       "      <td>Copper</td>\n",
       "      <td>1</td>\n",
       "      <td>geognames</td>\n",
       "      <td>Acme (Mich.); Ada (Mich.); Adrian (Mich.); Alb...</td>\n",
       "    </tr>\n",
       "    <tr>\n",
       "      <th>4</th>\n",
       "      <td>umich-bhl-92745</td>\n",
       "      <td>229</td>\n",
       "      <td>Ed Beach photographs, 1931-1948</td>\n",
       "      <td>Cass</td>\n",
       "      <td>1</td>\n",
       "      <td>geognames</td>\n",
       "      <td>Acme (Mich.); Ada (Mich.); Adrian (Mich.); Alb...</td>\n",
       "    </tr>\n",
       "    <tr>\n",
       "      <th>...</th>\n",
       "      <td>...</td>\n",
       "      <td>...</td>\n",
       "      <td>...</td>\n",
       "      <td>...</td>\n",
       "      <td>...</td>\n",
       "      <td>...</td>\n",
       "      <td>...</td>\n",
       "    </tr>\n",
       "    <tr>\n",
       "      <th>847</th>\n",
       "      <td>umich-bhl-87257</td>\n",
       "      <td>2634</td>\n",
       "      <td>Scientific Club (University of Michigan) Recor...</td>\n",
       "      <td>Mounds</td>\n",
       "      <td>1</td>\n",
       "      <td>bioghist</td>\n",
       "      <td>The Scientific Club succeeded an earlier orga...</td>\n",
       "    </tr>\n",
       "    <tr>\n",
       "      <th>848</th>\n",
       "      <td>umich-bhl-87257</td>\n",
       "      <td>2634</td>\n",
       "      <td>Scientific Club (University of Michigan) Recor...</td>\n",
       "      <td>Indian</td>\n",
       "      <td>1</td>\n",
       "      <td>bioghist</td>\n",
       "      <td>The Scientific Club succeeded an earlier orga...</td>\n",
       "    </tr>\n",
       "    <tr>\n",
       "      <th>849</th>\n",
       "      <td>umich-bhl-87290</td>\n",
       "      <td>2710</td>\n",
       "      <td>Vice President for Student Life (University of...</td>\n",
       "      <td>Native</td>\n",
       "      <td>4</td>\n",
       "      <td>bioghist</td>\n",
       "      <td>In February 2000, the Students of Color Coali...</td>\n",
       "    </tr>\n",
       "    <tr>\n",
       "      <th>850</th>\n",
       "      <td>umich-bhl-2014119</td>\n",
       "      <td>2843</td>\n",
       "      <td>William Edward Wise visual materials collectio...</td>\n",
       "      <td>Indian</td>\n",
       "      <td>2</td>\n",
       "      <td>corpnames</td>\n",
       "      <td>First Unitarian Church (Ann Arbor, Mich.); Wes...</td>\n",
       "    </tr>\n",
       "    <tr>\n",
       "      <th>851</th>\n",
       "      <td>umich-bhl-2014119</td>\n",
       "      <td>2843</td>\n",
       "      <td>William Edward Wise visual materials collectio...</td>\n",
       "      <td>Savage</td>\n",
       "      <td>1</td>\n",
       "      <td>persnames</td>\n",
       "      <td>Wise, William Edward.; Sunderland, Jabez Thoma...</td>\n",
       "    </tr>\n",
       "  </tbody>\n",
       "</table>\n",
       "<p>852 rows × 7 columns</p>\n",
       "</div>"
      ],
      "text/plain": [
       "                ead_id  resource_id  \\\n",
       "0      umich-bhl-92745          229   \n",
       "1      umich-bhl-92745          229   \n",
       "2      umich-bhl-92745          229   \n",
       "3      umich-bhl-92745          229   \n",
       "4      umich-bhl-92745          229   \n",
       "..                 ...          ...   \n",
       "847    umich-bhl-87257         2634   \n",
       "848    umich-bhl-87257         2634   \n",
       "849    umich-bhl-87290         2710   \n",
       "850  umich-bhl-2014119         2843   \n",
       "851  umich-bhl-2014119         2843   \n",
       "\n",
       "                                           titleproper       Term  \\\n",
       "0                      Ed Beach photographs, 1931-1948  Dwellings   \n",
       "1                      Ed Beach photographs, 1931-1948     Indian   \n",
       "2                      Ed Beach photographs, 1931-1948    Indians   \n",
       "3                      Ed Beach photographs, 1931-1948     Copper   \n",
       "4                      Ed Beach photographs, 1931-1948       Cass   \n",
       "..                                                 ...        ...   \n",
       "847  Scientific Club (University of Michigan) Recor...     Mounds   \n",
       "848  Scientific Club (University of Michigan) Recor...     Indian   \n",
       "849  Vice President for Student Life (University of...     Native   \n",
       "850  William Edward Wise visual materials collectio...     Indian   \n",
       "851  William Edward Wise visual materials collectio...     Savage   \n",
       "\n",
       "     Matched_Times  Matched_From  \\\n",
       "0                1      subjects   \n",
       "1                1  scopecontent   \n",
       "2                1      subjects   \n",
       "3                1     geognames   \n",
       "4                1     geognames   \n",
       "..             ...           ...   \n",
       "847              1      bioghist   \n",
       "848              1      bioghist   \n",
       "849              4      bioghist   \n",
       "850              2     corpnames   \n",
       "851              1     persnames   \n",
       "\n",
       "                                     Matched_Paragraph  \n",
       "0    Airports; Animals; Automobiles; Automobile ser...  \n",
       "1     Beach created the photograph albums around br...  \n",
       "2    Airports; Animals; Automobiles; Automobile ser...  \n",
       "3    Acme (Mich.); Ada (Mich.); Adrian (Mich.); Alb...  \n",
       "4    Acme (Mich.); Ada (Mich.); Adrian (Mich.); Alb...  \n",
       "..                                                 ...  \n",
       "847   The Scientific Club succeeded an earlier orga...  \n",
       "848   The Scientific Club succeeded an earlier orga...  \n",
       "849   In February 2000, the Students of Color Coali...  \n",
       "850  First Unitarian Church (Ann Arbor, Mich.); Wes...  \n",
       "851  Wise, William Edward.; Sunderland, Jabez Thoma...  \n",
       "\n",
       "[852 rows x 7 columns]"
      ]
     },
     "execution_count": 27,
     "metadata": {},
     "output_type": "execute_result"
    }
   ],
   "source": [
    "match_and_visualize(eads_df, 'nativeAmerican')\n",
    "# match_and_visualize(eads_df, 'philippines')\n"
   ]
  },
  {
   "cell_type": "markdown",
   "metadata": {},
   "source": [
    "The `calculate_term_frequency()` function uses the matched term list\n",
    "and regroups according to the matched terms and tallies the frequncy of the terms."
   ]
  },
  {
   "cell_type": "code",
   "execution_count": 28,
   "metadata": {},
   "outputs": [],
   "source": [
    "def calculate_term_frequency(df, df_name):\n",
    "    term_frequency = df.groupby('Term')['Matched_Times'].sum().reset_index()\n",
    "    term_frequency.rename(columns={'Matched_Times': 'Total_Frequency'}, inplace=True)\n",
    "    term_frequency['DataFrame'] = df_name\n",
    "\n",
    "    # Sort in descending order\n",
    "    term_frequency.sort_values(by='Total_Frequency', ascending=False, inplace=True)\n",
    "    \n",
    "    # Show frequency table\n",
    "    print('Term frequency for', df_name)\n",
    "    display(term_frequency)\n",
    "\n",
    "    return term_frequency"
   ]
  },
  {
   "cell_type": "markdown",
   "metadata": {},
   "source": [
    "## Match from multiple sources\n",
    "\n",
    "In our originating use case at the University of Michigan,\n",
    "we were interested to see how the terms were used across different\n",
    "collections. We were, specifically, working with three on-campus repositories:\n",
    "the Bentley Historical Library, Clements Library, and the Special Collections Research Center (part of the University Library).\n",
    "\n",
    "If you are working with multiple groups of finding aids, \n",
    "you might adapt the following code, which concatenates multiple\n",
    "lists (may be provided as dataframes or CSVs) and tallies across them. "
   ]
  },
  {
   "cell_type": "code",
   "execution_count": 29,
   "metadata": {},
   "outputs": [
    {
     "data": {
      "text/plain": [
       "\"\\n# for each dataframe representing matched terms\\nfile_list = [(df1_Bentley, 'Bentley'), (df2_Clements, 'Clements'), (df3_SCRC, 'SCRC')]\\nmatched_results = {name: match_and_visualize(df, name) for df, name in file_list}\""
      ]
     },
     "execution_count": 29,
     "metadata": {},
     "output_type": "execute_result"
    }
   ],
   "source": [
    "'''\n",
    "# for each dataframe representing matched terms\n",
    "file_list = [(df1_Bentley, 'Bentley'), (df2_Clements, 'Clements'), (df3_SCRC, 'SCRC')]\n",
    "matched_results = {name: match_and_visualize(df, name) for df, name in file_list}'''"
   ]
  },
  {
   "cell_type": "markdown",
   "metadata": {},
   "source": [
    "# Visualize matches\n",
    "\n",
    "This should probably be split to its own file, but here for dev purposes\n",
    "\n",
    "### Visualization values\n",
    "\n",
    "Use the below to set global values, such as the names of repositories\n",
    "under analysis, or fonts and colors for charts. "
   ]
  },
  {
   "cell_type": "code",
   "execution_count": 30,
   "metadata": {},
   "outputs": [
    {
     "name": "stdout",
     "output_type": "stream",
     "text": [
      "Matched results for Bentley\n"
     ]
    },
    {
     "data": {
      "text/html": [
       "<div>\n",
       "<style scoped>\n",
       "    .dataframe tbody tr th:only-of-type {\n",
       "        vertical-align: middle;\n",
       "    }\n",
       "\n",
       "    .dataframe tbody tr th {\n",
       "        vertical-align: top;\n",
       "    }\n",
       "\n",
       "    .dataframe thead th {\n",
       "        text-align: right;\n",
       "    }\n",
       "</style>\n",
       "<table border=\"1\" class=\"dataframe\">\n",
       "  <thead>\n",
       "    <tr style=\"text-align: right;\">\n",
       "      <th></th>\n",
       "      <th>ead_id</th>\n",
       "      <th>resource_id</th>\n",
       "      <th>titleproper</th>\n",
       "      <th>Term</th>\n",
       "      <th>Matched_Times</th>\n",
       "      <th>Matched_From</th>\n",
       "      <th>Matched_Paragraph</th>\n",
       "    </tr>\n",
       "  </thead>\n",
       "  <tbody>\n",
       "    <tr>\n",
       "      <th>0</th>\n",
       "      <td>umich-bhl-92745</td>\n",
       "      <td>229</td>\n",
       "      <td>Ed Beach photographs, 1931-1948</td>\n",
       "      <td>Dwellings</td>\n",
       "      <td>1</td>\n",
       "      <td>subjects</td>\n",
       "      <td>Airports; Animals; Automobiles; Automobile ser...</td>\n",
       "    </tr>\n",
       "    <tr>\n",
       "      <th>1</th>\n",
       "      <td>umich-bhl-92745</td>\n",
       "      <td>229</td>\n",
       "      <td>Ed Beach photographs, 1931-1948</td>\n",
       "      <td>Indian</td>\n",
       "      <td>1</td>\n",
       "      <td>scopecontent</td>\n",
       "      <td>Beach created the photograph albums around br...</td>\n",
       "    </tr>\n",
       "    <tr>\n",
       "      <th>2</th>\n",
       "      <td>umich-bhl-92745</td>\n",
       "      <td>229</td>\n",
       "      <td>Ed Beach photographs, 1931-1948</td>\n",
       "      <td>Indians</td>\n",
       "      <td>1</td>\n",
       "      <td>subjects</td>\n",
       "      <td>Airports; Animals; Automobiles; Automobile ser...</td>\n",
       "    </tr>\n",
       "    <tr>\n",
       "      <th>3</th>\n",
       "      <td>umich-bhl-92745</td>\n",
       "      <td>229</td>\n",
       "      <td>Ed Beach photographs, 1931-1948</td>\n",
       "      <td>Copper</td>\n",
       "      <td>1</td>\n",
       "      <td>geognames</td>\n",
       "      <td>Acme (Mich.); Ada (Mich.); Adrian (Mich.); Alb...</td>\n",
       "    </tr>\n",
       "    <tr>\n",
       "      <th>4</th>\n",
       "      <td>umich-bhl-92745</td>\n",
       "      <td>229</td>\n",
       "      <td>Ed Beach photographs, 1931-1948</td>\n",
       "      <td>Cass</td>\n",
       "      <td>1</td>\n",
       "      <td>geognames</td>\n",
       "      <td>Acme (Mich.); Ada (Mich.); Adrian (Mich.); Alb...</td>\n",
       "    </tr>\n",
       "    <tr>\n",
       "      <th>...</th>\n",
       "      <td>...</td>\n",
       "      <td>...</td>\n",
       "      <td>...</td>\n",
       "      <td>...</td>\n",
       "      <td>...</td>\n",
       "      <td>...</td>\n",
       "      <td>...</td>\n",
       "    </tr>\n",
       "    <tr>\n",
       "      <th>847</th>\n",
       "      <td>umich-bhl-87257</td>\n",
       "      <td>2634</td>\n",
       "      <td>Scientific Club (University of Michigan) Recor...</td>\n",
       "      <td>Mounds</td>\n",
       "      <td>1</td>\n",
       "      <td>bioghist</td>\n",
       "      <td>The Scientific Club succeeded an earlier orga...</td>\n",
       "    </tr>\n",
       "    <tr>\n",
       "      <th>848</th>\n",
       "      <td>umich-bhl-87257</td>\n",
       "      <td>2634</td>\n",
       "      <td>Scientific Club (University of Michigan) Recor...</td>\n",
       "      <td>Indian</td>\n",
       "      <td>1</td>\n",
       "      <td>bioghist</td>\n",
       "      <td>The Scientific Club succeeded an earlier orga...</td>\n",
       "    </tr>\n",
       "    <tr>\n",
       "      <th>849</th>\n",
       "      <td>umich-bhl-87290</td>\n",
       "      <td>2710</td>\n",
       "      <td>Vice President for Student Life (University of...</td>\n",
       "      <td>Native</td>\n",
       "      <td>4</td>\n",
       "      <td>bioghist</td>\n",
       "      <td>In February 2000, the Students of Color Coali...</td>\n",
       "    </tr>\n",
       "    <tr>\n",
       "      <th>850</th>\n",
       "      <td>umich-bhl-2014119</td>\n",
       "      <td>2843</td>\n",
       "      <td>William Edward Wise visual materials collectio...</td>\n",
       "      <td>Indian</td>\n",
       "      <td>2</td>\n",
       "      <td>corpnames</td>\n",
       "      <td>First Unitarian Church (Ann Arbor, Mich.); Wes...</td>\n",
       "    </tr>\n",
       "    <tr>\n",
       "      <th>851</th>\n",
       "      <td>umich-bhl-2014119</td>\n",
       "      <td>2843</td>\n",
       "      <td>William Edward Wise visual materials collectio...</td>\n",
       "      <td>Savage</td>\n",
       "      <td>1</td>\n",
       "      <td>persnames</td>\n",
       "      <td>Wise, William Edward.; Sunderland, Jabez Thoma...</td>\n",
       "    </tr>\n",
       "  </tbody>\n",
       "</table>\n",
       "<p>852 rows × 7 columns</p>\n",
       "</div>"
      ],
      "text/plain": [
       "                ead_id  resource_id  \\\n",
       "0      umich-bhl-92745          229   \n",
       "1      umich-bhl-92745          229   \n",
       "2      umich-bhl-92745          229   \n",
       "3      umich-bhl-92745          229   \n",
       "4      umich-bhl-92745          229   \n",
       "..                 ...          ...   \n",
       "847    umich-bhl-87257         2634   \n",
       "848    umich-bhl-87257         2634   \n",
       "849    umich-bhl-87290         2710   \n",
       "850  umich-bhl-2014119         2843   \n",
       "851  umich-bhl-2014119         2843   \n",
       "\n",
       "                                           titleproper       Term  \\\n",
       "0                      Ed Beach photographs, 1931-1948  Dwellings   \n",
       "1                      Ed Beach photographs, 1931-1948     Indian   \n",
       "2                      Ed Beach photographs, 1931-1948    Indians   \n",
       "3                      Ed Beach photographs, 1931-1948     Copper   \n",
       "4                      Ed Beach photographs, 1931-1948       Cass   \n",
       "..                                                 ...        ...   \n",
       "847  Scientific Club (University of Michigan) Recor...     Mounds   \n",
       "848  Scientific Club (University of Michigan) Recor...     Indian   \n",
       "849  Vice President for Student Life (University of...     Native   \n",
       "850  William Edward Wise visual materials collectio...     Indian   \n",
       "851  William Edward Wise visual materials collectio...     Savage   \n",
       "\n",
       "     Matched_Times  Matched_From  \\\n",
       "0                1      subjects   \n",
       "1                1  scopecontent   \n",
       "2                1      subjects   \n",
       "3                1     geognames   \n",
       "4                1     geognames   \n",
       "..             ...           ...   \n",
       "847              1      bioghist   \n",
       "848              1      bioghist   \n",
       "849              4      bioghist   \n",
       "850              2     corpnames   \n",
       "851              1     persnames   \n",
       "\n",
       "                                     Matched_Paragraph  \n",
       "0    Airports; Animals; Automobiles; Automobile ser...  \n",
       "1     Beach created the photograph albums around br...  \n",
       "2    Airports; Animals; Automobiles; Automobile ser...  \n",
       "3    Acme (Mich.); Ada (Mich.); Adrian (Mich.); Alb...  \n",
       "4    Acme (Mich.); Ada (Mich.); Adrian (Mich.); Alb...  \n",
       "..                                                 ...  \n",
       "847   The Scientific Club succeeded an earlier orga...  \n",
       "848   The Scientific Club succeeded an earlier orga...  \n",
       "849   In February 2000, the Students of Color Coali...  \n",
       "850  First Unitarian Church (Ann Arbor, Mich.); Wes...  \n",
       "851  Wise, William Edward.; Sunderland, Jabez Thoma...  \n",
       "\n",
       "[852 rows x 7 columns]"
      ]
     },
     "metadata": {},
     "output_type": "display_data"
    }
   ],
   "source": [
    "# set names and colors here\n",
    "repo_list = ['Bentley']\n",
    "#repo_list = ['Bentley','Clements','SCRC']\n",
    "global_font_info = {'font_family':'Georgia'}\n",
    "colors = {'Bentley': '#CFC096', 'Clements': '#A5A508', 'SCRC': '#FFCB05'}\n",
    "project_name = 'RCRC Finding Aids'\n",
    "\n",
    "# create a manifest to select which result lists you want to visualize\n",
    "match_groups = [(eads_df, 'Bentley')]\n",
    "matched_results = {name: match_and_visualize(df, name) for df, name in match_groups}"
   ]
  },
  {
   "cell_type": "markdown",
   "metadata": {},
   "source": [
    "## Visualize group matches\n",
    "\n",
    "In the use case at U Michigan, the groups represented finding aids\n",
    "created by different repositories on campus. This can be useful for\n",
    "working with subgroups of finding aids, or in comparing usage between\n",
    "different organizations."
   ]
  },
  {
   "cell_type": "code",
   "execution_count": 31,
   "metadata": {},
   "outputs": [
    {
     "name": "stdout",
     "output_type": "stream",
     "text": [
      "Term frequency for Bentley\n"
     ]
    },
    {
     "data": {
      "text/html": [
       "<div>\n",
       "<style scoped>\n",
       "    .dataframe tbody tr th:only-of-type {\n",
       "        vertical-align: middle;\n",
       "    }\n",
       "\n",
       "    .dataframe tbody tr th {\n",
       "        vertical-align: top;\n",
       "    }\n",
       "\n",
       "    .dataframe thead th {\n",
       "        text-align: right;\n",
       "    }\n",
       "</style>\n",
       "<table border=\"1\" class=\"dataframe\">\n",
       "  <thead>\n",
       "    <tr style=\"text-align: right;\">\n",
       "      <th></th>\n",
       "      <th>Term</th>\n",
       "      <th>Total_Frequency</th>\n",
       "      <th>DataFrame</th>\n",
       "    </tr>\n",
       "  </thead>\n",
       "  <tbody>\n",
       "    <tr>\n",
       "      <th>27</th>\n",
       "      <td>Indians</td>\n",
       "      <td>292</td>\n",
       "      <td>Bentley</td>\n",
       "    </tr>\n",
       "    <tr>\n",
       "      <th>24</th>\n",
       "      <td>Indian</td>\n",
       "      <td>197</td>\n",
       "      <td>Bentley</td>\n",
       "    </tr>\n",
       "    <tr>\n",
       "      <th>32</th>\n",
       "      <td>Native</td>\n",
       "      <td>154</td>\n",
       "      <td>Bentley</td>\n",
       "    </tr>\n",
       "    <tr>\n",
       "      <th>4</th>\n",
       "      <td>Cass</td>\n",
       "      <td>42</td>\n",
       "      <td>Bentley</td>\n",
       "    </tr>\n",
       "    <tr>\n",
       "      <th>5</th>\n",
       "      <td>Chief</td>\n",
       "      <td>41</td>\n",
       "      <td>Bentley</td>\n",
       "    </tr>\n",
       "    <tr>\n",
       "      <th>...</th>\n",
       "      <td>...</td>\n",
       "      <td>...</td>\n",
       "      <td>...</td>\n",
       "    </tr>\n",
       "    <tr>\n",
       "      <th>22</th>\n",
       "      <td>Half-breeds</td>\n",
       "      <td>1</td>\n",
       "      <td>Bentley</td>\n",
       "    </tr>\n",
       "    <tr>\n",
       "      <th>29</th>\n",
       "      <td>Indigenous Person</td>\n",
       "      <td>1</td>\n",
       "      <td>Bentley</td>\n",
       "    </tr>\n",
       "    <tr>\n",
       "      <th>26</th>\n",
       "      <td>Indian removal</td>\n",
       "      <td>1</td>\n",
       "      <td>Bentley</td>\n",
       "    </tr>\n",
       "    <tr>\n",
       "      <th>43</th>\n",
       "      <td>Savage</td>\n",
       "      <td>1</td>\n",
       "      <td>Bentley</td>\n",
       "    </tr>\n",
       "    <tr>\n",
       "      <th>45</th>\n",
       "      <td>Skull</td>\n",
       "      <td>1</td>\n",
       "      <td>Bentley</td>\n",
       "    </tr>\n",
       "  </tbody>\n",
       "</table>\n",
       "<p>49 rows × 3 columns</p>\n",
       "</div>"
      ],
      "text/plain": [
       "                 Term  Total_Frequency DataFrame\n",
       "27            Indians              292   Bentley\n",
       "24             Indian              197   Bentley\n",
       "32             Native              154   Bentley\n",
       "4                Cass               42   Bentley\n",
       "5               Chief               41   Bentley\n",
       "..                ...              ...       ...\n",
       "22        Half-breeds                1   Bentley\n",
       "29  Indigenous Person                1   Bentley\n",
       "26     Indian removal                1   Bentley\n",
       "43             Savage                1   Bentley\n",
       "45              Skull                1   Bentley\n",
       "\n",
       "[49 rows x 3 columns]"
      ]
     },
     "metadata": {},
     "output_type": "display_data"
    },
    {
     "data": {
      "application/vnd.plotly.v1+json": {
       "config": {
        "plotlyServerURL": "https://plot.ly"
       },
       "data": [
        {
         "alignmentgroup": "True",
         "hovertemplate": "Repository=Bentley<br>Term=%{x}<br>Term Occurence Count=%{text}<extra></extra>",
         "insidetextanchor": "middle",
         "legendgroup": "Bentley",
         "marker": {
          "color": "#CFC096",
          "pattern": {
           "shape": ""
          }
         },
         "name": "Bentley",
         "offsetgroup": "Bentley",
         "orientation": "v",
         "showlegend": true,
         "text": [
          292,
          197,
          154,
          42,
          41,
          40,
          40,
          38,
          35,
          30,
          21,
          20,
          19,
          13,
          11,
          11,
          11,
          11,
          9,
          9,
          7,
          7,
          7,
          5,
          4,
          4,
          4,
          4,
          4,
          4,
          4,
          3,
          3,
          2,
          2,
          2,
          2,
          2,
          2,
          2,
          2,
          1,
          1,
          1,
          1,
          1,
          1,
          1,
          1
         ],
         "textfont": {
          "family": "Arial",
          "size": 8
         },
         "textposition": "outside",
         "texttemplate": "%{y}",
         "type": "bar",
         "x": [
          "Indians",
          "Indian",
          "Native",
          "Cass",
          "Chief",
          "Death",
          "Chippewa",
          "Copper",
          "Ottawa",
          "Ojibwa",
          "Fox",
          "Treaty",
          "Dwellings",
          "Ojibwe",
          "Treaties",
          "Mounds",
          "Odawa",
          "Hiawatha",
          "Indian agent",
          "Indigenous",
          "Chiefs",
          "Settlers",
          "Remains",
          "Sauk",
          "Reservation",
          "Colony",
          "Chippewas",
          "Costume",
          "Removal",
          "Mound",
          "Colonial",
          "Colonialism",
          "Warriors",
          "Pottery",
          "Reservations",
          "Grave",
          "Burials",
          "Burial",
          "Costumes",
          "Execution",
          "Devil",
          "Dead",
          "Captive",
          "Anishnaabe",
          "Half-breeds",
          "Indigenous Person",
          "Indian removal",
          "Savage",
          "Skull"
         ],
         "xaxis": "x",
         "y": [
          292,
          197,
          154,
          42,
          41,
          40,
          40,
          38,
          35,
          30,
          21,
          20,
          19,
          13,
          11,
          11,
          11,
          11,
          9,
          9,
          7,
          7,
          7,
          5,
          4,
          4,
          4,
          4,
          4,
          4,
          4,
          3,
          3,
          2,
          2,
          2,
          2,
          2,
          2,
          2,
          2,
          1,
          1,
          1,
          1,
          1,
          1,
          1,
          1
         ],
         "yaxis": "y"
        }
       ],
       "layout": {
        "barmode": "relative",
        "font": {
         "family": "Georgia"
        },
        "legend": {
         "title": {
          "text": "Repository"
         },
         "tracegroupgap": 0
        },
        "margin": {
         "t": 60
        },
        "showlegend": false,
        "template": {
         "data": {
          "bar": [
           {
            "error_x": {
             "color": "#2a3f5f"
            },
            "error_y": {
             "color": "#2a3f5f"
            },
            "marker": {
             "line": {
              "color": "#E5ECF6",
              "width": 0.5
             },
             "pattern": {
              "fillmode": "overlay",
              "size": 10,
              "solidity": 0.2
             }
            },
            "type": "bar"
           }
          ],
          "barpolar": [
           {
            "marker": {
             "line": {
              "color": "#E5ECF6",
              "width": 0.5
             },
             "pattern": {
              "fillmode": "overlay",
              "size": 10,
              "solidity": 0.2
             }
            },
            "type": "barpolar"
           }
          ],
          "carpet": [
           {
            "aaxis": {
             "endlinecolor": "#2a3f5f",
             "gridcolor": "white",
             "linecolor": "white",
             "minorgridcolor": "white",
             "startlinecolor": "#2a3f5f"
            },
            "baxis": {
             "endlinecolor": "#2a3f5f",
             "gridcolor": "white",
             "linecolor": "white",
             "minorgridcolor": "white",
             "startlinecolor": "#2a3f5f"
            },
            "type": "carpet"
           }
          ],
          "choropleth": [
           {
            "colorbar": {
             "outlinewidth": 0,
             "ticks": ""
            },
            "type": "choropleth"
           }
          ],
          "contour": [
           {
            "colorbar": {
             "outlinewidth": 0,
             "ticks": ""
            },
            "colorscale": [
             [
              0,
              "#0d0887"
             ],
             [
              0.1111111111111111,
              "#46039f"
             ],
             [
              0.2222222222222222,
              "#7201a8"
             ],
             [
              0.3333333333333333,
              "#9c179e"
             ],
             [
              0.4444444444444444,
              "#bd3786"
             ],
             [
              0.5555555555555556,
              "#d8576b"
             ],
             [
              0.6666666666666666,
              "#ed7953"
             ],
             [
              0.7777777777777778,
              "#fb9f3a"
             ],
             [
              0.8888888888888888,
              "#fdca26"
             ],
             [
              1,
              "#f0f921"
             ]
            ],
            "type": "contour"
           }
          ],
          "contourcarpet": [
           {
            "colorbar": {
             "outlinewidth": 0,
             "ticks": ""
            },
            "type": "contourcarpet"
           }
          ],
          "heatmap": [
           {
            "colorbar": {
             "outlinewidth": 0,
             "ticks": ""
            },
            "colorscale": [
             [
              0,
              "#0d0887"
             ],
             [
              0.1111111111111111,
              "#46039f"
             ],
             [
              0.2222222222222222,
              "#7201a8"
             ],
             [
              0.3333333333333333,
              "#9c179e"
             ],
             [
              0.4444444444444444,
              "#bd3786"
             ],
             [
              0.5555555555555556,
              "#d8576b"
             ],
             [
              0.6666666666666666,
              "#ed7953"
             ],
             [
              0.7777777777777778,
              "#fb9f3a"
             ],
             [
              0.8888888888888888,
              "#fdca26"
             ],
             [
              1,
              "#f0f921"
             ]
            ],
            "type": "heatmap"
           }
          ],
          "heatmapgl": [
           {
            "colorbar": {
             "outlinewidth": 0,
             "ticks": ""
            },
            "colorscale": [
             [
              0,
              "#0d0887"
             ],
             [
              0.1111111111111111,
              "#46039f"
             ],
             [
              0.2222222222222222,
              "#7201a8"
             ],
             [
              0.3333333333333333,
              "#9c179e"
             ],
             [
              0.4444444444444444,
              "#bd3786"
             ],
             [
              0.5555555555555556,
              "#d8576b"
             ],
             [
              0.6666666666666666,
              "#ed7953"
             ],
             [
              0.7777777777777778,
              "#fb9f3a"
             ],
             [
              0.8888888888888888,
              "#fdca26"
             ],
             [
              1,
              "#f0f921"
             ]
            ],
            "type": "heatmapgl"
           }
          ],
          "histogram": [
           {
            "marker": {
             "pattern": {
              "fillmode": "overlay",
              "size": 10,
              "solidity": 0.2
             }
            },
            "type": "histogram"
           }
          ],
          "histogram2d": [
           {
            "colorbar": {
             "outlinewidth": 0,
             "ticks": ""
            },
            "colorscale": [
             [
              0,
              "#0d0887"
             ],
             [
              0.1111111111111111,
              "#46039f"
             ],
             [
              0.2222222222222222,
              "#7201a8"
             ],
             [
              0.3333333333333333,
              "#9c179e"
             ],
             [
              0.4444444444444444,
              "#bd3786"
             ],
             [
              0.5555555555555556,
              "#d8576b"
             ],
             [
              0.6666666666666666,
              "#ed7953"
             ],
             [
              0.7777777777777778,
              "#fb9f3a"
             ],
             [
              0.8888888888888888,
              "#fdca26"
             ],
             [
              1,
              "#f0f921"
             ]
            ],
            "type": "histogram2d"
           }
          ],
          "histogram2dcontour": [
           {
            "colorbar": {
             "outlinewidth": 0,
             "ticks": ""
            },
            "colorscale": [
             [
              0,
              "#0d0887"
             ],
             [
              0.1111111111111111,
              "#46039f"
             ],
             [
              0.2222222222222222,
              "#7201a8"
             ],
             [
              0.3333333333333333,
              "#9c179e"
             ],
             [
              0.4444444444444444,
              "#bd3786"
             ],
             [
              0.5555555555555556,
              "#d8576b"
             ],
             [
              0.6666666666666666,
              "#ed7953"
             ],
             [
              0.7777777777777778,
              "#fb9f3a"
             ],
             [
              0.8888888888888888,
              "#fdca26"
             ],
             [
              1,
              "#f0f921"
             ]
            ],
            "type": "histogram2dcontour"
           }
          ],
          "mesh3d": [
           {
            "colorbar": {
             "outlinewidth": 0,
             "ticks": ""
            },
            "type": "mesh3d"
           }
          ],
          "parcoords": [
           {
            "line": {
             "colorbar": {
              "outlinewidth": 0,
              "ticks": ""
             }
            },
            "type": "parcoords"
           }
          ],
          "pie": [
           {
            "automargin": true,
            "type": "pie"
           }
          ],
          "scatter": [
           {
            "fillpattern": {
             "fillmode": "overlay",
             "size": 10,
             "solidity": 0.2
            },
            "type": "scatter"
           }
          ],
          "scatter3d": [
           {
            "line": {
             "colorbar": {
              "outlinewidth": 0,
              "ticks": ""
             }
            },
            "marker": {
             "colorbar": {
              "outlinewidth": 0,
              "ticks": ""
             }
            },
            "type": "scatter3d"
           }
          ],
          "scattercarpet": [
           {
            "marker": {
             "colorbar": {
              "outlinewidth": 0,
              "ticks": ""
             }
            },
            "type": "scattercarpet"
           }
          ],
          "scattergeo": [
           {
            "marker": {
             "colorbar": {
              "outlinewidth": 0,
              "ticks": ""
             }
            },
            "type": "scattergeo"
           }
          ],
          "scattergl": [
           {
            "marker": {
             "colorbar": {
              "outlinewidth": 0,
              "ticks": ""
             }
            },
            "type": "scattergl"
           }
          ],
          "scattermapbox": [
           {
            "marker": {
             "colorbar": {
              "outlinewidth": 0,
              "ticks": ""
             }
            },
            "type": "scattermapbox"
           }
          ],
          "scatterpolar": [
           {
            "marker": {
             "colorbar": {
              "outlinewidth": 0,
              "ticks": ""
             }
            },
            "type": "scatterpolar"
           }
          ],
          "scatterpolargl": [
           {
            "marker": {
             "colorbar": {
              "outlinewidth": 0,
              "ticks": ""
             }
            },
            "type": "scatterpolargl"
           }
          ],
          "scatterternary": [
           {
            "marker": {
             "colorbar": {
              "outlinewidth": 0,
              "ticks": ""
             }
            },
            "type": "scatterternary"
           }
          ],
          "surface": [
           {
            "colorbar": {
             "outlinewidth": 0,
             "ticks": ""
            },
            "colorscale": [
             [
              0,
              "#0d0887"
             ],
             [
              0.1111111111111111,
              "#46039f"
             ],
             [
              0.2222222222222222,
              "#7201a8"
             ],
             [
              0.3333333333333333,
              "#9c179e"
             ],
             [
              0.4444444444444444,
              "#bd3786"
             ],
             [
              0.5555555555555556,
              "#d8576b"
             ],
             [
              0.6666666666666666,
              "#ed7953"
             ],
             [
              0.7777777777777778,
              "#fb9f3a"
             ],
             [
              0.8888888888888888,
              "#fdca26"
             ],
             [
              1,
              "#f0f921"
             ]
            ],
            "type": "surface"
           }
          ],
          "table": [
           {
            "cells": {
             "fill": {
              "color": "#EBF0F8"
             },
             "line": {
              "color": "white"
             }
            },
            "header": {
             "fill": {
              "color": "#C8D4E3"
             },
             "line": {
              "color": "white"
             }
            },
            "type": "table"
           }
          ]
         },
         "layout": {
          "annotationdefaults": {
           "arrowcolor": "#2a3f5f",
           "arrowhead": 0,
           "arrowwidth": 1
          },
          "autotypenumbers": "strict",
          "coloraxis": {
           "colorbar": {
            "outlinewidth": 0,
            "ticks": ""
           }
          },
          "colorscale": {
           "diverging": [
            [
             0,
             "#8e0152"
            ],
            [
             0.1,
             "#c51b7d"
            ],
            [
             0.2,
             "#de77ae"
            ],
            [
             0.3,
             "#f1b6da"
            ],
            [
             0.4,
             "#fde0ef"
            ],
            [
             0.5,
             "#f7f7f7"
            ],
            [
             0.6,
             "#e6f5d0"
            ],
            [
             0.7,
             "#b8e186"
            ],
            [
             0.8,
             "#7fbc41"
            ],
            [
             0.9,
             "#4d9221"
            ],
            [
             1,
             "#276419"
            ]
           ],
           "sequential": [
            [
             0,
             "#0d0887"
            ],
            [
             0.1111111111111111,
             "#46039f"
            ],
            [
             0.2222222222222222,
             "#7201a8"
            ],
            [
             0.3333333333333333,
             "#9c179e"
            ],
            [
             0.4444444444444444,
             "#bd3786"
            ],
            [
             0.5555555555555556,
             "#d8576b"
            ],
            [
             0.6666666666666666,
             "#ed7953"
            ],
            [
             0.7777777777777778,
             "#fb9f3a"
            ],
            [
             0.8888888888888888,
             "#fdca26"
            ],
            [
             1,
             "#f0f921"
            ]
           ],
           "sequentialminus": [
            [
             0,
             "#0d0887"
            ],
            [
             0.1111111111111111,
             "#46039f"
            ],
            [
             0.2222222222222222,
             "#7201a8"
            ],
            [
             0.3333333333333333,
             "#9c179e"
            ],
            [
             0.4444444444444444,
             "#bd3786"
            ],
            [
             0.5555555555555556,
             "#d8576b"
            ],
            [
             0.6666666666666666,
             "#ed7953"
            ],
            [
             0.7777777777777778,
             "#fb9f3a"
            ],
            [
             0.8888888888888888,
             "#fdca26"
            ],
            [
             1,
             "#f0f921"
            ]
           ]
          },
          "colorway": [
           "#636efa",
           "#EF553B",
           "#00cc96",
           "#ab63fa",
           "#FFA15A",
           "#19d3f3",
           "#FF6692",
           "#B6E880",
           "#FF97FF",
           "#FECB52"
          ],
          "font": {
           "color": "#2a3f5f"
          },
          "geo": {
           "bgcolor": "white",
           "lakecolor": "white",
           "landcolor": "#E5ECF6",
           "showlakes": true,
           "showland": true,
           "subunitcolor": "white"
          },
          "hoverlabel": {
           "align": "left"
          },
          "hovermode": "closest",
          "mapbox": {
           "style": "light"
          },
          "paper_bgcolor": "white",
          "plot_bgcolor": "#E5ECF6",
          "polar": {
           "angularaxis": {
            "gridcolor": "white",
            "linecolor": "white",
            "ticks": ""
           },
           "bgcolor": "#E5ECF6",
           "radialaxis": {
            "gridcolor": "white",
            "linecolor": "white",
            "ticks": ""
           }
          },
          "scene": {
           "xaxis": {
            "backgroundcolor": "#E5ECF6",
            "gridcolor": "white",
            "gridwidth": 2,
            "linecolor": "white",
            "showbackground": true,
            "ticks": "",
            "zerolinecolor": "white"
           },
           "yaxis": {
            "backgroundcolor": "#E5ECF6",
            "gridcolor": "white",
            "gridwidth": 2,
            "linecolor": "white",
            "showbackground": true,
            "ticks": "",
            "zerolinecolor": "white"
           },
           "zaxis": {
            "backgroundcolor": "#E5ECF6",
            "gridcolor": "white",
            "gridwidth": 2,
            "linecolor": "white",
            "showbackground": true,
            "ticks": "",
            "zerolinecolor": "white"
           }
          },
          "shapedefaults": {
           "line": {
            "color": "#2a3f5f"
           }
          },
          "ternary": {
           "aaxis": {
            "gridcolor": "white",
            "linecolor": "white",
            "ticks": ""
           },
           "baxis": {
            "gridcolor": "white",
            "linecolor": "white",
            "ticks": ""
           },
           "bgcolor": "#E5ECF6",
           "caxis": {
            "gridcolor": "white",
            "linecolor": "white",
            "ticks": ""
           }
          },
          "title": {
           "x": 0.05
          },
          "xaxis": {
           "automargin": true,
           "gridcolor": "white",
           "linecolor": "white",
           "ticks": "",
           "title": {
            "standoff": 15
           },
           "zerolinecolor": "white",
           "zerolinewidth": 2
          },
          "yaxis": {
           "automargin": true,
           "gridcolor": "white",
           "linecolor": "white",
           "ticks": "",
           "title": {
            "standoff": 15
           },
           "zerolinecolor": "white",
           "zerolinewidth": 2
          }
         }
        },
        "title": {
         "text": "Term Frequency for Bentley (RCRC Finding Aids)"
        },
        "xaxis": {
         "anchor": "y",
         "domain": [
          0,
          1
         ],
         "tickangle": 45,
         "tickfont": {
          "color": "black",
          "family": "Arial",
          "size": 10
         },
         "title": {
          "standoff": 10,
          "text": "Term"
         }
        },
        "yaxis": {
         "anchor": "x",
         "domain": [
          0,
          1
         ],
         "tickfont": {
          "family": "Arial",
          "size": 10
         },
         "title": {
          "text": "Term Occurence Count"
         }
        }
       }
      }
     },
     "metadata": {},
     "output_type": "display_data"
    }
   ],
   "source": [
    "# bar charts for individual groups\n",
    "\n",
    "def visualize_individual_repository_terms_bar(list_of_dataframes):\n",
    "    '''\n",
    "    This function takes a list of strings (list_of_dataframes), which identify the names of dataframes (corresponding to an archival repository),\n",
    "    then generates a bar chart to show how many times a list of requested terms appears in the corresponding finding aid documents.\n",
    "    Requires the calculate_term_frequency function.\n",
    "    Processes data using pandas and generates charts using plotly (px) & plotly express (pio).\n",
    "    '''\n",
    "    for i in range(len(list_of_dataframes)):\n",
    "        # calculate term frequency\n",
    "        term_frequency = calculate_term_frequency(matched_results[repo_list[i]], repo_list[i])\n",
    "        term_frequency.head()\n",
    "\n",
    "        # Visualization in Multiple Charts\n",
    "        fig = px.bar(term_frequency, x='Term', y='Total_Frequency', text='Total_Frequency', \n",
    "                        color='DataFrame', color_discrete_map=colors, text_auto=True,\n",
    "                        labels={'Total_Frequency':'Term Occurence Count','DataFrame':'Repository'})\n",
    "        fig.update_traces(textposition='outside', insidetextanchor='middle',\n",
    "                          textfont=dict(family='Arial', size=8))\n",
    "        fig.update_layout(title_text=f'Term Frequency for { repo_list[i] } ({ project_name })', \n",
    "                          xaxis_title_standoff=10, \n",
    "                          showlegend=False, font_family=global_font_info['font_family'])\n",
    "        fig.update_xaxes(tickangle=45, tickfont=dict(family='Arial', color='black', size=10))\n",
    "        fig.update_yaxes(tickfont=dict(family='Arial', size=10))\n",
    "        fig.show()\n",
    "        # pio.write_image(fig, f'term_frequency_byrepo_{ repo_list[i] }.png', width=700)\n",
    "\n",
    "visualize_individual_repository_terms_bar(repo_list)"
   ]
  },
  {
   "cell_type": "markdown",
   "metadata": {},
   "source": [
    "The above shows a basic bar chart, ordered from most frequent\n",
    "to least frequent term. If looking at multiple groupings, the above\n",
    "function will create multiple bar charts. \n",
    "\n",
    "The following sections demonstrate additional visualizations, for a single grouping\n",
    "of finding aid data. For the case of multiple groups (or, in our case repositories)\n",
    "see the additional visualization notebooks.\n",
    "\n",
    "## Visualization: occurence in a horizontal bar chart"
   ]
  },
  {
   "cell_type": "code",
   "execution_count": 32,
   "metadata": {},
   "outputs": [
    {
     "name": "stdout",
     "output_type": "stream",
     "text": [
      "Term frequency for Bentley\n"
     ]
    },
    {
     "data": {
      "text/html": [
       "<div>\n",
       "<style scoped>\n",
       "    .dataframe tbody tr th:only-of-type {\n",
       "        vertical-align: middle;\n",
       "    }\n",
       "\n",
       "    .dataframe tbody tr th {\n",
       "        vertical-align: top;\n",
       "    }\n",
       "\n",
       "    .dataframe thead th {\n",
       "        text-align: right;\n",
       "    }\n",
       "</style>\n",
       "<table border=\"1\" class=\"dataframe\">\n",
       "  <thead>\n",
       "    <tr style=\"text-align: right;\">\n",
       "      <th></th>\n",
       "      <th>Term</th>\n",
       "      <th>Total_Frequency</th>\n",
       "      <th>DataFrame</th>\n",
       "    </tr>\n",
       "  </thead>\n",
       "  <tbody>\n",
       "    <tr>\n",
       "      <th>27</th>\n",
       "      <td>Indians</td>\n",
       "      <td>292</td>\n",
       "      <td>Bentley</td>\n",
       "    </tr>\n",
       "    <tr>\n",
       "      <th>24</th>\n",
       "      <td>Indian</td>\n",
       "      <td>197</td>\n",
       "      <td>Bentley</td>\n",
       "    </tr>\n",
       "    <tr>\n",
       "      <th>32</th>\n",
       "      <td>Native</td>\n",
       "      <td>154</td>\n",
       "      <td>Bentley</td>\n",
       "    </tr>\n",
       "    <tr>\n",
       "      <th>4</th>\n",
       "      <td>Cass</td>\n",
       "      <td>42</td>\n",
       "      <td>Bentley</td>\n",
       "    </tr>\n",
       "    <tr>\n",
       "      <th>5</th>\n",
       "      <td>Chief</td>\n",
       "      <td>41</td>\n",
       "      <td>Bentley</td>\n",
       "    </tr>\n",
       "    <tr>\n",
       "      <th>...</th>\n",
       "      <td>...</td>\n",
       "      <td>...</td>\n",
       "      <td>...</td>\n",
       "    </tr>\n",
       "    <tr>\n",
       "      <th>22</th>\n",
       "      <td>Half-breeds</td>\n",
       "      <td>1</td>\n",
       "      <td>Bentley</td>\n",
       "    </tr>\n",
       "    <tr>\n",
       "      <th>29</th>\n",
       "      <td>Indigenous Person</td>\n",
       "      <td>1</td>\n",
       "      <td>Bentley</td>\n",
       "    </tr>\n",
       "    <tr>\n",
       "      <th>26</th>\n",
       "      <td>Indian removal</td>\n",
       "      <td>1</td>\n",
       "      <td>Bentley</td>\n",
       "    </tr>\n",
       "    <tr>\n",
       "      <th>43</th>\n",
       "      <td>Savage</td>\n",
       "      <td>1</td>\n",
       "      <td>Bentley</td>\n",
       "    </tr>\n",
       "    <tr>\n",
       "      <th>45</th>\n",
       "      <td>Skull</td>\n",
       "      <td>1</td>\n",
       "      <td>Bentley</td>\n",
       "    </tr>\n",
       "  </tbody>\n",
       "</table>\n",
       "<p>49 rows × 3 columns</p>\n",
       "</div>"
      ],
      "text/plain": [
       "                 Term  Total_Frequency DataFrame\n",
       "27            Indians              292   Bentley\n",
       "24             Indian              197   Bentley\n",
       "32             Native              154   Bentley\n",
       "4                Cass               42   Bentley\n",
       "5               Chief               41   Bentley\n",
       "..                ...              ...       ...\n",
       "22        Half-breeds                1   Bentley\n",
       "29  Indigenous Person                1   Bentley\n",
       "26     Indian removal                1   Bentley\n",
       "43             Savage                1   Bentley\n",
       "45              Skull                1   Bentley\n",
       "\n",
       "[49 rows x 3 columns]"
      ]
     },
     "metadata": {},
     "output_type": "display_data"
    },
    {
     "data": {
      "application/vnd.plotly.v1+json": {
       "config": {
        "plotlyServerURL": "https://plot.ly"
       },
       "data": [
        {
         "alignmentgroup": "True",
         "hovertemplate": "Repository=Bentley<br>Term Occurence Count=%{text}<br>Term=%{y}<extra></extra>",
         "insidetextanchor": "middle",
         "legendgroup": "Bentley",
         "marker": {
          "color": "#CFC096",
          "pattern": {
           "shape": ""
          }
         },
         "name": "Bentley",
         "offsetgroup": "Bentley",
         "orientation": "h",
         "showlegend": true,
         "text": [
          1,
          1,
          1,
          1,
          1,
          1,
          1,
          1,
          2,
          2,
          2,
          2,
          2,
          2,
          2,
          2,
          3,
          3,
          4,
          4,
          4,
          4,
          4,
          4,
          4,
          5,
          7,
          7,
          7,
          9,
          9,
          11,
          11,
          11,
          11,
          13,
          19,
          20,
          21,
          30,
          35,
          38,
          40,
          40,
          41,
          42,
          154,
          197,
          292
         ],
         "textfont": {
          "family": "Arial",
          "size": 8
         },
         "textposition": "outside",
         "texttemplate": "%{x}",
         "type": "bar",
         "x": [
          1,
          1,
          1,
          1,
          1,
          1,
          1,
          1,
          2,
          2,
          2,
          2,
          2,
          2,
          2,
          2,
          3,
          3,
          4,
          4,
          4,
          4,
          4,
          4,
          4,
          5,
          7,
          7,
          7,
          9,
          9,
          11,
          11,
          11,
          11,
          13,
          19,
          20,
          21,
          30,
          35,
          38,
          40,
          40,
          41,
          42,
          154,
          197,
          292
         ],
         "xaxis": "x",
         "y": [
          "Skull",
          "Dead",
          "Anishnaabe",
          "Captive",
          "Indian removal",
          "Indigenous Person",
          "Savage",
          "Half-breeds",
          "Pottery",
          "Devil",
          "Grave",
          "Reservations",
          "Costumes",
          "Burial",
          "Execution",
          "Burials",
          "Colonialism",
          "Warriors",
          "Chippewas",
          "Costume",
          "Mound",
          "Removal",
          "Colonial",
          "Reservation",
          "Colony",
          "Sauk",
          "Settlers",
          "Chiefs",
          "Remains",
          "Indian agent",
          "Indigenous",
          "Mounds",
          "Treaties",
          "Hiawatha",
          "Odawa",
          "Ojibwe",
          "Dwellings",
          "Treaty",
          "Fox",
          "Ojibwa",
          "Ottawa",
          "Copper",
          "Death",
          "Chippewa",
          "Chief",
          "Cass",
          "Native",
          "Indian",
          "Indians"
         ],
         "yaxis": "y"
        }
       ],
       "layout": {
        "barmode": "relative",
        "font": {
         "family": "Georgia"
        },
        "height": 600,
        "legend": {
         "title": {
          "text": "Repository"
         },
         "tracegroupgap": 0
        },
        "margin": {
         "t": 60
        },
        "showlegend": false,
        "template": {
         "data": {
          "bar": [
           {
            "error_x": {
             "color": "#2a3f5f"
            },
            "error_y": {
             "color": "#2a3f5f"
            },
            "marker": {
             "line": {
              "color": "#E5ECF6",
              "width": 0.5
             },
             "pattern": {
              "fillmode": "overlay",
              "size": 10,
              "solidity": 0.2
             }
            },
            "type": "bar"
           }
          ],
          "barpolar": [
           {
            "marker": {
             "line": {
              "color": "#E5ECF6",
              "width": 0.5
             },
             "pattern": {
              "fillmode": "overlay",
              "size": 10,
              "solidity": 0.2
             }
            },
            "type": "barpolar"
           }
          ],
          "carpet": [
           {
            "aaxis": {
             "endlinecolor": "#2a3f5f",
             "gridcolor": "white",
             "linecolor": "white",
             "minorgridcolor": "white",
             "startlinecolor": "#2a3f5f"
            },
            "baxis": {
             "endlinecolor": "#2a3f5f",
             "gridcolor": "white",
             "linecolor": "white",
             "minorgridcolor": "white",
             "startlinecolor": "#2a3f5f"
            },
            "type": "carpet"
           }
          ],
          "choropleth": [
           {
            "colorbar": {
             "outlinewidth": 0,
             "ticks": ""
            },
            "type": "choropleth"
           }
          ],
          "contour": [
           {
            "colorbar": {
             "outlinewidth": 0,
             "ticks": ""
            },
            "colorscale": [
             [
              0,
              "#0d0887"
             ],
             [
              0.1111111111111111,
              "#46039f"
             ],
             [
              0.2222222222222222,
              "#7201a8"
             ],
             [
              0.3333333333333333,
              "#9c179e"
             ],
             [
              0.4444444444444444,
              "#bd3786"
             ],
             [
              0.5555555555555556,
              "#d8576b"
             ],
             [
              0.6666666666666666,
              "#ed7953"
             ],
             [
              0.7777777777777778,
              "#fb9f3a"
             ],
             [
              0.8888888888888888,
              "#fdca26"
             ],
             [
              1,
              "#f0f921"
             ]
            ],
            "type": "contour"
           }
          ],
          "contourcarpet": [
           {
            "colorbar": {
             "outlinewidth": 0,
             "ticks": ""
            },
            "type": "contourcarpet"
           }
          ],
          "heatmap": [
           {
            "colorbar": {
             "outlinewidth": 0,
             "ticks": ""
            },
            "colorscale": [
             [
              0,
              "#0d0887"
             ],
             [
              0.1111111111111111,
              "#46039f"
             ],
             [
              0.2222222222222222,
              "#7201a8"
             ],
             [
              0.3333333333333333,
              "#9c179e"
             ],
             [
              0.4444444444444444,
              "#bd3786"
             ],
             [
              0.5555555555555556,
              "#d8576b"
             ],
             [
              0.6666666666666666,
              "#ed7953"
             ],
             [
              0.7777777777777778,
              "#fb9f3a"
             ],
             [
              0.8888888888888888,
              "#fdca26"
             ],
             [
              1,
              "#f0f921"
             ]
            ],
            "type": "heatmap"
           }
          ],
          "heatmapgl": [
           {
            "colorbar": {
             "outlinewidth": 0,
             "ticks": ""
            },
            "colorscale": [
             [
              0,
              "#0d0887"
             ],
             [
              0.1111111111111111,
              "#46039f"
             ],
             [
              0.2222222222222222,
              "#7201a8"
             ],
             [
              0.3333333333333333,
              "#9c179e"
             ],
             [
              0.4444444444444444,
              "#bd3786"
             ],
             [
              0.5555555555555556,
              "#d8576b"
             ],
             [
              0.6666666666666666,
              "#ed7953"
             ],
             [
              0.7777777777777778,
              "#fb9f3a"
             ],
             [
              0.8888888888888888,
              "#fdca26"
             ],
             [
              1,
              "#f0f921"
             ]
            ],
            "type": "heatmapgl"
           }
          ],
          "histogram": [
           {
            "marker": {
             "pattern": {
              "fillmode": "overlay",
              "size": 10,
              "solidity": 0.2
             }
            },
            "type": "histogram"
           }
          ],
          "histogram2d": [
           {
            "colorbar": {
             "outlinewidth": 0,
             "ticks": ""
            },
            "colorscale": [
             [
              0,
              "#0d0887"
             ],
             [
              0.1111111111111111,
              "#46039f"
             ],
             [
              0.2222222222222222,
              "#7201a8"
             ],
             [
              0.3333333333333333,
              "#9c179e"
             ],
             [
              0.4444444444444444,
              "#bd3786"
             ],
             [
              0.5555555555555556,
              "#d8576b"
             ],
             [
              0.6666666666666666,
              "#ed7953"
             ],
             [
              0.7777777777777778,
              "#fb9f3a"
             ],
             [
              0.8888888888888888,
              "#fdca26"
             ],
             [
              1,
              "#f0f921"
             ]
            ],
            "type": "histogram2d"
           }
          ],
          "histogram2dcontour": [
           {
            "colorbar": {
             "outlinewidth": 0,
             "ticks": ""
            },
            "colorscale": [
             [
              0,
              "#0d0887"
             ],
             [
              0.1111111111111111,
              "#46039f"
             ],
             [
              0.2222222222222222,
              "#7201a8"
             ],
             [
              0.3333333333333333,
              "#9c179e"
             ],
             [
              0.4444444444444444,
              "#bd3786"
             ],
             [
              0.5555555555555556,
              "#d8576b"
             ],
             [
              0.6666666666666666,
              "#ed7953"
             ],
             [
              0.7777777777777778,
              "#fb9f3a"
             ],
             [
              0.8888888888888888,
              "#fdca26"
             ],
             [
              1,
              "#f0f921"
             ]
            ],
            "type": "histogram2dcontour"
           }
          ],
          "mesh3d": [
           {
            "colorbar": {
             "outlinewidth": 0,
             "ticks": ""
            },
            "type": "mesh3d"
           }
          ],
          "parcoords": [
           {
            "line": {
             "colorbar": {
              "outlinewidth": 0,
              "ticks": ""
             }
            },
            "type": "parcoords"
           }
          ],
          "pie": [
           {
            "automargin": true,
            "type": "pie"
           }
          ],
          "scatter": [
           {
            "fillpattern": {
             "fillmode": "overlay",
             "size": 10,
             "solidity": 0.2
            },
            "type": "scatter"
           }
          ],
          "scatter3d": [
           {
            "line": {
             "colorbar": {
              "outlinewidth": 0,
              "ticks": ""
             }
            },
            "marker": {
             "colorbar": {
              "outlinewidth": 0,
              "ticks": ""
             }
            },
            "type": "scatter3d"
           }
          ],
          "scattercarpet": [
           {
            "marker": {
             "colorbar": {
              "outlinewidth": 0,
              "ticks": ""
             }
            },
            "type": "scattercarpet"
           }
          ],
          "scattergeo": [
           {
            "marker": {
             "colorbar": {
              "outlinewidth": 0,
              "ticks": ""
             }
            },
            "type": "scattergeo"
           }
          ],
          "scattergl": [
           {
            "marker": {
             "colorbar": {
              "outlinewidth": 0,
              "ticks": ""
             }
            },
            "type": "scattergl"
           }
          ],
          "scattermapbox": [
           {
            "marker": {
             "colorbar": {
              "outlinewidth": 0,
              "ticks": ""
             }
            },
            "type": "scattermapbox"
           }
          ],
          "scatterpolar": [
           {
            "marker": {
             "colorbar": {
              "outlinewidth": 0,
              "ticks": ""
             }
            },
            "type": "scatterpolar"
           }
          ],
          "scatterpolargl": [
           {
            "marker": {
             "colorbar": {
              "outlinewidth": 0,
              "ticks": ""
             }
            },
            "type": "scatterpolargl"
           }
          ],
          "scatterternary": [
           {
            "marker": {
             "colorbar": {
              "outlinewidth": 0,
              "ticks": ""
             }
            },
            "type": "scatterternary"
           }
          ],
          "surface": [
           {
            "colorbar": {
             "outlinewidth": 0,
             "ticks": ""
            },
            "colorscale": [
             [
              0,
              "#0d0887"
             ],
             [
              0.1111111111111111,
              "#46039f"
             ],
             [
              0.2222222222222222,
              "#7201a8"
             ],
             [
              0.3333333333333333,
              "#9c179e"
             ],
             [
              0.4444444444444444,
              "#bd3786"
             ],
             [
              0.5555555555555556,
              "#d8576b"
             ],
             [
              0.6666666666666666,
              "#ed7953"
             ],
             [
              0.7777777777777778,
              "#fb9f3a"
             ],
             [
              0.8888888888888888,
              "#fdca26"
             ],
             [
              1,
              "#f0f921"
             ]
            ],
            "type": "surface"
           }
          ],
          "table": [
           {
            "cells": {
             "fill": {
              "color": "#EBF0F8"
             },
             "line": {
              "color": "white"
             }
            },
            "header": {
             "fill": {
              "color": "#C8D4E3"
             },
             "line": {
              "color": "white"
             }
            },
            "type": "table"
           }
          ]
         },
         "layout": {
          "annotationdefaults": {
           "arrowcolor": "#2a3f5f",
           "arrowhead": 0,
           "arrowwidth": 1
          },
          "autotypenumbers": "strict",
          "coloraxis": {
           "colorbar": {
            "outlinewidth": 0,
            "ticks": ""
           }
          },
          "colorscale": {
           "diverging": [
            [
             0,
             "#8e0152"
            ],
            [
             0.1,
             "#c51b7d"
            ],
            [
             0.2,
             "#de77ae"
            ],
            [
             0.3,
             "#f1b6da"
            ],
            [
             0.4,
             "#fde0ef"
            ],
            [
             0.5,
             "#f7f7f7"
            ],
            [
             0.6,
             "#e6f5d0"
            ],
            [
             0.7,
             "#b8e186"
            ],
            [
             0.8,
             "#7fbc41"
            ],
            [
             0.9,
             "#4d9221"
            ],
            [
             1,
             "#276419"
            ]
           ],
           "sequential": [
            [
             0,
             "#0d0887"
            ],
            [
             0.1111111111111111,
             "#46039f"
            ],
            [
             0.2222222222222222,
             "#7201a8"
            ],
            [
             0.3333333333333333,
             "#9c179e"
            ],
            [
             0.4444444444444444,
             "#bd3786"
            ],
            [
             0.5555555555555556,
             "#d8576b"
            ],
            [
             0.6666666666666666,
             "#ed7953"
            ],
            [
             0.7777777777777778,
             "#fb9f3a"
            ],
            [
             0.8888888888888888,
             "#fdca26"
            ],
            [
             1,
             "#f0f921"
            ]
           ],
           "sequentialminus": [
            [
             0,
             "#0d0887"
            ],
            [
             0.1111111111111111,
             "#46039f"
            ],
            [
             0.2222222222222222,
             "#7201a8"
            ],
            [
             0.3333333333333333,
             "#9c179e"
            ],
            [
             0.4444444444444444,
             "#bd3786"
            ],
            [
             0.5555555555555556,
             "#d8576b"
            ],
            [
             0.6666666666666666,
             "#ed7953"
            ],
            [
             0.7777777777777778,
             "#fb9f3a"
            ],
            [
             0.8888888888888888,
             "#fdca26"
            ],
            [
             1,
             "#f0f921"
            ]
           ]
          },
          "colorway": [
           "#636efa",
           "#EF553B",
           "#00cc96",
           "#ab63fa",
           "#FFA15A",
           "#19d3f3",
           "#FF6692",
           "#B6E880",
           "#FF97FF",
           "#FECB52"
          ],
          "font": {
           "color": "#2a3f5f"
          },
          "geo": {
           "bgcolor": "white",
           "lakecolor": "white",
           "landcolor": "#E5ECF6",
           "showlakes": true,
           "showland": true,
           "subunitcolor": "white"
          },
          "hoverlabel": {
           "align": "left"
          },
          "hovermode": "closest",
          "mapbox": {
           "style": "light"
          },
          "paper_bgcolor": "white",
          "plot_bgcolor": "#E5ECF6",
          "polar": {
           "angularaxis": {
            "gridcolor": "white",
            "linecolor": "white",
            "ticks": ""
           },
           "bgcolor": "#E5ECF6",
           "radialaxis": {
            "gridcolor": "white",
            "linecolor": "white",
            "ticks": ""
           }
          },
          "scene": {
           "xaxis": {
            "backgroundcolor": "#E5ECF6",
            "gridcolor": "white",
            "gridwidth": 2,
            "linecolor": "white",
            "showbackground": true,
            "ticks": "",
            "zerolinecolor": "white"
           },
           "yaxis": {
            "backgroundcolor": "#E5ECF6",
            "gridcolor": "white",
            "gridwidth": 2,
            "linecolor": "white",
            "showbackground": true,
            "ticks": "",
            "zerolinecolor": "white"
           },
           "zaxis": {
            "backgroundcolor": "#E5ECF6",
            "gridcolor": "white",
            "gridwidth": 2,
            "linecolor": "white",
            "showbackground": true,
            "ticks": "",
            "zerolinecolor": "white"
           }
          },
          "shapedefaults": {
           "line": {
            "color": "#2a3f5f"
           }
          },
          "ternary": {
           "aaxis": {
            "gridcolor": "white",
            "linecolor": "white",
            "ticks": ""
           },
           "baxis": {
            "gridcolor": "white",
            "linecolor": "white",
            "ticks": ""
           },
           "bgcolor": "#E5ECF6",
           "caxis": {
            "gridcolor": "white",
            "linecolor": "white",
            "ticks": ""
           }
          },
          "title": {
           "x": 0.05
          },
          "xaxis": {
           "automargin": true,
           "gridcolor": "white",
           "linecolor": "white",
           "ticks": "",
           "title": {
            "standoff": 15
           },
           "zerolinecolor": "white",
           "zerolinewidth": 2
          },
          "yaxis": {
           "automargin": true,
           "gridcolor": "white",
           "linecolor": "white",
           "ticks": "",
           "title": {
            "standoff": 15
           },
           "zerolinecolor": "white",
           "zerolinewidth": 2
          }
         }
        },
        "title": {
         "text": "Term Frequency for Bentley (RCRC Finding Aids)"
        },
        "xaxis": {
         "anchor": "y",
         "domain": [
          0,
          1
         ],
         "tickangle": 0,
         "tickfont": {
          "color": "black",
          "family": "Arial",
          "size": 10
         },
         "title": {
          "standoff": 10,
          "text": "Term Occurence Count"
         }
        },
        "yaxis": {
         "anchor": "x",
         "domain": [
          0,
          1
         ],
         "tickfont": {
          "family": "Arial",
          "size": 10
         },
         "title": {
          "text": "Term"
         }
        }
       }
      }
     },
     "metadata": {},
     "output_type": "display_data"
    }
   ],
   "source": [
    "# bar charts for individual repos - horizontal\n",
    "\n",
    "def visualize_individual_repository_terms_bar_horiz(list_of_dataframes):\n",
    "    '''\n",
    "    This function takes a list of strings (list_of_dataframes), which identify the names of dataframes (corresponding to an archival repository),\n",
    "    then generates a horizontal bar chart to show how many times a list of requested terms appears in the corresponding finding aid documents.\n",
    "    Requires the calculate_term_frequency function.\n",
    "    Processes data using pandas and generates charts using plotly (px) & plotly express (pio).\n",
    "    '''\n",
    "    for i in range(len(list_of_dataframes)):\n",
    "        # calculate term frequency\n",
    "        term_frequency = calculate_term_frequency(matched_results[repo_list[i]], repo_list[i]).sort_values('Total_Frequency', ascending=True)\n",
    "        term_frequency.head()\n",
    "\n",
    "        # Visualization in Charts Horizontallly\n",
    "        fig = px.bar(term_frequency, y='Term', x='Total_Frequency', text='Total_Frequency',\n",
    "                        color='DataFrame', color_discrete_map=colors, text_auto=True,\n",
    "                        labels={'Total_Frequency':'Term Occurence Count','DataFrame':'Repository'})\n",
    "        fig.update_traces(textposition='outside', insidetextanchor='middle', \n",
    "                          textfont=dict(family='Arial',size=8))\n",
    "        fig.update_layout(title_text=f'Term Frequency for { repo_list[i] } ({project_name})',\n",
    "                          xaxis_title_standoff=10, height=600, \n",
    "                          showlegend=False, font_family=global_font_info['font_family'])\n",
    "        fig.update_yaxes(tickfont=dict(family='Arial', size=10))\n",
    "        fig.update_xaxes(tickangle=0, tickfont=dict(family='Arial', color='black', size=10))\n",
    "        fig.show()\n",
    "        # pio.write_image(fig, f'term_frequency_byrepo_{ repo_list[i] }_horizbar.png', scale=4)\n",
    "\n",
    "visualize_individual_repository_terms_bar_horiz(repo_list)"
   ]
  },
  {
   "cell_type": "markdown",
   "metadata": {},
   "source": [
    "The horizontal bar chart seems more well-suited to displaying occurences\n",
    "of the terms, since the terms are easier to read in this orientation.\n",
    "\n",
    "## Visualization: Occurence by EAD tag/element\n",
    "\n",
    "This section of the script helps identify the EAD (Encoded Archival Description) elements with the highest occurrences of the specified harmful terms.\n",
    "\n",
    "The function `calculate_element_frequency(df, df_name)` is used to calculate the sum of matched terms for each subsection in a DataFrame. The results are sorted in descending order and returned as a DataFrame with columns `Subsection`, `harmful_terms_frequency`, and `Source`.\n",
    "\n",
    "This function is applied to each DataFrame in matched_results, and the results are concatenated into a single DataFrame, `all_element_frequencies`.\n",
    "\n",
    "Finally, a grouped bar chart is created to visualize the frequency of terms across different subsections and sources.\n",
    "\n",
    "In the chart, the x-axis represents the subsections, the y-axis shows the frequency of harmful terms, and different colors distinguish between sources. The `barmode='group'` setting places the bars side by side for easier comparison between sources."
   ]
  },
  {
   "cell_type": "code",
   "execution_count": 33,
   "metadata": {},
   "outputs": [
    {
     "name": "stdout",
     "output_type": "stream",
     "text": [
      "Element frequencies across all file pools:\n"
     ]
    },
    {
     "data": {
      "text/html": [
       "<div>\n",
       "<style scoped>\n",
       "    .dataframe tbody tr th:only-of-type {\n",
       "        vertical-align: middle;\n",
       "    }\n",
       "\n",
       "    .dataframe tbody tr th {\n",
       "        vertical-align: top;\n",
       "    }\n",
       "\n",
       "    .dataframe thead th {\n",
       "        text-align: right;\n",
       "    }\n",
       "</style>\n",
       "<table border=\"1\" class=\"dataframe\">\n",
       "  <thead>\n",
       "    <tr style=\"text-align: right;\">\n",
       "      <th></th>\n",
       "      <th>Subsection</th>\n",
       "      <th>harmful_terms_frequency</th>\n",
       "      <th>Source</th>\n",
       "    </tr>\n",
       "  </thead>\n",
       "  <tbody>\n",
       "    <tr>\n",
       "      <th>0</th>\n",
       "      <td>bioghist</td>\n",
       "      <td>389</td>\n",
       "      <td>Bentley</td>\n",
       "    </tr>\n",
       "    <tr>\n",
       "      <th>1</th>\n",
       "      <td>subjects</td>\n",
       "      <td>283</td>\n",
       "      <td>Bentley</td>\n",
       "    </tr>\n",
       "    <tr>\n",
       "      <th>2</th>\n",
       "      <td>scopecontent</td>\n",
       "      <td>254</td>\n",
       "      <td>Bentley</td>\n",
       "    </tr>\n",
       "    <tr>\n",
       "      <th>3</th>\n",
       "      <td>abstract</td>\n",
       "      <td>94</td>\n",
       "      <td>Bentley</td>\n",
       "    </tr>\n",
       "    <tr>\n",
       "      <th>4</th>\n",
       "      <td>corpnames</td>\n",
       "      <td>35</td>\n",
       "      <td>Bentley</td>\n",
       "    </tr>\n",
       "    <tr>\n",
       "      <th>5</th>\n",
       "      <td>geognames</td>\n",
       "      <td>32</td>\n",
       "      <td>Bentley</td>\n",
       "    </tr>\n",
       "    <tr>\n",
       "      <th>6</th>\n",
       "      <td>persnames</td>\n",
       "      <td>22</td>\n",
       "      <td>Bentley</td>\n",
       "    </tr>\n",
       "    <tr>\n",
       "      <th>7</th>\n",
       "      <td>titleproper</td>\n",
       "      <td>19</td>\n",
       "      <td>Bentley</td>\n",
       "    </tr>\n",
       "  </tbody>\n",
       "</table>\n",
       "</div>"
      ],
      "text/plain": [
       "     Subsection  harmful_terms_frequency   Source\n",
       "0      bioghist                      389  Bentley\n",
       "1      subjects                      283  Bentley\n",
       "2  scopecontent                      254  Bentley\n",
       "3      abstract                       94  Bentley\n",
       "4     corpnames                       35  Bentley\n",
       "5     geognames                       32  Bentley\n",
       "6     persnames                       22  Bentley\n",
       "7   titleproper                       19  Bentley"
      ]
     },
     "metadata": {},
     "output_type": "display_data"
    },
    {
     "data": {
      "application/vnd.plotly.v1+json": {
       "config": {
        "plotlyServerURL": "https://plot.ly"
       },
       "data": [
        {
         "alignmentgroup": "True",
         "hovertemplate": "Repository=Bentley<br>EAD Tag=%{x}<br>harmful_terms_frequency=%{text}<extra></extra>",
         "legendgroup": "Bentley",
         "marker": {
          "color": "#CFC096",
          "pattern": {
           "shape": ""
          }
         },
         "name": "Bentley",
         "offsetgroup": "Bentley",
         "orientation": "v",
         "showlegend": true,
         "text": [
          389,
          283,
          254,
          94,
          35,
          32,
          22,
          19
         ],
         "textfont": {
          "family": "Arial",
          "size": 8
         },
         "textposition": "outside",
         "type": "bar",
         "x": [
          "bioghist",
          "subjects",
          "scopecontent",
          "abstract",
          "corpnames",
          "geognames",
          "persnames",
          "titleproper"
         ],
         "xaxis": "x",
         "y": [
          389,
          283,
          254,
          94,
          35,
          32,
          22,
          19
         ],
         "yaxis": "y"
        }
       ],
       "layout": {
        "barmode": "group",
        "font": {
         "family": "Georgia"
        },
        "height": 600,
        "legend": {
         "title": {
          "text": "Repository"
         },
         "tracegroupgap": 0
        },
        "margin": {
         "t": 60
        },
        "template": {
         "data": {
          "bar": [
           {
            "error_x": {
             "color": "#2a3f5f"
            },
            "error_y": {
             "color": "#2a3f5f"
            },
            "marker": {
             "line": {
              "color": "#E5ECF6",
              "width": 0.5
             },
             "pattern": {
              "fillmode": "overlay",
              "size": 10,
              "solidity": 0.2
             }
            },
            "type": "bar"
           }
          ],
          "barpolar": [
           {
            "marker": {
             "line": {
              "color": "#E5ECF6",
              "width": 0.5
             },
             "pattern": {
              "fillmode": "overlay",
              "size": 10,
              "solidity": 0.2
             }
            },
            "type": "barpolar"
           }
          ],
          "carpet": [
           {
            "aaxis": {
             "endlinecolor": "#2a3f5f",
             "gridcolor": "white",
             "linecolor": "white",
             "minorgridcolor": "white",
             "startlinecolor": "#2a3f5f"
            },
            "baxis": {
             "endlinecolor": "#2a3f5f",
             "gridcolor": "white",
             "linecolor": "white",
             "minorgridcolor": "white",
             "startlinecolor": "#2a3f5f"
            },
            "type": "carpet"
           }
          ],
          "choropleth": [
           {
            "colorbar": {
             "outlinewidth": 0,
             "ticks": ""
            },
            "type": "choropleth"
           }
          ],
          "contour": [
           {
            "colorbar": {
             "outlinewidth": 0,
             "ticks": ""
            },
            "colorscale": [
             [
              0,
              "#0d0887"
             ],
             [
              0.1111111111111111,
              "#46039f"
             ],
             [
              0.2222222222222222,
              "#7201a8"
             ],
             [
              0.3333333333333333,
              "#9c179e"
             ],
             [
              0.4444444444444444,
              "#bd3786"
             ],
             [
              0.5555555555555556,
              "#d8576b"
             ],
             [
              0.6666666666666666,
              "#ed7953"
             ],
             [
              0.7777777777777778,
              "#fb9f3a"
             ],
             [
              0.8888888888888888,
              "#fdca26"
             ],
             [
              1,
              "#f0f921"
             ]
            ],
            "type": "contour"
           }
          ],
          "contourcarpet": [
           {
            "colorbar": {
             "outlinewidth": 0,
             "ticks": ""
            },
            "type": "contourcarpet"
           }
          ],
          "heatmap": [
           {
            "colorbar": {
             "outlinewidth": 0,
             "ticks": ""
            },
            "colorscale": [
             [
              0,
              "#0d0887"
             ],
             [
              0.1111111111111111,
              "#46039f"
             ],
             [
              0.2222222222222222,
              "#7201a8"
             ],
             [
              0.3333333333333333,
              "#9c179e"
             ],
             [
              0.4444444444444444,
              "#bd3786"
             ],
             [
              0.5555555555555556,
              "#d8576b"
             ],
             [
              0.6666666666666666,
              "#ed7953"
             ],
             [
              0.7777777777777778,
              "#fb9f3a"
             ],
             [
              0.8888888888888888,
              "#fdca26"
             ],
             [
              1,
              "#f0f921"
             ]
            ],
            "type": "heatmap"
           }
          ],
          "heatmapgl": [
           {
            "colorbar": {
             "outlinewidth": 0,
             "ticks": ""
            },
            "colorscale": [
             [
              0,
              "#0d0887"
             ],
             [
              0.1111111111111111,
              "#46039f"
             ],
             [
              0.2222222222222222,
              "#7201a8"
             ],
             [
              0.3333333333333333,
              "#9c179e"
             ],
             [
              0.4444444444444444,
              "#bd3786"
             ],
             [
              0.5555555555555556,
              "#d8576b"
             ],
             [
              0.6666666666666666,
              "#ed7953"
             ],
             [
              0.7777777777777778,
              "#fb9f3a"
             ],
             [
              0.8888888888888888,
              "#fdca26"
             ],
             [
              1,
              "#f0f921"
             ]
            ],
            "type": "heatmapgl"
           }
          ],
          "histogram": [
           {
            "marker": {
             "pattern": {
              "fillmode": "overlay",
              "size": 10,
              "solidity": 0.2
             }
            },
            "type": "histogram"
           }
          ],
          "histogram2d": [
           {
            "colorbar": {
             "outlinewidth": 0,
             "ticks": ""
            },
            "colorscale": [
             [
              0,
              "#0d0887"
             ],
             [
              0.1111111111111111,
              "#46039f"
             ],
             [
              0.2222222222222222,
              "#7201a8"
             ],
             [
              0.3333333333333333,
              "#9c179e"
             ],
             [
              0.4444444444444444,
              "#bd3786"
             ],
             [
              0.5555555555555556,
              "#d8576b"
             ],
             [
              0.6666666666666666,
              "#ed7953"
             ],
             [
              0.7777777777777778,
              "#fb9f3a"
             ],
             [
              0.8888888888888888,
              "#fdca26"
             ],
             [
              1,
              "#f0f921"
             ]
            ],
            "type": "histogram2d"
           }
          ],
          "histogram2dcontour": [
           {
            "colorbar": {
             "outlinewidth": 0,
             "ticks": ""
            },
            "colorscale": [
             [
              0,
              "#0d0887"
             ],
             [
              0.1111111111111111,
              "#46039f"
             ],
             [
              0.2222222222222222,
              "#7201a8"
             ],
             [
              0.3333333333333333,
              "#9c179e"
             ],
             [
              0.4444444444444444,
              "#bd3786"
             ],
             [
              0.5555555555555556,
              "#d8576b"
             ],
             [
              0.6666666666666666,
              "#ed7953"
             ],
             [
              0.7777777777777778,
              "#fb9f3a"
             ],
             [
              0.8888888888888888,
              "#fdca26"
             ],
             [
              1,
              "#f0f921"
             ]
            ],
            "type": "histogram2dcontour"
           }
          ],
          "mesh3d": [
           {
            "colorbar": {
             "outlinewidth": 0,
             "ticks": ""
            },
            "type": "mesh3d"
           }
          ],
          "parcoords": [
           {
            "line": {
             "colorbar": {
              "outlinewidth": 0,
              "ticks": ""
             }
            },
            "type": "parcoords"
           }
          ],
          "pie": [
           {
            "automargin": true,
            "type": "pie"
           }
          ],
          "scatter": [
           {
            "fillpattern": {
             "fillmode": "overlay",
             "size": 10,
             "solidity": 0.2
            },
            "type": "scatter"
           }
          ],
          "scatter3d": [
           {
            "line": {
             "colorbar": {
              "outlinewidth": 0,
              "ticks": ""
             }
            },
            "marker": {
             "colorbar": {
              "outlinewidth": 0,
              "ticks": ""
             }
            },
            "type": "scatter3d"
           }
          ],
          "scattercarpet": [
           {
            "marker": {
             "colorbar": {
              "outlinewidth": 0,
              "ticks": ""
             }
            },
            "type": "scattercarpet"
           }
          ],
          "scattergeo": [
           {
            "marker": {
             "colorbar": {
              "outlinewidth": 0,
              "ticks": ""
             }
            },
            "type": "scattergeo"
           }
          ],
          "scattergl": [
           {
            "marker": {
             "colorbar": {
              "outlinewidth": 0,
              "ticks": ""
             }
            },
            "type": "scattergl"
           }
          ],
          "scattermapbox": [
           {
            "marker": {
             "colorbar": {
              "outlinewidth": 0,
              "ticks": ""
             }
            },
            "type": "scattermapbox"
           }
          ],
          "scatterpolar": [
           {
            "marker": {
             "colorbar": {
              "outlinewidth": 0,
              "ticks": ""
             }
            },
            "type": "scatterpolar"
           }
          ],
          "scatterpolargl": [
           {
            "marker": {
             "colorbar": {
              "outlinewidth": 0,
              "ticks": ""
             }
            },
            "type": "scatterpolargl"
           }
          ],
          "scatterternary": [
           {
            "marker": {
             "colorbar": {
              "outlinewidth": 0,
              "ticks": ""
             }
            },
            "type": "scatterternary"
           }
          ],
          "surface": [
           {
            "colorbar": {
             "outlinewidth": 0,
             "ticks": ""
            },
            "colorscale": [
             [
              0,
              "#0d0887"
             ],
             [
              0.1111111111111111,
              "#46039f"
             ],
             [
              0.2222222222222222,
              "#7201a8"
             ],
             [
              0.3333333333333333,
              "#9c179e"
             ],
             [
              0.4444444444444444,
              "#bd3786"
             ],
             [
              0.5555555555555556,
              "#d8576b"
             ],
             [
              0.6666666666666666,
              "#ed7953"
             ],
             [
              0.7777777777777778,
              "#fb9f3a"
             ],
             [
              0.8888888888888888,
              "#fdca26"
             ],
             [
              1,
              "#f0f921"
             ]
            ],
            "type": "surface"
           }
          ],
          "table": [
           {
            "cells": {
             "fill": {
              "color": "#EBF0F8"
             },
             "line": {
              "color": "white"
             }
            },
            "header": {
             "fill": {
              "color": "#C8D4E3"
             },
             "line": {
              "color": "white"
             }
            },
            "type": "table"
           }
          ]
         },
         "layout": {
          "annotationdefaults": {
           "arrowcolor": "#2a3f5f",
           "arrowhead": 0,
           "arrowwidth": 1
          },
          "autotypenumbers": "strict",
          "coloraxis": {
           "colorbar": {
            "outlinewidth": 0,
            "ticks": ""
           }
          },
          "colorscale": {
           "diverging": [
            [
             0,
             "#8e0152"
            ],
            [
             0.1,
             "#c51b7d"
            ],
            [
             0.2,
             "#de77ae"
            ],
            [
             0.3,
             "#f1b6da"
            ],
            [
             0.4,
             "#fde0ef"
            ],
            [
             0.5,
             "#f7f7f7"
            ],
            [
             0.6,
             "#e6f5d0"
            ],
            [
             0.7,
             "#b8e186"
            ],
            [
             0.8,
             "#7fbc41"
            ],
            [
             0.9,
             "#4d9221"
            ],
            [
             1,
             "#276419"
            ]
           ],
           "sequential": [
            [
             0,
             "#0d0887"
            ],
            [
             0.1111111111111111,
             "#46039f"
            ],
            [
             0.2222222222222222,
             "#7201a8"
            ],
            [
             0.3333333333333333,
             "#9c179e"
            ],
            [
             0.4444444444444444,
             "#bd3786"
            ],
            [
             0.5555555555555556,
             "#d8576b"
            ],
            [
             0.6666666666666666,
             "#ed7953"
            ],
            [
             0.7777777777777778,
             "#fb9f3a"
            ],
            [
             0.8888888888888888,
             "#fdca26"
            ],
            [
             1,
             "#f0f921"
            ]
           ],
           "sequentialminus": [
            [
             0,
             "#0d0887"
            ],
            [
             0.1111111111111111,
             "#46039f"
            ],
            [
             0.2222222222222222,
             "#7201a8"
            ],
            [
             0.3333333333333333,
             "#9c179e"
            ],
            [
             0.4444444444444444,
             "#bd3786"
            ],
            [
             0.5555555555555556,
             "#d8576b"
            ],
            [
             0.6666666666666666,
             "#ed7953"
            ],
            [
             0.7777777777777778,
             "#fb9f3a"
            ],
            [
             0.8888888888888888,
             "#fdca26"
            ],
            [
             1,
             "#f0f921"
            ]
           ]
          },
          "colorway": [
           "#636efa",
           "#EF553B",
           "#00cc96",
           "#ab63fa",
           "#FFA15A",
           "#19d3f3",
           "#FF6692",
           "#B6E880",
           "#FF97FF",
           "#FECB52"
          ],
          "font": {
           "color": "#2a3f5f"
          },
          "geo": {
           "bgcolor": "white",
           "lakecolor": "white",
           "landcolor": "#E5ECF6",
           "showlakes": true,
           "showland": true,
           "subunitcolor": "white"
          },
          "hoverlabel": {
           "align": "left"
          },
          "hovermode": "closest",
          "mapbox": {
           "style": "light"
          },
          "paper_bgcolor": "white",
          "plot_bgcolor": "#E5ECF6",
          "polar": {
           "angularaxis": {
            "gridcolor": "white",
            "linecolor": "white",
            "ticks": ""
           },
           "bgcolor": "#E5ECF6",
           "radialaxis": {
            "gridcolor": "white",
            "linecolor": "white",
            "ticks": ""
           }
          },
          "scene": {
           "xaxis": {
            "backgroundcolor": "#E5ECF6",
            "gridcolor": "white",
            "gridwidth": 2,
            "linecolor": "white",
            "showbackground": true,
            "ticks": "",
            "zerolinecolor": "white"
           },
           "yaxis": {
            "backgroundcolor": "#E5ECF6",
            "gridcolor": "white",
            "gridwidth": 2,
            "linecolor": "white",
            "showbackground": true,
            "ticks": "",
            "zerolinecolor": "white"
           },
           "zaxis": {
            "backgroundcolor": "#E5ECF6",
            "gridcolor": "white",
            "gridwidth": 2,
            "linecolor": "white",
            "showbackground": true,
            "ticks": "",
            "zerolinecolor": "white"
           }
          },
          "shapedefaults": {
           "line": {
            "color": "#2a3f5f"
           }
          },
          "ternary": {
           "aaxis": {
            "gridcolor": "white",
            "linecolor": "white",
            "ticks": ""
           },
           "baxis": {
            "gridcolor": "white",
            "linecolor": "white",
            "ticks": ""
           },
           "bgcolor": "#E5ECF6",
           "caxis": {
            "gridcolor": "white",
            "linecolor": "white",
            "ticks": ""
           }
          },
          "title": {
           "x": 0.05
          },
          "xaxis": {
           "automargin": true,
           "gridcolor": "white",
           "linecolor": "white",
           "ticks": "",
           "title": {
            "standoff": 15
           },
           "zerolinecolor": "white",
           "zerolinewidth": 2
          },
          "yaxis": {
           "automargin": true,
           "gridcolor": "white",
           "linecolor": "white",
           "ticks": "",
           "title": {
            "standoff": 15
           },
           "zerolinecolor": "white",
           "zerolinewidth": 2
          }
         }
        },
        "title": {
         "text": "Term Occurence Frequency by EAD Tag"
        },
        "xaxis": {
         "anchor": "y",
         "domain": [
          0,
          1
         ],
         "tickangle": 0,
         "tickfont": {
          "color": "black",
          "family": "Arial",
          "size": 10
         },
         "title": {
          "text": "EAD Tag"
         }
        },
        "yaxis": {
         "anchor": "x",
         "domain": [
          0,
          1
         ],
         "tickfont": {
          "family": "Arial",
          "size": 10
         },
         "title": {
          "text": "Term Frequency"
         }
        }
       }
      }
     },
     "metadata": {},
     "output_type": "display_data"
    },
    {
     "data": {
      "application/vnd.plotly.v1+json": {
       "config": {
        "plotlyServerURL": "https://plot.ly"
       },
       "data": [
        {
         "alignmentgroup": "True",
         "hovertemplate": "Repository=Bentley<br>EAD Tag=%{x}<br>harmful_terms_frequency=%{text}<extra></extra>",
         "insidetextanchor": "middle",
         "legendgroup": "Bentley",
         "marker": {
          "color": "#CFC096",
          "pattern": {
           "shape": ""
          }
         },
         "name": "Bentley",
         "offsetgroup": "Bentley",
         "orientation": "v",
         "showlegend": true,
         "text": [
          389,
          283,
          254,
          94,
          35,
          32,
          22,
          19
         ],
         "textfont": {
          "family": "Arial",
          "size": 8
         },
         "textposition": "inside",
         "type": "bar",
         "x": [
          "bioghist",
          "subjects",
          "scopecontent",
          "abstract",
          "corpnames",
          "geognames",
          "persnames",
          "titleproper"
         ],
         "xaxis": "x",
         "y": [
          389,
          283,
          254,
          94,
          35,
          32,
          22,
          19
         ],
         "yaxis": "y"
        }
       ],
       "layout": {
        "barmode": "stack",
        "font": {
         "family": "Georgia"
        },
        "height": 600,
        "legend": {
         "title": {
          "text": "Repository"
         },
         "tracegroupgap": 0
        },
        "margin": {
         "t": 60
        },
        "template": {
         "data": {
          "bar": [
           {
            "error_x": {
             "color": "#2a3f5f"
            },
            "error_y": {
             "color": "#2a3f5f"
            },
            "marker": {
             "line": {
              "color": "#E5ECF6",
              "width": 0.5
             },
             "pattern": {
              "fillmode": "overlay",
              "size": 10,
              "solidity": 0.2
             }
            },
            "type": "bar"
           }
          ],
          "barpolar": [
           {
            "marker": {
             "line": {
              "color": "#E5ECF6",
              "width": 0.5
             },
             "pattern": {
              "fillmode": "overlay",
              "size": 10,
              "solidity": 0.2
             }
            },
            "type": "barpolar"
           }
          ],
          "carpet": [
           {
            "aaxis": {
             "endlinecolor": "#2a3f5f",
             "gridcolor": "white",
             "linecolor": "white",
             "minorgridcolor": "white",
             "startlinecolor": "#2a3f5f"
            },
            "baxis": {
             "endlinecolor": "#2a3f5f",
             "gridcolor": "white",
             "linecolor": "white",
             "minorgridcolor": "white",
             "startlinecolor": "#2a3f5f"
            },
            "type": "carpet"
           }
          ],
          "choropleth": [
           {
            "colorbar": {
             "outlinewidth": 0,
             "ticks": ""
            },
            "type": "choropleth"
           }
          ],
          "contour": [
           {
            "colorbar": {
             "outlinewidth": 0,
             "ticks": ""
            },
            "colorscale": [
             [
              0,
              "#0d0887"
             ],
             [
              0.1111111111111111,
              "#46039f"
             ],
             [
              0.2222222222222222,
              "#7201a8"
             ],
             [
              0.3333333333333333,
              "#9c179e"
             ],
             [
              0.4444444444444444,
              "#bd3786"
             ],
             [
              0.5555555555555556,
              "#d8576b"
             ],
             [
              0.6666666666666666,
              "#ed7953"
             ],
             [
              0.7777777777777778,
              "#fb9f3a"
             ],
             [
              0.8888888888888888,
              "#fdca26"
             ],
             [
              1,
              "#f0f921"
             ]
            ],
            "type": "contour"
           }
          ],
          "contourcarpet": [
           {
            "colorbar": {
             "outlinewidth": 0,
             "ticks": ""
            },
            "type": "contourcarpet"
           }
          ],
          "heatmap": [
           {
            "colorbar": {
             "outlinewidth": 0,
             "ticks": ""
            },
            "colorscale": [
             [
              0,
              "#0d0887"
             ],
             [
              0.1111111111111111,
              "#46039f"
             ],
             [
              0.2222222222222222,
              "#7201a8"
             ],
             [
              0.3333333333333333,
              "#9c179e"
             ],
             [
              0.4444444444444444,
              "#bd3786"
             ],
             [
              0.5555555555555556,
              "#d8576b"
             ],
             [
              0.6666666666666666,
              "#ed7953"
             ],
             [
              0.7777777777777778,
              "#fb9f3a"
             ],
             [
              0.8888888888888888,
              "#fdca26"
             ],
             [
              1,
              "#f0f921"
             ]
            ],
            "type": "heatmap"
           }
          ],
          "heatmapgl": [
           {
            "colorbar": {
             "outlinewidth": 0,
             "ticks": ""
            },
            "colorscale": [
             [
              0,
              "#0d0887"
             ],
             [
              0.1111111111111111,
              "#46039f"
             ],
             [
              0.2222222222222222,
              "#7201a8"
             ],
             [
              0.3333333333333333,
              "#9c179e"
             ],
             [
              0.4444444444444444,
              "#bd3786"
             ],
             [
              0.5555555555555556,
              "#d8576b"
             ],
             [
              0.6666666666666666,
              "#ed7953"
             ],
             [
              0.7777777777777778,
              "#fb9f3a"
             ],
             [
              0.8888888888888888,
              "#fdca26"
             ],
             [
              1,
              "#f0f921"
             ]
            ],
            "type": "heatmapgl"
           }
          ],
          "histogram": [
           {
            "marker": {
             "pattern": {
              "fillmode": "overlay",
              "size": 10,
              "solidity": 0.2
             }
            },
            "type": "histogram"
           }
          ],
          "histogram2d": [
           {
            "colorbar": {
             "outlinewidth": 0,
             "ticks": ""
            },
            "colorscale": [
             [
              0,
              "#0d0887"
             ],
             [
              0.1111111111111111,
              "#46039f"
             ],
             [
              0.2222222222222222,
              "#7201a8"
             ],
             [
              0.3333333333333333,
              "#9c179e"
             ],
             [
              0.4444444444444444,
              "#bd3786"
             ],
             [
              0.5555555555555556,
              "#d8576b"
             ],
             [
              0.6666666666666666,
              "#ed7953"
             ],
             [
              0.7777777777777778,
              "#fb9f3a"
             ],
             [
              0.8888888888888888,
              "#fdca26"
             ],
             [
              1,
              "#f0f921"
             ]
            ],
            "type": "histogram2d"
           }
          ],
          "histogram2dcontour": [
           {
            "colorbar": {
             "outlinewidth": 0,
             "ticks": ""
            },
            "colorscale": [
             [
              0,
              "#0d0887"
             ],
             [
              0.1111111111111111,
              "#46039f"
             ],
             [
              0.2222222222222222,
              "#7201a8"
             ],
             [
              0.3333333333333333,
              "#9c179e"
             ],
             [
              0.4444444444444444,
              "#bd3786"
             ],
             [
              0.5555555555555556,
              "#d8576b"
             ],
             [
              0.6666666666666666,
              "#ed7953"
             ],
             [
              0.7777777777777778,
              "#fb9f3a"
             ],
             [
              0.8888888888888888,
              "#fdca26"
             ],
             [
              1,
              "#f0f921"
             ]
            ],
            "type": "histogram2dcontour"
           }
          ],
          "mesh3d": [
           {
            "colorbar": {
             "outlinewidth": 0,
             "ticks": ""
            },
            "type": "mesh3d"
           }
          ],
          "parcoords": [
           {
            "line": {
             "colorbar": {
              "outlinewidth": 0,
              "ticks": ""
             }
            },
            "type": "parcoords"
           }
          ],
          "pie": [
           {
            "automargin": true,
            "type": "pie"
           }
          ],
          "scatter": [
           {
            "fillpattern": {
             "fillmode": "overlay",
             "size": 10,
             "solidity": 0.2
            },
            "type": "scatter"
           }
          ],
          "scatter3d": [
           {
            "line": {
             "colorbar": {
              "outlinewidth": 0,
              "ticks": ""
             }
            },
            "marker": {
             "colorbar": {
              "outlinewidth": 0,
              "ticks": ""
             }
            },
            "type": "scatter3d"
           }
          ],
          "scattercarpet": [
           {
            "marker": {
             "colorbar": {
              "outlinewidth": 0,
              "ticks": ""
             }
            },
            "type": "scattercarpet"
           }
          ],
          "scattergeo": [
           {
            "marker": {
             "colorbar": {
              "outlinewidth": 0,
              "ticks": ""
             }
            },
            "type": "scattergeo"
           }
          ],
          "scattergl": [
           {
            "marker": {
             "colorbar": {
              "outlinewidth": 0,
              "ticks": ""
             }
            },
            "type": "scattergl"
           }
          ],
          "scattermapbox": [
           {
            "marker": {
             "colorbar": {
              "outlinewidth": 0,
              "ticks": ""
             }
            },
            "type": "scattermapbox"
           }
          ],
          "scatterpolar": [
           {
            "marker": {
             "colorbar": {
              "outlinewidth": 0,
              "ticks": ""
             }
            },
            "type": "scatterpolar"
           }
          ],
          "scatterpolargl": [
           {
            "marker": {
             "colorbar": {
              "outlinewidth": 0,
              "ticks": ""
             }
            },
            "type": "scatterpolargl"
           }
          ],
          "scatterternary": [
           {
            "marker": {
             "colorbar": {
              "outlinewidth": 0,
              "ticks": ""
             }
            },
            "type": "scatterternary"
           }
          ],
          "surface": [
           {
            "colorbar": {
             "outlinewidth": 0,
             "ticks": ""
            },
            "colorscale": [
             [
              0,
              "#0d0887"
             ],
             [
              0.1111111111111111,
              "#46039f"
             ],
             [
              0.2222222222222222,
              "#7201a8"
             ],
             [
              0.3333333333333333,
              "#9c179e"
             ],
             [
              0.4444444444444444,
              "#bd3786"
             ],
             [
              0.5555555555555556,
              "#d8576b"
             ],
             [
              0.6666666666666666,
              "#ed7953"
             ],
             [
              0.7777777777777778,
              "#fb9f3a"
             ],
             [
              0.8888888888888888,
              "#fdca26"
             ],
             [
              1,
              "#f0f921"
             ]
            ],
            "type": "surface"
           }
          ],
          "table": [
           {
            "cells": {
             "fill": {
              "color": "#EBF0F8"
             },
             "line": {
              "color": "white"
             }
            },
            "header": {
             "fill": {
              "color": "#C8D4E3"
             },
             "line": {
              "color": "white"
             }
            },
            "type": "table"
           }
          ]
         },
         "layout": {
          "annotationdefaults": {
           "arrowcolor": "#2a3f5f",
           "arrowhead": 0,
           "arrowwidth": 1
          },
          "autotypenumbers": "strict",
          "coloraxis": {
           "colorbar": {
            "outlinewidth": 0,
            "ticks": ""
           }
          },
          "colorscale": {
           "diverging": [
            [
             0,
             "#8e0152"
            ],
            [
             0.1,
             "#c51b7d"
            ],
            [
             0.2,
             "#de77ae"
            ],
            [
             0.3,
             "#f1b6da"
            ],
            [
             0.4,
             "#fde0ef"
            ],
            [
             0.5,
             "#f7f7f7"
            ],
            [
             0.6,
             "#e6f5d0"
            ],
            [
             0.7,
             "#b8e186"
            ],
            [
             0.8,
             "#7fbc41"
            ],
            [
             0.9,
             "#4d9221"
            ],
            [
             1,
             "#276419"
            ]
           ],
           "sequential": [
            [
             0,
             "#0d0887"
            ],
            [
             0.1111111111111111,
             "#46039f"
            ],
            [
             0.2222222222222222,
             "#7201a8"
            ],
            [
             0.3333333333333333,
             "#9c179e"
            ],
            [
             0.4444444444444444,
             "#bd3786"
            ],
            [
             0.5555555555555556,
             "#d8576b"
            ],
            [
             0.6666666666666666,
             "#ed7953"
            ],
            [
             0.7777777777777778,
             "#fb9f3a"
            ],
            [
             0.8888888888888888,
             "#fdca26"
            ],
            [
             1,
             "#f0f921"
            ]
           ],
           "sequentialminus": [
            [
             0,
             "#0d0887"
            ],
            [
             0.1111111111111111,
             "#46039f"
            ],
            [
             0.2222222222222222,
             "#7201a8"
            ],
            [
             0.3333333333333333,
             "#9c179e"
            ],
            [
             0.4444444444444444,
             "#bd3786"
            ],
            [
             0.5555555555555556,
             "#d8576b"
            ],
            [
             0.6666666666666666,
             "#ed7953"
            ],
            [
             0.7777777777777778,
             "#fb9f3a"
            ],
            [
             0.8888888888888888,
             "#fdca26"
            ],
            [
             1,
             "#f0f921"
            ]
           ]
          },
          "colorway": [
           "#636efa",
           "#EF553B",
           "#00cc96",
           "#ab63fa",
           "#FFA15A",
           "#19d3f3",
           "#FF6692",
           "#B6E880",
           "#FF97FF",
           "#FECB52"
          ],
          "font": {
           "color": "#2a3f5f"
          },
          "geo": {
           "bgcolor": "white",
           "lakecolor": "white",
           "landcolor": "#E5ECF6",
           "showlakes": true,
           "showland": true,
           "subunitcolor": "white"
          },
          "hoverlabel": {
           "align": "left"
          },
          "hovermode": "closest",
          "mapbox": {
           "style": "light"
          },
          "paper_bgcolor": "white",
          "plot_bgcolor": "#E5ECF6",
          "polar": {
           "angularaxis": {
            "gridcolor": "white",
            "linecolor": "white",
            "ticks": ""
           },
           "bgcolor": "#E5ECF6",
           "radialaxis": {
            "gridcolor": "white",
            "linecolor": "white",
            "ticks": ""
           }
          },
          "scene": {
           "xaxis": {
            "backgroundcolor": "#E5ECF6",
            "gridcolor": "white",
            "gridwidth": 2,
            "linecolor": "white",
            "showbackground": true,
            "ticks": "",
            "zerolinecolor": "white"
           },
           "yaxis": {
            "backgroundcolor": "#E5ECF6",
            "gridcolor": "white",
            "gridwidth": 2,
            "linecolor": "white",
            "showbackground": true,
            "ticks": "",
            "zerolinecolor": "white"
           },
           "zaxis": {
            "backgroundcolor": "#E5ECF6",
            "gridcolor": "white",
            "gridwidth": 2,
            "linecolor": "white",
            "showbackground": true,
            "ticks": "",
            "zerolinecolor": "white"
           }
          },
          "shapedefaults": {
           "line": {
            "color": "#2a3f5f"
           }
          },
          "ternary": {
           "aaxis": {
            "gridcolor": "white",
            "linecolor": "white",
            "ticks": ""
           },
           "baxis": {
            "gridcolor": "white",
            "linecolor": "white",
            "ticks": ""
           },
           "bgcolor": "#E5ECF6",
           "caxis": {
            "gridcolor": "white",
            "linecolor": "white",
            "ticks": ""
           }
          },
          "title": {
           "x": 0.05
          },
          "xaxis": {
           "automargin": true,
           "gridcolor": "white",
           "linecolor": "white",
           "ticks": "",
           "title": {
            "standoff": 15
           },
           "zerolinecolor": "white",
           "zerolinewidth": 2
          },
          "yaxis": {
           "automargin": true,
           "gridcolor": "white",
           "linecolor": "white",
           "ticks": "",
           "title": {
            "standoff": 15
           },
           "zerolinecolor": "white",
           "zerolinewidth": 2
          }
         }
        },
        "title": {
         "text": "Term Occurence Frequency by EAD Tag (Stacked Totals)"
        },
        "xaxis": {
         "anchor": "y",
         "domain": [
          0,
          1
         ],
         "tickangle": 0,
         "tickfont": {
          "color": "black",
          "family": "Arial",
          "size": 10
         },
         "title": {
          "text": "EAD Tag"
         }
        },
        "yaxis": {
         "anchor": "x",
         "domain": [
          0,
          1
         ],
         "tickfont": {
          "family": "Arial",
          "size": 10
         },
         "title": {
          "text": "Term Frequency"
         }
        }
       }
      }
     },
     "metadata": {},
     "output_type": "display_data"
    }
   ],
   "source": [
    "def calculate_element_frequency(df, df_name):\n",
    "    element_counts = df.groupby('Matched_From')['Matched_Times'].sum()\n",
    "    element_counts_sorted = element_counts.sort_values(ascending=False)\n",
    "    df_element_counts = pd.DataFrame(list(element_counts_sorted.items()), columns=['Subsection', 'harmful_terms_frequency'])\n",
    "    df_element_counts['Source'] = df_name  # Indicate the source dataframe\n",
    "    return df_element_counts\n",
    "\n",
    "# Use the function for each dataframes\n",
    "element_frequencies_list = [calculate_element_frequency(df, name) for name, df in matched_results.items()]\n",
    "\n",
    "# Concatenate all element frequencies\n",
    "all_element_frequencies = pd.concat(element_frequencies_list)\n",
    "\n",
    "# Show the DataFrame\n",
    "print(\"Element frequencies across all file pools:\")\n",
    "display(all_element_frequencies)\n",
    "\n",
    "# Set colors\n",
    "colors = {'Bentley': '#CFC096', 'Clements': '#A5A508', 'SCRC': '#FFCB05'}\n",
    "\n",
    "# Visualization\n",
    "fig = px.bar(all_element_frequencies, x='Subsection', y='harmful_terms_frequency', color='Source', \n",
    "             text='harmful_terms_frequency', barmode='group',\n",
    "             labels={'Subsection':'EAD Tag','Source':'Repository'},\n",
    "             color_discrete_map=colors)\n",
    "fig.update_traces(textposition='outside', textfont=dict(family='Arial',size=8))\n",
    "fig.update_layout(title_text=\"Term Occurence Frequency by EAD Tag\", yaxis_title=\"Term Frequency\", height=600,\n",
    "                  font_family=global_font_info['font_family'])\n",
    "fig.update_yaxes(tickfont=dict(family='Arial', size=10))\n",
    "fig.update_xaxes(tickangle=0, tickfont=dict(family='Arial', color='black', size=10))\n",
    "fig.show()\n",
    "# pio.write_image(fig, 'element_frequency_across_dfs.png', scale=5)\n",
    "\n",
    "# Visualization Variation: Stacked bars\n",
    "fig = px.bar(all_element_frequencies, x='Subsection', y='harmful_terms_frequency', color='Source', \n",
    "             text='harmful_terms_frequency', barmode='stack',\n",
    "             labels={'Subsection':'EAD Tag','Source':'Repository'},\n",
    "             color_discrete_map=colors)\n",
    "fig.update_traces(textposition='inside', insidetextanchor='middle', textfont=dict(family='Arial',size=8))\n",
    "fig.update_layout(title_text=\"Term Occurence Frequency by EAD Tag (Stacked Totals)\", yaxis_title=\"Term Frequency\", height=600,\n",
    "                  font_family=global_font_info['font_family'])\n",
    "fig.update_yaxes(tickfont=dict(family='Arial', size=10))\n",
    "fig.update_xaxes(tickangle=0, tickfont=dict(family='Arial', color='black', size=10))\n",
    "fig.show()\n",
    "# pio.write_image(fig, 'element_frequency_across_dfs_stacked.png', scale=5)"
   ]
  },
  {
   "cell_type": "markdown",
   "metadata": {},
   "source": [
    "### Visualizing Term Frequencies Across Subsections\n",
    "\n",
    "This section calculates the term frequencies in different subsections of each data source and visualizes the results using treemap and sunburst diagrams.\n",
    "\n",
    "The `calculate_subsection_term_frequency(df, df_name)` function is used to calculate the sum of matched terms for each term in each subsection of a DataFrame. The results are returned as a DataFrame with columns `Subsection`, `Term`, `Term_Frequency`, and `Source`. This function is applied to each DataFrame in matched_results, and the results are concatenated into a single DataFrame, `all_subsection_term_frequencies`.\n",
    "\n",
    "Treemap diagrams are then created to visualize the frequencies of terms in each subsection for every data source. The size of each section in the treemap corresponds to the term frequency in that section. Two types of treemaps are generated: one with uniform colors and one with a color scale indicating term frequency. The color scale ranges from yellow ('Yl') for lower frequencies to red ('Rd') for higher frequencies.\n",
    "\n",
    "A sunburst diagram is created with a similar color scale. In this diagram, the data sources are represented in the inner circle, subsections in the middle ring, and terms in the outer ring. This hierarchical view allows for easy comparison of term frequencies across different sources and subsections. The resulting visualizations are displayed but not saved. If you wish to save them, you can use fig.write_image('filename.png') as in the previous sections."
   ]
  },
  {
   "cell_type": "code",
   "execution_count": 34,
   "metadata": {},
   "outputs": [],
   "source": [
    "def calculate_subsection_term_frequency(df, df_name):\n",
    "    subsection_term_frequency = df.groupby(['Matched_From', 'Term'])['Matched_Times'].sum().reset_index()\n",
    "    subsection_term_frequency.rename(columns={'Matched_From': 'Subsection', 'Matched_Times': 'Term_Frequency'}, inplace=True)\n",
    "    subsection_term_frequency['Source'] = df_name\n",
    "    return subsection_term_frequency\n",
    "\n",
    "# Use the function for each pool\n",
    "subsection_term_frequencies_list = [calculate_subsection_term_frequency(df, name) for name, df in matched_results.items()]\n",
    "\n",
    "# Concatenate all subsection term frequencies\n",
    "all_subsection_term_frequencies = pd.concat(subsection_term_frequencies_list)"
   ]
  },
  {
   "cell_type": "markdown",
   "metadata": {},
   "source": [
    "### Treemap visualization\n",
    "\n",
    "The tree map visualization, initially used in digital context to\n",
    "represent the proportional size of files and directories on a hard disk,\n",
    "provides a useful way to show and explore hierarchy. \n",
    "\n",
    "The primary grouping in this treemap is the holding repository. In the case of U-Michigan,\n",
    "we were interested in how occurence patterns might differ between repositories. But in other cases, the hierarchy might be used to separate finding aid groups by\n",
    "topic, time period, media, or any other grouping that might be of interest.\n",
    "\n",
    "The secondary groping in this tree map is the EAD tag. It would, instead, be\n",
    "possible to group by term (and then tag), or in other orders. For our case,\n",
    "it was most interesting to point out the \"biggest\" (that is, most prevalent)\n",
    "tags that included terms of interest. Finally, individual terms are grouped in their own box. \n",
    "\n",
    "The first tree map uses individual colors for each top-level parent tag. The second tree map uses a gradient so that color intensity, in addition to box size helps to indicate term prevalence (more intense and larger is a greater occurence while lighter and smaller indicates less occurence). "
   ]
  },
  {
   "cell_type": "code",
   "execution_count": 35,
   "metadata": {},
   "outputs": [
    {
     "data": {
      "application/vnd.plotly.v1+json": {
       "config": {
        "plotlyServerURL": "https://plot.ly"
       },
       "data": [
        {
         "branchvalues": "total",
         "domain": {
          "x": [
           0,
           1
          ],
          "y": [
           0,
           1
          ]
         },
         "hovertemplate": "labels=%{label}<br>Term_Frequency=%{value}<br>parent=%{parent}<br>id=%{id}<extra></extra>",
         "ids": [
          "Bentley/scopecontent/Anishnaabe",
          "Bentley/bioghist/Burial",
          "Bentley/bioghist/Burials",
          "Bentley/subjects/Burials",
          "Bentley/bioghist/Captive",
          "Bentley/abstract/Cass",
          "Bentley/bioghist/Cass",
          "Bentley/geognames/Cass",
          "Bentley/persnames/Cass",
          "Bentley/scopecontent/Cass",
          "Bentley/titleproper/Cass",
          "Bentley/abstract/Chief",
          "Bentley/bioghist/Chief",
          "Bentley/persnames/Chief",
          "Bentley/scopecontent/Chief",
          "Bentley/titleproper/Chief",
          "Bentley/bioghist/Chiefs",
          "Bentley/scopecontent/Chiefs",
          "Bentley/abstract/Chippewa",
          "Bentley/bioghist/Chippewa",
          "Bentley/corpnames/Chippewa",
          "Bentley/geognames/Chippewa",
          "Bentley/scopecontent/Chippewa",
          "Bentley/bioghist/Chippewas",
          "Bentley/scopecontent/Chippewas",
          "Bentley/abstract/Colonial",
          "Bentley/scopecontent/Colonial",
          "Bentley/bioghist/Colonialism",
          "Bentley/bioghist/Colony",
          "Bentley/geognames/Colony",
          "Bentley/scopecontent/Colony",
          "Bentley/abstract/Copper",
          "Bentley/bioghist/Copper",
          "Bentley/corpnames/Copper",
          "Bentley/geognames/Copper",
          "Bentley/scopecontent/Copper",
          "Bentley/subjects/Copper",
          "Bentley/scopecontent/Costume",
          "Bentley/abstract/Costumes",
          "Bentley/subjects/Costumes",
          "Bentley/bioghist/Dead",
          "Bentley/abstract/Death",
          "Bentley/bioghist/Death",
          "Bentley/scopecontent/Death",
          "Bentley/subjects/Death",
          "Bentley/bioghist/Devil",
          "Bentley/geognames/Dwellings",
          "Bentley/subjects/Dwellings",
          "Bentley/bioghist/Execution",
          "Bentley/scopecontent/Execution",
          "Bentley/abstract/Fox",
          "Bentley/bioghist/Fox",
          "Bentley/persnames/Fox",
          "Bentley/scopecontent/Fox",
          "Bentley/titleproper/Fox",
          "Bentley/abstract/Grave",
          "Bentley/scopecontent/Grave",
          "Bentley/bioghist/Half-breeds",
          "Bentley/bioghist/Hiawatha",
          "Bentley/corpnames/Hiawatha",
          "Bentley/geognames/Hiawatha",
          "Bentley/scopecontent/Hiawatha",
          "Bentley/titleproper/Hiawatha",
          "Bentley/abstract/Indian",
          "Bentley/bioghist/Indian",
          "Bentley/corpnames/Indian",
          "Bentley/geognames/Indian",
          "Bentley/scopecontent/Indian",
          "Bentley/subjects/Indian",
          "Bentley/titleproper/Indian",
          "Bentley/abstract/Indian agent",
          "Bentley/bioghist/Indian agent",
          "Bentley/scopecontent/Indian agent",
          "Bentley/bioghist/Indian removal",
          "Bentley/abstract/Indians",
          "Bentley/bioghist/Indians",
          "Bentley/geognames/Indians",
          "Bentley/scopecontent/Indians",
          "Bentley/subjects/Indians",
          "Bentley/titleproper/Indians",
          "Bentley/bioghist/Indigenous",
          "Bentley/corpnames/Indigenous",
          "Bentley/scopecontent/Indigenous",
          "Bentley/subjects/Indigenous",
          "Bentley/scopecontent/Indigenous Person",
          "Bentley/bioghist/Mound",
          "Bentley/scopecontent/Mound",
          "Bentley/bioghist/Mounds",
          "Bentley/geognames/Mounds",
          "Bentley/scopecontent/Mounds",
          "Bentley/subjects/Mounds",
          "Bentley/abstract/Native",
          "Bentley/bioghist/Native",
          "Bentley/corpnames/Native",
          "Bentley/scopecontent/Native",
          "Bentley/subjects/Native",
          "Bentley/titleproper/Native",
          "Bentley/abstract/Odawa",
          "Bentley/bioghist/Odawa",
          "Bentley/scopecontent/Odawa",
          "Bentley/abstract/Ojibwa",
          "Bentley/bioghist/Ojibwa",
          "Bentley/persnames/Ojibwa",
          "Bentley/scopecontent/Ojibwa",
          "Bentley/subjects/Ojibwa",
          "Bentley/abstract/Ojibwe",
          "Bentley/bioghist/Ojibwe",
          "Bentley/scopecontent/Ojibwe",
          "Bentley/abstract/Ottawa",
          "Bentley/bioghist/Ottawa",
          "Bentley/geognames/Ottawa",
          "Bentley/persnames/Ottawa",
          "Bentley/scopecontent/Ottawa",
          "Bentley/subjects/Ottawa",
          "Bentley/titleproper/Ottawa",
          "Bentley/subjects/Pottery",
          "Bentley/abstract/Remains",
          "Bentley/bioghist/Remains",
          "Bentley/scopecontent/Remains",
          "Bentley/abstract/Removal",
          "Bentley/bioghist/Removal",
          "Bentley/scopecontent/Removal",
          "Bentley/bioghist/Reservation",
          "Bentley/subjects/Reservation",
          "Bentley/bioghist/Reservations",
          "Bentley/bioghist/Sauk",
          "Bentley/persnames/Sauk",
          "Bentley/scopecontent/Sauk",
          "Bentley/persnames/Savage",
          "Bentley/bioghist/Settlers",
          "Bentley/scopecontent/Settlers",
          "Bentley/bioghist/Skull",
          "Bentley/abstract/Treaties",
          "Bentley/bioghist/Treaties",
          "Bentley/scopecontent/Treaties",
          "Bentley/abstract/Treaty",
          "Bentley/bioghist/Treaty",
          "Bentley/scopecontent/Treaty",
          "Bentley/bioghist/Warriors",
          "Bentley/scopecontent/Warriors",
          "Bentley/abstract",
          "Bentley/bioghist",
          "Bentley/corpnames",
          "Bentley/geognames",
          "Bentley/persnames",
          "Bentley/scopecontent",
          "Bentley/subjects",
          "Bentley/titleproper",
          "Bentley"
         ],
         "labels": [
          "Anishnaabe",
          "Burial",
          "Burials",
          "Burials",
          "Captive",
          "Cass",
          "Cass",
          "Cass",
          "Cass",
          "Cass",
          "Cass",
          "Chief",
          "Chief",
          "Chief",
          "Chief",
          "Chief",
          "Chiefs",
          "Chiefs",
          "Chippewa",
          "Chippewa",
          "Chippewa",
          "Chippewa",
          "Chippewa",
          "Chippewas",
          "Chippewas",
          "Colonial",
          "Colonial",
          "Colonialism",
          "Colony",
          "Colony",
          "Colony",
          "Copper",
          "Copper",
          "Copper",
          "Copper",
          "Copper",
          "Copper",
          "Costume",
          "Costumes",
          "Costumes",
          "Dead",
          "Death",
          "Death",
          "Death",
          "Death",
          "Devil",
          "Dwellings",
          "Dwellings",
          "Execution",
          "Execution",
          "Fox",
          "Fox",
          "Fox",
          "Fox",
          "Fox",
          "Grave",
          "Grave",
          "Half-breeds",
          "Hiawatha",
          "Hiawatha",
          "Hiawatha",
          "Hiawatha",
          "Hiawatha",
          "Indian",
          "Indian",
          "Indian",
          "Indian",
          "Indian",
          "Indian",
          "Indian",
          "Indian agent",
          "Indian agent",
          "Indian agent",
          "Indian removal",
          "Indians",
          "Indians",
          "Indians",
          "Indians",
          "Indians",
          "Indians",
          "Indigenous",
          "Indigenous",
          "Indigenous",
          "Indigenous",
          "Indigenous Person",
          "Mound",
          "Mound",
          "Mounds",
          "Mounds",
          "Mounds",
          "Mounds",
          "Native",
          "Native",
          "Native",
          "Native",
          "Native",
          "Native",
          "Odawa",
          "Odawa",
          "Odawa",
          "Ojibwa",
          "Ojibwa",
          "Ojibwa",
          "Ojibwa",
          "Ojibwa",
          "Ojibwe",
          "Ojibwe",
          "Ojibwe",
          "Ottawa",
          "Ottawa",
          "Ottawa",
          "Ottawa",
          "Ottawa",
          "Ottawa",
          "Ottawa",
          "Pottery",
          "Remains",
          "Remains",
          "Remains",
          "Removal",
          "Removal",
          "Removal",
          "Reservation",
          "Reservation",
          "Reservations",
          "Sauk",
          "Sauk",
          "Sauk",
          "Savage",
          "Settlers",
          "Settlers",
          "Skull",
          "Treaties",
          "Treaties",
          "Treaties",
          "Treaty",
          "Treaty",
          "Treaty",
          "Warriors",
          "Warriors",
          "abstract",
          "bioghist",
          "corpnames",
          "geognames",
          "persnames",
          "scopecontent",
          "subjects",
          "titleproper",
          "Bentley"
         ],
         "name": "",
         "parents": [
          "Bentley/scopecontent",
          "Bentley/bioghist",
          "Bentley/bioghist",
          "Bentley/subjects",
          "Bentley/bioghist",
          "Bentley/abstract",
          "Bentley/bioghist",
          "Bentley/geognames",
          "Bentley/persnames",
          "Bentley/scopecontent",
          "Bentley/titleproper",
          "Bentley/abstract",
          "Bentley/bioghist",
          "Bentley/persnames",
          "Bentley/scopecontent",
          "Bentley/titleproper",
          "Bentley/bioghist",
          "Bentley/scopecontent",
          "Bentley/abstract",
          "Bentley/bioghist",
          "Bentley/corpnames",
          "Bentley/geognames",
          "Bentley/scopecontent",
          "Bentley/bioghist",
          "Bentley/scopecontent",
          "Bentley/abstract",
          "Bentley/scopecontent",
          "Bentley/bioghist",
          "Bentley/bioghist",
          "Bentley/geognames",
          "Bentley/scopecontent",
          "Bentley/abstract",
          "Bentley/bioghist",
          "Bentley/corpnames",
          "Bentley/geognames",
          "Bentley/scopecontent",
          "Bentley/subjects",
          "Bentley/scopecontent",
          "Bentley/abstract",
          "Bentley/subjects",
          "Bentley/bioghist",
          "Bentley/abstract",
          "Bentley/bioghist",
          "Bentley/scopecontent",
          "Bentley/subjects",
          "Bentley/bioghist",
          "Bentley/geognames",
          "Bentley/subjects",
          "Bentley/bioghist",
          "Bentley/scopecontent",
          "Bentley/abstract",
          "Bentley/bioghist",
          "Bentley/persnames",
          "Bentley/scopecontent",
          "Bentley/titleproper",
          "Bentley/abstract",
          "Bentley/scopecontent",
          "Bentley/bioghist",
          "Bentley/bioghist",
          "Bentley/corpnames",
          "Bentley/geognames",
          "Bentley/scopecontent",
          "Bentley/titleproper",
          "Bentley/abstract",
          "Bentley/bioghist",
          "Bentley/corpnames",
          "Bentley/geognames",
          "Bentley/scopecontent",
          "Bentley/subjects",
          "Bentley/titleproper",
          "Bentley/abstract",
          "Bentley/bioghist",
          "Bentley/scopecontent",
          "Bentley/bioghist",
          "Bentley/abstract",
          "Bentley/bioghist",
          "Bentley/geognames",
          "Bentley/scopecontent",
          "Bentley/subjects",
          "Bentley/titleproper",
          "Bentley/bioghist",
          "Bentley/corpnames",
          "Bentley/scopecontent",
          "Bentley/subjects",
          "Bentley/scopecontent",
          "Bentley/bioghist",
          "Bentley/scopecontent",
          "Bentley/bioghist",
          "Bentley/geognames",
          "Bentley/scopecontent",
          "Bentley/subjects",
          "Bentley/abstract",
          "Bentley/bioghist",
          "Bentley/corpnames",
          "Bentley/scopecontent",
          "Bentley/subjects",
          "Bentley/titleproper",
          "Bentley/abstract",
          "Bentley/bioghist",
          "Bentley/scopecontent",
          "Bentley/abstract",
          "Bentley/bioghist",
          "Bentley/persnames",
          "Bentley/scopecontent",
          "Bentley/subjects",
          "Bentley/abstract",
          "Bentley/bioghist",
          "Bentley/scopecontent",
          "Bentley/abstract",
          "Bentley/bioghist",
          "Bentley/geognames",
          "Bentley/persnames",
          "Bentley/scopecontent",
          "Bentley/subjects",
          "Bentley/titleproper",
          "Bentley/subjects",
          "Bentley/abstract",
          "Bentley/bioghist",
          "Bentley/scopecontent",
          "Bentley/abstract",
          "Bentley/bioghist",
          "Bentley/scopecontent",
          "Bentley/bioghist",
          "Bentley/subjects",
          "Bentley/bioghist",
          "Bentley/bioghist",
          "Bentley/persnames",
          "Bentley/scopecontent",
          "Bentley/persnames",
          "Bentley/bioghist",
          "Bentley/scopecontent",
          "Bentley/bioghist",
          "Bentley/abstract",
          "Bentley/bioghist",
          "Bentley/scopecontent",
          "Bentley/abstract",
          "Bentley/bioghist",
          "Bentley/scopecontent",
          "Bentley/bioghist",
          "Bentley/scopecontent",
          "Bentley",
          "Bentley",
          "Bentley",
          "Bentley",
          "Bentley",
          "Bentley",
          "Bentley",
          "Bentley",
          ""
         ],
         "type": "treemap",
         "values": [
          1,
          2,
          1,
          1,
          1,
          6,
          7,
          8,
          10,
          10,
          1,
          1,
          16,
          4,
          17,
          3,
          2,
          5,
          4,
          13,
          1,
          8,
          14,
          1,
          3,
          1,
          3,
          3,
          2,
          1,
          1,
          1,
          11,
          5,
          3,
          8,
          10,
          4,
          1,
          1,
          1,
          1,
          30,
          7,
          2,
          2,
          1,
          18,
          1,
          1,
          1,
          13,
          3,
          3,
          1,
          1,
          1,
          1,
          6,
          2,
          1,
          1,
          1,
          35,
          75,
          23,
          4,
          50,
          4,
          6,
          2,
          6,
          1,
          1,
          11,
          23,
          1,
          39,
          216,
          2,
          2,
          1,
          4,
          2,
          1,
          3,
          1,
          5,
          2,
          1,
          3,
          16,
          102,
          3,
          28,
          2,
          3,
          3,
          5,
          3,
          1,
          9,
          1,
          5,
          14,
          3,
          2,
          8,
          1,
          10,
          3,
          1,
          11,
          7,
          2,
          2,
          1,
          4,
          2,
          1,
          2,
          1,
          3,
          1,
          2,
          1,
          2,
          2,
          1,
          5,
          2,
          1,
          1,
          7,
          3,
          2,
          7,
          11,
          1,
          2,
          94,
          389,
          35,
          32,
          22,
          254,
          283,
          19,
          1128
         ]
        }
       ],
       "layout": {
        "height": 800,
        "legend": {
         "tracegroupgap": 0
        },
        "margin": {
         "t": 60
        },
        "template": {
         "data": {
          "bar": [
           {
            "error_x": {
             "color": "#2a3f5f"
            },
            "error_y": {
             "color": "#2a3f5f"
            },
            "marker": {
             "line": {
              "color": "#E5ECF6",
              "width": 0.5
             },
             "pattern": {
              "fillmode": "overlay",
              "size": 10,
              "solidity": 0.2
             }
            },
            "type": "bar"
           }
          ],
          "barpolar": [
           {
            "marker": {
             "line": {
              "color": "#E5ECF6",
              "width": 0.5
             },
             "pattern": {
              "fillmode": "overlay",
              "size": 10,
              "solidity": 0.2
             }
            },
            "type": "barpolar"
           }
          ],
          "carpet": [
           {
            "aaxis": {
             "endlinecolor": "#2a3f5f",
             "gridcolor": "white",
             "linecolor": "white",
             "minorgridcolor": "white",
             "startlinecolor": "#2a3f5f"
            },
            "baxis": {
             "endlinecolor": "#2a3f5f",
             "gridcolor": "white",
             "linecolor": "white",
             "minorgridcolor": "white",
             "startlinecolor": "#2a3f5f"
            },
            "type": "carpet"
           }
          ],
          "choropleth": [
           {
            "colorbar": {
             "outlinewidth": 0,
             "ticks": ""
            },
            "type": "choropleth"
           }
          ],
          "contour": [
           {
            "colorbar": {
             "outlinewidth": 0,
             "ticks": ""
            },
            "colorscale": [
             [
              0,
              "#0d0887"
             ],
             [
              0.1111111111111111,
              "#46039f"
             ],
             [
              0.2222222222222222,
              "#7201a8"
             ],
             [
              0.3333333333333333,
              "#9c179e"
             ],
             [
              0.4444444444444444,
              "#bd3786"
             ],
             [
              0.5555555555555556,
              "#d8576b"
             ],
             [
              0.6666666666666666,
              "#ed7953"
             ],
             [
              0.7777777777777778,
              "#fb9f3a"
             ],
             [
              0.8888888888888888,
              "#fdca26"
             ],
             [
              1,
              "#f0f921"
             ]
            ],
            "type": "contour"
           }
          ],
          "contourcarpet": [
           {
            "colorbar": {
             "outlinewidth": 0,
             "ticks": ""
            },
            "type": "contourcarpet"
           }
          ],
          "heatmap": [
           {
            "colorbar": {
             "outlinewidth": 0,
             "ticks": ""
            },
            "colorscale": [
             [
              0,
              "#0d0887"
             ],
             [
              0.1111111111111111,
              "#46039f"
             ],
             [
              0.2222222222222222,
              "#7201a8"
             ],
             [
              0.3333333333333333,
              "#9c179e"
             ],
             [
              0.4444444444444444,
              "#bd3786"
             ],
             [
              0.5555555555555556,
              "#d8576b"
             ],
             [
              0.6666666666666666,
              "#ed7953"
             ],
             [
              0.7777777777777778,
              "#fb9f3a"
             ],
             [
              0.8888888888888888,
              "#fdca26"
             ],
             [
              1,
              "#f0f921"
             ]
            ],
            "type": "heatmap"
           }
          ],
          "heatmapgl": [
           {
            "colorbar": {
             "outlinewidth": 0,
             "ticks": ""
            },
            "colorscale": [
             [
              0,
              "#0d0887"
             ],
             [
              0.1111111111111111,
              "#46039f"
             ],
             [
              0.2222222222222222,
              "#7201a8"
             ],
             [
              0.3333333333333333,
              "#9c179e"
             ],
             [
              0.4444444444444444,
              "#bd3786"
             ],
             [
              0.5555555555555556,
              "#d8576b"
             ],
             [
              0.6666666666666666,
              "#ed7953"
             ],
             [
              0.7777777777777778,
              "#fb9f3a"
             ],
             [
              0.8888888888888888,
              "#fdca26"
             ],
             [
              1,
              "#f0f921"
             ]
            ],
            "type": "heatmapgl"
           }
          ],
          "histogram": [
           {
            "marker": {
             "pattern": {
              "fillmode": "overlay",
              "size": 10,
              "solidity": 0.2
             }
            },
            "type": "histogram"
           }
          ],
          "histogram2d": [
           {
            "colorbar": {
             "outlinewidth": 0,
             "ticks": ""
            },
            "colorscale": [
             [
              0,
              "#0d0887"
             ],
             [
              0.1111111111111111,
              "#46039f"
             ],
             [
              0.2222222222222222,
              "#7201a8"
             ],
             [
              0.3333333333333333,
              "#9c179e"
             ],
             [
              0.4444444444444444,
              "#bd3786"
             ],
             [
              0.5555555555555556,
              "#d8576b"
             ],
             [
              0.6666666666666666,
              "#ed7953"
             ],
             [
              0.7777777777777778,
              "#fb9f3a"
             ],
             [
              0.8888888888888888,
              "#fdca26"
             ],
             [
              1,
              "#f0f921"
             ]
            ],
            "type": "histogram2d"
           }
          ],
          "histogram2dcontour": [
           {
            "colorbar": {
             "outlinewidth": 0,
             "ticks": ""
            },
            "colorscale": [
             [
              0,
              "#0d0887"
             ],
             [
              0.1111111111111111,
              "#46039f"
             ],
             [
              0.2222222222222222,
              "#7201a8"
             ],
             [
              0.3333333333333333,
              "#9c179e"
             ],
             [
              0.4444444444444444,
              "#bd3786"
             ],
             [
              0.5555555555555556,
              "#d8576b"
             ],
             [
              0.6666666666666666,
              "#ed7953"
             ],
             [
              0.7777777777777778,
              "#fb9f3a"
             ],
             [
              0.8888888888888888,
              "#fdca26"
             ],
             [
              1,
              "#f0f921"
             ]
            ],
            "type": "histogram2dcontour"
           }
          ],
          "mesh3d": [
           {
            "colorbar": {
             "outlinewidth": 0,
             "ticks": ""
            },
            "type": "mesh3d"
           }
          ],
          "parcoords": [
           {
            "line": {
             "colorbar": {
              "outlinewidth": 0,
              "ticks": ""
             }
            },
            "type": "parcoords"
           }
          ],
          "pie": [
           {
            "automargin": true,
            "type": "pie"
           }
          ],
          "scatter": [
           {
            "fillpattern": {
             "fillmode": "overlay",
             "size": 10,
             "solidity": 0.2
            },
            "type": "scatter"
           }
          ],
          "scatter3d": [
           {
            "line": {
             "colorbar": {
              "outlinewidth": 0,
              "ticks": ""
             }
            },
            "marker": {
             "colorbar": {
              "outlinewidth": 0,
              "ticks": ""
             }
            },
            "type": "scatter3d"
           }
          ],
          "scattercarpet": [
           {
            "marker": {
             "colorbar": {
              "outlinewidth": 0,
              "ticks": ""
             }
            },
            "type": "scattercarpet"
           }
          ],
          "scattergeo": [
           {
            "marker": {
             "colorbar": {
              "outlinewidth": 0,
              "ticks": ""
             }
            },
            "type": "scattergeo"
           }
          ],
          "scattergl": [
           {
            "marker": {
             "colorbar": {
              "outlinewidth": 0,
              "ticks": ""
             }
            },
            "type": "scattergl"
           }
          ],
          "scattermapbox": [
           {
            "marker": {
             "colorbar": {
              "outlinewidth": 0,
              "ticks": ""
             }
            },
            "type": "scattermapbox"
           }
          ],
          "scatterpolar": [
           {
            "marker": {
             "colorbar": {
              "outlinewidth": 0,
              "ticks": ""
             }
            },
            "type": "scatterpolar"
           }
          ],
          "scatterpolargl": [
           {
            "marker": {
             "colorbar": {
              "outlinewidth": 0,
              "ticks": ""
             }
            },
            "type": "scatterpolargl"
           }
          ],
          "scatterternary": [
           {
            "marker": {
             "colorbar": {
              "outlinewidth": 0,
              "ticks": ""
             }
            },
            "type": "scatterternary"
           }
          ],
          "surface": [
           {
            "colorbar": {
             "outlinewidth": 0,
             "ticks": ""
            },
            "colorscale": [
             [
              0,
              "#0d0887"
             ],
             [
              0.1111111111111111,
              "#46039f"
             ],
             [
              0.2222222222222222,
              "#7201a8"
             ],
             [
              0.3333333333333333,
              "#9c179e"
             ],
             [
              0.4444444444444444,
              "#bd3786"
             ],
             [
              0.5555555555555556,
              "#d8576b"
             ],
             [
              0.6666666666666666,
              "#ed7953"
             ],
             [
              0.7777777777777778,
              "#fb9f3a"
             ],
             [
              0.8888888888888888,
              "#fdca26"
             ],
             [
              1,
              "#f0f921"
             ]
            ],
            "type": "surface"
           }
          ],
          "table": [
           {
            "cells": {
             "fill": {
              "color": "#EBF0F8"
             },
             "line": {
              "color": "white"
             }
            },
            "header": {
             "fill": {
              "color": "#C8D4E3"
             },
             "line": {
              "color": "white"
             }
            },
            "type": "table"
           }
          ]
         },
         "layout": {
          "annotationdefaults": {
           "arrowcolor": "#2a3f5f",
           "arrowhead": 0,
           "arrowwidth": 1
          },
          "autotypenumbers": "strict",
          "coloraxis": {
           "colorbar": {
            "outlinewidth": 0,
            "ticks": ""
           }
          },
          "colorscale": {
           "diverging": [
            [
             0,
             "#8e0152"
            ],
            [
             0.1,
             "#c51b7d"
            ],
            [
             0.2,
             "#de77ae"
            ],
            [
             0.3,
             "#f1b6da"
            ],
            [
             0.4,
             "#fde0ef"
            ],
            [
             0.5,
             "#f7f7f7"
            ],
            [
             0.6,
             "#e6f5d0"
            ],
            [
             0.7,
             "#b8e186"
            ],
            [
             0.8,
             "#7fbc41"
            ],
            [
             0.9,
             "#4d9221"
            ],
            [
             1,
             "#276419"
            ]
           ],
           "sequential": [
            [
             0,
             "#0d0887"
            ],
            [
             0.1111111111111111,
             "#46039f"
            ],
            [
             0.2222222222222222,
             "#7201a8"
            ],
            [
             0.3333333333333333,
             "#9c179e"
            ],
            [
             0.4444444444444444,
             "#bd3786"
            ],
            [
             0.5555555555555556,
             "#d8576b"
            ],
            [
             0.6666666666666666,
             "#ed7953"
            ],
            [
             0.7777777777777778,
             "#fb9f3a"
            ],
            [
             0.8888888888888888,
             "#fdca26"
            ],
            [
             1,
             "#f0f921"
            ]
           ],
           "sequentialminus": [
            [
             0,
             "#0d0887"
            ],
            [
             0.1111111111111111,
             "#46039f"
            ],
            [
             0.2222222222222222,
             "#7201a8"
            ],
            [
             0.3333333333333333,
             "#9c179e"
            ],
            [
             0.4444444444444444,
             "#bd3786"
            ],
            [
             0.5555555555555556,
             "#d8576b"
            ],
            [
             0.6666666666666666,
             "#ed7953"
            ],
            [
             0.7777777777777778,
             "#fb9f3a"
            ],
            [
             0.8888888888888888,
             "#fdca26"
            ],
            [
             1,
             "#f0f921"
            ]
           ]
          },
          "colorway": [
           "#636efa",
           "#EF553B",
           "#00cc96",
           "#ab63fa",
           "#FFA15A",
           "#19d3f3",
           "#FF6692",
           "#B6E880",
           "#FF97FF",
           "#FECB52"
          ],
          "font": {
           "color": "#2a3f5f"
          },
          "geo": {
           "bgcolor": "white",
           "lakecolor": "white",
           "landcolor": "#E5ECF6",
           "showlakes": true,
           "showland": true,
           "subunitcolor": "white"
          },
          "hoverlabel": {
           "align": "left"
          },
          "hovermode": "closest",
          "mapbox": {
           "style": "light"
          },
          "paper_bgcolor": "white",
          "plot_bgcolor": "#E5ECF6",
          "polar": {
           "angularaxis": {
            "gridcolor": "white",
            "linecolor": "white",
            "ticks": ""
           },
           "bgcolor": "#E5ECF6",
           "radialaxis": {
            "gridcolor": "white",
            "linecolor": "white",
            "ticks": ""
           }
          },
          "scene": {
           "xaxis": {
            "backgroundcolor": "#E5ECF6",
            "gridcolor": "white",
            "gridwidth": 2,
            "linecolor": "white",
            "showbackground": true,
            "ticks": "",
            "zerolinecolor": "white"
           },
           "yaxis": {
            "backgroundcolor": "#E5ECF6",
            "gridcolor": "white",
            "gridwidth": 2,
            "linecolor": "white",
            "showbackground": true,
            "ticks": "",
            "zerolinecolor": "white"
           },
           "zaxis": {
            "backgroundcolor": "#E5ECF6",
            "gridcolor": "white",
            "gridwidth": 2,
            "linecolor": "white",
            "showbackground": true,
            "ticks": "",
            "zerolinecolor": "white"
           }
          },
          "shapedefaults": {
           "line": {
            "color": "#2a3f5f"
           }
          },
          "ternary": {
           "aaxis": {
            "gridcolor": "white",
            "linecolor": "white",
            "ticks": ""
           },
           "baxis": {
            "gridcolor": "white",
            "linecolor": "white",
            "ticks": ""
           },
           "bgcolor": "#E5ECF6",
           "caxis": {
            "gridcolor": "white",
            "linecolor": "white",
            "ticks": ""
           }
          },
          "title": {
           "x": 0.05
          },
          "xaxis": {
           "automargin": true,
           "gridcolor": "white",
           "linecolor": "white",
           "ticks": "",
           "title": {
            "standoff": 15
           },
           "zerolinecolor": "white",
           "zerolinewidth": 2
          },
          "yaxis": {
           "automargin": true,
           "gridcolor": "white",
           "linecolor": "white",
           "ticks": "",
           "title": {
            "standoff": 15
           },
           "zerolinecolor": "white",
           "zerolinewidth": 2
          }
         }
        },
        "width": 1500
       }
      }
     },
     "metadata": {},
     "output_type": "display_data"
    }
   ],
   "source": [
    "# Treemap\n",
    "color_map = {'Bentley': 'blue', 'Clements': 'red', 'SCRC': 'green'}\n",
    "fig = px.treemap(all_subsection_term_frequencies, path=['Source', 'Subsection', 'Term'], values='Term_Frequency')\n",
    "fig.update_layout(width=1500, height=800)\n",
    "fig.show()"
   ]
  },
  {
   "cell_type": "markdown",
   "metadata": {},
   "source": [
    "A color gradient indicates higher term prevalence in darker, or more intense, colors,\n",
    "while lighter colors indicate lower occurence."
   ]
  },
  {
   "cell_type": "code",
   "execution_count": 36,
   "metadata": {},
   "outputs": [
    {
     "data": {
      "application/vnd.plotly.v1+json": {
       "config": {
        "plotlyServerURL": "https://plot.ly"
       },
       "data": [
        {
         "branchvalues": "total",
         "customdata": [
          [
           1
          ],
          [
           2
          ],
          [
           1
          ],
          [
           1
          ],
          [
           1
          ],
          [
           6
          ],
          [
           7
          ],
          [
           8
          ],
          [
           10
          ],
          [
           10
          ],
          [
           1
          ],
          [
           1
          ],
          [
           16
          ],
          [
           4
          ],
          [
           17
          ],
          [
           3
          ],
          [
           2
          ],
          [
           5
          ],
          [
           4
          ],
          [
           13
          ],
          [
           1
          ],
          [
           8
          ],
          [
           14
          ],
          [
           1
          ],
          [
           3
          ],
          [
           1
          ],
          [
           3
          ],
          [
           3
          ],
          [
           2
          ],
          [
           1
          ],
          [
           1
          ],
          [
           1
          ],
          [
           11
          ],
          [
           5
          ],
          [
           3
          ],
          [
           8
          ],
          [
           10
          ],
          [
           4
          ],
          [
           1
          ],
          [
           1
          ],
          [
           1
          ],
          [
           1
          ],
          [
           30
          ],
          [
           7
          ],
          [
           2
          ],
          [
           2
          ],
          [
           1
          ],
          [
           18
          ],
          [
           1
          ],
          [
           1
          ],
          [
           1
          ],
          [
           13
          ],
          [
           3
          ],
          [
           3
          ],
          [
           1
          ],
          [
           1
          ],
          [
           1
          ],
          [
           1
          ],
          [
           6
          ],
          [
           2
          ],
          [
           1
          ],
          [
           1
          ],
          [
           1
          ],
          [
           35
          ],
          [
           75
          ],
          [
           23
          ],
          [
           4
          ],
          [
           50
          ],
          [
           4
          ],
          [
           6
          ],
          [
           2
          ],
          [
           6
          ],
          [
           1
          ],
          [
           1
          ],
          [
           11
          ],
          [
           23
          ],
          [
           1
          ],
          [
           39
          ],
          [
           216
          ],
          [
           2
          ],
          [
           2
          ],
          [
           1
          ],
          [
           4
          ],
          [
           2
          ],
          [
           1
          ],
          [
           3
          ],
          [
           1
          ],
          [
           5
          ],
          [
           2
          ],
          [
           1
          ],
          [
           3
          ],
          [
           16
          ],
          [
           102
          ],
          [
           3
          ],
          [
           28
          ],
          [
           2
          ],
          [
           3
          ],
          [
           3
          ],
          [
           5
          ],
          [
           3
          ],
          [
           1
          ],
          [
           9
          ],
          [
           1
          ],
          [
           5
          ],
          [
           14
          ],
          [
           3
          ],
          [
           2
          ],
          [
           8
          ],
          [
           1
          ],
          [
           10
          ],
          [
           3
          ],
          [
           1
          ],
          [
           11
          ],
          [
           7
          ],
          [
           2
          ],
          [
           2
          ],
          [
           1
          ],
          [
           4
          ],
          [
           2
          ],
          [
           1
          ],
          [
           2
          ],
          [
           1
          ],
          [
           3
          ],
          [
           1
          ],
          [
           2
          ],
          [
           1
          ],
          [
           2
          ],
          [
           2
          ],
          [
           1
          ],
          [
           5
          ],
          [
           2
          ],
          [
           1
          ],
          [
           1
          ],
          [
           7
          ],
          [
           3
          ],
          [
           2
          ],
          [
           7
          ],
          [
           11
          ],
          [
           1
          ],
          [
           2
          ],
          [
           18
          ],
          [
           48.15681233933162
          ],
          [
           16.257142857142856
          ],
          [
           5.3125
          ],
          [
           6
          ],
          [
           23.47244094488189
          ],
          [
           167.38162544169612
          ],
          [
           3.4210526315789473
          ],
          [
           66.21631205673759
          ]
         ],
         "domain": {
          "x": [
           0,
           1
          ],
          "y": [
           0,
           1
          ]
         },
         "hovertemplate": "labels=%{label}<br>Term_Frequency=%{value}<br>parent=%{parent}<br>id=%{id}<br>color=%{color}<extra></extra>",
         "ids": [
          "Bentley/scopecontent/Anishnaabe",
          "Bentley/bioghist/Burial",
          "Bentley/bioghist/Burials",
          "Bentley/subjects/Burials",
          "Bentley/bioghist/Captive",
          "Bentley/abstract/Cass",
          "Bentley/bioghist/Cass",
          "Bentley/geognames/Cass",
          "Bentley/persnames/Cass",
          "Bentley/scopecontent/Cass",
          "Bentley/titleproper/Cass",
          "Bentley/abstract/Chief",
          "Bentley/bioghist/Chief",
          "Bentley/persnames/Chief",
          "Bentley/scopecontent/Chief",
          "Bentley/titleproper/Chief",
          "Bentley/bioghist/Chiefs",
          "Bentley/scopecontent/Chiefs",
          "Bentley/abstract/Chippewa",
          "Bentley/bioghist/Chippewa",
          "Bentley/corpnames/Chippewa",
          "Bentley/geognames/Chippewa",
          "Bentley/scopecontent/Chippewa",
          "Bentley/bioghist/Chippewas",
          "Bentley/scopecontent/Chippewas",
          "Bentley/abstract/Colonial",
          "Bentley/scopecontent/Colonial",
          "Bentley/bioghist/Colonialism",
          "Bentley/bioghist/Colony",
          "Bentley/geognames/Colony",
          "Bentley/scopecontent/Colony",
          "Bentley/abstract/Copper",
          "Bentley/bioghist/Copper",
          "Bentley/corpnames/Copper",
          "Bentley/geognames/Copper",
          "Bentley/scopecontent/Copper",
          "Bentley/subjects/Copper",
          "Bentley/scopecontent/Costume",
          "Bentley/abstract/Costumes",
          "Bentley/subjects/Costumes",
          "Bentley/bioghist/Dead",
          "Bentley/abstract/Death",
          "Bentley/bioghist/Death",
          "Bentley/scopecontent/Death",
          "Bentley/subjects/Death",
          "Bentley/bioghist/Devil",
          "Bentley/geognames/Dwellings",
          "Bentley/subjects/Dwellings",
          "Bentley/bioghist/Execution",
          "Bentley/scopecontent/Execution",
          "Bentley/abstract/Fox",
          "Bentley/bioghist/Fox",
          "Bentley/persnames/Fox",
          "Bentley/scopecontent/Fox",
          "Bentley/titleproper/Fox",
          "Bentley/abstract/Grave",
          "Bentley/scopecontent/Grave",
          "Bentley/bioghist/Half-breeds",
          "Bentley/bioghist/Hiawatha",
          "Bentley/corpnames/Hiawatha",
          "Bentley/geognames/Hiawatha",
          "Bentley/scopecontent/Hiawatha",
          "Bentley/titleproper/Hiawatha",
          "Bentley/abstract/Indian",
          "Bentley/bioghist/Indian",
          "Bentley/corpnames/Indian",
          "Bentley/geognames/Indian",
          "Bentley/scopecontent/Indian",
          "Bentley/subjects/Indian",
          "Bentley/titleproper/Indian",
          "Bentley/abstract/Indian agent",
          "Bentley/bioghist/Indian agent",
          "Bentley/scopecontent/Indian agent",
          "Bentley/bioghist/Indian removal",
          "Bentley/abstract/Indians",
          "Bentley/bioghist/Indians",
          "Bentley/geognames/Indians",
          "Bentley/scopecontent/Indians",
          "Bentley/subjects/Indians",
          "Bentley/titleproper/Indians",
          "Bentley/bioghist/Indigenous",
          "Bentley/corpnames/Indigenous",
          "Bentley/scopecontent/Indigenous",
          "Bentley/subjects/Indigenous",
          "Bentley/scopecontent/Indigenous Person",
          "Bentley/bioghist/Mound",
          "Bentley/scopecontent/Mound",
          "Bentley/bioghist/Mounds",
          "Bentley/geognames/Mounds",
          "Bentley/scopecontent/Mounds",
          "Bentley/subjects/Mounds",
          "Bentley/abstract/Native",
          "Bentley/bioghist/Native",
          "Bentley/corpnames/Native",
          "Bentley/scopecontent/Native",
          "Bentley/subjects/Native",
          "Bentley/titleproper/Native",
          "Bentley/abstract/Odawa",
          "Bentley/bioghist/Odawa",
          "Bentley/scopecontent/Odawa",
          "Bentley/abstract/Ojibwa",
          "Bentley/bioghist/Ojibwa",
          "Bentley/persnames/Ojibwa",
          "Bentley/scopecontent/Ojibwa",
          "Bentley/subjects/Ojibwa",
          "Bentley/abstract/Ojibwe",
          "Bentley/bioghist/Ojibwe",
          "Bentley/scopecontent/Ojibwe",
          "Bentley/abstract/Ottawa",
          "Bentley/bioghist/Ottawa",
          "Bentley/geognames/Ottawa",
          "Bentley/persnames/Ottawa",
          "Bentley/scopecontent/Ottawa",
          "Bentley/subjects/Ottawa",
          "Bentley/titleproper/Ottawa",
          "Bentley/subjects/Pottery",
          "Bentley/abstract/Remains",
          "Bentley/bioghist/Remains",
          "Bentley/scopecontent/Remains",
          "Bentley/abstract/Removal",
          "Bentley/bioghist/Removal",
          "Bentley/scopecontent/Removal",
          "Bentley/bioghist/Reservation",
          "Bentley/subjects/Reservation",
          "Bentley/bioghist/Reservations",
          "Bentley/bioghist/Sauk",
          "Bentley/persnames/Sauk",
          "Bentley/scopecontent/Sauk",
          "Bentley/persnames/Savage",
          "Bentley/bioghist/Settlers",
          "Bentley/scopecontent/Settlers",
          "Bentley/bioghist/Skull",
          "Bentley/abstract/Treaties",
          "Bentley/bioghist/Treaties",
          "Bentley/scopecontent/Treaties",
          "Bentley/abstract/Treaty",
          "Bentley/bioghist/Treaty",
          "Bentley/scopecontent/Treaty",
          "Bentley/bioghist/Warriors",
          "Bentley/scopecontent/Warriors",
          "Bentley/abstract",
          "Bentley/bioghist",
          "Bentley/corpnames",
          "Bentley/geognames",
          "Bentley/persnames",
          "Bentley/scopecontent",
          "Bentley/subjects",
          "Bentley/titleproper",
          "Bentley"
         ],
         "labels": [
          "Anishnaabe",
          "Burial",
          "Burials",
          "Burials",
          "Captive",
          "Cass",
          "Cass",
          "Cass",
          "Cass",
          "Cass",
          "Cass",
          "Chief",
          "Chief",
          "Chief",
          "Chief",
          "Chief",
          "Chiefs",
          "Chiefs",
          "Chippewa",
          "Chippewa",
          "Chippewa",
          "Chippewa",
          "Chippewa",
          "Chippewas",
          "Chippewas",
          "Colonial",
          "Colonial",
          "Colonialism",
          "Colony",
          "Colony",
          "Colony",
          "Copper",
          "Copper",
          "Copper",
          "Copper",
          "Copper",
          "Copper",
          "Costume",
          "Costumes",
          "Costumes",
          "Dead",
          "Death",
          "Death",
          "Death",
          "Death",
          "Devil",
          "Dwellings",
          "Dwellings",
          "Execution",
          "Execution",
          "Fox",
          "Fox",
          "Fox",
          "Fox",
          "Fox",
          "Grave",
          "Grave",
          "Half-breeds",
          "Hiawatha",
          "Hiawatha",
          "Hiawatha",
          "Hiawatha",
          "Hiawatha",
          "Indian",
          "Indian",
          "Indian",
          "Indian",
          "Indian",
          "Indian",
          "Indian",
          "Indian agent",
          "Indian agent",
          "Indian agent",
          "Indian removal",
          "Indians",
          "Indians",
          "Indians",
          "Indians",
          "Indians",
          "Indians",
          "Indigenous",
          "Indigenous",
          "Indigenous",
          "Indigenous",
          "Indigenous Person",
          "Mound",
          "Mound",
          "Mounds",
          "Mounds",
          "Mounds",
          "Mounds",
          "Native",
          "Native",
          "Native",
          "Native",
          "Native",
          "Native",
          "Odawa",
          "Odawa",
          "Odawa",
          "Ojibwa",
          "Ojibwa",
          "Ojibwa",
          "Ojibwa",
          "Ojibwa",
          "Ojibwe",
          "Ojibwe",
          "Ojibwe",
          "Ottawa",
          "Ottawa",
          "Ottawa",
          "Ottawa",
          "Ottawa",
          "Ottawa",
          "Ottawa",
          "Pottery",
          "Remains",
          "Remains",
          "Remains",
          "Removal",
          "Removal",
          "Removal",
          "Reservation",
          "Reservation",
          "Reservations",
          "Sauk",
          "Sauk",
          "Sauk",
          "Savage",
          "Settlers",
          "Settlers",
          "Skull",
          "Treaties",
          "Treaties",
          "Treaties",
          "Treaty",
          "Treaty",
          "Treaty",
          "Warriors",
          "Warriors",
          "abstract",
          "bioghist",
          "corpnames",
          "geognames",
          "persnames",
          "scopecontent",
          "subjects",
          "titleproper",
          "Bentley"
         ],
         "marker": {
          "coloraxis": "coloraxis",
          "colors": [
           1,
           2,
           1,
           1,
           1,
           6,
           7,
           8,
           10,
           10,
           1,
           1,
           16,
           4,
           17,
           3,
           2,
           5,
           4,
           13,
           1,
           8,
           14,
           1,
           3,
           1,
           3,
           3,
           2,
           1,
           1,
           1,
           11,
           5,
           3,
           8,
           10,
           4,
           1,
           1,
           1,
           1,
           30,
           7,
           2,
           2,
           1,
           18,
           1,
           1,
           1,
           13,
           3,
           3,
           1,
           1,
           1,
           1,
           6,
           2,
           1,
           1,
           1,
           35,
           75,
           23,
           4,
           50,
           4,
           6,
           2,
           6,
           1,
           1,
           11,
           23,
           1,
           39,
           216,
           2,
           2,
           1,
           4,
           2,
           1,
           3,
           1,
           5,
           2,
           1,
           3,
           16,
           102,
           3,
           28,
           2,
           3,
           3,
           5,
           3,
           1,
           9,
           1,
           5,
           14,
           3,
           2,
           8,
           1,
           10,
           3,
           1,
           11,
           7,
           2,
           2,
           1,
           4,
           2,
           1,
           2,
           1,
           3,
           1,
           2,
           1,
           2,
           2,
           1,
           5,
           2,
           1,
           1,
           7,
           3,
           2,
           7,
           11,
           1,
           2,
           18,
           48.15681233933162,
           16.257142857142856,
           5.3125,
           6,
           23.47244094488189,
           167.38162544169612,
           3.4210526315789473,
           66.21631205673759
          ]
         },
         "name": "",
         "parents": [
          "Bentley/scopecontent",
          "Bentley/bioghist",
          "Bentley/bioghist",
          "Bentley/subjects",
          "Bentley/bioghist",
          "Bentley/abstract",
          "Bentley/bioghist",
          "Bentley/geognames",
          "Bentley/persnames",
          "Bentley/scopecontent",
          "Bentley/titleproper",
          "Bentley/abstract",
          "Bentley/bioghist",
          "Bentley/persnames",
          "Bentley/scopecontent",
          "Bentley/titleproper",
          "Bentley/bioghist",
          "Bentley/scopecontent",
          "Bentley/abstract",
          "Bentley/bioghist",
          "Bentley/corpnames",
          "Bentley/geognames",
          "Bentley/scopecontent",
          "Bentley/bioghist",
          "Bentley/scopecontent",
          "Bentley/abstract",
          "Bentley/scopecontent",
          "Bentley/bioghist",
          "Bentley/bioghist",
          "Bentley/geognames",
          "Bentley/scopecontent",
          "Bentley/abstract",
          "Bentley/bioghist",
          "Bentley/corpnames",
          "Bentley/geognames",
          "Bentley/scopecontent",
          "Bentley/subjects",
          "Bentley/scopecontent",
          "Bentley/abstract",
          "Bentley/subjects",
          "Bentley/bioghist",
          "Bentley/abstract",
          "Bentley/bioghist",
          "Bentley/scopecontent",
          "Bentley/subjects",
          "Bentley/bioghist",
          "Bentley/geognames",
          "Bentley/subjects",
          "Bentley/bioghist",
          "Bentley/scopecontent",
          "Bentley/abstract",
          "Bentley/bioghist",
          "Bentley/persnames",
          "Bentley/scopecontent",
          "Bentley/titleproper",
          "Bentley/abstract",
          "Bentley/scopecontent",
          "Bentley/bioghist",
          "Bentley/bioghist",
          "Bentley/corpnames",
          "Bentley/geognames",
          "Bentley/scopecontent",
          "Bentley/titleproper",
          "Bentley/abstract",
          "Bentley/bioghist",
          "Bentley/corpnames",
          "Bentley/geognames",
          "Bentley/scopecontent",
          "Bentley/subjects",
          "Bentley/titleproper",
          "Bentley/abstract",
          "Bentley/bioghist",
          "Bentley/scopecontent",
          "Bentley/bioghist",
          "Bentley/abstract",
          "Bentley/bioghist",
          "Bentley/geognames",
          "Bentley/scopecontent",
          "Bentley/subjects",
          "Bentley/titleproper",
          "Bentley/bioghist",
          "Bentley/corpnames",
          "Bentley/scopecontent",
          "Bentley/subjects",
          "Bentley/scopecontent",
          "Bentley/bioghist",
          "Bentley/scopecontent",
          "Bentley/bioghist",
          "Bentley/geognames",
          "Bentley/scopecontent",
          "Bentley/subjects",
          "Bentley/abstract",
          "Bentley/bioghist",
          "Bentley/corpnames",
          "Bentley/scopecontent",
          "Bentley/subjects",
          "Bentley/titleproper",
          "Bentley/abstract",
          "Bentley/bioghist",
          "Bentley/scopecontent",
          "Bentley/abstract",
          "Bentley/bioghist",
          "Bentley/persnames",
          "Bentley/scopecontent",
          "Bentley/subjects",
          "Bentley/abstract",
          "Bentley/bioghist",
          "Bentley/scopecontent",
          "Bentley/abstract",
          "Bentley/bioghist",
          "Bentley/geognames",
          "Bentley/persnames",
          "Bentley/scopecontent",
          "Bentley/subjects",
          "Bentley/titleproper",
          "Bentley/subjects",
          "Bentley/abstract",
          "Bentley/bioghist",
          "Bentley/scopecontent",
          "Bentley/abstract",
          "Bentley/bioghist",
          "Bentley/scopecontent",
          "Bentley/bioghist",
          "Bentley/subjects",
          "Bentley/bioghist",
          "Bentley/bioghist",
          "Bentley/persnames",
          "Bentley/scopecontent",
          "Bentley/persnames",
          "Bentley/bioghist",
          "Bentley/scopecontent",
          "Bentley/bioghist",
          "Bentley/abstract",
          "Bentley/bioghist",
          "Bentley/scopecontent",
          "Bentley/abstract",
          "Bentley/bioghist",
          "Bentley/scopecontent",
          "Bentley/bioghist",
          "Bentley/scopecontent",
          "Bentley",
          "Bentley",
          "Bentley",
          "Bentley",
          "Bentley",
          "Bentley",
          "Bentley",
          "Bentley",
          ""
         ],
         "type": "treemap",
         "values": [
          1,
          2,
          1,
          1,
          1,
          6,
          7,
          8,
          10,
          10,
          1,
          1,
          16,
          4,
          17,
          3,
          2,
          5,
          4,
          13,
          1,
          8,
          14,
          1,
          3,
          1,
          3,
          3,
          2,
          1,
          1,
          1,
          11,
          5,
          3,
          8,
          10,
          4,
          1,
          1,
          1,
          1,
          30,
          7,
          2,
          2,
          1,
          18,
          1,
          1,
          1,
          13,
          3,
          3,
          1,
          1,
          1,
          1,
          6,
          2,
          1,
          1,
          1,
          35,
          75,
          23,
          4,
          50,
          4,
          6,
          2,
          6,
          1,
          1,
          11,
          23,
          1,
          39,
          216,
          2,
          2,
          1,
          4,
          2,
          1,
          3,
          1,
          5,
          2,
          1,
          3,
          16,
          102,
          3,
          28,
          2,
          3,
          3,
          5,
          3,
          1,
          9,
          1,
          5,
          14,
          3,
          2,
          8,
          1,
          10,
          3,
          1,
          11,
          7,
          2,
          2,
          1,
          4,
          2,
          1,
          2,
          1,
          3,
          1,
          2,
          1,
          2,
          2,
          1,
          5,
          2,
          1,
          1,
          7,
          3,
          2,
          7,
          11,
          1,
          2,
          94,
          389,
          35,
          32,
          22,
          254,
          283,
          19,
          1128
         ]
        }
       ],
       "layout": {
        "coloraxis": {
         "colorbar": {
          "title": {
           "text": "color"
          }
         },
         "colorscale": [
          [
           0,
           "rgb(255,255,217)"
          ],
          [
           0.125,
           "rgb(237,248,177)"
          ],
          [
           0.25,
           "rgb(199,233,180)"
          ],
          [
           0.375,
           "rgb(127,205,187)"
          ],
          [
           0.5,
           "rgb(65,182,196)"
          ],
          [
           0.625,
           "rgb(29,145,192)"
          ],
          [
           0.75,
           "rgb(34,94,168)"
          ],
          [
           0.875,
           "rgb(37,52,148)"
          ],
          [
           1,
           "rgb(8,29,88)"
          ]
         ]
        },
        "height": 800,
        "legend": {
         "tracegroupgap": 0
        },
        "margin": {
         "t": 60
        },
        "template": {
         "data": {
          "bar": [
           {
            "error_x": {
             "color": "#2a3f5f"
            },
            "error_y": {
             "color": "#2a3f5f"
            },
            "marker": {
             "line": {
              "color": "#E5ECF6",
              "width": 0.5
             },
             "pattern": {
              "fillmode": "overlay",
              "size": 10,
              "solidity": 0.2
             }
            },
            "type": "bar"
           }
          ],
          "barpolar": [
           {
            "marker": {
             "line": {
              "color": "#E5ECF6",
              "width": 0.5
             },
             "pattern": {
              "fillmode": "overlay",
              "size": 10,
              "solidity": 0.2
             }
            },
            "type": "barpolar"
           }
          ],
          "carpet": [
           {
            "aaxis": {
             "endlinecolor": "#2a3f5f",
             "gridcolor": "white",
             "linecolor": "white",
             "minorgridcolor": "white",
             "startlinecolor": "#2a3f5f"
            },
            "baxis": {
             "endlinecolor": "#2a3f5f",
             "gridcolor": "white",
             "linecolor": "white",
             "minorgridcolor": "white",
             "startlinecolor": "#2a3f5f"
            },
            "type": "carpet"
           }
          ],
          "choropleth": [
           {
            "colorbar": {
             "outlinewidth": 0,
             "ticks": ""
            },
            "type": "choropleth"
           }
          ],
          "contour": [
           {
            "colorbar": {
             "outlinewidth": 0,
             "ticks": ""
            },
            "colorscale": [
             [
              0,
              "#0d0887"
             ],
             [
              0.1111111111111111,
              "#46039f"
             ],
             [
              0.2222222222222222,
              "#7201a8"
             ],
             [
              0.3333333333333333,
              "#9c179e"
             ],
             [
              0.4444444444444444,
              "#bd3786"
             ],
             [
              0.5555555555555556,
              "#d8576b"
             ],
             [
              0.6666666666666666,
              "#ed7953"
             ],
             [
              0.7777777777777778,
              "#fb9f3a"
             ],
             [
              0.8888888888888888,
              "#fdca26"
             ],
             [
              1,
              "#f0f921"
             ]
            ],
            "type": "contour"
           }
          ],
          "contourcarpet": [
           {
            "colorbar": {
             "outlinewidth": 0,
             "ticks": ""
            },
            "type": "contourcarpet"
           }
          ],
          "heatmap": [
           {
            "colorbar": {
             "outlinewidth": 0,
             "ticks": ""
            },
            "colorscale": [
             [
              0,
              "#0d0887"
             ],
             [
              0.1111111111111111,
              "#46039f"
             ],
             [
              0.2222222222222222,
              "#7201a8"
             ],
             [
              0.3333333333333333,
              "#9c179e"
             ],
             [
              0.4444444444444444,
              "#bd3786"
             ],
             [
              0.5555555555555556,
              "#d8576b"
             ],
             [
              0.6666666666666666,
              "#ed7953"
             ],
             [
              0.7777777777777778,
              "#fb9f3a"
             ],
             [
              0.8888888888888888,
              "#fdca26"
             ],
             [
              1,
              "#f0f921"
             ]
            ],
            "type": "heatmap"
           }
          ],
          "heatmapgl": [
           {
            "colorbar": {
             "outlinewidth": 0,
             "ticks": ""
            },
            "colorscale": [
             [
              0,
              "#0d0887"
             ],
             [
              0.1111111111111111,
              "#46039f"
             ],
             [
              0.2222222222222222,
              "#7201a8"
             ],
             [
              0.3333333333333333,
              "#9c179e"
             ],
             [
              0.4444444444444444,
              "#bd3786"
             ],
             [
              0.5555555555555556,
              "#d8576b"
             ],
             [
              0.6666666666666666,
              "#ed7953"
             ],
             [
              0.7777777777777778,
              "#fb9f3a"
             ],
             [
              0.8888888888888888,
              "#fdca26"
             ],
             [
              1,
              "#f0f921"
             ]
            ],
            "type": "heatmapgl"
           }
          ],
          "histogram": [
           {
            "marker": {
             "pattern": {
              "fillmode": "overlay",
              "size": 10,
              "solidity": 0.2
             }
            },
            "type": "histogram"
           }
          ],
          "histogram2d": [
           {
            "colorbar": {
             "outlinewidth": 0,
             "ticks": ""
            },
            "colorscale": [
             [
              0,
              "#0d0887"
             ],
             [
              0.1111111111111111,
              "#46039f"
             ],
             [
              0.2222222222222222,
              "#7201a8"
             ],
             [
              0.3333333333333333,
              "#9c179e"
             ],
             [
              0.4444444444444444,
              "#bd3786"
             ],
             [
              0.5555555555555556,
              "#d8576b"
             ],
             [
              0.6666666666666666,
              "#ed7953"
             ],
             [
              0.7777777777777778,
              "#fb9f3a"
             ],
             [
              0.8888888888888888,
              "#fdca26"
             ],
             [
              1,
              "#f0f921"
             ]
            ],
            "type": "histogram2d"
           }
          ],
          "histogram2dcontour": [
           {
            "colorbar": {
             "outlinewidth": 0,
             "ticks": ""
            },
            "colorscale": [
             [
              0,
              "#0d0887"
             ],
             [
              0.1111111111111111,
              "#46039f"
             ],
             [
              0.2222222222222222,
              "#7201a8"
             ],
             [
              0.3333333333333333,
              "#9c179e"
             ],
             [
              0.4444444444444444,
              "#bd3786"
             ],
             [
              0.5555555555555556,
              "#d8576b"
             ],
             [
              0.6666666666666666,
              "#ed7953"
             ],
             [
              0.7777777777777778,
              "#fb9f3a"
             ],
             [
              0.8888888888888888,
              "#fdca26"
             ],
             [
              1,
              "#f0f921"
             ]
            ],
            "type": "histogram2dcontour"
           }
          ],
          "mesh3d": [
           {
            "colorbar": {
             "outlinewidth": 0,
             "ticks": ""
            },
            "type": "mesh3d"
           }
          ],
          "parcoords": [
           {
            "line": {
             "colorbar": {
              "outlinewidth": 0,
              "ticks": ""
             }
            },
            "type": "parcoords"
           }
          ],
          "pie": [
           {
            "automargin": true,
            "type": "pie"
           }
          ],
          "scatter": [
           {
            "fillpattern": {
             "fillmode": "overlay",
             "size": 10,
             "solidity": 0.2
            },
            "type": "scatter"
           }
          ],
          "scatter3d": [
           {
            "line": {
             "colorbar": {
              "outlinewidth": 0,
              "ticks": ""
             }
            },
            "marker": {
             "colorbar": {
              "outlinewidth": 0,
              "ticks": ""
             }
            },
            "type": "scatter3d"
           }
          ],
          "scattercarpet": [
           {
            "marker": {
             "colorbar": {
              "outlinewidth": 0,
              "ticks": ""
             }
            },
            "type": "scattercarpet"
           }
          ],
          "scattergeo": [
           {
            "marker": {
             "colorbar": {
              "outlinewidth": 0,
              "ticks": ""
             }
            },
            "type": "scattergeo"
           }
          ],
          "scattergl": [
           {
            "marker": {
             "colorbar": {
              "outlinewidth": 0,
              "ticks": ""
             }
            },
            "type": "scattergl"
           }
          ],
          "scattermapbox": [
           {
            "marker": {
             "colorbar": {
              "outlinewidth": 0,
              "ticks": ""
             }
            },
            "type": "scattermapbox"
           }
          ],
          "scatterpolar": [
           {
            "marker": {
             "colorbar": {
              "outlinewidth": 0,
              "ticks": ""
             }
            },
            "type": "scatterpolar"
           }
          ],
          "scatterpolargl": [
           {
            "marker": {
             "colorbar": {
              "outlinewidth": 0,
              "ticks": ""
             }
            },
            "type": "scatterpolargl"
           }
          ],
          "scatterternary": [
           {
            "marker": {
             "colorbar": {
              "outlinewidth": 0,
              "ticks": ""
             }
            },
            "type": "scatterternary"
           }
          ],
          "surface": [
           {
            "colorbar": {
             "outlinewidth": 0,
             "ticks": ""
            },
            "colorscale": [
             [
              0,
              "#0d0887"
             ],
             [
              0.1111111111111111,
              "#46039f"
             ],
             [
              0.2222222222222222,
              "#7201a8"
             ],
             [
              0.3333333333333333,
              "#9c179e"
             ],
             [
              0.4444444444444444,
              "#bd3786"
             ],
             [
              0.5555555555555556,
              "#d8576b"
             ],
             [
              0.6666666666666666,
              "#ed7953"
             ],
             [
              0.7777777777777778,
              "#fb9f3a"
             ],
             [
              0.8888888888888888,
              "#fdca26"
             ],
             [
              1,
              "#f0f921"
             ]
            ],
            "type": "surface"
           }
          ],
          "table": [
           {
            "cells": {
             "fill": {
              "color": "#EBF0F8"
             },
             "line": {
              "color": "white"
             }
            },
            "header": {
             "fill": {
              "color": "#C8D4E3"
             },
             "line": {
              "color": "white"
             }
            },
            "type": "table"
           }
          ]
         },
         "layout": {
          "annotationdefaults": {
           "arrowcolor": "#2a3f5f",
           "arrowhead": 0,
           "arrowwidth": 1
          },
          "autotypenumbers": "strict",
          "coloraxis": {
           "colorbar": {
            "outlinewidth": 0,
            "ticks": ""
           }
          },
          "colorscale": {
           "diverging": [
            [
             0,
             "#8e0152"
            ],
            [
             0.1,
             "#c51b7d"
            ],
            [
             0.2,
             "#de77ae"
            ],
            [
             0.3,
             "#f1b6da"
            ],
            [
             0.4,
             "#fde0ef"
            ],
            [
             0.5,
             "#f7f7f7"
            ],
            [
             0.6,
             "#e6f5d0"
            ],
            [
             0.7,
             "#b8e186"
            ],
            [
             0.8,
             "#7fbc41"
            ],
            [
             0.9,
             "#4d9221"
            ],
            [
             1,
             "#276419"
            ]
           ],
           "sequential": [
            [
             0,
             "#0d0887"
            ],
            [
             0.1111111111111111,
             "#46039f"
            ],
            [
             0.2222222222222222,
             "#7201a8"
            ],
            [
             0.3333333333333333,
             "#9c179e"
            ],
            [
             0.4444444444444444,
             "#bd3786"
            ],
            [
             0.5555555555555556,
             "#d8576b"
            ],
            [
             0.6666666666666666,
             "#ed7953"
            ],
            [
             0.7777777777777778,
             "#fb9f3a"
            ],
            [
             0.8888888888888888,
             "#fdca26"
            ],
            [
             1,
             "#f0f921"
            ]
           ],
           "sequentialminus": [
            [
             0,
             "#0d0887"
            ],
            [
             0.1111111111111111,
             "#46039f"
            ],
            [
             0.2222222222222222,
             "#7201a8"
            ],
            [
             0.3333333333333333,
             "#9c179e"
            ],
            [
             0.4444444444444444,
             "#bd3786"
            ],
            [
             0.5555555555555556,
             "#d8576b"
            ],
            [
             0.6666666666666666,
             "#ed7953"
            ],
            [
             0.7777777777777778,
             "#fb9f3a"
            ],
            [
             0.8888888888888888,
             "#fdca26"
            ],
            [
             1,
             "#f0f921"
            ]
           ]
          },
          "colorway": [
           "#636efa",
           "#EF553B",
           "#00cc96",
           "#ab63fa",
           "#FFA15A",
           "#19d3f3",
           "#FF6692",
           "#B6E880",
           "#FF97FF",
           "#FECB52"
          ],
          "font": {
           "color": "#2a3f5f"
          },
          "geo": {
           "bgcolor": "white",
           "lakecolor": "white",
           "landcolor": "#E5ECF6",
           "showlakes": true,
           "showland": true,
           "subunitcolor": "white"
          },
          "hoverlabel": {
           "align": "left"
          },
          "hovermode": "closest",
          "mapbox": {
           "style": "light"
          },
          "paper_bgcolor": "white",
          "plot_bgcolor": "#E5ECF6",
          "polar": {
           "angularaxis": {
            "gridcolor": "white",
            "linecolor": "white",
            "ticks": ""
           },
           "bgcolor": "#E5ECF6",
           "radialaxis": {
            "gridcolor": "white",
            "linecolor": "white",
            "ticks": ""
           }
          },
          "scene": {
           "xaxis": {
            "backgroundcolor": "#E5ECF6",
            "gridcolor": "white",
            "gridwidth": 2,
            "linecolor": "white",
            "showbackground": true,
            "ticks": "",
            "zerolinecolor": "white"
           },
           "yaxis": {
            "backgroundcolor": "#E5ECF6",
            "gridcolor": "white",
            "gridwidth": 2,
            "linecolor": "white",
            "showbackground": true,
            "ticks": "",
            "zerolinecolor": "white"
           },
           "zaxis": {
            "backgroundcolor": "#E5ECF6",
            "gridcolor": "white",
            "gridwidth": 2,
            "linecolor": "white",
            "showbackground": true,
            "ticks": "",
            "zerolinecolor": "white"
           }
          },
          "shapedefaults": {
           "line": {
            "color": "#2a3f5f"
           }
          },
          "ternary": {
           "aaxis": {
            "gridcolor": "white",
            "linecolor": "white",
            "ticks": ""
           },
           "baxis": {
            "gridcolor": "white",
            "linecolor": "white",
            "ticks": ""
           },
           "bgcolor": "#E5ECF6",
           "caxis": {
            "gridcolor": "white",
            "linecolor": "white",
            "ticks": ""
           }
          },
          "title": {
           "x": 0.05
          },
          "xaxis": {
           "automargin": true,
           "gridcolor": "white",
           "linecolor": "white",
           "ticks": "",
           "title": {
            "standoff": 15
           },
           "zerolinecolor": "white",
           "zerolinewidth": 2
          },
          "yaxis": {
           "automargin": true,
           "gridcolor": "white",
           "linecolor": "white",
           "ticks": "",
           "title": {
            "standoff": 15
           },
           "zerolinecolor": "white",
           "zerolinewidth": 2
          }
         }
        },
        "width": 1500
       }
      }
     },
     "metadata": {},
     "output_type": "display_data"
    }
   ],
   "source": [
    "# Add a dummy color column\n",
    "all_subsection_term_frequencies['color'] = all_subsection_term_frequencies['Term_Frequency']\n",
    "\n",
    "# Treemap - color scale\n",
    "fig = px.treemap(all_subsection_term_frequencies, path=['Source', 'Subsection', 'Term'], values='Term_Frequency',\n",
    "                 color='color', color_continuous_scale='ylgnbu')\n",
    "fig.update_layout(width=1500, height=800)\n",
    "fig.show()"
   ]
  },
  {
   "cell_type": "markdown",
   "metadata": {},
   "source": [
    "## Sunburst visualization\n",
    "\n",
    "The sunburst visualization is similarly useful for visualizing components in a hierarchy.\n",
    "In this case, the added benefit of the subsections of each layer of the circle\n",
    "give a sense of proportion of the whole group. So, for example, in this case, one may note that nearly half of the potentially problematic terms occur in the `bioghist`\n",
    "note. \n",
    "\n",
    "In the second example, the EAD tag is used as the central component, or level of\n",
    "first division for the hierarchy. Given that this visualization presumes\n",
    "a knowledge of the EAD tags and terminology, we provisionally described\n",
    "this as an \"archivist's view\".\n",
    "\n",
    "The third example places the potentially problematic terms at the center.\n",
    "In this example, we suggested this might be a \"community view\" since it focuses\n",
    "on the potentially problematic terms, which may be useful starting points\n",
    "for discussion with community members who are interested in how certain terms\n",
    "are used by the archives, how frequently they occur, and potentially in which\n",
    "finding aids they may be most prevalent."
   ]
  },
  {
   "cell_type": "code",
   "execution_count": 37,
   "metadata": {},
   "outputs": [
    {
     "data": {
      "application/vnd.plotly.v1+json": {
       "config": {
        "plotlyServerURL": "https://plot.ly"
       },
       "data": [
        {
         "branchvalues": "total",
         "customdata": [
          [
           1
          ],
          [
           2
          ],
          [
           1
          ],
          [
           1
          ],
          [
           1
          ],
          [
           6
          ],
          [
           7
          ],
          [
           8
          ],
          [
           10
          ],
          [
           10
          ],
          [
           1
          ],
          [
           1
          ],
          [
           16
          ],
          [
           4
          ],
          [
           17
          ],
          [
           3
          ],
          [
           2
          ],
          [
           5
          ],
          [
           4
          ],
          [
           13
          ],
          [
           1
          ],
          [
           8
          ],
          [
           14
          ],
          [
           1
          ],
          [
           3
          ],
          [
           1
          ],
          [
           3
          ],
          [
           3
          ],
          [
           2
          ],
          [
           1
          ],
          [
           1
          ],
          [
           1
          ],
          [
           11
          ],
          [
           5
          ],
          [
           3
          ],
          [
           8
          ],
          [
           10
          ],
          [
           4
          ],
          [
           1
          ],
          [
           1
          ],
          [
           1
          ],
          [
           1
          ],
          [
           30
          ],
          [
           7
          ],
          [
           2
          ],
          [
           2
          ],
          [
           1
          ],
          [
           18
          ],
          [
           1
          ],
          [
           1
          ],
          [
           1
          ],
          [
           13
          ],
          [
           3
          ],
          [
           3
          ],
          [
           1
          ],
          [
           1
          ],
          [
           1
          ],
          [
           1
          ],
          [
           6
          ],
          [
           2
          ],
          [
           1
          ],
          [
           1
          ],
          [
           1
          ],
          [
           35
          ],
          [
           75
          ],
          [
           23
          ],
          [
           4
          ],
          [
           50
          ],
          [
           4
          ],
          [
           6
          ],
          [
           2
          ],
          [
           6
          ],
          [
           1
          ],
          [
           1
          ],
          [
           11
          ],
          [
           23
          ],
          [
           1
          ],
          [
           39
          ],
          [
           216
          ],
          [
           2
          ],
          [
           2
          ],
          [
           1
          ],
          [
           4
          ],
          [
           2
          ],
          [
           1
          ],
          [
           3
          ],
          [
           1
          ],
          [
           5
          ],
          [
           2
          ],
          [
           1
          ],
          [
           3
          ],
          [
           16
          ],
          [
           102
          ],
          [
           3
          ],
          [
           28
          ],
          [
           2
          ],
          [
           3
          ],
          [
           3
          ],
          [
           5
          ],
          [
           3
          ],
          [
           1
          ],
          [
           9
          ],
          [
           1
          ],
          [
           5
          ],
          [
           14
          ],
          [
           3
          ],
          [
           2
          ],
          [
           8
          ],
          [
           1
          ],
          [
           10
          ],
          [
           3
          ],
          [
           1
          ],
          [
           11
          ],
          [
           7
          ],
          [
           2
          ],
          [
           2
          ],
          [
           1
          ],
          [
           4
          ],
          [
           2
          ],
          [
           1
          ],
          [
           2
          ],
          [
           1
          ],
          [
           3
          ],
          [
           1
          ],
          [
           2
          ],
          [
           1
          ],
          [
           2
          ],
          [
           2
          ],
          [
           1
          ],
          [
           5
          ],
          [
           2
          ],
          [
           1
          ],
          [
           1
          ],
          [
           7
          ],
          [
           3
          ],
          [
           2
          ],
          [
           7
          ],
          [
           11
          ],
          [
           1
          ],
          [
           2
          ],
          [
           18
          ],
          [
           48.15681233933162
          ],
          [
           16.257142857142856
          ],
          [
           5.3125
          ],
          [
           6
          ],
          [
           23.47244094488189
          ],
          [
           167.38162544169612
          ],
          [
           3.4210526315789473
          ],
          [
           66.21631205673759
          ]
         ],
         "domain": {
          "x": [
           0,
           1
          ],
          "y": [
           0,
           1
          ]
         },
         "hovertemplate": "labels=%{label}<br>Term_Frequency_sum=%{value}<br>parent=%{parent}<br>id=%{id}<br>Term_Frequency=%{color}<extra></extra>",
         "ids": [
          "Bentley/scopecontent/Anishnaabe",
          "Bentley/bioghist/Burial",
          "Bentley/bioghist/Burials",
          "Bentley/subjects/Burials",
          "Bentley/bioghist/Captive",
          "Bentley/abstract/Cass",
          "Bentley/bioghist/Cass",
          "Bentley/geognames/Cass",
          "Bentley/persnames/Cass",
          "Bentley/scopecontent/Cass",
          "Bentley/titleproper/Cass",
          "Bentley/abstract/Chief",
          "Bentley/bioghist/Chief",
          "Bentley/persnames/Chief",
          "Bentley/scopecontent/Chief",
          "Bentley/titleproper/Chief",
          "Bentley/bioghist/Chiefs",
          "Bentley/scopecontent/Chiefs",
          "Bentley/abstract/Chippewa",
          "Bentley/bioghist/Chippewa",
          "Bentley/corpnames/Chippewa",
          "Bentley/geognames/Chippewa",
          "Bentley/scopecontent/Chippewa",
          "Bentley/bioghist/Chippewas",
          "Bentley/scopecontent/Chippewas",
          "Bentley/abstract/Colonial",
          "Bentley/scopecontent/Colonial",
          "Bentley/bioghist/Colonialism",
          "Bentley/bioghist/Colony",
          "Bentley/geognames/Colony",
          "Bentley/scopecontent/Colony",
          "Bentley/abstract/Copper",
          "Bentley/bioghist/Copper",
          "Bentley/corpnames/Copper",
          "Bentley/geognames/Copper",
          "Bentley/scopecontent/Copper",
          "Bentley/subjects/Copper",
          "Bentley/scopecontent/Costume",
          "Bentley/abstract/Costumes",
          "Bentley/subjects/Costumes",
          "Bentley/bioghist/Dead",
          "Bentley/abstract/Death",
          "Bentley/bioghist/Death",
          "Bentley/scopecontent/Death",
          "Bentley/subjects/Death",
          "Bentley/bioghist/Devil",
          "Bentley/geognames/Dwellings",
          "Bentley/subjects/Dwellings",
          "Bentley/bioghist/Execution",
          "Bentley/scopecontent/Execution",
          "Bentley/abstract/Fox",
          "Bentley/bioghist/Fox",
          "Bentley/persnames/Fox",
          "Bentley/scopecontent/Fox",
          "Bentley/titleproper/Fox",
          "Bentley/abstract/Grave",
          "Bentley/scopecontent/Grave",
          "Bentley/bioghist/Half-breeds",
          "Bentley/bioghist/Hiawatha",
          "Bentley/corpnames/Hiawatha",
          "Bentley/geognames/Hiawatha",
          "Bentley/scopecontent/Hiawatha",
          "Bentley/titleproper/Hiawatha",
          "Bentley/abstract/Indian",
          "Bentley/bioghist/Indian",
          "Bentley/corpnames/Indian",
          "Bentley/geognames/Indian",
          "Bentley/scopecontent/Indian",
          "Bentley/subjects/Indian",
          "Bentley/titleproper/Indian",
          "Bentley/abstract/Indian agent",
          "Bentley/bioghist/Indian agent",
          "Bentley/scopecontent/Indian agent",
          "Bentley/bioghist/Indian removal",
          "Bentley/abstract/Indians",
          "Bentley/bioghist/Indians",
          "Bentley/geognames/Indians",
          "Bentley/scopecontent/Indians",
          "Bentley/subjects/Indians",
          "Bentley/titleproper/Indians",
          "Bentley/bioghist/Indigenous",
          "Bentley/corpnames/Indigenous",
          "Bentley/scopecontent/Indigenous",
          "Bentley/subjects/Indigenous",
          "Bentley/scopecontent/Indigenous Person",
          "Bentley/bioghist/Mound",
          "Bentley/scopecontent/Mound",
          "Bentley/bioghist/Mounds",
          "Bentley/geognames/Mounds",
          "Bentley/scopecontent/Mounds",
          "Bentley/subjects/Mounds",
          "Bentley/abstract/Native",
          "Bentley/bioghist/Native",
          "Bentley/corpnames/Native",
          "Bentley/scopecontent/Native",
          "Bentley/subjects/Native",
          "Bentley/titleproper/Native",
          "Bentley/abstract/Odawa",
          "Bentley/bioghist/Odawa",
          "Bentley/scopecontent/Odawa",
          "Bentley/abstract/Ojibwa",
          "Bentley/bioghist/Ojibwa",
          "Bentley/persnames/Ojibwa",
          "Bentley/scopecontent/Ojibwa",
          "Bentley/subjects/Ojibwa",
          "Bentley/abstract/Ojibwe",
          "Bentley/bioghist/Ojibwe",
          "Bentley/scopecontent/Ojibwe",
          "Bentley/abstract/Ottawa",
          "Bentley/bioghist/Ottawa",
          "Bentley/geognames/Ottawa",
          "Bentley/persnames/Ottawa",
          "Bentley/scopecontent/Ottawa",
          "Bentley/subjects/Ottawa",
          "Bentley/titleproper/Ottawa",
          "Bentley/subjects/Pottery",
          "Bentley/abstract/Remains",
          "Bentley/bioghist/Remains",
          "Bentley/scopecontent/Remains",
          "Bentley/abstract/Removal",
          "Bentley/bioghist/Removal",
          "Bentley/scopecontent/Removal",
          "Bentley/bioghist/Reservation",
          "Bentley/subjects/Reservation",
          "Bentley/bioghist/Reservations",
          "Bentley/bioghist/Sauk",
          "Bentley/persnames/Sauk",
          "Bentley/scopecontent/Sauk",
          "Bentley/persnames/Savage",
          "Bentley/bioghist/Settlers",
          "Bentley/scopecontent/Settlers",
          "Bentley/bioghist/Skull",
          "Bentley/abstract/Treaties",
          "Bentley/bioghist/Treaties",
          "Bentley/scopecontent/Treaties",
          "Bentley/abstract/Treaty",
          "Bentley/bioghist/Treaty",
          "Bentley/scopecontent/Treaty",
          "Bentley/bioghist/Warriors",
          "Bentley/scopecontent/Warriors",
          "Bentley/abstract",
          "Bentley/bioghist",
          "Bentley/corpnames",
          "Bentley/geognames",
          "Bentley/persnames",
          "Bentley/scopecontent",
          "Bentley/subjects",
          "Bentley/titleproper",
          "Bentley"
         ],
         "labels": [
          "Anishnaabe",
          "Burial",
          "Burials",
          "Burials",
          "Captive",
          "Cass",
          "Cass",
          "Cass",
          "Cass",
          "Cass",
          "Cass",
          "Chief",
          "Chief",
          "Chief",
          "Chief",
          "Chief",
          "Chiefs",
          "Chiefs",
          "Chippewa",
          "Chippewa",
          "Chippewa",
          "Chippewa",
          "Chippewa",
          "Chippewas",
          "Chippewas",
          "Colonial",
          "Colonial",
          "Colonialism",
          "Colony",
          "Colony",
          "Colony",
          "Copper",
          "Copper",
          "Copper",
          "Copper",
          "Copper",
          "Copper",
          "Costume",
          "Costumes",
          "Costumes",
          "Dead",
          "Death",
          "Death",
          "Death",
          "Death",
          "Devil",
          "Dwellings",
          "Dwellings",
          "Execution",
          "Execution",
          "Fox",
          "Fox",
          "Fox",
          "Fox",
          "Fox",
          "Grave",
          "Grave",
          "Half-breeds",
          "Hiawatha",
          "Hiawatha",
          "Hiawatha",
          "Hiawatha",
          "Hiawatha",
          "Indian",
          "Indian",
          "Indian",
          "Indian",
          "Indian",
          "Indian",
          "Indian",
          "Indian agent",
          "Indian agent",
          "Indian agent",
          "Indian removal",
          "Indians",
          "Indians",
          "Indians",
          "Indians",
          "Indians",
          "Indians",
          "Indigenous",
          "Indigenous",
          "Indigenous",
          "Indigenous",
          "Indigenous Person",
          "Mound",
          "Mound",
          "Mounds",
          "Mounds",
          "Mounds",
          "Mounds",
          "Native",
          "Native",
          "Native",
          "Native",
          "Native",
          "Native",
          "Odawa",
          "Odawa",
          "Odawa",
          "Ojibwa",
          "Ojibwa",
          "Ojibwa",
          "Ojibwa",
          "Ojibwa",
          "Ojibwe",
          "Ojibwe",
          "Ojibwe",
          "Ottawa",
          "Ottawa",
          "Ottawa",
          "Ottawa",
          "Ottawa",
          "Ottawa",
          "Ottawa",
          "Pottery",
          "Remains",
          "Remains",
          "Remains",
          "Removal",
          "Removal",
          "Removal",
          "Reservation",
          "Reservation",
          "Reservations",
          "Sauk",
          "Sauk",
          "Sauk",
          "Savage",
          "Settlers",
          "Settlers",
          "Skull",
          "Treaties",
          "Treaties",
          "Treaties",
          "Treaty",
          "Treaty",
          "Treaty",
          "Warriors",
          "Warriors",
          "abstract",
          "bioghist",
          "corpnames",
          "geognames",
          "persnames",
          "scopecontent",
          "subjects",
          "titleproper",
          "Bentley"
         ],
         "marker": {
          "coloraxis": "coloraxis",
          "colors": [
           1,
           2,
           1,
           1,
           1,
           6,
           7,
           8,
           10,
           10,
           1,
           1,
           16,
           4,
           17,
           3,
           2,
           5,
           4,
           13,
           1,
           8,
           14,
           1,
           3,
           1,
           3,
           3,
           2,
           1,
           1,
           1,
           11,
           5,
           3,
           8,
           10,
           4,
           1,
           1,
           1,
           1,
           30,
           7,
           2,
           2,
           1,
           18,
           1,
           1,
           1,
           13,
           3,
           3,
           1,
           1,
           1,
           1,
           6,
           2,
           1,
           1,
           1,
           35,
           75,
           23,
           4,
           50,
           4,
           6,
           2,
           6,
           1,
           1,
           11,
           23,
           1,
           39,
           216,
           2,
           2,
           1,
           4,
           2,
           1,
           3,
           1,
           5,
           2,
           1,
           3,
           16,
           102,
           3,
           28,
           2,
           3,
           3,
           5,
           3,
           1,
           9,
           1,
           5,
           14,
           3,
           2,
           8,
           1,
           10,
           3,
           1,
           11,
           7,
           2,
           2,
           1,
           4,
           2,
           1,
           2,
           1,
           3,
           1,
           2,
           1,
           2,
           2,
           1,
           5,
           2,
           1,
           1,
           7,
           3,
           2,
           7,
           11,
           1,
           2,
           18,
           48.15681233933162,
           16.257142857142856,
           5.3125,
           6,
           23.47244094488189,
           167.38162544169612,
           3.4210526315789473,
           66.21631205673759
          ]
         },
         "name": "",
         "parents": [
          "Bentley/scopecontent",
          "Bentley/bioghist",
          "Bentley/bioghist",
          "Bentley/subjects",
          "Bentley/bioghist",
          "Bentley/abstract",
          "Bentley/bioghist",
          "Bentley/geognames",
          "Bentley/persnames",
          "Bentley/scopecontent",
          "Bentley/titleproper",
          "Bentley/abstract",
          "Bentley/bioghist",
          "Bentley/persnames",
          "Bentley/scopecontent",
          "Bentley/titleproper",
          "Bentley/bioghist",
          "Bentley/scopecontent",
          "Bentley/abstract",
          "Bentley/bioghist",
          "Bentley/corpnames",
          "Bentley/geognames",
          "Bentley/scopecontent",
          "Bentley/bioghist",
          "Bentley/scopecontent",
          "Bentley/abstract",
          "Bentley/scopecontent",
          "Bentley/bioghist",
          "Bentley/bioghist",
          "Bentley/geognames",
          "Bentley/scopecontent",
          "Bentley/abstract",
          "Bentley/bioghist",
          "Bentley/corpnames",
          "Bentley/geognames",
          "Bentley/scopecontent",
          "Bentley/subjects",
          "Bentley/scopecontent",
          "Bentley/abstract",
          "Bentley/subjects",
          "Bentley/bioghist",
          "Bentley/abstract",
          "Bentley/bioghist",
          "Bentley/scopecontent",
          "Bentley/subjects",
          "Bentley/bioghist",
          "Bentley/geognames",
          "Bentley/subjects",
          "Bentley/bioghist",
          "Bentley/scopecontent",
          "Bentley/abstract",
          "Bentley/bioghist",
          "Bentley/persnames",
          "Bentley/scopecontent",
          "Bentley/titleproper",
          "Bentley/abstract",
          "Bentley/scopecontent",
          "Bentley/bioghist",
          "Bentley/bioghist",
          "Bentley/corpnames",
          "Bentley/geognames",
          "Bentley/scopecontent",
          "Bentley/titleproper",
          "Bentley/abstract",
          "Bentley/bioghist",
          "Bentley/corpnames",
          "Bentley/geognames",
          "Bentley/scopecontent",
          "Bentley/subjects",
          "Bentley/titleproper",
          "Bentley/abstract",
          "Bentley/bioghist",
          "Bentley/scopecontent",
          "Bentley/bioghist",
          "Bentley/abstract",
          "Bentley/bioghist",
          "Bentley/geognames",
          "Bentley/scopecontent",
          "Bentley/subjects",
          "Bentley/titleproper",
          "Bentley/bioghist",
          "Bentley/corpnames",
          "Bentley/scopecontent",
          "Bentley/subjects",
          "Bentley/scopecontent",
          "Bentley/bioghist",
          "Bentley/scopecontent",
          "Bentley/bioghist",
          "Bentley/geognames",
          "Bentley/scopecontent",
          "Bentley/subjects",
          "Bentley/abstract",
          "Bentley/bioghist",
          "Bentley/corpnames",
          "Bentley/scopecontent",
          "Bentley/subjects",
          "Bentley/titleproper",
          "Bentley/abstract",
          "Bentley/bioghist",
          "Bentley/scopecontent",
          "Bentley/abstract",
          "Bentley/bioghist",
          "Bentley/persnames",
          "Bentley/scopecontent",
          "Bentley/subjects",
          "Bentley/abstract",
          "Bentley/bioghist",
          "Bentley/scopecontent",
          "Bentley/abstract",
          "Bentley/bioghist",
          "Bentley/geognames",
          "Bentley/persnames",
          "Bentley/scopecontent",
          "Bentley/subjects",
          "Bentley/titleproper",
          "Bentley/subjects",
          "Bentley/abstract",
          "Bentley/bioghist",
          "Bentley/scopecontent",
          "Bentley/abstract",
          "Bentley/bioghist",
          "Bentley/scopecontent",
          "Bentley/bioghist",
          "Bentley/subjects",
          "Bentley/bioghist",
          "Bentley/bioghist",
          "Bentley/persnames",
          "Bentley/scopecontent",
          "Bentley/persnames",
          "Bentley/bioghist",
          "Bentley/scopecontent",
          "Bentley/bioghist",
          "Bentley/abstract",
          "Bentley/bioghist",
          "Bentley/scopecontent",
          "Bentley/abstract",
          "Bentley/bioghist",
          "Bentley/scopecontent",
          "Bentley/bioghist",
          "Bentley/scopecontent",
          "Bentley",
          "Bentley",
          "Bentley",
          "Bentley",
          "Bentley",
          "Bentley",
          "Bentley",
          "Bentley",
          ""
         ],
         "type": "sunburst",
         "values": [
          1,
          2,
          1,
          1,
          1,
          6,
          7,
          8,
          10,
          10,
          1,
          1,
          16,
          4,
          17,
          3,
          2,
          5,
          4,
          13,
          1,
          8,
          14,
          1,
          3,
          1,
          3,
          3,
          2,
          1,
          1,
          1,
          11,
          5,
          3,
          8,
          10,
          4,
          1,
          1,
          1,
          1,
          30,
          7,
          2,
          2,
          1,
          18,
          1,
          1,
          1,
          13,
          3,
          3,
          1,
          1,
          1,
          1,
          6,
          2,
          1,
          1,
          1,
          35,
          75,
          23,
          4,
          50,
          4,
          6,
          2,
          6,
          1,
          1,
          11,
          23,
          1,
          39,
          216,
          2,
          2,
          1,
          4,
          2,
          1,
          3,
          1,
          5,
          2,
          1,
          3,
          16,
          102,
          3,
          28,
          2,
          3,
          3,
          5,
          3,
          1,
          9,
          1,
          5,
          14,
          3,
          2,
          8,
          1,
          10,
          3,
          1,
          11,
          7,
          2,
          2,
          1,
          4,
          2,
          1,
          2,
          1,
          3,
          1,
          2,
          1,
          2,
          2,
          1,
          5,
          2,
          1,
          1,
          7,
          3,
          2,
          7,
          11,
          1,
          2,
          94,
          389,
          35,
          32,
          22,
          254,
          283,
          19,
          1128
         ]
        }
       ],
       "layout": {
        "coloraxis": {
         "colorbar": {
          "title": {
           "text": "Term_Frequency"
          }
         },
         "colorscale": [
          [
           0,
           "rgb(255,255,217)"
          ],
          [
           0.125,
           "rgb(237,248,177)"
          ],
          [
           0.25,
           "rgb(199,233,180)"
          ],
          [
           0.375,
           "rgb(127,205,187)"
          ],
          [
           0.5,
           "rgb(65,182,196)"
          ],
          [
           0.625,
           "rgb(29,145,192)"
          ],
          [
           0.75,
           "rgb(34,94,168)"
          ],
          [
           0.875,
           "rgb(37,52,148)"
          ],
          [
           1,
           "rgb(8,29,88)"
          ]
         ]
        },
        "height": 800,
        "legend": {
         "tracegroupgap": 0
        },
        "margin": {
         "t": 60
        },
        "template": {
         "data": {
          "bar": [
           {
            "error_x": {
             "color": "#2a3f5f"
            },
            "error_y": {
             "color": "#2a3f5f"
            },
            "marker": {
             "line": {
              "color": "#E5ECF6",
              "width": 0.5
             },
             "pattern": {
              "fillmode": "overlay",
              "size": 10,
              "solidity": 0.2
             }
            },
            "type": "bar"
           }
          ],
          "barpolar": [
           {
            "marker": {
             "line": {
              "color": "#E5ECF6",
              "width": 0.5
             },
             "pattern": {
              "fillmode": "overlay",
              "size": 10,
              "solidity": 0.2
             }
            },
            "type": "barpolar"
           }
          ],
          "carpet": [
           {
            "aaxis": {
             "endlinecolor": "#2a3f5f",
             "gridcolor": "white",
             "linecolor": "white",
             "minorgridcolor": "white",
             "startlinecolor": "#2a3f5f"
            },
            "baxis": {
             "endlinecolor": "#2a3f5f",
             "gridcolor": "white",
             "linecolor": "white",
             "minorgridcolor": "white",
             "startlinecolor": "#2a3f5f"
            },
            "type": "carpet"
           }
          ],
          "choropleth": [
           {
            "colorbar": {
             "outlinewidth": 0,
             "ticks": ""
            },
            "type": "choropleth"
           }
          ],
          "contour": [
           {
            "colorbar": {
             "outlinewidth": 0,
             "ticks": ""
            },
            "colorscale": [
             [
              0,
              "#0d0887"
             ],
             [
              0.1111111111111111,
              "#46039f"
             ],
             [
              0.2222222222222222,
              "#7201a8"
             ],
             [
              0.3333333333333333,
              "#9c179e"
             ],
             [
              0.4444444444444444,
              "#bd3786"
             ],
             [
              0.5555555555555556,
              "#d8576b"
             ],
             [
              0.6666666666666666,
              "#ed7953"
             ],
             [
              0.7777777777777778,
              "#fb9f3a"
             ],
             [
              0.8888888888888888,
              "#fdca26"
             ],
             [
              1,
              "#f0f921"
             ]
            ],
            "type": "contour"
           }
          ],
          "contourcarpet": [
           {
            "colorbar": {
             "outlinewidth": 0,
             "ticks": ""
            },
            "type": "contourcarpet"
           }
          ],
          "heatmap": [
           {
            "colorbar": {
             "outlinewidth": 0,
             "ticks": ""
            },
            "colorscale": [
             [
              0,
              "#0d0887"
             ],
             [
              0.1111111111111111,
              "#46039f"
             ],
             [
              0.2222222222222222,
              "#7201a8"
             ],
             [
              0.3333333333333333,
              "#9c179e"
             ],
             [
              0.4444444444444444,
              "#bd3786"
             ],
             [
              0.5555555555555556,
              "#d8576b"
             ],
             [
              0.6666666666666666,
              "#ed7953"
             ],
             [
              0.7777777777777778,
              "#fb9f3a"
             ],
             [
              0.8888888888888888,
              "#fdca26"
             ],
             [
              1,
              "#f0f921"
             ]
            ],
            "type": "heatmap"
           }
          ],
          "heatmapgl": [
           {
            "colorbar": {
             "outlinewidth": 0,
             "ticks": ""
            },
            "colorscale": [
             [
              0,
              "#0d0887"
             ],
             [
              0.1111111111111111,
              "#46039f"
             ],
             [
              0.2222222222222222,
              "#7201a8"
             ],
             [
              0.3333333333333333,
              "#9c179e"
             ],
             [
              0.4444444444444444,
              "#bd3786"
             ],
             [
              0.5555555555555556,
              "#d8576b"
             ],
             [
              0.6666666666666666,
              "#ed7953"
             ],
             [
              0.7777777777777778,
              "#fb9f3a"
             ],
             [
              0.8888888888888888,
              "#fdca26"
             ],
             [
              1,
              "#f0f921"
             ]
            ],
            "type": "heatmapgl"
           }
          ],
          "histogram": [
           {
            "marker": {
             "pattern": {
              "fillmode": "overlay",
              "size": 10,
              "solidity": 0.2
             }
            },
            "type": "histogram"
           }
          ],
          "histogram2d": [
           {
            "colorbar": {
             "outlinewidth": 0,
             "ticks": ""
            },
            "colorscale": [
             [
              0,
              "#0d0887"
             ],
             [
              0.1111111111111111,
              "#46039f"
             ],
             [
              0.2222222222222222,
              "#7201a8"
             ],
             [
              0.3333333333333333,
              "#9c179e"
             ],
             [
              0.4444444444444444,
              "#bd3786"
             ],
             [
              0.5555555555555556,
              "#d8576b"
             ],
             [
              0.6666666666666666,
              "#ed7953"
             ],
             [
              0.7777777777777778,
              "#fb9f3a"
             ],
             [
              0.8888888888888888,
              "#fdca26"
             ],
             [
              1,
              "#f0f921"
             ]
            ],
            "type": "histogram2d"
           }
          ],
          "histogram2dcontour": [
           {
            "colorbar": {
             "outlinewidth": 0,
             "ticks": ""
            },
            "colorscale": [
             [
              0,
              "#0d0887"
             ],
             [
              0.1111111111111111,
              "#46039f"
             ],
             [
              0.2222222222222222,
              "#7201a8"
             ],
             [
              0.3333333333333333,
              "#9c179e"
             ],
             [
              0.4444444444444444,
              "#bd3786"
             ],
             [
              0.5555555555555556,
              "#d8576b"
             ],
             [
              0.6666666666666666,
              "#ed7953"
             ],
             [
              0.7777777777777778,
              "#fb9f3a"
             ],
             [
              0.8888888888888888,
              "#fdca26"
             ],
             [
              1,
              "#f0f921"
             ]
            ],
            "type": "histogram2dcontour"
           }
          ],
          "mesh3d": [
           {
            "colorbar": {
             "outlinewidth": 0,
             "ticks": ""
            },
            "type": "mesh3d"
           }
          ],
          "parcoords": [
           {
            "line": {
             "colorbar": {
              "outlinewidth": 0,
              "ticks": ""
             }
            },
            "type": "parcoords"
           }
          ],
          "pie": [
           {
            "automargin": true,
            "type": "pie"
           }
          ],
          "scatter": [
           {
            "fillpattern": {
             "fillmode": "overlay",
             "size": 10,
             "solidity": 0.2
            },
            "type": "scatter"
           }
          ],
          "scatter3d": [
           {
            "line": {
             "colorbar": {
              "outlinewidth": 0,
              "ticks": ""
             }
            },
            "marker": {
             "colorbar": {
              "outlinewidth": 0,
              "ticks": ""
             }
            },
            "type": "scatter3d"
           }
          ],
          "scattercarpet": [
           {
            "marker": {
             "colorbar": {
              "outlinewidth": 0,
              "ticks": ""
             }
            },
            "type": "scattercarpet"
           }
          ],
          "scattergeo": [
           {
            "marker": {
             "colorbar": {
              "outlinewidth": 0,
              "ticks": ""
             }
            },
            "type": "scattergeo"
           }
          ],
          "scattergl": [
           {
            "marker": {
             "colorbar": {
              "outlinewidth": 0,
              "ticks": ""
             }
            },
            "type": "scattergl"
           }
          ],
          "scattermapbox": [
           {
            "marker": {
             "colorbar": {
              "outlinewidth": 0,
              "ticks": ""
             }
            },
            "type": "scattermapbox"
           }
          ],
          "scatterpolar": [
           {
            "marker": {
             "colorbar": {
              "outlinewidth": 0,
              "ticks": ""
             }
            },
            "type": "scatterpolar"
           }
          ],
          "scatterpolargl": [
           {
            "marker": {
             "colorbar": {
              "outlinewidth": 0,
              "ticks": ""
             }
            },
            "type": "scatterpolargl"
           }
          ],
          "scatterternary": [
           {
            "marker": {
             "colorbar": {
              "outlinewidth": 0,
              "ticks": ""
             }
            },
            "type": "scatterternary"
           }
          ],
          "surface": [
           {
            "colorbar": {
             "outlinewidth": 0,
             "ticks": ""
            },
            "colorscale": [
             [
              0,
              "#0d0887"
             ],
             [
              0.1111111111111111,
              "#46039f"
             ],
             [
              0.2222222222222222,
              "#7201a8"
             ],
             [
              0.3333333333333333,
              "#9c179e"
             ],
             [
              0.4444444444444444,
              "#bd3786"
             ],
             [
              0.5555555555555556,
              "#d8576b"
             ],
             [
              0.6666666666666666,
              "#ed7953"
             ],
             [
              0.7777777777777778,
              "#fb9f3a"
             ],
             [
              0.8888888888888888,
              "#fdca26"
             ],
             [
              1,
              "#f0f921"
             ]
            ],
            "type": "surface"
           }
          ],
          "table": [
           {
            "cells": {
             "fill": {
              "color": "#EBF0F8"
             },
             "line": {
              "color": "white"
             }
            },
            "header": {
             "fill": {
              "color": "#C8D4E3"
             },
             "line": {
              "color": "white"
             }
            },
            "type": "table"
           }
          ]
         },
         "layout": {
          "annotationdefaults": {
           "arrowcolor": "#2a3f5f",
           "arrowhead": 0,
           "arrowwidth": 1
          },
          "autotypenumbers": "strict",
          "coloraxis": {
           "colorbar": {
            "outlinewidth": 0,
            "ticks": ""
           }
          },
          "colorscale": {
           "diverging": [
            [
             0,
             "#8e0152"
            ],
            [
             0.1,
             "#c51b7d"
            ],
            [
             0.2,
             "#de77ae"
            ],
            [
             0.3,
             "#f1b6da"
            ],
            [
             0.4,
             "#fde0ef"
            ],
            [
             0.5,
             "#f7f7f7"
            ],
            [
             0.6,
             "#e6f5d0"
            ],
            [
             0.7,
             "#b8e186"
            ],
            [
             0.8,
             "#7fbc41"
            ],
            [
             0.9,
             "#4d9221"
            ],
            [
             1,
             "#276419"
            ]
           ],
           "sequential": [
            [
             0,
             "#0d0887"
            ],
            [
             0.1111111111111111,
             "#46039f"
            ],
            [
             0.2222222222222222,
             "#7201a8"
            ],
            [
             0.3333333333333333,
             "#9c179e"
            ],
            [
             0.4444444444444444,
             "#bd3786"
            ],
            [
             0.5555555555555556,
             "#d8576b"
            ],
            [
             0.6666666666666666,
             "#ed7953"
            ],
            [
             0.7777777777777778,
             "#fb9f3a"
            ],
            [
             0.8888888888888888,
             "#fdca26"
            ],
            [
             1,
             "#f0f921"
            ]
           ],
           "sequentialminus": [
            [
             0,
             "#0d0887"
            ],
            [
             0.1111111111111111,
             "#46039f"
            ],
            [
             0.2222222222222222,
             "#7201a8"
            ],
            [
             0.3333333333333333,
             "#9c179e"
            ],
            [
             0.4444444444444444,
             "#bd3786"
            ],
            [
             0.5555555555555556,
             "#d8576b"
            ],
            [
             0.6666666666666666,
             "#ed7953"
            ],
            [
             0.7777777777777778,
             "#fb9f3a"
            ],
            [
             0.8888888888888888,
             "#fdca26"
            ],
            [
             1,
             "#f0f921"
            ]
           ]
          },
          "colorway": [
           "#636efa",
           "#EF553B",
           "#00cc96",
           "#ab63fa",
           "#FFA15A",
           "#19d3f3",
           "#FF6692",
           "#B6E880",
           "#FF97FF",
           "#FECB52"
          ],
          "font": {
           "color": "#2a3f5f"
          },
          "geo": {
           "bgcolor": "white",
           "lakecolor": "white",
           "landcolor": "#E5ECF6",
           "showlakes": true,
           "showland": true,
           "subunitcolor": "white"
          },
          "hoverlabel": {
           "align": "left"
          },
          "hovermode": "closest",
          "mapbox": {
           "style": "light"
          },
          "paper_bgcolor": "white",
          "plot_bgcolor": "#E5ECF6",
          "polar": {
           "angularaxis": {
            "gridcolor": "white",
            "linecolor": "white",
            "ticks": ""
           },
           "bgcolor": "#E5ECF6",
           "radialaxis": {
            "gridcolor": "white",
            "linecolor": "white",
            "ticks": ""
           }
          },
          "scene": {
           "xaxis": {
            "backgroundcolor": "#E5ECF6",
            "gridcolor": "white",
            "gridwidth": 2,
            "linecolor": "white",
            "showbackground": true,
            "ticks": "",
            "zerolinecolor": "white"
           },
           "yaxis": {
            "backgroundcolor": "#E5ECF6",
            "gridcolor": "white",
            "gridwidth": 2,
            "linecolor": "white",
            "showbackground": true,
            "ticks": "",
            "zerolinecolor": "white"
           },
           "zaxis": {
            "backgroundcolor": "#E5ECF6",
            "gridcolor": "white",
            "gridwidth": 2,
            "linecolor": "white",
            "showbackground": true,
            "ticks": "",
            "zerolinecolor": "white"
           }
          },
          "shapedefaults": {
           "line": {
            "color": "#2a3f5f"
           }
          },
          "ternary": {
           "aaxis": {
            "gridcolor": "white",
            "linecolor": "white",
            "ticks": ""
           },
           "baxis": {
            "gridcolor": "white",
            "linecolor": "white",
            "ticks": ""
           },
           "bgcolor": "#E5ECF6",
           "caxis": {
            "gridcolor": "white",
            "linecolor": "white",
            "ticks": ""
           }
          },
          "title": {
           "x": 0.05
          },
          "xaxis": {
           "automargin": true,
           "gridcolor": "white",
           "linecolor": "white",
           "ticks": "",
           "title": {
            "standoff": 15
           },
           "zerolinecolor": "white",
           "zerolinewidth": 2
          },
          "yaxis": {
           "automargin": true,
           "gridcolor": "white",
           "linecolor": "white",
           "ticks": "",
           "title": {
            "standoff": 15
           },
           "zerolinecolor": "white",
           "zerolinewidth": 2
          }
         }
        },
        "title": {
         "text": "Sunburst with holding repository as central component"
        },
        "width": 1300
       }
      }
     },
     "metadata": {},
     "output_type": "display_data"
    }
   ],
   "source": [
    "# Sunburst - color scale\n",
    "fig = px.sunburst(all_subsection_term_frequencies, path=['Source', 'Subsection', 'Term'], values='Term_Frequency', \n",
    "                  color='Term_Frequency', color_continuous_scale='ylgnbu')\n",
    "fig.update_layout(width=1300, height=800, title='Sunburst with holding repository as central component')\n",
    "fig.show()"
   ]
  },
  {
   "cell_type": "code",
   "execution_count": 38,
   "metadata": {},
   "outputs": [
    {
     "data": {
      "application/vnd.plotly.v1+json": {
       "config": {
        "plotlyServerURL": "https://plot.ly"
       },
       "data": [
        {
         "branchvalues": "total",
         "customdata": [
          [
           1
          ],
          [
           2
          ],
          [
           1
          ],
          [
           1
          ],
          [
           1
          ],
          [
           6
          ],
          [
           7
          ],
          [
           8
          ],
          [
           10
          ],
          [
           10
          ],
          [
           1
          ],
          [
           1
          ],
          [
           16
          ],
          [
           4
          ],
          [
           17
          ],
          [
           3
          ],
          [
           2
          ],
          [
           5
          ],
          [
           4
          ],
          [
           13
          ],
          [
           1
          ],
          [
           8
          ],
          [
           14
          ],
          [
           1
          ],
          [
           3
          ],
          [
           1
          ],
          [
           3
          ],
          [
           3
          ],
          [
           2
          ],
          [
           1
          ],
          [
           1
          ],
          [
           1
          ],
          [
           11
          ],
          [
           5
          ],
          [
           3
          ],
          [
           8
          ],
          [
           10
          ],
          [
           4
          ],
          [
           1
          ],
          [
           1
          ],
          [
           1
          ],
          [
           1
          ],
          [
           30
          ],
          [
           7
          ],
          [
           2
          ],
          [
           2
          ],
          [
           1
          ],
          [
           18
          ],
          [
           1
          ],
          [
           1
          ],
          [
           1
          ],
          [
           13
          ],
          [
           3
          ],
          [
           3
          ],
          [
           1
          ],
          [
           1
          ],
          [
           1
          ],
          [
           1
          ],
          [
           6
          ],
          [
           2
          ],
          [
           1
          ],
          [
           1
          ],
          [
           1
          ],
          [
           35
          ],
          [
           75
          ],
          [
           23
          ],
          [
           4
          ],
          [
           50
          ],
          [
           4
          ],
          [
           6
          ],
          [
           2
          ],
          [
           6
          ],
          [
           1
          ],
          [
           1
          ],
          [
           11
          ],
          [
           23
          ],
          [
           1
          ],
          [
           39
          ],
          [
           216
          ],
          [
           2
          ],
          [
           2
          ],
          [
           1
          ],
          [
           4
          ],
          [
           2
          ],
          [
           1
          ],
          [
           3
          ],
          [
           1
          ],
          [
           5
          ],
          [
           2
          ],
          [
           1
          ],
          [
           3
          ],
          [
           16
          ],
          [
           102
          ],
          [
           3
          ],
          [
           28
          ],
          [
           2
          ],
          [
           3
          ],
          [
           3
          ],
          [
           5
          ],
          [
           3
          ],
          [
           1
          ],
          [
           9
          ],
          [
           1
          ],
          [
           5
          ],
          [
           14
          ],
          [
           3
          ],
          [
           2
          ],
          [
           8
          ],
          [
           1
          ],
          [
           10
          ],
          [
           3
          ],
          [
           1
          ],
          [
           11
          ],
          [
           7
          ],
          [
           2
          ],
          [
           2
          ],
          [
           1
          ],
          [
           4
          ],
          [
           2
          ],
          [
           1
          ],
          [
           2
          ],
          [
           1
          ],
          [
           3
          ],
          [
           1
          ],
          [
           2
          ],
          [
           1
          ],
          [
           2
          ],
          [
           2
          ],
          [
           1
          ],
          [
           5
          ],
          [
           2
          ],
          [
           1
          ],
          [
           1
          ],
          [
           7
          ],
          [
           3
          ],
          [
           2
          ],
          [
           7
          ],
          [
           11
          ],
          [
           1
          ],
          [
           2
          ],
          [
           1
          ],
          [
           2
          ],
          [
           1
          ],
          [
           1
          ],
          [
           1
          ],
          [
           6
          ],
          [
           7
          ],
          [
           8
          ],
          [
           10
          ],
          [
           10
          ],
          [
           1
          ],
          [
           1
          ],
          [
           16
          ],
          [
           4
          ],
          [
           17
          ],
          [
           3
          ],
          [
           2
          ],
          [
           5
          ],
          [
           4
          ],
          [
           13
          ],
          [
           1
          ],
          [
           8
          ],
          [
           14
          ],
          [
           1
          ],
          [
           3
          ],
          [
           1
          ],
          [
           3
          ],
          [
           3
          ],
          [
           2
          ],
          [
           1
          ],
          [
           1
          ],
          [
           1
          ],
          [
           11
          ],
          [
           5
          ],
          [
           3
          ],
          [
           8
          ],
          [
           10
          ],
          [
           4
          ],
          [
           1
          ],
          [
           1
          ],
          [
           1
          ],
          [
           1
          ],
          [
           30
          ],
          [
           7
          ],
          [
           2
          ],
          [
           2
          ],
          [
           1
          ],
          [
           18
          ],
          [
           1
          ],
          [
           1
          ],
          [
           1
          ],
          [
           13
          ],
          [
           3
          ],
          [
           3
          ],
          [
           1
          ],
          [
           1
          ],
          [
           1
          ],
          [
           1
          ],
          [
           6
          ],
          [
           2
          ],
          [
           1
          ],
          [
           1
          ],
          [
           1
          ],
          [
           35
          ],
          [
           75
          ],
          [
           23
          ],
          [
           4
          ],
          [
           50
          ],
          [
           4
          ],
          [
           6
          ],
          [
           2
          ],
          [
           6
          ],
          [
           1
          ],
          [
           1
          ],
          [
           11
          ],
          [
           23
          ],
          [
           1
          ],
          [
           39
          ],
          [
           216
          ],
          [
           2
          ],
          [
           2
          ],
          [
           1
          ],
          [
           4
          ],
          [
           2
          ],
          [
           1
          ],
          [
           3
          ],
          [
           1
          ],
          [
           5
          ],
          [
           2
          ],
          [
           1
          ],
          [
           3
          ],
          [
           16
          ],
          [
           102
          ],
          [
           3
          ],
          [
           28
          ],
          [
           2
          ],
          [
           3
          ],
          [
           3
          ],
          [
           5
          ],
          [
           3
          ],
          [
           1
          ],
          [
           9
          ],
          [
           1
          ],
          [
           5
          ],
          [
           14
          ],
          [
           3
          ],
          [
           2
          ],
          [
           8
          ],
          [
           1
          ],
          [
           10
          ],
          [
           3
          ],
          [
           1
          ],
          [
           11
          ],
          [
           7
          ],
          [
           2
          ],
          [
           2
          ],
          [
           1
          ],
          [
           4
          ],
          [
           2
          ],
          [
           1
          ],
          [
           2
          ],
          [
           1
          ],
          [
           3
          ],
          [
           1
          ],
          [
           2
          ],
          [
           1
          ],
          [
           2
          ],
          [
           2
          ],
          [
           1
          ],
          [
           5
          ],
          [
           2
          ],
          [
           1
          ],
          [
           1
          ],
          [
           7
          ],
          [
           3
          ],
          [
           2
          ],
          [
           7
          ],
          [
           11
          ],
          [
           1
          ],
          [
           2
          ],
          [
           18
          ],
          [
           48.15681233933162
          ],
          [
           16.257142857142856
          ],
          [
           5.3125
          ],
          [
           6
          ],
          [
           23.47244094488189
          ],
          [
           167.38162544169612
          ],
          [
           3.4210526315789473
          ]
         ],
         "domain": {
          "x": [
           0,
           1
          ],
          "y": [
           0,
           1
          ]
         },
         "hovertemplate": "labels=%{label}<br>Term_Frequency_sum=%{value}<br>parent=%{parent}<br>id=%{id}<br>Term_Frequency=%{color}<extra></extra>",
         "ids": [
          "scopecontent/Anishnaabe/Bentley",
          "bioghist/Burial/Bentley",
          "bioghist/Burials/Bentley",
          "subjects/Burials/Bentley",
          "bioghist/Captive/Bentley",
          "abstract/Cass/Bentley",
          "bioghist/Cass/Bentley",
          "geognames/Cass/Bentley",
          "persnames/Cass/Bentley",
          "scopecontent/Cass/Bentley",
          "titleproper/Cass/Bentley",
          "abstract/Chief/Bentley",
          "bioghist/Chief/Bentley",
          "persnames/Chief/Bentley",
          "scopecontent/Chief/Bentley",
          "titleproper/Chief/Bentley",
          "bioghist/Chiefs/Bentley",
          "scopecontent/Chiefs/Bentley",
          "abstract/Chippewa/Bentley",
          "bioghist/Chippewa/Bentley",
          "corpnames/Chippewa/Bentley",
          "geognames/Chippewa/Bentley",
          "scopecontent/Chippewa/Bentley",
          "bioghist/Chippewas/Bentley",
          "scopecontent/Chippewas/Bentley",
          "abstract/Colonial/Bentley",
          "scopecontent/Colonial/Bentley",
          "bioghist/Colonialism/Bentley",
          "bioghist/Colony/Bentley",
          "geognames/Colony/Bentley",
          "scopecontent/Colony/Bentley",
          "abstract/Copper/Bentley",
          "bioghist/Copper/Bentley",
          "corpnames/Copper/Bentley",
          "geognames/Copper/Bentley",
          "scopecontent/Copper/Bentley",
          "subjects/Copper/Bentley",
          "scopecontent/Costume/Bentley",
          "abstract/Costumes/Bentley",
          "subjects/Costumes/Bentley",
          "bioghist/Dead/Bentley",
          "abstract/Death/Bentley",
          "bioghist/Death/Bentley",
          "scopecontent/Death/Bentley",
          "subjects/Death/Bentley",
          "bioghist/Devil/Bentley",
          "geognames/Dwellings/Bentley",
          "subjects/Dwellings/Bentley",
          "bioghist/Execution/Bentley",
          "scopecontent/Execution/Bentley",
          "abstract/Fox/Bentley",
          "bioghist/Fox/Bentley",
          "persnames/Fox/Bentley",
          "scopecontent/Fox/Bentley",
          "titleproper/Fox/Bentley",
          "abstract/Grave/Bentley",
          "scopecontent/Grave/Bentley",
          "bioghist/Half-breeds/Bentley",
          "bioghist/Hiawatha/Bentley",
          "corpnames/Hiawatha/Bentley",
          "geognames/Hiawatha/Bentley",
          "scopecontent/Hiawatha/Bentley",
          "titleproper/Hiawatha/Bentley",
          "abstract/Indian/Bentley",
          "bioghist/Indian/Bentley",
          "corpnames/Indian/Bentley",
          "geognames/Indian/Bentley",
          "scopecontent/Indian/Bentley",
          "subjects/Indian/Bentley",
          "titleproper/Indian/Bentley",
          "abstract/Indian agent/Bentley",
          "bioghist/Indian agent/Bentley",
          "scopecontent/Indian agent/Bentley",
          "bioghist/Indian removal/Bentley",
          "abstract/Indians/Bentley",
          "bioghist/Indians/Bentley",
          "geognames/Indians/Bentley",
          "scopecontent/Indians/Bentley",
          "subjects/Indians/Bentley",
          "titleproper/Indians/Bentley",
          "bioghist/Indigenous/Bentley",
          "corpnames/Indigenous/Bentley",
          "scopecontent/Indigenous/Bentley",
          "subjects/Indigenous/Bentley",
          "scopecontent/Indigenous Person/Bentley",
          "bioghist/Mound/Bentley",
          "scopecontent/Mound/Bentley",
          "bioghist/Mounds/Bentley",
          "geognames/Mounds/Bentley",
          "scopecontent/Mounds/Bentley",
          "subjects/Mounds/Bentley",
          "abstract/Native/Bentley",
          "bioghist/Native/Bentley",
          "corpnames/Native/Bentley",
          "scopecontent/Native/Bentley",
          "subjects/Native/Bentley",
          "titleproper/Native/Bentley",
          "abstract/Odawa/Bentley",
          "bioghist/Odawa/Bentley",
          "scopecontent/Odawa/Bentley",
          "abstract/Ojibwa/Bentley",
          "bioghist/Ojibwa/Bentley",
          "persnames/Ojibwa/Bentley",
          "scopecontent/Ojibwa/Bentley",
          "subjects/Ojibwa/Bentley",
          "abstract/Ojibwe/Bentley",
          "bioghist/Ojibwe/Bentley",
          "scopecontent/Ojibwe/Bentley",
          "abstract/Ottawa/Bentley",
          "bioghist/Ottawa/Bentley",
          "geognames/Ottawa/Bentley",
          "persnames/Ottawa/Bentley",
          "scopecontent/Ottawa/Bentley",
          "subjects/Ottawa/Bentley",
          "titleproper/Ottawa/Bentley",
          "subjects/Pottery/Bentley",
          "abstract/Remains/Bentley",
          "bioghist/Remains/Bentley",
          "scopecontent/Remains/Bentley",
          "abstract/Removal/Bentley",
          "bioghist/Removal/Bentley",
          "scopecontent/Removal/Bentley",
          "bioghist/Reservation/Bentley",
          "subjects/Reservation/Bentley",
          "bioghist/Reservations/Bentley",
          "bioghist/Sauk/Bentley",
          "persnames/Sauk/Bentley",
          "scopecontent/Sauk/Bentley",
          "persnames/Savage/Bentley",
          "bioghist/Settlers/Bentley",
          "scopecontent/Settlers/Bentley",
          "bioghist/Skull/Bentley",
          "abstract/Treaties/Bentley",
          "bioghist/Treaties/Bentley",
          "scopecontent/Treaties/Bentley",
          "abstract/Treaty/Bentley",
          "bioghist/Treaty/Bentley",
          "scopecontent/Treaty/Bentley",
          "bioghist/Warriors/Bentley",
          "scopecontent/Warriors/Bentley",
          "scopecontent/Anishnaabe",
          "bioghist/Burial",
          "bioghist/Burials",
          "subjects/Burials",
          "bioghist/Captive",
          "abstract/Cass",
          "bioghist/Cass",
          "geognames/Cass",
          "persnames/Cass",
          "scopecontent/Cass",
          "titleproper/Cass",
          "abstract/Chief",
          "bioghist/Chief",
          "persnames/Chief",
          "scopecontent/Chief",
          "titleproper/Chief",
          "bioghist/Chiefs",
          "scopecontent/Chiefs",
          "abstract/Chippewa",
          "bioghist/Chippewa",
          "corpnames/Chippewa",
          "geognames/Chippewa",
          "scopecontent/Chippewa",
          "bioghist/Chippewas",
          "scopecontent/Chippewas",
          "abstract/Colonial",
          "scopecontent/Colonial",
          "bioghist/Colonialism",
          "bioghist/Colony",
          "geognames/Colony",
          "scopecontent/Colony",
          "abstract/Copper",
          "bioghist/Copper",
          "corpnames/Copper",
          "geognames/Copper",
          "scopecontent/Copper",
          "subjects/Copper",
          "scopecontent/Costume",
          "abstract/Costumes",
          "subjects/Costumes",
          "bioghist/Dead",
          "abstract/Death",
          "bioghist/Death",
          "scopecontent/Death",
          "subjects/Death",
          "bioghist/Devil",
          "geognames/Dwellings",
          "subjects/Dwellings",
          "bioghist/Execution",
          "scopecontent/Execution",
          "abstract/Fox",
          "bioghist/Fox",
          "persnames/Fox",
          "scopecontent/Fox",
          "titleproper/Fox",
          "abstract/Grave",
          "scopecontent/Grave",
          "bioghist/Half-breeds",
          "bioghist/Hiawatha",
          "corpnames/Hiawatha",
          "geognames/Hiawatha",
          "scopecontent/Hiawatha",
          "titleproper/Hiawatha",
          "abstract/Indian",
          "bioghist/Indian",
          "corpnames/Indian",
          "geognames/Indian",
          "scopecontent/Indian",
          "subjects/Indian",
          "titleproper/Indian",
          "abstract/Indian agent",
          "bioghist/Indian agent",
          "scopecontent/Indian agent",
          "bioghist/Indian removal",
          "abstract/Indians",
          "bioghist/Indians",
          "geognames/Indians",
          "scopecontent/Indians",
          "subjects/Indians",
          "titleproper/Indians",
          "bioghist/Indigenous",
          "corpnames/Indigenous",
          "scopecontent/Indigenous",
          "subjects/Indigenous",
          "scopecontent/Indigenous Person",
          "bioghist/Mound",
          "scopecontent/Mound",
          "bioghist/Mounds",
          "geognames/Mounds",
          "scopecontent/Mounds",
          "subjects/Mounds",
          "abstract/Native",
          "bioghist/Native",
          "corpnames/Native",
          "scopecontent/Native",
          "subjects/Native",
          "titleproper/Native",
          "abstract/Odawa",
          "bioghist/Odawa",
          "scopecontent/Odawa",
          "abstract/Ojibwa",
          "bioghist/Ojibwa",
          "persnames/Ojibwa",
          "scopecontent/Ojibwa",
          "subjects/Ojibwa",
          "abstract/Ojibwe",
          "bioghist/Ojibwe",
          "scopecontent/Ojibwe",
          "abstract/Ottawa",
          "bioghist/Ottawa",
          "geognames/Ottawa",
          "persnames/Ottawa",
          "scopecontent/Ottawa",
          "subjects/Ottawa",
          "titleproper/Ottawa",
          "subjects/Pottery",
          "abstract/Remains",
          "bioghist/Remains",
          "scopecontent/Remains",
          "abstract/Removal",
          "bioghist/Removal",
          "scopecontent/Removal",
          "bioghist/Reservation",
          "subjects/Reservation",
          "bioghist/Reservations",
          "bioghist/Sauk",
          "persnames/Sauk",
          "scopecontent/Sauk",
          "persnames/Savage",
          "bioghist/Settlers",
          "scopecontent/Settlers",
          "bioghist/Skull",
          "abstract/Treaties",
          "bioghist/Treaties",
          "scopecontent/Treaties",
          "abstract/Treaty",
          "bioghist/Treaty",
          "scopecontent/Treaty",
          "bioghist/Warriors",
          "scopecontent/Warriors",
          "abstract",
          "bioghist",
          "corpnames",
          "geognames",
          "persnames",
          "scopecontent",
          "subjects",
          "titleproper"
         ],
         "labels": [
          "Bentley",
          "Bentley",
          "Bentley",
          "Bentley",
          "Bentley",
          "Bentley",
          "Bentley",
          "Bentley",
          "Bentley",
          "Bentley",
          "Bentley",
          "Bentley",
          "Bentley",
          "Bentley",
          "Bentley",
          "Bentley",
          "Bentley",
          "Bentley",
          "Bentley",
          "Bentley",
          "Bentley",
          "Bentley",
          "Bentley",
          "Bentley",
          "Bentley",
          "Bentley",
          "Bentley",
          "Bentley",
          "Bentley",
          "Bentley",
          "Bentley",
          "Bentley",
          "Bentley",
          "Bentley",
          "Bentley",
          "Bentley",
          "Bentley",
          "Bentley",
          "Bentley",
          "Bentley",
          "Bentley",
          "Bentley",
          "Bentley",
          "Bentley",
          "Bentley",
          "Bentley",
          "Bentley",
          "Bentley",
          "Bentley",
          "Bentley",
          "Bentley",
          "Bentley",
          "Bentley",
          "Bentley",
          "Bentley",
          "Bentley",
          "Bentley",
          "Bentley",
          "Bentley",
          "Bentley",
          "Bentley",
          "Bentley",
          "Bentley",
          "Bentley",
          "Bentley",
          "Bentley",
          "Bentley",
          "Bentley",
          "Bentley",
          "Bentley",
          "Bentley",
          "Bentley",
          "Bentley",
          "Bentley",
          "Bentley",
          "Bentley",
          "Bentley",
          "Bentley",
          "Bentley",
          "Bentley",
          "Bentley",
          "Bentley",
          "Bentley",
          "Bentley",
          "Bentley",
          "Bentley",
          "Bentley",
          "Bentley",
          "Bentley",
          "Bentley",
          "Bentley",
          "Bentley",
          "Bentley",
          "Bentley",
          "Bentley",
          "Bentley",
          "Bentley",
          "Bentley",
          "Bentley",
          "Bentley",
          "Bentley",
          "Bentley",
          "Bentley",
          "Bentley",
          "Bentley",
          "Bentley",
          "Bentley",
          "Bentley",
          "Bentley",
          "Bentley",
          "Bentley",
          "Bentley",
          "Bentley",
          "Bentley",
          "Bentley",
          "Bentley",
          "Bentley",
          "Bentley",
          "Bentley",
          "Bentley",
          "Bentley",
          "Bentley",
          "Bentley",
          "Bentley",
          "Bentley",
          "Bentley",
          "Bentley",
          "Bentley",
          "Bentley",
          "Bentley",
          "Bentley",
          "Bentley",
          "Bentley",
          "Bentley",
          "Bentley",
          "Bentley",
          "Bentley",
          "Bentley",
          "Bentley",
          "Bentley",
          "Anishnaabe",
          "Burial",
          "Burials",
          "Burials",
          "Captive",
          "Cass",
          "Cass",
          "Cass",
          "Cass",
          "Cass",
          "Cass",
          "Chief",
          "Chief",
          "Chief",
          "Chief",
          "Chief",
          "Chiefs",
          "Chiefs",
          "Chippewa",
          "Chippewa",
          "Chippewa",
          "Chippewa",
          "Chippewa",
          "Chippewas",
          "Chippewas",
          "Colonial",
          "Colonial",
          "Colonialism",
          "Colony",
          "Colony",
          "Colony",
          "Copper",
          "Copper",
          "Copper",
          "Copper",
          "Copper",
          "Copper",
          "Costume",
          "Costumes",
          "Costumes",
          "Dead",
          "Death",
          "Death",
          "Death",
          "Death",
          "Devil",
          "Dwellings",
          "Dwellings",
          "Execution",
          "Execution",
          "Fox",
          "Fox",
          "Fox",
          "Fox",
          "Fox",
          "Grave",
          "Grave",
          "Half-breeds",
          "Hiawatha",
          "Hiawatha",
          "Hiawatha",
          "Hiawatha",
          "Hiawatha",
          "Indian",
          "Indian",
          "Indian",
          "Indian",
          "Indian",
          "Indian",
          "Indian",
          "Indian agent",
          "Indian agent",
          "Indian agent",
          "Indian removal",
          "Indians",
          "Indians",
          "Indians",
          "Indians",
          "Indians",
          "Indians",
          "Indigenous",
          "Indigenous",
          "Indigenous",
          "Indigenous",
          "Indigenous Person",
          "Mound",
          "Mound",
          "Mounds",
          "Mounds",
          "Mounds",
          "Mounds",
          "Native",
          "Native",
          "Native",
          "Native",
          "Native",
          "Native",
          "Odawa",
          "Odawa",
          "Odawa",
          "Ojibwa",
          "Ojibwa",
          "Ojibwa",
          "Ojibwa",
          "Ojibwa",
          "Ojibwe",
          "Ojibwe",
          "Ojibwe",
          "Ottawa",
          "Ottawa",
          "Ottawa",
          "Ottawa",
          "Ottawa",
          "Ottawa",
          "Ottawa",
          "Pottery",
          "Remains",
          "Remains",
          "Remains",
          "Removal",
          "Removal",
          "Removal",
          "Reservation",
          "Reservation",
          "Reservations",
          "Sauk",
          "Sauk",
          "Sauk",
          "Savage",
          "Settlers",
          "Settlers",
          "Skull",
          "Treaties",
          "Treaties",
          "Treaties",
          "Treaty",
          "Treaty",
          "Treaty",
          "Warriors",
          "Warriors",
          "abstract",
          "bioghist",
          "corpnames",
          "geognames",
          "persnames",
          "scopecontent",
          "subjects",
          "titleproper"
         ],
         "marker": {
          "coloraxis": "coloraxis",
          "colors": [
           1,
           2,
           1,
           1,
           1,
           6,
           7,
           8,
           10,
           10,
           1,
           1,
           16,
           4,
           17,
           3,
           2,
           5,
           4,
           13,
           1,
           8,
           14,
           1,
           3,
           1,
           3,
           3,
           2,
           1,
           1,
           1,
           11,
           5,
           3,
           8,
           10,
           4,
           1,
           1,
           1,
           1,
           30,
           7,
           2,
           2,
           1,
           18,
           1,
           1,
           1,
           13,
           3,
           3,
           1,
           1,
           1,
           1,
           6,
           2,
           1,
           1,
           1,
           35,
           75,
           23,
           4,
           50,
           4,
           6,
           2,
           6,
           1,
           1,
           11,
           23,
           1,
           39,
           216,
           2,
           2,
           1,
           4,
           2,
           1,
           3,
           1,
           5,
           2,
           1,
           3,
           16,
           102,
           3,
           28,
           2,
           3,
           3,
           5,
           3,
           1,
           9,
           1,
           5,
           14,
           3,
           2,
           8,
           1,
           10,
           3,
           1,
           11,
           7,
           2,
           2,
           1,
           4,
           2,
           1,
           2,
           1,
           3,
           1,
           2,
           1,
           2,
           2,
           1,
           5,
           2,
           1,
           1,
           7,
           3,
           2,
           7,
           11,
           1,
           2,
           1,
           2,
           1,
           1,
           1,
           6,
           7,
           8,
           10,
           10,
           1,
           1,
           16,
           4,
           17,
           3,
           2,
           5,
           4,
           13,
           1,
           8,
           14,
           1,
           3,
           1,
           3,
           3,
           2,
           1,
           1,
           1,
           11,
           5,
           3,
           8,
           10,
           4,
           1,
           1,
           1,
           1,
           30,
           7,
           2,
           2,
           1,
           18,
           1,
           1,
           1,
           13,
           3,
           3,
           1,
           1,
           1,
           1,
           6,
           2,
           1,
           1,
           1,
           35,
           75,
           23,
           4,
           50,
           4,
           6,
           2,
           6,
           1,
           1,
           11,
           23,
           1,
           39,
           216,
           2,
           2,
           1,
           4,
           2,
           1,
           3,
           1,
           5,
           2,
           1,
           3,
           16,
           102,
           3,
           28,
           2,
           3,
           3,
           5,
           3,
           1,
           9,
           1,
           5,
           14,
           3,
           2,
           8,
           1,
           10,
           3,
           1,
           11,
           7,
           2,
           2,
           1,
           4,
           2,
           1,
           2,
           1,
           3,
           1,
           2,
           1,
           2,
           2,
           1,
           5,
           2,
           1,
           1,
           7,
           3,
           2,
           7,
           11,
           1,
           2,
           18,
           48.15681233933162,
           16.257142857142856,
           5.3125,
           6,
           23.47244094488189,
           167.38162544169612,
           3.4210526315789473
          ]
         },
         "name": "",
         "parents": [
          "scopecontent/Anishnaabe",
          "bioghist/Burial",
          "bioghist/Burials",
          "subjects/Burials",
          "bioghist/Captive",
          "abstract/Cass",
          "bioghist/Cass",
          "geognames/Cass",
          "persnames/Cass",
          "scopecontent/Cass",
          "titleproper/Cass",
          "abstract/Chief",
          "bioghist/Chief",
          "persnames/Chief",
          "scopecontent/Chief",
          "titleproper/Chief",
          "bioghist/Chiefs",
          "scopecontent/Chiefs",
          "abstract/Chippewa",
          "bioghist/Chippewa",
          "corpnames/Chippewa",
          "geognames/Chippewa",
          "scopecontent/Chippewa",
          "bioghist/Chippewas",
          "scopecontent/Chippewas",
          "abstract/Colonial",
          "scopecontent/Colonial",
          "bioghist/Colonialism",
          "bioghist/Colony",
          "geognames/Colony",
          "scopecontent/Colony",
          "abstract/Copper",
          "bioghist/Copper",
          "corpnames/Copper",
          "geognames/Copper",
          "scopecontent/Copper",
          "subjects/Copper",
          "scopecontent/Costume",
          "abstract/Costumes",
          "subjects/Costumes",
          "bioghist/Dead",
          "abstract/Death",
          "bioghist/Death",
          "scopecontent/Death",
          "subjects/Death",
          "bioghist/Devil",
          "geognames/Dwellings",
          "subjects/Dwellings",
          "bioghist/Execution",
          "scopecontent/Execution",
          "abstract/Fox",
          "bioghist/Fox",
          "persnames/Fox",
          "scopecontent/Fox",
          "titleproper/Fox",
          "abstract/Grave",
          "scopecontent/Grave",
          "bioghist/Half-breeds",
          "bioghist/Hiawatha",
          "corpnames/Hiawatha",
          "geognames/Hiawatha",
          "scopecontent/Hiawatha",
          "titleproper/Hiawatha",
          "abstract/Indian",
          "bioghist/Indian",
          "corpnames/Indian",
          "geognames/Indian",
          "scopecontent/Indian",
          "subjects/Indian",
          "titleproper/Indian",
          "abstract/Indian agent",
          "bioghist/Indian agent",
          "scopecontent/Indian agent",
          "bioghist/Indian removal",
          "abstract/Indians",
          "bioghist/Indians",
          "geognames/Indians",
          "scopecontent/Indians",
          "subjects/Indians",
          "titleproper/Indians",
          "bioghist/Indigenous",
          "corpnames/Indigenous",
          "scopecontent/Indigenous",
          "subjects/Indigenous",
          "scopecontent/Indigenous Person",
          "bioghist/Mound",
          "scopecontent/Mound",
          "bioghist/Mounds",
          "geognames/Mounds",
          "scopecontent/Mounds",
          "subjects/Mounds",
          "abstract/Native",
          "bioghist/Native",
          "corpnames/Native",
          "scopecontent/Native",
          "subjects/Native",
          "titleproper/Native",
          "abstract/Odawa",
          "bioghist/Odawa",
          "scopecontent/Odawa",
          "abstract/Ojibwa",
          "bioghist/Ojibwa",
          "persnames/Ojibwa",
          "scopecontent/Ojibwa",
          "subjects/Ojibwa",
          "abstract/Ojibwe",
          "bioghist/Ojibwe",
          "scopecontent/Ojibwe",
          "abstract/Ottawa",
          "bioghist/Ottawa",
          "geognames/Ottawa",
          "persnames/Ottawa",
          "scopecontent/Ottawa",
          "subjects/Ottawa",
          "titleproper/Ottawa",
          "subjects/Pottery",
          "abstract/Remains",
          "bioghist/Remains",
          "scopecontent/Remains",
          "abstract/Removal",
          "bioghist/Removal",
          "scopecontent/Removal",
          "bioghist/Reservation",
          "subjects/Reservation",
          "bioghist/Reservations",
          "bioghist/Sauk",
          "persnames/Sauk",
          "scopecontent/Sauk",
          "persnames/Savage",
          "bioghist/Settlers",
          "scopecontent/Settlers",
          "bioghist/Skull",
          "abstract/Treaties",
          "bioghist/Treaties",
          "scopecontent/Treaties",
          "abstract/Treaty",
          "bioghist/Treaty",
          "scopecontent/Treaty",
          "bioghist/Warriors",
          "scopecontent/Warriors",
          "scopecontent",
          "bioghist",
          "bioghist",
          "subjects",
          "bioghist",
          "abstract",
          "bioghist",
          "geognames",
          "persnames",
          "scopecontent",
          "titleproper",
          "abstract",
          "bioghist",
          "persnames",
          "scopecontent",
          "titleproper",
          "bioghist",
          "scopecontent",
          "abstract",
          "bioghist",
          "corpnames",
          "geognames",
          "scopecontent",
          "bioghist",
          "scopecontent",
          "abstract",
          "scopecontent",
          "bioghist",
          "bioghist",
          "geognames",
          "scopecontent",
          "abstract",
          "bioghist",
          "corpnames",
          "geognames",
          "scopecontent",
          "subjects",
          "scopecontent",
          "abstract",
          "subjects",
          "bioghist",
          "abstract",
          "bioghist",
          "scopecontent",
          "subjects",
          "bioghist",
          "geognames",
          "subjects",
          "bioghist",
          "scopecontent",
          "abstract",
          "bioghist",
          "persnames",
          "scopecontent",
          "titleproper",
          "abstract",
          "scopecontent",
          "bioghist",
          "bioghist",
          "corpnames",
          "geognames",
          "scopecontent",
          "titleproper",
          "abstract",
          "bioghist",
          "corpnames",
          "geognames",
          "scopecontent",
          "subjects",
          "titleproper",
          "abstract",
          "bioghist",
          "scopecontent",
          "bioghist",
          "abstract",
          "bioghist",
          "geognames",
          "scopecontent",
          "subjects",
          "titleproper",
          "bioghist",
          "corpnames",
          "scopecontent",
          "subjects",
          "scopecontent",
          "bioghist",
          "scopecontent",
          "bioghist",
          "geognames",
          "scopecontent",
          "subjects",
          "abstract",
          "bioghist",
          "corpnames",
          "scopecontent",
          "subjects",
          "titleproper",
          "abstract",
          "bioghist",
          "scopecontent",
          "abstract",
          "bioghist",
          "persnames",
          "scopecontent",
          "subjects",
          "abstract",
          "bioghist",
          "scopecontent",
          "abstract",
          "bioghist",
          "geognames",
          "persnames",
          "scopecontent",
          "subjects",
          "titleproper",
          "subjects",
          "abstract",
          "bioghist",
          "scopecontent",
          "abstract",
          "bioghist",
          "scopecontent",
          "bioghist",
          "subjects",
          "bioghist",
          "bioghist",
          "persnames",
          "scopecontent",
          "persnames",
          "bioghist",
          "scopecontent",
          "bioghist",
          "abstract",
          "bioghist",
          "scopecontent",
          "abstract",
          "bioghist",
          "scopecontent",
          "bioghist",
          "scopecontent",
          "",
          "",
          "",
          "",
          "",
          "",
          "",
          ""
         ],
         "type": "sunburst",
         "values": [
          1,
          2,
          1,
          1,
          1,
          6,
          7,
          8,
          10,
          10,
          1,
          1,
          16,
          4,
          17,
          3,
          2,
          5,
          4,
          13,
          1,
          8,
          14,
          1,
          3,
          1,
          3,
          3,
          2,
          1,
          1,
          1,
          11,
          5,
          3,
          8,
          10,
          4,
          1,
          1,
          1,
          1,
          30,
          7,
          2,
          2,
          1,
          18,
          1,
          1,
          1,
          13,
          3,
          3,
          1,
          1,
          1,
          1,
          6,
          2,
          1,
          1,
          1,
          35,
          75,
          23,
          4,
          50,
          4,
          6,
          2,
          6,
          1,
          1,
          11,
          23,
          1,
          39,
          216,
          2,
          2,
          1,
          4,
          2,
          1,
          3,
          1,
          5,
          2,
          1,
          3,
          16,
          102,
          3,
          28,
          2,
          3,
          3,
          5,
          3,
          1,
          9,
          1,
          5,
          14,
          3,
          2,
          8,
          1,
          10,
          3,
          1,
          11,
          7,
          2,
          2,
          1,
          4,
          2,
          1,
          2,
          1,
          3,
          1,
          2,
          1,
          2,
          2,
          1,
          5,
          2,
          1,
          1,
          7,
          3,
          2,
          7,
          11,
          1,
          2,
          1,
          2,
          1,
          1,
          1,
          6,
          7,
          8,
          10,
          10,
          1,
          1,
          16,
          4,
          17,
          3,
          2,
          5,
          4,
          13,
          1,
          8,
          14,
          1,
          3,
          1,
          3,
          3,
          2,
          1,
          1,
          1,
          11,
          5,
          3,
          8,
          10,
          4,
          1,
          1,
          1,
          1,
          30,
          7,
          2,
          2,
          1,
          18,
          1,
          1,
          1,
          13,
          3,
          3,
          1,
          1,
          1,
          1,
          6,
          2,
          1,
          1,
          1,
          35,
          75,
          23,
          4,
          50,
          4,
          6,
          2,
          6,
          1,
          1,
          11,
          23,
          1,
          39,
          216,
          2,
          2,
          1,
          4,
          2,
          1,
          3,
          1,
          5,
          2,
          1,
          3,
          16,
          102,
          3,
          28,
          2,
          3,
          3,
          5,
          3,
          1,
          9,
          1,
          5,
          14,
          3,
          2,
          8,
          1,
          10,
          3,
          1,
          11,
          7,
          2,
          2,
          1,
          4,
          2,
          1,
          2,
          1,
          3,
          1,
          2,
          1,
          2,
          2,
          1,
          5,
          2,
          1,
          1,
          7,
          3,
          2,
          7,
          11,
          1,
          2,
          94,
          389,
          35,
          32,
          22,
          254,
          283,
          19
         ]
        }
       ],
       "layout": {
        "coloraxis": {
         "colorbar": {
          "title": {
           "text": "Term_Frequency"
          }
         },
         "colorscale": [
          [
           0,
           "rgb(247,251,255)"
          ],
          [
           0.125,
           "rgb(222,235,247)"
          ],
          [
           0.25,
           "rgb(198,219,239)"
          ],
          [
           0.375,
           "rgb(158,202,225)"
          ],
          [
           0.5,
           "rgb(107,174,214)"
          ],
          [
           0.625,
           "rgb(66,146,198)"
          ],
          [
           0.75,
           "rgb(33,113,181)"
          ],
          [
           0.875,
           "rgb(8,81,156)"
          ],
          [
           1,
           "rgb(8,48,107)"
          ]
         ]
        },
        "height": 800,
        "legend": {
         "tracegroupgap": 0
        },
        "margin": {
         "t": 60
        },
        "template": {
         "data": {
          "bar": [
           {
            "error_x": {
             "color": "#2a3f5f"
            },
            "error_y": {
             "color": "#2a3f5f"
            },
            "marker": {
             "line": {
              "color": "#E5ECF6",
              "width": 0.5
             },
             "pattern": {
              "fillmode": "overlay",
              "size": 10,
              "solidity": 0.2
             }
            },
            "type": "bar"
           }
          ],
          "barpolar": [
           {
            "marker": {
             "line": {
              "color": "#E5ECF6",
              "width": 0.5
             },
             "pattern": {
              "fillmode": "overlay",
              "size": 10,
              "solidity": 0.2
             }
            },
            "type": "barpolar"
           }
          ],
          "carpet": [
           {
            "aaxis": {
             "endlinecolor": "#2a3f5f",
             "gridcolor": "white",
             "linecolor": "white",
             "minorgridcolor": "white",
             "startlinecolor": "#2a3f5f"
            },
            "baxis": {
             "endlinecolor": "#2a3f5f",
             "gridcolor": "white",
             "linecolor": "white",
             "minorgridcolor": "white",
             "startlinecolor": "#2a3f5f"
            },
            "type": "carpet"
           }
          ],
          "choropleth": [
           {
            "colorbar": {
             "outlinewidth": 0,
             "ticks": ""
            },
            "type": "choropleth"
           }
          ],
          "contour": [
           {
            "colorbar": {
             "outlinewidth": 0,
             "ticks": ""
            },
            "colorscale": [
             [
              0,
              "#0d0887"
             ],
             [
              0.1111111111111111,
              "#46039f"
             ],
             [
              0.2222222222222222,
              "#7201a8"
             ],
             [
              0.3333333333333333,
              "#9c179e"
             ],
             [
              0.4444444444444444,
              "#bd3786"
             ],
             [
              0.5555555555555556,
              "#d8576b"
             ],
             [
              0.6666666666666666,
              "#ed7953"
             ],
             [
              0.7777777777777778,
              "#fb9f3a"
             ],
             [
              0.8888888888888888,
              "#fdca26"
             ],
             [
              1,
              "#f0f921"
             ]
            ],
            "type": "contour"
           }
          ],
          "contourcarpet": [
           {
            "colorbar": {
             "outlinewidth": 0,
             "ticks": ""
            },
            "type": "contourcarpet"
           }
          ],
          "heatmap": [
           {
            "colorbar": {
             "outlinewidth": 0,
             "ticks": ""
            },
            "colorscale": [
             [
              0,
              "#0d0887"
             ],
             [
              0.1111111111111111,
              "#46039f"
             ],
             [
              0.2222222222222222,
              "#7201a8"
             ],
             [
              0.3333333333333333,
              "#9c179e"
             ],
             [
              0.4444444444444444,
              "#bd3786"
             ],
             [
              0.5555555555555556,
              "#d8576b"
             ],
             [
              0.6666666666666666,
              "#ed7953"
             ],
             [
              0.7777777777777778,
              "#fb9f3a"
             ],
             [
              0.8888888888888888,
              "#fdca26"
             ],
             [
              1,
              "#f0f921"
             ]
            ],
            "type": "heatmap"
           }
          ],
          "heatmapgl": [
           {
            "colorbar": {
             "outlinewidth": 0,
             "ticks": ""
            },
            "colorscale": [
             [
              0,
              "#0d0887"
             ],
             [
              0.1111111111111111,
              "#46039f"
             ],
             [
              0.2222222222222222,
              "#7201a8"
             ],
             [
              0.3333333333333333,
              "#9c179e"
             ],
             [
              0.4444444444444444,
              "#bd3786"
             ],
             [
              0.5555555555555556,
              "#d8576b"
             ],
             [
              0.6666666666666666,
              "#ed7953"
             ],
             [
              0.7777777777777778,
              "#fb9f3a"
             ],
             [
              0.8888888888888888,
              "#fdca26"
             ],
             [
              1,
              "#f0f921"
             ]
            ],
            "type": "heatmapgl"
           }
          ],
          "histogram": [
           {
            "marker": {
             "pattern": {
              "fillmode": "overlay",
              "size": 10,
              "solidity": 0.2
             }
            },
            "type": "histogram"
           }
          ],
          "histogram2d": [
           {
            "colorbar": {
             "outlinewidth": 0,
             "ticks": ""
            },
            "colorscale": [
             [
              0,
              "#0d0887"
             ],
             [
              0.1111111111111111,
              "#46039f"
             ],
             [
              0.2222222222222222,
              "#7201a8"
             ],
             [
              0.3333333333333333,
              "#9c179e"
             ],
             [
              0.4444444444444444,
              "#bd3786"
             ],
             [
              0.5555555555555556,
              "#d8576b"
             ],
             [
              0.6666666666666666,
              "#ed7953"
             ],
             [
              0.7777777777777778,
              "#fb9f3a"
             ],
             [
              0.8888888888888888,
              "#fdca26"
             ],
             [
              1,
              "#f0f921"
             ]
            ],
            "type": "histogram2d"
           }
          ],
          "histogram2dcontour": [
           {
            "colorbar": {
             "outlinewidth": 0,
             "ticks": ""
            },
            "colorscale": [
             [
              0,
              "#0d0887"
             ],
             [
              0.1111111111111111,
              "#46039f"
             ],
             [
              0.2222222222222222,
              "#7201a8"
             ],
             [
              0.3333333333333333,
              "#9c179e"
             ],
             [
              0.4444444444444444,
              "#bd3786"
             ],
             [
              0.5555555555555556,
              "#d8576b"
             ],
             [
              0.6666666666666666,
              "#ed7953"
             ],
             [
              0.7777777777777778,
              "#fb9f3a"
             ],
             [
              0.8888888888888888,
              "#fdca26"
             ],
             [
              1,
              "#f0f921"
             ]
            ],
            "type": "histogram2dcontour"
           }
          ],
          "mesh3d": [
           {
            "colorbar": {
             "outlinewidth": 0,
             "ticks": ""
            },
            "type": "mesh3d"
           }
          ],
          "parcoords": [
           {
            "line": {
             "colorbar": {
              "outlinewidth": 0,
              "ticks": ""
             }
            },
            "type": "parcoords"
           }
          ],
          "pie": [
           {
            "automargin": true,
            "type": "pie"
           }
          ],
          "scatter": [
           {
            "fillpattern": {
             "fillmode": "overlay",
             "size": 10,
             "solidity": 0.2
            },
            "type": "scatter"
           }
          ],
          "scatter3d": [
           {
            "line": {
             "colorbar": {
              "outlinewidth": 0,
              "ticks": ""
             }
            },
            "marker": {
             "colorbar": {
              "outlinewidth": 0,
              "ticks": ""
             }
            },
            "type": "scatter3d"
           }
          ],
          "scattercarpet": [
           {
            "marker": {
             "colorbar": {
              "outlinewidth": 0,
              "ticks": ""
             }
            },
            "type": "scattercarpet"
           }
          ],
          "scattergeo": [
           {
            "marker": {
             "colorbar": {
              "outlinewidth": 0,
              "ticks": ""
             }
            },
            "type": "scattergeo"
           }
          ],
          "scattergl": [
           {
            "marker": {
             "colorbar": {
              "outlinewidth": 0,
              "ticks": ""
             }
            },
            "type": "scattergl"
           }
          ],
          "scattermapbox": [
           {
            "marker": {
             "colorbar": {
              "outlinewidth": 0,
              "ticks": ""
             }
            },
            "type": "scattermapbox"
           }
          ],
          "scatterpolar": [
           {
            "marker": {
             "colorbar": {
              "outlinewidth": 0,
              "ticks": ""
             }
            },
            "type": "scatterpolar"
           }
          ],
          "scatterpolargl": [
           {
            "marker": {
             "colorbar": {
              "outlinewidth": 0,
              "ticks": ""
             }
            },
            "type": "scatterpolargl"
           }
          ],
          "scatterternary": [
           {
            "marker": {
             "colorbar": {
              "outlinewidth": 0,
              "ticks": ""
             }
            },
            "type": "scatterternary"
           }
          ],
          "surface": [
           {
            "colorbar": {
             "outlinewidth": 0,
             "ticks": ""
            },
            "colorscale": [
             [
              0,
              "#0d0887"
             ],
             [
              0.1111111111111111,
              "#46039f"
             ],
             [
              0.2222222222222222,
              "#7201a8"
             ],
             [
              0.3333333333333333,
              "#9c179e"
             ],
             [
              0.4444444444444444,
              "#bd3786"
             ],
             [
              0.5555555555555556,
              "#d8576b"
             ],
             [
              0.6666666666666666,
              "#ed7953"
             ],
             [
              0.7777777777777778,
              "#fb9f3a"
             ],
             [
              0.8888888888888888,
              "#fdca26"
             ],
             [
              1,
              "#f0f921"
             ]
            ],
            "type": "surface"
           }
          ],
          "table": [
           {
            "cells": {
             "fill": {
              "color": "#EBF0F8"
             },
             "line": {
              "color": "white"
             }
            },
            "header": {
             "fill": {
              "color": "#C8D4E3"
             },
             "line": {
              "color": "white"
             }
            },
            "type": "table"
           }
          ]
         },
         "layout": {
          "annotationdefaults": {
           "arrowcolor": "#2a3f5f",
           "arrowhead": 0,
           "arrowwidth": 1
          },
          "autotypenumbers": "strict",
          "coloraxis": {
           "colorbar": {
            "outlinewidth": 0,
            "ticks": ""
           }
          },
          "colorscale": {
           "diverging": [
            [
             0,
             "#8e0152"
            ],
            [
             0.1,
             "#c51b7d"
            ],
            [
             0.2,
             "#de77ae"
            ],
            [
             0.3,
             "#f1b6da"
            ],
            [
             0.4,
             "#fde0ef"
            ],
            [
             0.5,
             "#f7f7f7"
            ],
            [
             0.6,
             "#e6f5d0"
            ],
            [
             0.7,
             "#b8e186"
            ],
            [
             0.8,
             "#7fbc41"
            ],
            [
             0.9,
             "#4d9221"
            ],
            [
             1,
             "#276419"
            ]
           ],
           "sequential": [
            [
             0,
             "#0d0887"
            ],
            [
             0.1111111111111111,
             "#46039f"
            ],
            [
             0.2222222222222222,
             "#7201a8"
            ],
            [
             0.3333333333333333,
             "#9c179e"
            ],
            [
             0.4444444444444444,
             "#bd3786"
            ],
            [
             0.5555555555555556,
             "#d8576b"
            ],
            [
             0.6666666666666666,
             "#ed7953"
            ],
            [
             0.7777777777777778,
             "#fb9f3a"
            ],
            [
             0.8888888888888888,
             "#fdca26"
            ],
            [
             1,
             "#f0f921"
            ]
           ],
           "sequentialminus": [
            [
             0,
             "#0d0887"
            ],
            [
             0.1111111111111111,
             "#46039f"
            ],
            [
             0.2222222222222222,
             "#7201a8"
            ],
            [
             0.3333333333333333,
             "#9c179e"
            ],
            [
             0.4444444444444444,
             "#bd3786"
            ],
            [
             0.5555555555555556,
             "#d8576b"
            ],
            [
             0.6666666666666666,
             "#ed7953"
            ],
            [
             0.7777777777777778,
             "#fb9f3a"
            ],
            [
             0.8888888888888888,
             "#fdca26"
            ],
            [
             1,
             "#f0f921"
            ]
           ]
          },
          "colorway": [
           "#636efa",
           "#EF553B",
           "#00cc96",
           "#ab63fa",
           "#FFA15A",
           "#19d3f3",
           "#FF6692",
           "#B6E880",
           "#FF97FF",
           "#FECB52"
          ],
          "font": {
           "color": "#2a3f5f"
          },
          "geo": {
           "bgcolor": "white",
           "lakecolor": "white",
           "landcolor": "#E5ECF6",
           "showlakes": true,
           "showland": true,
           "subunitcolor": "white"
          },
          "hoverlabel": {
           "align": "left"
          },
          "hovermode": "closest",
          "mapbox": {
           "style": "light"
          },
          "paper_bgcolor": "white",
          "plot_bgcolor": "#E5ECF6",
          "polar": {
           "angularaxis": {
            "gridcolor": "white",
            "linecolor": "white",
            "ticks": ""
           },
           "bgcolor": "#E5ECF6",
           "radialaxis": {
            "gridcolor": "white",
            "linecolor": "white",
            "ticks": ""
           }
          },
          "scene": {
           "xaxis": {
            "backgroundcolor": "#E5ECF6",
            "gridcolor": "white",
            "gridwidth": 2,
            "linecolor": "white",
            "showbackground": true,
            "ticks": "",
            "zerolinecolor": "white"
           },
           "yaxis": {
            "backgroundcolor": "#E5ECF6",
            "gridcolor": "white",
            "gridwidth": 2,
            "linecolor": "white",
            "showbackground": true,
            "ticks": "",
            "zerolinecolor": "white"
           },
           "zaxis": {
            "backgroundcolor": "#E5ECF6",
            "gridcolor": "white",
            "gridwidth": 2,
            "linecolor": "white",
            "showbackground": true,
            "ticks": "",
            "zerolinecolor": "white"
           }
          },
          "shapedefaults": {
           "line": {
            "color": "#2a3f5f"
           }
          },
          "ternary": {
           "aaxis": {
            "gridcolor": "white",
            "linecolor": "white",
            "ticks": ""
           },
           "baxis": {
            "gridcolor": "white",
            "linecolor": "white",
            "ticks": ""
           },
           "bgcolor": "#E5ECF6",
           "caxis": {
            "gridcolor": "white",
            "linecolor": "white",
            "ticks": ""
           }
          },
          "title": {
           "x": 0.05
          },
          "xaxis": {
           "automargin": true,
           "gridcolor": "white",
           "linecolor": "white",
           "ticks": "",
           "title": {
            "standoff": 15
           },
           "zerolinecolor": "white",
           "zerolinewidth": 2
          },
          "yaxis": {
           "automargin": true,
           "gridcolor": "white",
           "linecolor": "white",
           "ticks": "",
           "title": {
            "standoff": 15
           },
           "zerolinecolor": "white",
           "zerolinewidth": 2
          }
         }
        },
        "title": {
         "text": "Sunburst divided by EAD tag, term, then repository (archivists view?)"
        },
        "width": 1300
       }
      }
     },
     "metadata": {},
     "output_type": "display_data"
    }
   ],
   "source": [
    "# Sunburst - color scale\n",
    "fig = px.sunburst(all_subsection_term_frequencies, path=['Subsection','Term','Source'], values='Term_Frequency', \n",
    "                  color='Term_Frequency', color_continuous_scale='blues')\n",
    "fig.update_layout(width=1300, height=800, title='Sunburst divided by EAD tag, term, then repository (archivists view?)')\n",
    "fig.show()"
   ]
  },
  {
   "cell_type": "code",
   "execution_count": 39,
   "metadata": {},
   "outputs": [
    {
     "data": {
      "application/vnd.plotly.v1+json": {
       "config": {
        "plotlyServerURL": "https://plot.ly"
       },
       "data": [
        {
         "branchvalues": "total",
         "customdata": [
          [
           6
          ],
          [
           1
          ],
          [
           4
          ],
          [
           1
          ],
          [
           1
          ],
          [
           1
          ],
          [
           1
          ],
          [
           1
          ],
          [
           1
          ],
          [
           35
          ],
          [
           2
          ],
          [
           11
          ],
          [
           16
          ],
          [
           3
          ],
          [
           1
          ],
          [
           3
          ],
          [
           1
          ],
          [
           1
          ],
          [
           1
          ],
          [
           1
          ],
          [
           2
          ],
          [
           2
          ],
          [
           1
          ],
          [
           1
          ],
          [
           7
          ],
          [
           16
          ],
          [
           2
          ],
          [
           13
          ],
          [
           1
          ],
          [
           3
          ],
          [
           2
          ],
          [
           11
          ],
          [
           1
          ],
          [
           30
          ],
          [
           2
          ],
          [
           1
          ],
          [
           13
          ],
          [
           1
          ],
          [
           6
          ],
          [
           75
          ],
          [
           6
          ],
          [
           1
          ],
          [
           23
          ],
          [
           2
          ],
          [
           3
          ],
          [
           5
          ],
          [
           102
          ],
          [
           5
          ],
          [
           9
          ],
          [
           2
          ],
          [
           10
          ],
          [
           4
          ],
          [
           2
          ],
          [
           3
          ],
          [
           2
          ],
          [
           1
          ],
          [
           5
          ],
          [
           1
          ],
          [
           7
          ],
          [
           7
          ],
          [
           1
          ],
          [
           1
          ],
          [
           5
          ],
          [
           2
          ],
          [
           23
          ],
          [
           1
          ],
          [
           3
          ],
          [
           8
          ],
          [
           8
          ],
          [
           1
          ],
          [
           3
          ],
          [
           1
          ],
          [
           1
          ],
          [
           4
          ],
          [
           1
          ],
          [
           2
          ],
          [
           3
          ],
          [
           10
          ],
          [
           4
          ],
          [
           3
          ],
          [
           1
          ],
          [
           1
          ],
          [
           2
          ],
          [
           1
          ],
          [
           1
          ],
          [
           10
          ],
          [
           17
          ],
          [
           5
          ],
          [
           14
          ],
          [
           3
          ],
          [
           3
          ],
          [
           1
          ],
          [
           8
          ],
          [
           4
          ],
          [
           7
          ],
          [
           1
          ],
          [
           3
          ],
          [
           1
          ],
          [
           1
          ],
          [
           50
          ],
          [
           1
          ],
          [
           39
          ],
          [
           4
          ],
          [
           1
          ],
          [
           1
          ],
          [
           1
          ],
          [
           28
          ],
          [
           3
          ],
          [
           5
          ],
          [
           8
          ],
          [
           11
          ],
          [
           2
          ],
          [
           1
          ],
          [
           2
          ],
          [
           2
          ],
          [
           3
          ],
          [
           11
          ],
          [
           2
          ],
          [
           1
          ],
          [
           10
          ],
          [
           1
          ],
          [
           2
          ],
          [
           18
          ],
          [
           4
          ],
          [
           216
          ],
          [
           2
          ],
          [
           3
          ],
          [
           2
          ],
          [
           14
          ],
          [
           7
          ],
          [
           2
          ],
          [
           1
          ],
          [
           1
          ],
          [
           3
          ],
          [
           1
          ],
          [
           1
          ],
          [
           6
          ],
          [
           2
          ],
          [
           3
          ],
          [
           2
          ],
          [
           1
          ],
          [
           2
          ],
          [
           1
          ],
          [
           1
          ],
          [
           8.333333333333334
          ],
          [
           13.926829268292684
          ],
          [
           4.142857142857143
          ],
          [
           11.15
          ],
          [
           2.5
          ],
          [
           2.5
          ],
          [
           3
          ],
          [
           1.5
          ],
          [
           8.421052631578947
          ],
          [
           4
          ],
          [
           1
          ],
          [
           1
          ],
          [
           23.85
          ],
          [
           2
          ],
          [
           17.105263157894736
          ],
          [
           1
          ],
          [
           9
          ],
          [
           1
          ],
          [
           1
          ],
          [
           3.909090909090909
          ],
          [
           50.49238578680203
          ],
          [
           4.555555555555555
          ],
          [
           1
          ],
          [
           167.23287671232876
          ],
          [
           2.7777777777777777
          ],
          [
           1
          ],
          [
           2.5
          ],
          [
           3.5454545454545454
          ],
          [
           74.45454545454545
          ],
          [
           3.909090909090909
          ],
          [
           10.133333333333333
          ],
          [
           5.923076923076923
          ],
          [
           8.142857142857142
          ],
          [
           2
          ],
          [
           3
          ],
          [
           1.5
          ],
          [
           2.5
          ],
          [
           2
          ],
          [
           1.8
          ],
          [
           1
          ],
          [
           4.142857142857143
          ],
          [
           1
          ],
          [
           5.363636363636363
          ],
          [
           8.7
          ],
          [
           1.6666666666666667
          ],
          [
           1
          ],
          [
           2
          ],
          [
           1
          ],
          [
           1
          ],
          [
           8.333333333333334
          ],
          [
           13.926829268292684
          ],
          [
           4.142857142857143
          ],
          [
           11.15
          ],
          [
           2.5
          ],
          [
           2.5
          ],
          [
           3
          ],
          [
           1.5
          ],
          [
           8.421052631578947
          ],
          [
           4
          ],
          [
           1
          ],
          [
           1
          ],
          [
           23.85
          ],
          [
           2
          ],
          [
           17.105263157894736
          ],
          [
           1
          ],
          [
           9
          ],
          [
           1
          ],
          [
           1
          ],
          [
           3.909090909090909
          ],
          [
           50.49238578680203
          ],
          [
           4.555555555555555
          ],
          [
           1
          ],
          [
           167.23287671232876
          ],
          [
           2.7777777777777777
          ],
          [
           1
          ],
          [
           2.5
          ],
          [
           3.5454545454545454
          ],
          [
           74.45454545454545
          ],
          [
           3.909090909090909
          ],
          [
           10.133333333333333
          ],
          [
           5.923076923076923
          ],
          [
           8.142857142857142
          ],
          [
           2
          ],
          [
           3
          ],
          [
           1.5
          ],
          [
           2.5
          ],
          [
           2
          ],
          [
           1.8
          ],
          [
           1
          ],
          [
           4.142857142857143
          ],
          [
           1
          ],
          [
           5.363636363636363
          ],
          [
           8.7
          ],
          [
           1.6666666666666667
          ]
         ],
         "domain": {
          "x": [
           0,
           1
          ],
          "y": [
           0,
           1
          ]
         },
         "hovertemplate": "labels=%{label}<br>Term_Frequency_sum=%{value}<br>parent=%{parent}<br>id=%{id}<br>Term_Frequency=%{color}<extra></extra>",
         "ids": [
          "Cass/Bentley/abstract",
          "Chief/Bentley/abstract",
          "Chippewa/Bentley/abstract",
          "Colonial/Bentley/abstract",
          "Copper/Bentley/abstract",
          "Costumes/Bentley/abstract",
          "Death/Bentley/abstract",
          "Fox/Bentley/abstract",
          "Grave/Bentley/abstract",
          "Indian/Bentley/abstract",
          "Indian agent/Bentley/abstract",
          "Indians/Bentley/abstract",
          "Native/Bentley/abstract",
          "Odawa/Bentley/abstract",
          "Ojibwa/Bentley/abstract",
          "Ojibwe/Bentley/abstract",
          "Ottawa/Bentley/abstract",
          "Remains/Bentley/abstract",
          "Removal/Bentley/abstract",
          "Treaties/Bentley/abstract",
          "Treaty/Bentley/abstract",
          "Burial/Bentley/bioghist",
          "Burials/Bentley/bioghist",
          "Captive/Bentley/bioghist",
          "Cass/Bentley/bioghist",
          "Chief/Bentley/bioghist",
          "Chiefs/Bentley/bioghist",
          "Chippewa/Bentley/bioghist",
          "Chippewas/Bentley/bioghist",
          "Colonialism/Bentley/bioghist",
          "Colony/Bentley/bioghist",
          "Copper/Bentley/bioghist",
          "Dead/Bentley/bioghist",
          "Death/Bentley/bioghist",
          "Devil/Bentley/bioghist",
          "Execution/Bentley/bioghist",
          "Fox/Bentley/bioghist",
          "Half-breeds/Bentley/bioghist",
          "Hiawatha/Bentley/bioghist",
          "Indian/Bentley/bioghist",
          "Indian agent/Bentley/bioghist",
          "Indian removal/Bentley/bioghist",
          "Indians/Bentley/bioghist",
          "Indigenous/Bentley/bioghist",
          "Mound/Bentley/bioghist",
          "Mounds/Bentley/bioghist",
          "Native/Bentley/bioghist",
          "Odawa/Bentley/bioghist",
          "Ojibwa/Bentley/bioghist",
          "Ojibwe/Bentley/bioghist",
          "Ottawa/Bentley/bioghist",
          "Remains/Bentley/bioghist",
          "Removal/Bentley/bioghist",
          "Reservation/Bentley/bioghist",
          "Reservations/Bentley/bioghist",
          "Sauk/Bentley/bioghist",
          "Settlers/Bentley/bioghist",
          "Skull/Bentley/bioghist",
          "Treaties/Bentley/bioghist",
          "Treaty/Bentley/bioghist",
          "Warriors/Bentley/bioghist",
          "Chippewa/Bentley/corpnames",
          "Copper/Bentley/corpnames",
          "Hiawatha/Bentley/corpnames",
          "Indian/Bentley/corpnames",
          "Indigenous/Bentley/corpnames",
          "Native/Bentley/corpnames",
          "Cass/Bentley/geognames",
          "Chippewa/Bentley/geognames",
          "Colony/Bentley/geognames",
          "Copper/Bentley/geognames",
          "Dwellings/Bentley/geognames",
          "Hiawatha/Bentley/geognames",
          "Indian/Bentley/geognames",
          "Indians/Bentley/geognames",
          "Mounds/Bentley/geognames",
          "Ottawa/Bentley/geognames",
          "Cass/Bentley/persnames",
          "Chief/Bentley/persnames",
          "Fox/Bentley/persnames",
          "Ojibwa/Bentley/persnames",
          "Ottawa/Bentley/persnames",
          "Sauk/Bentley/persnames",
          "Savage/Bentley/persnames",
          "Anishnaabe/Bentley/scopecontent",
          "Cass/Bentley/scopecontent",
          "Chief/Bentley/scopecontent",
          "Chiefs/Bentley/scopecontent",
          "Chippewa/Bentley/scopecontent",
          "Chippewas/Bentley/scopecontent",
          "Colonial/Bentley/scopecontent",
          "Colony/Bentley/scopecontent",
          "Copper/Bentley/scopecontent",
          "Costume/Bentley/scopecontent",
          "Death/Bentley/scopecontent",
          "Execution/Bentley/scopecontent",
          "Fox/Bentley/scopecontent",
          "Grave/Bentley/scopecontent",
          "Hiawatha/Bentley/scopecontent",
          "Indian/Bentley/scopecontent",
          "Indian agent/Bentley/scopecontent",
          "Indians/Bentley/scopecontent",
          "Indigenous/Bentley/scopecontent",
          "Indigenous Person/Bentley/scopecontent",
          "Mound/Bentley/scopecontent",
          "Mounds/Bentley/scopecontent",
          "Native/Bentley/scopecontent",
          "Odawa/Bentley/scopecontent",
          "Ojibwa/Bentley/scopecontent",
          "Ojibwe/Bentley/scopecontent",
          "Ottawa/Bentley/scopecontent",
          "Remains/Bentley/scopecontent",
          "Removal/Bentley/scopecontent",
          "Sauk/Bentley/scopecontent",
          "Settlers/Bentley/scopecontent",
          "Treaties/Bentley/scopecontent",
          "Treaty/Bentley/scopecontent",
          "Warriors/Bentley/scopecontent",
          "Burials/Bentley/subjects",
          "Copper/Bentley/subjects",
          "Costumes/Bentley/subjects",
          "Death/Bentley/subjects",
          "Dwellings/Bentley/subjects",
          "Indian/Bentley/subjects",
          "Indians/Bentley/subjects",
          "Indigenous/Bentley/subjects",
          "Mounds/Bentley/subjects",
          "Native/Bentley/subjects",
          "Ojibwa/Bentley/subjects",
          "Ottawa/Bentley/subjects",
          "Pottery/Bentley/subjects",
          "Reservation/Bentley/subjects",
          "Cass/Bentley/titleproper",
          "Chief/Bentley/titleproper",
          "Fox/Bentley/titleproper",
          "Hiawatha/Bentley/titleproper",
          "Indian/Bentley/titleproper",
          "Indians/Bentley/titleproper",
          "Native/Bentley/titleproper",
          "Ottawa/Bentley/titleproper",
          "Anishnaabe/Bentley",
          "Burial/Bentley",
          "Burials/Bentley",
          "Captive/Bentley",
          "Cass/Bentley",
          "Chief/Bentley",
          "Chiefs/Bentley",
          "Chippewa/Bentley",
          "Chippewas/Bentley",
          "Colonial/Bentley",
          "Colonialism/Bentley",
          "Colony/Bentley",
          "Copper/Bentley",
          "Costume/Bentley",
          "Costumes/Bentley",
          "Dead/Bentley",
          "Death/Bentley",
          "Devil/Bentley",
          "Dwellings/Bentley",
          "Execution/Bentley",
          "Fox/Bentley",
          "Grave/Bentley",
          "Half-breeds/Bentley",
          "Hiawatha/Bentley",
          "Indian/Bentley",
          "Indian agent/Bentley",
          "Indian removal/Bentley",
          "Indians/Bentley",
          "Indigenous/Bentley",
          "Indigenous Person/Bentley",
          "Mound/Bentley",
          "Mounds/Bentley",
          "Native/Bentley",
          "Odawa/Bentley",
          "Ojibwa/Bentley",
          "Ojibwe/Bentley",
          "Ottawa/Bentley",
          "Pottery/Bentley",
          "Remains/Bentley",
          "Removal/Bentley",
          "Reservation/Bentley",
          "Reservations/Bentley",
          "Sauk/Bentley",
          "Savage/Bentley",
          "Settlers/Bentley",
          "Skull/Bentley",
          "Treaties/Bentley",
          "Treaty/Bentley",
          "Warriors/Bentley",
          "Anishnaabe",
          "Burial",
          "Burials",
          "Captive",
          "Cass",
          "Chief",
          "Chiefs",
          "Chippewa",
          "Chippewas",
          "Colonial",
          "Colonialism",
          "Colony",
          "Copper",
          "Costume",
          "Costumes",
          "Dead",
          "Death",
          "Devil",
          "Dwellings",
          "Execution",
          "Fox",
          "Grave",
          "Half-breeds",
          "Hiawatha",
          "Indian",
          "Indian agent",
          "Indian removal",
          "Indians",
          "Indigenous",
          "Indigenous Person",
          "Mound",
          "Mounds",
          "Native",
          "Odawa",
          "Ojibwa",
          "Ojibwe",
          "Ottawa",
          "Pottery",
          "Remains",
          "Removal",
          "Reservation",
          "Reservations",
          "Sauk",
          "Savage",
          "Settlers",
          "Skull",
          "Treaties",
          "Treaty",
          "Warriors"
         ],
         "labels": [
          "abstract",
          "abstract",
          "abstract",
          "abstract",
          "abstract",
          "abstract",
          "abstract",
          "abstract",
          "abstract",
          "abstract",
          "abstract",
          "abstract",
          "abstract",
          "abstract",
          "abstract",
          "abstract",
          "abstract",
          "abstract",
          "abstract",
          "abstract",
          "abstract",
          "bioghist",
          "bioghist",
          "bioghist",
          "bioghist",
          "bioghist",
          "bioghist",
          "bioghist",
          "bioghist",
          "bioghist",
          "bioghist",
          "bioghist",
          "bioghist",
          "bioghist",
          "bioghist",
          "bioghist",
          "bioghist",
          "bioghist",
          "bioghist",
          "bioghist",
          "bioghist",
          "bioghist",
          "bioghist",
          "bioghist",
          "bioghist",
          "bioghist",
          "bioghist",
          "bioghist",
          "bioghist",
          "bioghist",
          "bioghist",
          "bioghist",
          "bioghist",
          "bioghist",
          "bioghist",
          "bioghist",
          "bioghist",
          "bioghist",
          "bioghist",
          "bioghist",
          "bioghist",
          "corpnames",
          "corpnames",
          "corpnames",
          "corpnames",
          "corpnames",
          "corpnames",
          "geognames",
          "geognames",
          "geognames",
          "geognames",
          "geognames",
          "geognames",
          "geognames",
          "geognames",
          "geognames",
          "geognames",
          "persnames",
          "persnames",
          "persnames",
          "persnames",
          "persnames",
          "persnames",
          "persnames",
          "scopecontent",
          "scopecontent",
          "scopecontent",
          "scopecontent",
          "scopecontent",
          "scopecontent",
          "scopecontent",
          "scopecontent",
          "scopecontent",
          "scopecontent",
          "scopecontent",
          "scopecontent",
          "scopecontent",
          "scopecontent",
          "scopecontent",
          "scopecontent",
          "scopecontent",
          "scopecontent",
          "scopecontent",
          "scopecontent",
          "scopecontent",
          "scopecontent",
          "scopecontent",
          "scopecontent",
          "scopecontent",
          "scopecontent",
          "scopecontent",
          "scopecontent",
          "scopecontent",
          "scopecontent",
          "scopecontent",
          "scopecontent",
          "scopecontent",
          "scopecontent",
          "subjects",
          "subjects",
          "subjects",
          "subjects",
          "subjects",
          "subjects",
          "subjects",
          "subjects",
          "subjects",
          "subjects",
          "subjects",
          "subjects",
          "subjects",
          "subjects",
          "titleproper",
          "titleproper",
          "titleproper",
          "titleproper",
          "titleproper",
          "titleproper",
          "titleproper",
          "titleproper",
          "Bentley",
          "Bentley",
          "Bentley",
          "Bentley",
          "Bentley",
          "Bentley",
          "Bentley",
          "Bentley",
          "Bentley",
          "Bentley",
          "Bentley",
          "Bentley",
          "Bentley",
          "Bentley",
          "Bentley",
          "Bentley",
          "Bentley",
          "Bentley",
          "Bentley",
          "Bentley",
          "Bentley",
          "Bentley",
          "Bentley",
          "Bentley",
          "Bentley",
          "Bentley",
          "Bentley",
          "Bentley",
          "Bentley",
          "Bentley",
          "Bentley",
          "Bentley",
          "Bentley",
          "Bentley",
          "Bentley",
          "Bentley",
          "Bentley",
          "Bentley",
          "Bentley",
          "Bentley",
          "Bentley",
          "Bentley",
          "Bentley",
          "Bentley",
          "Bentley",
          "Bentley",
          "Bentley",
          "Bentley",
          "Bentley",
          "Anishnaabe",
          "Burial",
          "Burials",
          "Captive",
          "Cass",
          "Chief",
          "Chiefs",
          "Chippewa",
          "Chippewas",
          "Colonial",
          "Colonialism",
          "Colony",
          "Copper",
          "Costume",
          "Costumes",
          "Dead",
          "Death",
          "Devil",
          "Dwellings",
          "Execution",
          "Fox",
          "Grave",
          "Half-breeds",
          "Hiawatha",
          "Indian",
          "Indian agent",
          "Indian removal",
          "Indians",
          "Indigenous",
          "Indigenous Person",
          "Mound",
          "Mounds",
          "Native",
          "Odawa",
          "Ojibwa",
          "Ojibwe",
          "Ottawa",
          "Pottery",
          "Remains",
          "Removal",
          "Reservation",
          "Reservations",
          "Sauk",
          "Savage",
          "Settlers",
          "Skull",
          "Treaties",
          "Treaty",
          "Warriors"
         ],
         "marker": {
          "coloraxis": "coloraxis",
          "colors": [
           6,
           1,
           4,
           1,
           1,
           1,
           1,
           1,
           1,
           35,
           2,
           11,
           16,
           3,
           1,
           3,
           1,
           1,
           1,
           1,
           2,
           2,
           1,
           1,
           7,
           16,
           2,
           13,
           1,
           3,
           2,
           11,
           1,
           30,
           2,
           1,
           13,
           1,
           6,
           75,
           6,
           1,
           23,
           2,
           3,
           5,
           102,
           5,
           9,
           2,
           10,
           4,
           2,
           3,
           2,
           1,
           5,
           1,
           7,
           7,
           1,
           1,
           5,
           2,
           23,
           1,
           3,
           8,
           8,
           1,
           3,
           1,
           1,
           4,
           1,
           2,
           3,
           10,
           4,
           3,
           1,
           1,
           2,
           1,
           1,
           10,
           17,
           5,
           14,
           3,
           3,
           1,
           8,
           4,
           7,
           1,
           3,
           1,
           1,
           50,
           1,
           39,
           4,
           1,
           1,
           1,
           28,
           3,
           5,
           8,
           11,
           2,
           1,
           2,
           2,
           3,
           11,
           2,
           1,
           10,
           1,
           2,
           18,
           4,
           216,
           2,
           3,
           2,
           14,
           7,
           2,
           1,
           1,
           3,
           1,
           1,
           6,
           2,
           3,
           2,
           1,
           2,
           1,
           1,
           8.333333333333334,
           13.926829268292684,
           4.142857142857143,
           11.15,
           2.5,
           2.5,
           3,
           1.5,
           8.421052631578947,
           4,
           1,
           1,
           23.85,
           2,
           17.105263157894736,
           1,
           9,
           1,
           1,
           3.909090909090909,
           50.49238578680203,
           4.555555555555555,
           1,
           167.23287671232876,
           2.7777777777777777,
           1,
           2.5,
           3.5454545454545454,
           74.45454545454545,
           3.909090909090909,
           10.133333333333333,
           5.923076923076923,
           8.142857142857142,
           2,
           3,
           1.5,
           2.5,
           2,
           1.8,
           1,
           4.142857142857143,
           1,
           5.363636363636363,
           8.7,
           1.6666666666666667,
           1,
           2,
           1,
           1,
           8.333333333333334,
           13.926829268292684,
           4.142857142857143,
           11.15,
           2.5,
           2.5,
           3,
           1.5,
           8.421052631578947,
           4,
           1,
           1,
           23.85,
           2,
           17.105263157894736,
           1,
           9,
           1,
           1,
           3.909090909090909,
           50.49238578680203,
           4.555555555555555,
           1,
           167.23287671232876,
           2.7777777777777777,
           1,
           2.5,
           3.5454545454545454,
           74.45454545454545,
           3.909090909090909,
           10.133333333333333,
           5.923076923076923,
           8.142857142857142,
           2,
           3,
           1.5,
           2.5,
           2,
           1.8,
           1,
           4.142857142857143,
           1,
           5.363636363636363,
           8.7,
           1.6666666666666667
          ]
         },
         "name": "",
         "parents": [
          "Cass/Bentley",
          "Chief/Bentley",
          "Chippewa/Bentley",
          "Colonial/Bentley",
          "Copper/Bentley",
          "Costumes/Bentley",
          "Death/Bentley",
          "Fox/Bentley",
          "Grave/Bentley",
          "Indian/Bentley",
          "Indian agent/Bentley",
          "Indians/Bentley",
          "Native/Bentley",
          "Odawa/Bentley",
          "Ojibwa/Bentley",
          "Ojibwe/Bentley",
          "Ottawa/Bentley",
          "Remains/Bentley",
          "Removal/Bentley",
          "Treaties/Bentley",
          "Treaty/Bentley",
          "Burial/Bentley",
          "Burials/Bentley",
          "Captive/Bentley",
          "Cass/Bentley",
          "Chief/Bentley",
          "Chiefs/Bentley",
          "Chippewa/Bentley",
          "Chippewas/Bentley",
          "Colonialism/Bentley",
          "Colony/Bentley",
          "Copper/Bentley",
          "Dead/Bentley",
          "Death/Bentley",
          "Devil/Bentley",
          "Execution/Bentley",
          "Fox/Bentley",
          "Half-breeds/Bentley",
          "Hiawatha/Bentley",
          "Indian/Bentley",
          "Indian agent/Bentley",
          "Indian removal/Bentley",
          "Indians/Bentley",
          "Indigenous/Bentley",
          "Mound/Bentley",
          "Mounds/Bentley",
          "Native/Bentley",
          "Odawa/Bentley",
          "Ojibwa/Bentley",
          "Ojibwe/Bentley",
          "Ottawa/Bentley",
          "Remains/Bentley",
          "Removal/Bentley",
          "Reservation/Bentley",
          "Reservations/Bentley",
          "Sauk/Bentley",
          "Settlers/Bentley",
          "Skull/Bentley",
          "Treaties/Bentley",
          "Treaty/Bentley",
          "Warriors/Bentley",
          "Chippewa/Bentley",
          "Copper/Bentley",
          "Hiawatha/Bentley",
          "Indian/Bentley",
          "Indigenous/Bentley",
          "Native/Bentley",
          "Cass/Bentley",
          "Chippewa/Bentley",
          "Colony/Bentley",
          "Copper/Bentley",
          "Dwellings/Bentley",
          "Hiawatha/Bentley",
          "Indian/Bentley",
          "Indians/Bentley",
          "Mounds/Bentley",
          "Ottawa/Bentley",
          "Cass/Bentley",
          "Chief/Bentley",
          "Fox/Bentley",
          "Ojibwa/Bentley",
          "Ottawa/Bentley",
          "Sauk/Bentley",
          "Savage/Bentley",
          "Anishnaabe/Bentley",
          "Cass/Bentley",
          "Chief/Bentley",
          "Chiefs/Bentley",
          "Chippewa/Bentley",
          "Chippewas/Bentley",
          "Colonial/Bentley",
          "Colony/Bentley",
          "Copper/Bentley",
          "Costume/Bentley",
          "Death/Bentley",
          "Execution/Bentley",
          "Fox/Bentley",
          "Grave/Bentley",
          "Hiawatha/Bentley",
          "Indian/Bentley",
          "Indian agent/Bentley",
          "Indians/Bentley",
          "Indigenous/Bentley",
          "Indigenous Person/Bentley",
          "Mound/Bentley",
          "Mounds/Bentley",
          "Native/Bentley",
          "Odawa/Bentley",
          "Ojibwa/Bentley",
          "Ojibwe/Bentley",
          "Ottawa/Bentley",
          "Remains/Bentley",
          "Removal/Bentley",
          "Sauk/Bentley",
          "Settlers/Bentley",
          "Treaties/Bentley",
          "Treaty/Bentley",
          "Warriors/Bentley",
          "Burials/Bentley",
          "Copper/Bentley",
          "Costumes/Bentley",
          "Death/Bentley",
          "Dwellings/Bentley",
          "Indian/Bentley",
          "Indians/Bentley",
          "Indigenous/Bentley",
          "Mounds/Bentley",
          "Native/Bentley",
          "Ojibwa/Bentley",
          "Ottawa/Bentley",
          "Pottery/Bentley",
          "Reservation/Bentley",
          "Cass/Bentley",
          "Chief/Bentley",
          "Fox/Bentley",
          "Hiawatha/Bentley",
          "Indian/Bentley",
          "Indians/Bentley",
          "Native/Bentley",
          "Ottawa/Bentley",
          "Anishnaabe",
          "Burial",
          "Burials",
          "Captive",
          "Cass",
          "Chief",
          "Chiefs",
          "Chippewa",
          "Chippewas",
          "Colonial",
          "Colonialism",
          "Colony",
          "Copper",
          "Costume",
          "Costumes",
          "Dead",
          "Death",
          "Devil",
          "Dwellings",
          "Execution",
          "Fox",
          "Grave",
          "Half-breeds",
          "Hiawatha",
          "Indian",
          "Indian agent",
          "Indian removal",
          "Indians",
          "Indigenous",
          "Indigenous Person",
          "Mound",
          "Mounds",
          "Native",
          "Odawa",
          "Ojibwa",
          "Ojibwe",
          "Ottawa",
          "Pottery",
          "Remains",
          "Removal",
          "Reservation",
          "Reservations",
          "Sauk",
          "Savage",
          "Settlers",
          "Skull",
          "Treaties",
          "Treaty",
          "Warriors",
          "",
          "",
          "",
          "",
          "",
          "",
          "",
          "",
          "",
          "",
          "",
          "",
          "",
          "",
          "",
          "",
          "",
          "",
          "",
          "",
          "",
          "",
          "",
          "",
          "",
          "",
          "",
          "",
          "",
          "",
          "",
          "",
          "",
          "",
          "",
          "",
          "",
          "",
          "",
          "",
          "",
          "",
          "",
          "",
          "",
          "",
          "",
          "",
          ""
         ],
         "type": "sunburst",
         "values": [
          6,
          1,
          4,
          1,
          1,
          1,
          1,
          1,
          1,
          35,
          2,
          11,
          16,
          3,
          1,
          3,
          1,
          1,
          1,
          1,
          2,
          2,
          1,
          1,
          7,
          16,
          2,
          13,
          1,
          3,
          2,
          11,
          1,
          30,
          2,
          1,
          13,
          1,
          6,
          75,
          6,
          1,
          23,
          2,
          3,
          5,
          102,
          5,
          9,
          2,
          10,
          4,
          2,
          3,
          2,
          1,
          5,
          1,
          7,
          7,
          1,
          1,
          5,
          2,
          23,
          1,
          3,
          8,
          8,
          1,
          3,
          1,
          1,
          4,
          1,
          2,
          3,
          10,
          4,
          3,
          1,
          1,
          2,
          1,
          1,
          10,
          17,
          5,
          14,
          3,
          3,
          1,
          8,
          4,
          7,
          1,
          3,
          1,
          1,
          50,
          1,
          39,
          4,
          1,
          1,
          1,
          28,
          3,
          5,
          8,
          11,
          2,
          1,
          2,
          2,
          3,
          11,
          2,
          1,
          10,
          1,
          2,
          18,
          4,
          216,
          2,
          3,
          2,
          14,
          7,
          2,
          1,
          1,
          3,
          1,
          1,
          6,
          2,
          3,
          2,
          1,
          2,
          2,
          1,
          42,
          41,
          7,
          40,
          4,
          4,
          3,
          4,
          38,
          4,
          2,
          1,
          40,
          2,
          19,
          2,
          21,
          2,
          1,
          11,
          197,
          9,
          1,
          292,
          9,
          1,
          4,
          11,
          154,
          11,
          30,
          13,
          35,
          2,
          7,
          4,
          4,
          2,
          5,
          1,
          7,
          1,
          11,
          20,
          3,
          1,
          2,
          2,
          1,
          42,
          41,
          7,
          40,
          4,
          4,
          3,
          4,
          38,
          4,
          2,
          1,
          40,
          2,
          19,
          2,
          21,
          2,
          1,
          11,
          197,
          9,
          1,
          292,
          9,
          1,
          4,
          11,
          154,
          11,
          30,
          13,
          35,
          2,
          7,
          4,
          4,
          2,
          5,
          1,
          7,
          1,
          11,
          20,
          3
         ]
        }
       ],
       "layout": {
        "coloraxis": {
         "colorbar": {
          "title": {
           "text": "Term_Frequency"
          }
         },
         "colorscale": [
          [
           0,
           "rgb(247,251,255)"
          ],
          [
           0.125,
           "rgb(222,235,247)"
          ],
          [
           0.25,
           "rgb(198,219,239)"
          ],
          [
           0.375,
           "rgb(158,202,225)"
          ],
          [
           0.5,
           "rgb(107,174,214)"
          ],
          [
           0.625,
           "rgb(66,146,198)"
          ],
          [
           0.75,
           "rgb(33,113,181)"
          ],
          [
           0.875,
           "rgb(8,81,156)"
          ],
          [
           1,
           "rgb(8,48,107)"
          ]
         ]
        },
        "height": 800,
        "legend": {
         "tracegroupgap": 0
        },
        "margin": {
         "t": 60
        },
        "template": {
         "data": {
          "bar": [
           {
            "error_x": {
             "color": "#2a3f5f"
            },
            "error_y": {
             "color": "#2a3f5f"
            },
            "marker": {
             "line": {
              "color": "#E5ECF6",
              "width": 0.5
             },
             "pattern": {
              "fillmode": "overlay",
              "size": 10,
              "solidity": 0.2
             }
            },
            "type": "bar"
           }
          ],
          "barpolar": [
           {
            "marker": {
             "line": {
              "color": "#E5ECF6",
              "width": 0.5
             },
             "pattern": {
              "fillmode": "overlay",
              "size": 10,
              "solidity": 0.2
             }
            },
            "type": "barpolar"
           }
          ],
          "carpet": [
           {
            "aaxis": {
             "endlinecolor": "#2a3f5f",
             "gridcolor": "white",
             "linecolor": "white",
             "minorgridcolor": "white",
             "startlinecolor": "#2a3f5f"
            },
            "baxis": {
             "endlinecolor": "#2a3f5f",
             "gridcolor": "white",
             "linecolor": "white",
             "minorgridcolor": "white",
             "startlinecolor": "#2a3f5f"
            },
            "type": "carpet"
           }
          ],
          "choropleth": [
           {
            "colorbar": {
             "outlinewidth": 0,
             "ticks": ""
            },
            "type": "choropleth"
           }
          ],
          "contour": [
           {
            "colorbar": {
             "outlinewidth": 0,
             "ticks": ""
            },
            "colorscale": [
             [
              0,
              "#0d0887"
             ],
             [
              0.1111111111111111,
              "#46039f"
             ],
             [
              0.2222222222222222,
              "#7201a8"
             ],
             [
              0.3333333333333333,
              "#9c179e"
             ],
             [
              0.4444444444444444,
              "#bd3786"
             ],
             [
              0.5555555555555556,
              "#d8576b"
             ],
             [
              0.6666666666666666,
              "#ed7953"
             ],
             [
              0.7777777777777778,
              "#fb9f3a"
             ],
             [
              0.8888888888888888,
              "#fdca26"
             ],
             [
              1,
              "#f0f921"
             ]
            ],
            "type": "contour"
           }
          ],
          "contourcarpet": [
           {
            "colorbar": {
             "outlinewidth": 0,
             "ticks": ""
            },
            "type": "contourcarpet"
           }
          ],
          "heatmap": [
           {
            "colorbar": {
             "outlinewidth": 0,
             "ticks": ""
            },
            "colorscale": [
             [
              0,
              "#0d0887"
             ],
             [
              0.1111111111111111,
              "#46039f"
             ],
             [
              0.2222222222222222,
              "#7201a8"
             ],
             [
              0.3333333333333333,
              "#9c179e"
             ],
             [
              0.4444444444444444,
              "#bd3786"
             ],
             [
              0.5555555555555556,
              "#d8576b"
             ],
             [
              0.6666666666666666,
              "#ed7953"
             ],
             [
              0.7777777777777778,
              "#fb9f3a"
             ],
             [
              0.8888888888888888,
              "#fdca26"
             ],
             [
              1,
              "#f0f921"
             ]
            ],
            "type": "heatmap"
           }
          ],
          "heatmapgl": [
           {
            "colorbar": {
             "outlinewidth": 0,
             "ticks": ""
            },
            "colorscale": [
             [
              0,
              "#0d0887"
             ],
             [
              0.1111111111111111,
              "#46039f"
             ],
             [
              0.2222222222222222,
              "#7201a8"
             ],
             [
              0.3333333333333333,
              "#9c179e"
             ],
             [
              0.4444444444444444,
              "#bd3786"
             ],
             [
              0.5555555555555556,
              "#d8576b"
             ],
             [
              0.6666666666666666,
              "#ed7953"
             ],
             [
              0.7777777777777778,
              "#fb9f3a"
             ],
             [
              0.8888888888888888,
              "#fdca26"
             ],
             [
              1,
              "#f0f921"
             ]
            ],
            "type": "heatmapgl"
           }
          ],
          "histogram": [
           {
            "marker": {
             "pattern": {
              "fillmode": "overlay",
              "size": 10,
              "solidity": 0.2
             }
            },
            "type": "histogram"
           }
          ],
          "histogram2d": [
           {
            "colorbar": {
             "outlinewidth": 0,
             "ticks": ""
            },
            "colorscale": [
             [
              0,
              "#0d0887"
             ],
             [
              0.1111111111111111,
              "#46039f"
             ],
             [
              0.2222222222222222,
              "#7201a8"
             ],
             [
              0.3333333333333333,
              "#9c179e"
             ],
             [
              0.4444444444444444,
              "#bd3786"
             ],
             [
              0.5555555555555556,
              "#d8576b"
             ],
             [
              0.6666666666666666,
              "#ed7953"
             ],
             [
              0.7777777777777778,
              "#fb9f3a"
             ],
             [
              0.8888888888888888,
              "#fdca26"
             ],
             [
              1,
              "#f0f921"
             ]
            ],
            "type": "histogram2d"
           }
          ],
          "histogram2dcontour": [
           {
            "colorbar": {
             "outlinewidth": 0,
             "ticks": ""
            },
            "colorscale": [
             [
              0,
              "#0d0887"
             ],
             [
              0.1111111111111111,
              "#46039f"
             ],
             [
              0.2222222222222222,
              "#7201a8"
             ],
             [
              0.3333333333333333,
              "#9c179e"
             ],
             [
              0.4444444444444444,
              "#bd3786"
             ],
             [
              0.5555555555555556,
              "#d8576b"
             ],
             [
              0.6666666666666666,
              "#ed7953"
             ],
             [
              0.7777777777777778,
              "#fb9f3a"
             ],
             [
              0.8888888888888888,
              "#fdca26"
             ],
             [
              1,
              "#f0f921"
             ]
            ],
            "type": "histogram2dcontour"
           }
          ],
          "mesh3d": [
           {
            "colorbar": {
             "outlinewidth": 0,
             "ticks": ""
            },
            "type": "mesh3d"
           }
          ],
          "parcoords": [
           {
            "line": {
             "colorbar": {
              "outlinewidth": 0,
              "ticks": ""
             }
            },
            "type": "parcoords"
           }
          ],
          "pie": [
           {
            "automargin": true,
            "type": "pie"
           }
          ],
          "scatter": [
           {
            "fillpattern": {
             "fillmode": "overlay",
             "size": 10,
             "solidity": 0.2
            },
            "type": "scatter"
           }
          ],
          "scatter3d": [
           {
            "line": {
             "colorbar": {
              "outlinewidth": 0,
              "ticks": ""
             }
            },
            "marker": {
             "colorbar": {
              "outlinewidth": 0,
              "ticks": ""
             }
            },
            "type": "scatter3d"
           }
          ],
          "scattercarpet": [
           {
            "marker": {
             "colorbar": {
              "outlinewidth": 0,
              "ticks": ""
             }
            },
            "type": "scattercarpet"
           }
          ],
          "scattergeo": [
           {
            "marker": {
             "colorbar": {
              "outlinewidth": 0,
              "ticks": ""
             }
            },
            "type": "scattergeo"
           }
          ],
          "scattergl": [
           {
            "marker": {
             "colorbar": {
              "outlinewidth": 0,
              "ticks": ""
             }
            },
            "type": "scattergl"
           }
          ],
          "scattermapbox": [
           {
            "marker": {
             "colorbar": {
              "outlinewidth": 0,
              "ticks": ""
             }
            },
            "type": "scattermapbox"
           }
          ],
          "scatterpolar": [
           {
            "marker": {
             "colorbar": {
              "outlinewidth": 0,
              "ticks": ""
             }
            },
            "type": "scatterpolar"
           }
          ],
          "scatterpolargl": [
           {
            "marker": {
             "colorbar": {
              "outlinewidth": 0,
              "ticks": ""
             }
            },
            "type": "scatterpolargl"
           }
          ],
          "scatterternary": [
           {
            "marker": {
             "colorbar": {
              "outlinewidth": 0,
              "ticks": ""
             }
            },
            "type": "scatterternary"
           }
          ],
          "surface": [
           {
            "colorbar": {
             "outlinewidth": 0,
             "ticks": ""
            },
            "colorscale": [
             [
              0,
              "#0d0887"
             ],
             [
              0.1111111111111111,
              "#46039f"
             ],
             [
              0.2222222222222222,
              "#7201a8"
             ],
             [
              0.3333333333333333,
              "#9c179e"
             ],
             [
              0.4444444444444444,
              "#bd3786"
             ],
             [
              0.5555555555555556,
              "#d8576b"
             ],
             [
              0.6666666666666666,
              "#ed7953"
             ],
             [
              0.7777777777777778,
              "#fb9f3a"
             ],
             [
              0.8888888888888888,
              "#fdca26"
             ],
             [
              1,
              "#f0f921"
             ]
            ],
            "type": "surface"
           }
          ],
          "table": [
           {
            "cells": {
             "fill": {
              "color": "#EBF0F8"
             },
             "line": {
              "color": "white"
             }
            },
            "header": {
             "fill": {
              "color": "#C8D4E3"
             },
             "line": {
              "color": "white"
             }
            },
            "type": "table"
           }
          ]
         },
         "layout": {
          "annotationdefaults": {
           "arrowcolor": "#2a3f5f",
           "arrowhead": 0,
           "arrowwidth": 1
          },
          "autotypenumbers": "strict",
          "coloraxis": {
           "colorbar": {
            "outlinewidth": 0,
            "ticks": ""
           }
          },
          "colorscale": {
           "diverging": [
            [
             0,
             "#8e0152"
            ],
            [
             0.1,
             "#c51b7d"
            ],
            [
             0.2,
             "#de77ae"
            ],
            [
             0.3,
             "#f1b6da"
            ],
            [
             0.4,
             "#fde0ef"
            ],
            [
             0.5,
             "#f7f7f7"
            ],
            [
             0.6,
             "#e6f5d0"
            ],
            [
             0.7,
             "#b8e186"
            ],
            [
             0.8,
             "#7fbc41"
            ],
            [
             0.9,
             "#4d9221"
            ],
            [
             1,
             "#276419"
            ]
           ],
           "sequential": [
            [
             0,
             "#0d0887"
            ],
            [
             0.1111111111111111,
             "#46039f"
            ],
            [
             0.2222222222222222,
             "#7201a8"
            ],
            [
             0.3333333333333333,
             "#9c179e"
            ],
            [
             0.4444444444444444,
             "#bd3786"
            ],
            [
             0.5555555555555556,
             "#d8576b"
            ],
            [
             0.6666666666666666,
             "#ed7953"
            ],
            [
             0.7777777777777778,
             "#fb9f3a"
            ],
            [
             0.8888888888888888,
             "#fdca26"
            ],
            [
             1,
             "#f0f921"
            ]
           ],
           "sequentialminus": [
            [
             0,
             "#0d0887"
            ],
            [
             0.1111111111111111,
             "#46039f"
            ],
            [
             0.2222222222222222,
             "#7201a8"
            ],
            [
             0.3333333333333333,
             "#9c179e"
            ],
            [
             0.4444444444444444,
             "#bd3786"
            ],
            [
             0.5555555555555556,
             "#d8576b"
            ],
            [
             0.6666666666666666,
             "#ed7953"
            ],
            [
             0.7777777777777778,
             "#fb9f3a"
            ],
            [
             0.8888888888888888,
             "#fdca26"
            ],
            [
             1,
             "#f0f921"
            ]
           ]
          },
          "colorway": [
           "#636efa",
           "#EF553B",
           "#00cc96",
           "#ab63fa",
           "#FFA15A",
           "#19d3f3",
           "#FF6692",
           "#B6E880",
           "#FF97FF",
           "#FECB52"
          ],
          "font": {
           "color": "#2a3f5f"
          },
          "geo": {
           "bgcolor": "white",
           "lakecolor": "white",
           "landcolor": "#E5ECF6",
           "showlakes": true,
           "showland": true,
           "subunitcolor": "white"
          },
          "hoverlabel": {
           "align": "left"
          },
          "hovermode": "closest",
          "mapbox": {
           "style": "light"
          },
          "paper_bgcolor": "white",
          "plot_bgcolor": "#E5ECF6",
          "polar": {
           "angularaxis": {
            "gridcolor": "white",
            "linecolor": "white",
            "ticks": ""
           },
           "bgcolor": "#E5ECF6",
           "radialaxis": {
            "gridcolor": "white",
            "linecolor": "white",
            "ticks": ""
           }
          },
          "scene": {
           "xaxis": {
            "backgroundcolor": "#E5ECF6",
            "gridcolor": "white",
            "gridwidth": 2,
            "linecolor": "white",
            "showbackground": true,
            "ticks": "",
            "zerolinecolor": "white"
           },
           "yaxis": {
            "backgroundcolor": "#E5ECF6",
            "gridcolor": "white",
            "gridwidth": 2,
            "linecolor": "white",
            "showbackground": true,
            "ticks": "",
            "zerolinecolor": "white"
           },
           "zaxis": {
            "backgroundcolor": "#E5ECF6",
            "gridcolor": "white",
            "gridwidth": 2,
            "linecolor": "white",
            "showbackground": true,
            "ticks": "",
            "zerolinecolor": "white"
           }
          },
          "shapedefaults": {
           "line": {
            "color": "#2a3f5f"
           }
          },
          "ternary": {
           "aaxis": {
            "gridcolor": "white",
            "linecolor": "white",
            "ticks": ""
           },
           "baxis": {
            "gridcolor": "white",
            "linecolor": "white",
            "ticks": ""
           },
           "bgcolor": "#E5ECF6",
           "caxis": {
            "gridcolor": "white",
            "linecolor": "white",
            "ticks": ""
           }
          },
          "title": {
           "x": 0.05
          },
          "xaxis": {
           "automargin": true,
           "gridcolor": "white",
           "linecolor": "white",
           "ticks": "",
           "title": {
            "standoff": 15
           },
           "zerolinecolor": "white",
           "zerolinewidth": 2
          },
          "yaxis": {
           "automargin": true,
           "gridcolor": "white",
           "linecolor": "white",
           "ticks": "",
           "title": {
            "standoff": 15
           },
           "zerolinecolor": "white",
           "zerolinewidth": 2
          }
         }
        },
        "title": {
         "text": "Sunburst divided by term, then repository, then EAD tag (\"community\" view?)"
        },
        "width": 1300
       }
      }
     },
     "metadata": {},
     "output_type": "display_data"
    }
   ],
   "source": [
    "# Sunburst - color scale\n",
    "fig = px.sunburst(all_subsection_term_frequencies, path=['Term','Source','Subsection'], values='Term_Frequency', \n",
    "                  color='Term_Frequency', color_continuous_scale='blues')\n",
    "fig.update_layout(width=1300, height=800, title='Sunburst divided by term, then repository, then EAD tag (\"community\" view?)')\n",
    "fig.show()"
   ]
  },
  {
   "cell_type": "markdown",
   "metadata": {},
   "source": [
    "## Visualization: Source Frequencies\n",
    "\n",
    "This section of the script is designed to create bar plots displaying the frequencies of source controlled vocabularies in the EAD `controlaccess` section.\n",
    "\n",
    "The `source_columns` list includes the following column names:\n",
    "\n",
    "* 'subjects_source'\n",
    "* 'genreforms_source'\n",
    "* 'geognames_source'\n",
    "* 'persnames_source'\n",
    "* 'corpnames_source'\n",
    "* 'famnames_source'\n",
    "\n",
    "You can modify this list according to the source columns present in your specific DataFrames.\n",
    "\n",
    "Note: In the case where a DataFrame doesn't have the specified column, an empty series is created to prevent errors. The sources in the column are separated using `str.split('; ').explode()`, which handles multiple sources in the same cell."
   ]
  },
  {
   "cell_type": "code",
   "execution_count": 40,
   "metadata": {},
   "outputs": [],
   "source": [
    "#TODO: this code originally assumed three repositories - the conversion was hacky, no longer works with multiple sets?\n",
    "\n",
    "def plot_source_frequencies(df, df_name, column):\n",
    "    if column in df.columns:\n",
    "        df_counts = df[column].fillna('').str.split('; ').explode().value_counts()\n",
    "    else:\n",
    "        df_counts = pd.Series(dtype='int')\n",
    "        \n",
    "    # Create a new DataFrame to store these counts\n",
    "    counts_df = pd.DataFrame({\n",
    "        df_name: df_counts,\n",
    "        #df2_name: df2_counts,\n",
    "        #df3_name: df3_counts\n",
    "    }).fillna(0)\n",
    "    print(counts_df.columns)\n",
    "\n",
    "    fig = px.bar(counts_df, barmode='group',\n",
    "                 labels={'value':'Term Occurence in Controlled Element'}, \n",
    "                 color_discrete_map=colors)\n",
    "    fig.show()\n",
    "\n",
    "    # Create a color palette\n",
    "    colors = {'df1_Bentley': '#2F65A7', 'df2_Clements': '#9A3324', 'df3_SCRC': '#A5A508'}\n",
    "\n",
    "    # Plot with rotated x-axis labels\n",
    "    counts_df.plot(kind='bar', figsize=(6, 4), rot=0, color=colors)\n",
    "    tag_label = column.split('_')[0].capitalize()\n",
    "    plt.title(f'Source Frequencies for {tag_label}')\n",
    "    plt.ylabel('Frequency')\n",
    "    plt.xlabel(f'{tag_label} Source')\n",
    "    plt.legend(labels={'Bentley':'df1_Bentley','Clements':'df2_Clements','SCRC':'df3_SCRC'})\n",
    "    plt.tight_layout()\n",
    "    plt.show()"
   ]
  },
  {
   "cell_type": "code",
   "execution_count": 41,
   "metadata": {},
   "outputs": [],
   "source": [
    "# function to create a dataframe with the counts that can be reshaped for visualization\n",
    "def control_term_frequency(df, df_name, column):\n",
    "    if column in df.columns:\n",
    "        df_counts = df[column].fillna('').str.split('; ').explode().value_counts()\n",
    "    else:\n",
    "        df_counts = pd.Series(dtype='int')\n",
    "        \n",
    "    # Create a new DataFrame to store these counts\n",
    "    counts_df = pd.DataFrame({\n",
    "        df_name: df_counts,\n",
    "        #df2_name: df2_counts,\n",
    "        #df3_name: df3_counts\n",
    "    }).fillna(0)\n",
    "\n",
    "    return counts_df"
   ]
  },
  {
   "cell_type": "markdown",
   "metadata": {},
   "source": [
    "Test the `control_term_frequency()` function with one EAD controlled tag example: "
   ]
  },
  {
   "cell_type": "code",
   "execution_count": 42,
   "metadata": {},
   "outputs": [
    {
     "data": {
      "application/vnd.plotly.v1+json": {
       "config": {
        "plotlyServerURL": "https://plot.ly"
       },
       "data": [
        {
         "alignmentgroup": "True",
         "hovertemplate": "Repository=Bentley<br>subjects_source=%{x}<br>value=%{text}<extra></extra>",
         "legendgroup": "Bentley",
         "marker": {
          "color": "#CFC096",
          "pattern": {
           "shape": ""
          }
         },
         "name": "Bentley",
         "offsetgroup": "Bentley",
         "orientation": "v",
         "showlegend": true,
         "text": [
          1345,
          547,
          12,
          5,
          4,
          1
         ],
         "textfont": {
          "family": "Arial",
          "size": 8
         },
         "textposition": "outside",
         "type": "bar",
         "x": [
          "lcsh",
          "lctgm",
          "local",
          "",
          "aat",
          "gmgpc"
         ],
         "xaxis": "x",
         "y": [
          1345,
          547,
          12,
          5,
          4,
          1
         ],
         "yaxis": "y"
        }
       ],
       "layout": {
        "barmode": "group",
        "font": {
         "family": "Georgia"
        },
        "legend": {
         "title": {
          "text": "Repository"
         },
         "tracegroupgap": 0
        },
        "margin": {
         "t": 60
        },
        "template": {
         "data": {
          "bar": [
           {
            "error_x": {
             "color": "#2a3f5f"
            },
            "error_y": {
             "color": "#2a3f5f"
            },
            "marker": {
             "line": {
              "color": "#E5ECF6",
              "width": 0.5
             },
             "pattern": {
              "fillmode": "overlay",
              "size": 10,
              "solidity": 0.2
             }
            },
            "type": "bar"
           }
          ],
          "barpolar": [
           {
            "marker": {
             "line": {
              "color": "#E5ECF6",
              "width": 0.5
             },
             "pattern": {
              "fillmode": "overlay",
              "size": 10,
              "solidity": 0.2
             }
            },
            "type": "barpolar"
           }
          ],
          "carpet": [
           {
            "aaxis": {
             "endlinecolor": "#2a3f5f",
             "gridcolor": "white",
             "linecolor": "white",
             "minorgridcolor": "white",
             "startlinecolor": "#2a3f5f"
            },
            "baxis": {
             "endlinecolor": "#2a3f5f",
             "gridcolor": "white",
             "linecolor": "white",
             "minorgridcolor": "white",
             "startlinecolor": "#2a3f5f"
            },
            "type": "carpet"
           }
          ],
          "choropleth": [
           {
            "colorbar": {
             "outlinewidth": 0,
             "ticks": ""
            },
            "type": "choropleth"
           }
          ],
          "contour": [
           {
            "colorbar": {
             "outlinewidth": 0,
             "ticks": ""
            },
            "colorscale": [
             [
              0,
              "#0d0887"
             ],
             [
              0.1111111111111111,
              "#46039f"
             ],
             [
              0.2222222222222222,
              "#7201a8"
             ],
             [
              0.3333333333333333,
              "#9c179e"
             ],
             [
              0.4444444444444444,
              "#bd3786"
             ],
             [
              0.5555555555555556,
              "#d8576b"
             ],
             [
              0.6666666666666666,
              "#ed7953"
             ],
             [
              0.7777777777777778,
              "#fb9f3a"
             ],
             [
              0.8888888888888888,
              "#fdca26"
             ],
             [
              1,
              "#f0f921"
             ]
            ],
            "type": "contour"
           }
          ],
          "contourcarpet": [
           {
            "colorbar": {
             "outlinewidth": 0,
             "ticks": ""
            },
            "type": "contourcarpet"
           }
          ],
          "heatmap": [
           {
            "colorbar": {
             "outlinewidth": 0,
             "ticks": ""
            },
            "colorscale": [
             [
              0,
              "#0d0887"
             ],
             [
              0.1111111111111111,
              "#46039f"
             ],
             [
              0.2222222222222222,
              "#7201a8"
             ],
             [
              0.3333333333333333,
              "#9c179e"
             ],
             [
              0.4444444444444444,
              "#bd3786"
             ],
             [
              0.5555555555555556,
              "#d8576b"
             ],
             [
              0.6666666666666666,
              "#ed7953"
             ],
             [
              0.7777777777777778,
              "#fb9f3a"
             ],
             [
              0.8888888888888888,
              "#fdca26"
             ],
             [
              1,
              "#f0f921"
             ]
            ],
            "type": "heatmap"
           }
          ],
          "heatmapgl": [
           {
            "colorbar": {
             "outlinewidth": 0,
             "ticks": ""
            },
            "colorscale": [
             [
              0,
              "#0d0887"
             ],
             [
              0.1111111111111111,
              "#46039f"
             ],
             [
              0.2222222222222222,
              "#7201a8"
             ],
             [
              0.3333333333333333,
              "#9c179e"
             ],
             [
              0.4444444444444444,
              "#bd3786"
             ],
             [
              0.5555555555555556,
              "#d8576b"
             ],
             [
              0.6666666666666666,
              "#ed7953"
             ],
             [
              0.7777777777777778,
              "#fb9f3a"
             ],
             [
              0.8888888888888888,
              "#fdca26"
             ],
             [
              1,
              "#f0f921"
             ]
            ],
            "type": "heatmapgl"
           }
          ],
          "histogram": [
           {
            "marker": {
             "pattern": {
              "fillmode": "overlay",
              "size": 10,
              "solidity": 0.2
             }
            },
            "type": "histogram"
           }
          ],
          "histogram2d": [
           {
            "colorbar": {
             "outlinewidth": 0,
             "ticks": ""
            },
            "colorscale": [
             [
              0,
              "#0d0887"
             ],
             [
              0.1111111111111111,
              "#46039f"
             ],
             [
              0.2222222222222222,
              "#7201a8"
             ],
             [
              0.3333333333333333,
              "#9c179e"
             ],
             [
              0.4444444444444444,
              "#bd3786"
             ],
             [
              0.5555555555555556,
              "#d8576b"
             ],
             [
              0.6666666666666666,
              "#ed7953"
             ],
             [
              0.7777777777777778,
              "#fb9f3a"
             ],
             [
              0.8888888888888888,
              "#fdca26"
             ],
             [
              1,
              "#f0f921"
             ]
            ],
            "type": "histogram2d"
           }
          ],
          "histogram2dcontour": [
           {
            "colorbar": {
             "outlinewidth": 0,
             "ticks": ""
            },
            "colorscale": [
             [
              0,
              "#0d0887"
             ],
             [
              0.1111111111111111,
              "#46039f"
             ],
             [
              0.2222222222222222,
              "#7201a8"
             ],
             [
              0.3333333333333333,
              "#9c179e"
             ],
             [
              0.4444444444444444,
              "#bd3786"
             ],
             [
              0.5555555555555556,
              "#d8576b"
             ],
             [
              0.6666666666666666,
              "#ed7953"
             ],
             [
              0.7777777777777778,
              "#fb9f3a"
             ],
             [
              0.8888888888888888,
              "#fdca26"
             ],
             [
              1,
              "#f0f921"
             ]
            ],
            "type": "histogram2dcontour"
           }
          ],
          "mesh3d": [
           {
            "colorbar": {
             "outlinewidth": 0,
             "ticks": ""
            },
            "type": "mesh3d"
           }
          ],
          "parcoords": [
           {
            "line": {
             "colorbar": {
              "outlinewidth": 0,
              "ticks": ""
             }
            },
            "type": "parcoords"
           }
          ],
          "pie": [
           {
            "automargin": true,
            "type": "pie"
           }
          ],
          "scatter": [
           {
            "fillpattern": {
             "fillmode": "overlay",
             "size": 10,
             "solidity": 0.2
            },
            "type": "scatter"
           }
          ],
          "scatter3d": [
           {
            "line": {
             "colorbar": {
              "outlinewidth": 0,
              "ticks": ""
             }
            },
            "marker": {
             "colorbar": {
              "outlinewidth": 0,
              "ticks": ""
             }
            },
            "type": "scatter3d"
           }
          ],
          "scattercarpet": [
           {
            "marker": {
             "colorbar": {
              "outlinewidth": 0,
              "ticks": ""
             }
            },
            "type": "scattercarpet"
           }
          ],
          "scattergeo": [
           {
            "marker": {
             "colorbar": {
              "outlinewidth": 0,
              "ticks": ""
             }
            },
            "type": "scattergeo"
           }
          ],
          "scattergl": [
           {
            "marker": {
             "colorbar": {
              "outlinewidth": 0,
              "ticks": ""
             }
            },
            "type": "scattergl"
           }
          ],
          "scattermapbox": [
           {
            "marker": {
             "colorbar": {
              "outlinewidth": 0,
              "ticks": ""
             }
            },
            "type": "scattermapbox"
           }
          ],
          "scatterpolar": [
           {
            "marker": {
             "colorbar": {
              "outlinewidth": 0,
              "ticks": ""
             }
            },
            "type": "scatterpolar"
           }
          ],
          "scatterpolargl": [
           {
            "marker": {
             "colorbar": {
              "outlinewidth": 0,
              "ticks": ""
             }
            },
            "type": "scatterpolargl"
           }
          ],
          "scatterternary": [
           {
            "marker": {
             "colorbar": {
              "outlinewidth": 0,
              "ticks": ""
             }
            },
            "type": "scatterternary"
           }
          ],
          "surface": [
           {
            "colorbar": {
             "outlinewidth": 0,
             "ticks": ""
            },
            "colorscale": [
             [
              0,
              "#0d0887"
             ],
             [
              0.1111111111111111,
              "#46039f"
             ],
             [
              0.2222222222222222,
              "#7201a8"
             ],
             [
              0.3333333333333333,
              "#9c179e"
             ],
             [
              0.4444444444444444,
              "#bd3786"
             ],
             [
              0.5555555555555556,
              "#d8576b"
             ],
             [
              0.6666666666666666,
              "#ed7953"
             ],
             [
              0.7777777777777778,
              "#fb9f3a"
             ],
             [
              0.8888888888888888,
              "#fdca26"
             ],
             [
              1,
              "#f0f921"
             ]
            ],
            "type": "surface"
           }
          ],
          "table": [
           {
            "cells": {
             "fill": {
              "color": "#EBF0F8"
             },
             "line": {
              "color": "white"
             }
            },
            "header": {
             "fill": {
              "color": "#C8D4E3"
             },
             "line": {
              "color": "white"
             }
            },
            "type": "table"
           }
          ]
         },
         "layout": {
          "annotationdefaults": {
           "arrowcolor": "#2a3f5f",
           "arrowhead": 0,
           "arrowwidth": 1
          },
          "autotypenumbers": "strict",
          "coloraxis": {
           "colorbar": {
            "outlinewidth": 0,
            "ticks": ""
           }
          },
          "colorscale": {
           "diverging": [
            [
             0,
             "#8e0152"
            ],
            [
             0.1,
             "#c51b7d"
            ],
            [
             0.2,
             "#de77ae"
            ],
            [
             0.3,
             "#f1b6da"
            ],
            [
             0.4,
             "#fde0ef"
            ],
            [
             0.5,
             "#f7f7f7"
            ],
            [
             0.6,
             "#e6f5d0"
            ],
            [
             0.7,
             "#b8e186"
            ],
            [
             0.8,
             "#7fbc41"
            ],
            [
             0.9,
             "#4d9221"
            ],
            [
             1,
             "#276419"
            ]
           ],
           "sequential": [
            [
             0,
             "#0d0887"
            ],
            [
             0.1111111111111111,
             "#46039f"
            ],
            [
             0.2222222222222222,
             "#7201a8"
            ],
            [
             0.3333333333333333,
             "#9c179e"
            ],
            [
             0.4444444444444444,
             "#bd3786"
            ],
            [
             0.5555555555555556,
             "#d8576b"
            ],
            [
             0.6666666666666666,
             "#ed7953"
            ],
            [
             0.7777777777777778,
             "#fb9f3a"
            ],
            [
             0.8888888888888888,
             "#fdca26"
            ],
            [
             1,
             "#f0f921"
            ]
           ],
           "sequentialminus": [
            [
             0,
             "#0d0887"
            ],
            [
             0.1111111111111111,
             "#46039f"
            ],
            [
             0.2222222222222222,
             "#7201a8"
            ],
            [
             0.3333333333333333,
             "#9c179e"
            ],
            [
             0.4444444444444444,
             "#bd3786"
            ],
            [
             0.5555555555555556,
             "#d8576b"
            ],
            [
             0.6666666666666666,
             "#ed7953"
            ],
            [
             0.7777777777777778,
             "#fb9f3a"
            ],
            [
             0.8888888888888888,
             "#fdca26"
            ],
            [
             1,
             "#f0f921"
            ]
           ]
          },
          "colorway": [
           "#636efa",
           "#EF553B",
           "#00cc96",
           "#ab63fa",
           "#FFA15A",
           "#19d3f3",
           "#FF6692",
           "#B6E880",
           "#FF97FF",
           "#FECB52"
          ],
          "font": {
           "color": "#2a3f5f"
          },
          "geo": {
           "bgcolor": "white",
           "lakecolor": "white",
           "landcolor": "#E5ECF6",
           "showlakes": true,
           "showland": true,
           "subunitcolor": "white"
          },
          "hoverlabel": {
           "align": "left"
          },
          "hovermode": "closest",
          "mapbox": {
           "style": "light"
          },
          "paper_bgcolor": "white",
          "plot_bgcolor": "#E5ECF6",
          "polar": {
           "angularaxis": {
            "gridcolor": "white",
            "linecolor": "white",
            "ticks": ""
           },
           "bgcolor": "#E5ECF6",
           "radialaxis": {
            "gridcolor": "white",
            "linecolor": "white",
            "ticks": ""
           }
          },
          "scene": {
           "xaxis": {
            "backgroundcolor": "#E5ECF6",
            "gridcolor": "white",
            "gridwidth": 2,
            "linecolor": "white",
            "showbackground": true,
            "ticks": "",
            "zerolinecolor": "white"
           },
           "yaxis": {
            "backgroundcolor": "#E5ECF6",
            "gridcolor": "white",
            "gridwidth": 2,
            "linecolor": "white",
            "showbackground": true,
            "ticks": "",
            "zerolinecolor": "white"
           },
           "zaxis": {
            "backgroundcolor": "#E5ECF6",
            "gridcolor": "white",
            "gridwidth": 2,
            "linecolor": "white",
            "showbackground": true,
            "ticks": "",
            "zerolinecolor": "white"
           }
          },
          "shapedefaults": {
           "line": {
            "color": "#2a3f5f"
           }
          },
          "ternary": {
           "aaxis": {
            "gridcolor": "white",
            "linecolor": "white",
            "ticks": ""
           },
           "baxis": {
            "gridcolor": "white",
            "linecolor": "white",
            "ticks": ""
           },
           "bgcolor": "#E5ECF6",
           "caxis": {
            "gridcolor": "white",
            "linecolor": "white",
            "ticks": ""
           }
          },
          "title": {
           "x": 0.05
          },
          "xaxis": {
           "automargin": true,
           "gridcolor": "white",
           "linecolor": "white",
           "ticks": "",
           "title": {
            "standoff": 15
           },
           "zerolinecolor": "white",
           "zerolinewidth": 2
          },
          "yaxis": {
           "automargin": true,
           "gridcolor": "white",
           "linecolor": "white",
           "ticks": "",
           "title": {
            "standoff": 15
           },
           "zerolinecolor": "white",
           "zerolinewidth": 2
          }
         }
        },
        "title": {
         "text": "Term Count per EAD Controlled Subject Tags"
        },
        "width": 600,
        "xaxis": {
         "anchor": "y",
         "domain": [
          0,
          1
         ],
         "tickangle": 0,
         "tickfont": {
          "color": "black",
          "family": "Arial",
          "size": 10
         },
         "title": {
          "text": "Term Subject Authority Source"
         }
        },
        "yaxis": {
         "anchor": "x",
         "domain": [
          0,
          1
         ],
         "tickfont": {
          "family": "Arial",
          "size": 10
         },
         "title": {
          "text": "Term Count"
         }
        }
       }
      }
     },
     "metadata": {},
     "output_type": "display_data"
    }
   ],
   "source": [
    "source_columns = ['subjects_source', 'genreforms_source', 'geognames_source', 'persnames_source', 'corpnames_source', 'famnames_source']\n",
    "\n",
    "# calculate subject terms\n",
    "controlterm_counts_df = control_term_frequency(eads_df, 'Bentley', source_columns[0])#'subjects_source')\n",
    "\n",
    "controlterm = source_columns[0]\n",
    "controlterm_label = controlterm.split('_')[0].capitalize()[:-1]\n",
    "\n",
    "# Visualize in a bar chart\n",
    "fig = px.bar(controlterm_counts_df, barmode='group',\n",
    "             labels={'variable':'Repository'},\n",
    "             color_discrete_map=colors,\n",
    "             text='value')\n",
    "fig.update_layout(title_text=f'Term Count per EAD Controlled {controlterm_label} Tags',\n",
    "                  yaxis_title='Term Count', xaxis_title=f'Term {controlterm_label} Authority Source', width=600,\n",
    "                  font_family=global_font_info['font_family'])\n",
    "fig.update_yaxes(tickfont=dict(family='Arial', size=10))\n",
    "fig.update_xaxes(tickangle=0, tickfont=dict(family='Arial', color='black', size=10))\n",
    "fig.update_traces(textposition='outside', textfont=dict(family='Arial',size=8))\n",
    "fig.show()\n",
    "\n",
    "# pio.write_image(fig, f'term_frequency_by_{controlterm_label}.png', scale=5)"
   ]
  },
  {
   "cell_type": "markdown",
   "metadata": {},
   "source": [
    "The above function may be used for any individual controlled EAD tag source.\n",
    "Since we knew there were multiple controlled tags, however, the following\n",
    "code blocks visualize the authorities consulted for all of the controlled\n",
    "tags. In cases where no authority was given, the columns are blank,\n",
    "indicating no authority source was given, indicating likely usage of a local file\n",
    "or one-off occurence of names or terms.\n",
    "\n",
    "The multiple controlled tag function is `visualize_controlterms()`. This function takes\n",
    "a pandas dataframe (`df`), a group name (`df_name`) that can indicate the source repository\n",
    "or a subgroup of finding aid data, the `source_list` which must be a list and\n",
    "can list one or more source EAD tags, and the `savePNG` argument. \n",
    "The last argument can be used to choose whether or not the function should\n",
    "create and save a standalone graphic file for the visualization."
   ]
  },
  {
   "cell_type": "code",
   "execution_count": 43,
   "metadata": {},
   "outputs": [
    {
     "ename": "SyntaxError",
     "evalue": "incomplete input (200316713.py, line 38)",
     "output_type": "error",
     "traceback": [
      "\u001b[1;36m  Cell \u001b[1;32mIn[43], line 38\u001b[1;36m\u001b[0m\n\u001b[1;33m    # pio.write_image(fig, f'term_frequency_by_{controlterm_label}.png', scale=5)\u001b[0m\n\u001b[1;37m                                                                                 ^\u001b[0m\n\u001b[1;31mSyntaxError\u001b[0m\u001b[1;31m:\u001b[0m incomplete input\n"
     ]
    }
   ],
   "source": [
    "# function to visualize a source_column\n",
    "def visualize_controlterms(df, df_name, source_list, savePNG=False):\n",
    "    '''This function requires the controlterm_frequency() function to produce the dataframe with controlled term counts.\n",
    "    source_list should be a list with column names that designate the controlled vocabularies you want to count and visualize.\n",
    "    '''\n",
    "    for i in range(len(source_list)):\n",
    "        controlterm_counts_df = control_term_frequency(df, df_name, source_list[i])\n",
    "\n",
    "        controlterm = source_list[i]\n",
    "        controlterm_label = controlterm.split('_')[0].capitalize()[:-1]\n",
    "        print(f'Generating visualization for {controlterm_label}')\n",
    "\n",
    "        # Visualize in a bar chart\n",
    "        fig = px.bar(controlterm_counts_df, barmode='group',\n",
    "                    labels={'variable':'Repository'},\n",
    "                    color_discrete_map=colors,\n",
    "                    text='value')\n",
    "        fig.update_layout(title_text=f'Term Count per EAD Controlled {controlterm_label} Tags',\n",
    "                        xaxis_title=f'Authority Sources for {controlterm_label}', \n",
    "                        yaxis=dict(\n",
    "                            title_text='Term Count',\n",
    "                            titlefont=dict(\n",
    "                                size=12\n",
    "                            ),\n",
    "                            tickfont=dict(\n",
    "                                family='Arial',\n",
    "                                size=10\n",
    "                            ),\n",
    "                            showticklabels=False\n",
    "                        ),\n",
    "                        width=600,\n",
    "                        font_family=global_font_info['font_family'])\n",
    "        fig.update_yaxes(title_standoff=1)\n",
    "        fig.update_xaxes(tickangle=0, tickfont=dict(family='Arial', color='black', size=10))\n",
    "        fig.update_traces(textposition='outside', textfont=dict(family='Arial',size=8))\n",
    "        fig.show()\n",
    "        # if savePNG:\n",
    "            # pio.write_image(fig, f'term_frequency_by_{controlterm_label}.png', scale=5)"
   ]
  },
  {
   "cell_type": "code",
   "execution_count": null,
   "metadata": {},
   "outputs": [],
   "source": [
    "source_columns = ['subjects_source', 'genreforms_source', 'geognames_source', 'persnames_source', 'corpnames_source', 'famnames_source']\n",
    "for i in range(len(source_columns)):\n",
    "    print(source_columns[i], type(source_columns[i]))"
   ]
  },
  {
   "cell_type": "code",
   "execution_count": null,
   "metadata": {},
   "outputs": [],
   "source": [
    "source_columns = ['subjects_source', 'genreforms_source', 'geognames_source', 'persnames_source', 'corpnames_source', 'famnames_source']\n",
    "\n",
    "#for i in range(len(source_columns)):\n",
    "#    visualize_controlterms(df=eads_df, df_name='Bentley', source=str(source_columns[i]))\n",
    "\n",
    "visualize_controlterms(eads_df, 'Bentley', source_columns, savePNG=True)"
   ]
  }
 ],
 "metadata": {
  "kernelspec": {
   "display_name": "base",
   "language": "python",
   "name": "python3"
  },
  "language_info": {
   "codemirror_mode": {
    "name": "ipython",
    "version": 3
   },
   "file_extension": ".py",
   "mimetype": "text/x-python",
   "name": "python",
   "nbconvert_exporter": "python",
   "pygments_lexer": "ipython3",
   "version": "3.11.9"
  }
 },
 "nbformat": 4,
 "nbformat_minor": 2
}
