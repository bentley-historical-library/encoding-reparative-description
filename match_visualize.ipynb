{
 "cells": [
  {
   "cell_type": "markdown",
   "metadata": {},
   "source": [
    "# Match Terms and Visualize\n",
    "\n",
    "This notebook uses the results from the `parse_resources.ipynb` notebook.\n",
    "The parse resources step pulls data from ArchivesSpace and creates a\n",
    "dataframe that was output to a CSV file. \n",
    "This notebook starts from the CSV file, but it could\n",
    "relatively easily be changed to take the previous dataframe\n",
    "as an input. \n",
    "\n",
    "## Setup\n",
    "\n",
    "If continuing or adapting this code, you have likely already imported these libraries.\n",
    "We will use `pandas` for data processing, `re` for text processing and parsing,\n",
    "and a few others."
   ]
  },
  {
   "cell_type": "code",
   "execution_count": 1,
   "metadata": {},
   "outputs": [
    {
     "name": "stdout",
     "output_type": "stream",
     "text": [
      "Intel MKL WARNING: Support of Intel(R) Streaming SIMD Extensions 4.2 (Intel(R) SSE4.2) enabled only processors has been deprecated. Intel oneAPI Math Kernel Library 2025.0 will require Intel(R) Advanced Vector Extensions (Intel(R) AVX) instructions.\n",
      "Intel MKL WARNING: Support of Intel(R) Streaming SIMD Extensions 4.2 (Intel(R) SSE4.2) enabled only processors has been deprecated. Intel oneAPI Math Kernel Library 2025.0 will require Intel(R) Advanced Vector Extensions (Intel(R) AVX) instructions.\n"
     ]
    }
   ],
   "source": [
    "import pandas as pd \n",
    "import re\n",
    "\n",
    "#import numpy as np\n",
    "#import os\n",
    "#import warnings\n",
    "import matplotlib.pyplot as plt\n",
    "import matplotlib.colors as mcolors\n",
    "import plotly.express as px\n",
    "import plotly.io as pio"
   ]
  },
  {
   "cell_type": "markdown",
   "metadata": {},
   "source": [
    "**pd.set_option('display.max_colwidth', -1)**: controls the maximum width of each column in a pandas dataframe. By setting it to -1, pandas will display the full contents of each column, without any truncation:"
   ]
  },
  {
   "cell_type": "code",
   "execution_count": 2,
   "metadata": {},
   "outputs": [],
   "source": [
    "#pd.set_option('display.max_colwidth', -1)"
   ]
  },
  {
   "cell_type": "markdown",
   "metadata": {},
   "source": [
    "**pd.set_option('display.max_rows', None)**: Sets the maximum number of rows displayed when a pandas DataFrame or Series is printed to be unlimited. When this option is set to an integer (as in the commented line # **pd.set_option('display.max_rows', 10)**), only the specified number of rows would be displayed. This is useful for controlling the output length, especially when working with large DataFrames."
   ]
  },
  {
   "cell_type": "code",
   "execution_count": 3,
   "metadata": {},
   "outputs": [],
   "source": [
    "# pd.set_option('display.max_rows', None)\n",
    "pd.set_option('display.max_rows', 10)"
   ]
  },
  {
   "cell_type": "markdown",
   "metadata": {},
   "source": [
    "Note: the following functions and code is based on\n",
    "work by Ella Li, who created an initial version of this project\n",
    "that parsed EAD data from XML files. \n",
    "The process here is similar but\n",
    "continues to use the data pulled from the ArchivesSpace API,\n",
    "which exports data in JSON rather than XML. "
   ]
  },
  {
   "cell_type": "markdown",
   "metadata": {},
   "source": [
    "## Provide Terms\n",
    "\n",
    "Terms of interest are supplied in a plain text file, with\n",
    "each term of interest on its own line. "
   ]
  },
  {
   "cell_type": "code",
   "execution_count": 2,
   "metadata": {},
   "outputs": [],
   "source": [
    "# read in the txt file term list\n",
    "term_list_file = 'terms_all.txt'\n",
    "\n",
    "with open(term_list_file, 'r') as f:\n",
    "    terms = [line.strip() for line in f]"
   ]
  },
  {
   "cell_type": "code",
   "execution_count": 3,
   "metadata": {},
   "outputs": [
    {
     "name": "stdout",
     "output_type": "stream",
     "text": [
      "Read term list from terms_all.txt and recorded 104 terms of interest.\n"
     ]
    }
   ],
   "source": [
    "print(f'Read term list from {term_list_file} and recorded {len(terms)} terms of interest.')"
   ]
  },
  {
   "cell_type": "markdown",
   "metadata": {},
   "source": [
    "## Match Terms\n",
    "\n",
    "The next block defines the `match_terms` function, which analyses the EAD data\n",
    "and identify occurences, tally occurences, and record their source tags.\n",
    "First, pull the CSV `results.csv` data into a dataframe.\n",
    "Then, the function searches for each term in the specified columns of a given row in your DataFrame. It performs an exact match, searching for the whole term, not part of it (due to the use of the `\\b` word boundary in the regular expression). The search is case-insensitive due to the `re.IGNORECASE` flag.\n",
    "\n",
    "If a term is found in a paragraph of the column, a dictionary is created with details about the match, including the term, the number of matches in the paragraph, the paragraph text itself, and other related information. These dictionaries are appended to the results list."
   ]
  },
  {
   "cell_type": "code",
   "execution_count": 4,
   "metadata": {},
   "outputs": [],
   "source": [
    "# match term\n",
    "\n",
    "def match_terms(row, terms, columns):\n",
    "    results = []\n",
    "    for term in terms:\n",
    "        for col in columns:\n",
    "            if not isinstance(row[col], float):\n",
    "                # split the column into paragraphs\n",
    "                # wonky try/except to work through integers, if not converted to strings\n",
    "                try:\n",
    "                    paragraphs = row[col].split('\\n')\n",
    "                except:\n",
    "                    paragraphs = str(row[col]).split('\\n')\n",
    "                # loop through each paragraph\n",
    "                for paragraph in paragraphs:\n",
    "                    # check if the term is in the current paragraph\n",
    "                    if re.search(r'\\b' + re.escape(term) + r'\\b', paragraph, re.IGNORECASE):\n",
    "                        results.append({\n",
    "                            'ead_id': row['ead_id'],\n",
    "#                            'source_filename': row['source_filename'],\n",
    "                            'resource_id': row['resource_id'],\n",
    "                            'titleproper': row.get('titleproper', None), \n",
    "                            'Term': term, \n",
    "                            'Matched_Times': len(re.findall(r'\\b' + re.escape(term) + r'\\b', paragraph, re.IGNORECASE)),\n",
    "                            'Matched_From': col, \n",
    "                            'Matched_Paragraph': paragraph\n",
    "                        })\n",
    "    return results"
   ]
  },
  {
   "cell_type": "markdown",
   "metadata": {},
   "source": [
    "Next, using the match term function, tally and record the results.\n",
    "These outputs will be the basis of additional reports and visualizations,\n",
    "including the term in context report, charts, and other visualizations."
   ]
  },
  {
   "cell_type": "code",
   "execution_count": 5,
   "metadata": {},
   "outputs": [],
   "source": [
    "def match_and_visualize(df, name):\n",
    "    # Match results\n",
    "    results_df = pd.DataFrame([result for index, row in df.iterrows() for result in match_terms(row, terms, df.columns)])\n",
    "    \n",
    "    # Show matched results\n",
    "    print('Matched results for', name)\n",
    "    display(results_df) # control dislay\n",
    "\n",
    "    # Export to CSV\n",
    "    results_df.to_csv('matched_results_' + name + '.csv', index=True)\n",
    "    return results_df  # Return the DataFrame for later use"
   ]
  },
  {
   "cell_type": "markdown",
   "metadata": {},
   "source": [
    "To use the above functions, create a dataframe (or reuse the data from the `parse_resources.ipynb` scripts), then initialize the functions. \n",
    "The following code block demonstrates how to do this with `results.csv`\n",
    "as an input."
   ]
  },
  {
   "cell_type": "code",
   "execution_count": 6,
   "metadata": {},
   "outputs": [],
   "source": [
    "eads_df = pd.read_csv('results.csv', encoding='utf-8')"
   ]
  },
  {
   "cell_type": "code",
   "execution_count": 7,
   "metadata": {},
   "outputs": [
    {
     "data": {
      "text/html": [
       "<div>\n",
       "<style scoped>\n",
       "    .dataframe tbody tr th:only-of-type {\n",
       "        vertical-align: middle;\n",
       "    }\n",
       "\n",
       "    .dataframe tbody tr th {\n",
       "        vertical-align: top;\n",
       "    }\n",
       "\n",
       "    .dataframe thead th {\n",
       "        text-align: right;\n",
       "    }\n",
       "</style>\n",
       "<table border=\"1\" class=\"dataframe\">\n",
       "  <thead>\n",
       "    <tr style=\"text-align: right;\">\n",
       "      <th></th>\n",
       "      <th>resource_id</th>\n",
       "      <th>eadid</th>\n",
       "      <th>titleproper</th>\n",
       "      <th>abstract</th>\n",
       "      <th>language</th>\n",
       "      <th>scopecontent</th>\n",
       "      <th>bioghist</th>\n",
       "      <th>subjects</th>\n",
       "      <th>subjects_source</th>\n",
       "      <th>genreforms</th>\n",
       "      <th>genreforms_source</th>\n",
       "      <th>geognames</th>\n",
       "      <th>geognames_source</th>\n",
       "      <th>persnames</th>\n",
       "      <th>persnames_source</th>\n",
       "      <th>corpnames</th>\n",
       "      <th>corpnames_source</th>\n",
       "      <th>famnames</th>\n",
       "      <th>famnames_source</th>\n",
       "    </tr>\n",
       "  </thead>\n",
       "  <tbody>\n",
       "    <tr>\n",
       "      <th>0</th>\n",
       "      <td>3011</td>\n",
       "      <td>umich-bhl-00138</td>\n",
       "      <td>the Ralph M. Hodnett papers</td>\n",
       "      <td>NaN</td>\n",
       "      <td>The finding aid is written in English</td>\n",
       "      <td>This collection consists of reminiscences (wri...</td>\n",
       "      <td>Ralph M. Hodnett was an officer in the U.S. Ar...</td>\n",
       "      <td>Soldiers; World War, 1914-1918; Soldiers</td>\n",
       "      <td>lcsh; lcsh; lctgm</td>\n",
       "      <td>Diaries.; Photographs.</td>\n",
       "      <td>lcsh; gmgpc</td>\n",
       "      <td>Philippines</td>\n",
       "      <td>lcsh</td>\n",
       "      <td>Hodnett, Ralph M.; Hodnett, Ralph M.</td>\n",
       "      <td>lcnaf; lcnaf</td>\n",
       "      <td>United States. Army.</td>\n",
       "      <td>lcnaf</td>\n",
       "      <td>Oram family.</td>\n",
       "      <td>lcnaf</td>\n",
       "    </tr>\n",
       "    <tr>\n",
       "      <th>1</th>\n",
       "      <td>267</td>\n",
       "      <td>umich-bhl-0052</td>\n",
       "      <td>Bentley Historical Library publications. 1935-...</td>\n",
       "      <td>The Bentley Historical Library (BHL) houses th...</td>\n",
       "      <td>The finding aid is written in English</td>\n",
       "      <td>The PUBLICATIONS (3.7 linear feet) are divided...</td>\n",
       "      <td>The origins of the Bentley Historical Library ...</td>\n",
       "      <td>NaN</td>\n",
       "      <td>NaN</td>\n",
       "      <td>Annual reports.; Newsletters.; Bibliographies....</td>\n",
       "      <td>aat; aat; aat; aat; aat; aat; aat; aat; aat</td>\n",
       "      <td>NaN</td>\n",
       "      <td>NaN</td>\n",
       "      <td>NaN</td>\n",
       "      <td>NaN</td>\n",
       "      <td>Bentley Historical Library.; Michigan Historic...</td>\n",
       "      <td>lcnaf; lcnaf; lcnaf</td>\n",
       "      <td>NaN</td>\n",
       "      <td>NaN</td>\n",
       "    </tr>\n",
       "    <tr>\n",
       "      <th>2</th>\n",
       "      <td>996</td>\n",
       "      <td>umich-bhl-0142</td>\n",
       "      <td>the Frank C. Gates papers</td>\n",
       "      <td>Frank C. Gates was a professor of botany at th...</td>\n",
       "      <td>The finding aid is written in &lt;language encodi...</td>\n",
       "      <td>The Frank C. Gates papers are dated from 1871-...</td>\n",
       "      <td>Frank Caleb Gates was born on September 12, 18...</td>\n",
       "      <td>Bird watching.; Botany; Forests and forestry; ...</td>\n",
       "      <td>lcsh; lcsh; lcsh; aat</td>\n",
       "      <td>Lantern slides.; Photographs.; Postcards.</td>\n",
       "      <td>aat; aat; aat</td>\n",
       "      <td>Philippines; Plants</td>\n",
       "      <td>lcsh; lctgm</td>\n",
       "      <td>Gates, Frank C. (Frank Caleb), 1887-1955; Gate...</td>\n",
       "      <td>lcnaf; lcnaf; lcnaf</td>\n",
       "      <td>University of the Philippines.</td>\n",
       "      <td>lcnaf</td>\n",
       "      <td>NaN</td>\n",
       "      <td>NaN</td>\n",
       "    </tr>\n",
       "    <tr>\n",
       "      <th>3</th>\n",
       "      <td>2722</td>\n",
       "      <td>umich-bhl-03171</td>\n",
       "      <td>Mike Wallace CBS 60 Minutes Papers, 1922-2007</td>\n",
       "      <td>Papers of Mike Wallace (1918-2012), broadcast ...</td>\n",
       "      <td>The finding aid is written in English</td>\n",
       "      <td>The Mike Wallace CBS/ &lt;title render=\"italic\"&gt;6...</td>\n",
       "      <td>Mike Wallace was born Myron Leon Wallace on Ma...</td>\n",
       "      <td>60 minutes (Television program); Television br...</td>\n",
       "      <td>lcsh; lcsh; lcsh; lcsh; lcsh; lcsh; lcsh; lcsh...</td>\n",
       "      <td>Photographs.; Sound recordings.; Videotapes.</td>\n",
       "      <td>aat; aat; aat</td>\n",
       "      <td>NaN</td>\n",
       "      <td>NaN</td>\n",
       "      <td>Wallace, Mike, 1918-2012; Wallace, Mike, 1918-...</td>\n",
       "      <td>lcnaf; lcnaf; lcnaf; lcnaf</td>\n",
       "      <td>CBS News.; CBS News.</td>\n",
       "      <td>lcnaf; lcnaf</td>\n",
       "      <td>NaN</td>\n",
       "      <td>NaN</td>\n",
       "    </tr>\n",
       "    <tr>\n",
       "      <th>4</th>\n",
       "      <td>1051</td>\n",
       "      <td>umich-bhl-0336</td>\n",
       "      <td>Grant Kohn Goodman papers, 1943-1995</td>\n",
       "      <td>Grant K. Goodman was a student at the Universi...</td>\n",
       "      <td>The finding aid is written in English</td>\n",
       "      <td>The Grant K. Goodman collection documents the ...</td>\n",
       "      <td>Grant Kohn Goodman was born in 1924 in Clevela...</td>\n",
       "      <td>World War, 1939-1945; World War, 1939-1945; Wo...</td>\n",
       "      <td>lcsh; lcsh; lcsh</td>\n",
       "      <td>Digital file formats.; Photographs.; Sound rec...</td>\n",
       "      <td>aat; aat; aat; aat</td>\n",
       "      <td>Tokyo.</td>\n",
       "      <td>lcsh</td>\n",
       "      <td>Goodman, Grant Kohn, 1924-2014; Goodman, Grant...</td>\n",
       "      <td>lcnaf; lcnaf</td>\n",
       "      <td>United States. Army. Japanese Language School ...</td>\n",
       "      <td>lcnaf; lcnaf; lcnaf</td>\n",
       "      <td>NaN</td>\n",
       "      <td>NaN</td>\n",
       "    </tr>\n",
       "  </tbody>\n",
       "</table>\n",
       "</div>"
      ],
      "text/plain": [
       "   resource_id            eadid  \\\n",
       "0         3011  umich-bhl-00138   \n",
       "1          267   umich-bhl-0052   \n",
       "2          996   umich-bhl-0142   \n",
       "3         2722  umich-bhl-03171   \n",
       "4         1051   umich-bhl-0336   \n",
       "\n",
       "                                         titleproper  \\\n",
       "0                        the Ralph M. Hodnett papers   \n",
       "1  Bentley Historical Library publications. 1935-...   \n",
       "2                          the Frank C. Gates papers   \n",
       "3      Mike Wallace CBS 60 Minutes Papers, 1922-2007   \n",
       "4               Grant Kohn Goodman papers, 1943-1995   \n",
       "\n",
       "                                            abstract  \\\n",
       "0                                                NaN   \n",
       "1  The Bentley Historical Library (BHL) houses th...   \n",
       "2  Frank C. Gates was a professor of botany at th...   \n",
       "3  Papers of Mike Wallace (1918-2012), broadcast ...   \n",
       "4  Grant K. Goodman was a student at the Universi...   \n",
       "\n",
       "                                            language  \\\n",
       "0              The finding aid is written in English   \n",
       "1              The finding aid is written in English   \n",
       "2  The finding aid is written in <language encodi...   \n",
       "3              The finding aid is written in English   \n",
       "4              The finding aid is written in English   \n",
       "\n",
       "                                        scopecontent  \\\n",
       "0  This collection consists of reminiscences (wri...   \n",
       "1  The PUBLICATIONS (3.7 linear feet) are divided...   \n",
       "2  The Frank C. Gates papers are dated from 1871-...   \n",
       "3  The Mike Wallace CBS/ <title render=\"italic\">6...   \n",
       "4  The Grant K. Goodman collection documents the ...   \n",
       "\n",
       "                                            bioghist  \\\n",
       "0  Ralph M. Hodnett was an officer in the U.S. Ar...   \n",
       "1  The origins of the Bentley Historical Library ...   \n",
       "2  Frank Caleb Gates was born on September 12, 18...   \n",
       "3  Mike Wallace was born Myron Leon Wallace on Ma...   \n",
       "4  Grant Kohn Goodman was born in 1924 in Clevela...   \n",
       "\n",
       "                                            subjects  \\\n",
       "0           Soldiers; World War, 1914-1918; Soldiers   \n",
       "1                                                NaN   \n",
       "2  Bird watching.; Botany; Forests and forestry; ...   \n",
       "3  60 minutes (Television program); Television br...   \n",
       "4  World War, 1939-1945; World War, 1939-1945; Wo...   \n",
       "\n",
       "                                     subjects_source  \\\n",
       "0                                  lcsh; lcsh; lctgm   \n",
       "1                                                NaN   \n",
       "2                              lcsh; lcsh; lcsh; aat   \n",
       "3  lcsh; lcsh; lcsh; lcsh; lcsh; lcsh; lcsh; lcsh...   \n",
       "4                                   lcsh; lcsh; lcsh   \n",
       "\n",
       "                                          genreforms  \\\n",
       "0                             Diaries.; Photographs.   \n",
       "1  Annual reports.; Newsletters.; Bibliographies....   \n",
       "2          Lantern slides.; Photographs.; Postcards.   \n",
       "3       Photographs.; Sound recordings.; Videotapes.   \n",
       "4  Digital file formats.; Photographs.; Sound rec...   \n",
       "\n",
       "                             genreforms_source            geognames  \\\n",
       "0                                  lcsh; gmgpc          Philippines   \n",
       "1  aat; aat; aat; aat; aat; aat; aat; aat; aat                  NaN   \n",
       "2                                aat; aat; aat  Philippines; Plants   \n",
       "3                                aat; aat; aat                  NaN   \n",
       "4                           aat; aat; aat; aat               Tokyo.   \n",
       "\n",
       "  geognames_source                                          persnames  \\\n",
       "0             lcsh               Hodnett, Ralph M.; Hodnett, Ralph M.   \n",
       "1              NaN                                                NaN   \n",
       "2      lcsh; lctgm  Gates, Frank C. (Frank Caleb), 1887-1955; Gate...   \n",
       "3              NaN  Wallace, Mike, 1918-2012; Wallace, Mike, 1918-...   \n",
       "4             lcsh  Goodman, Grant Kohn, 1924-2014; Goodman, Grant...   \n",
       "\n",
       "             persnames_source  \\\n",
       "0                lcnaf; lcnaf   \n",
       "1                         NaN   \n",
       "2         lcnaf; lcnaf; lcnaf   \n",
       "3  lcnaf; lcnaf; lcnaf; lcnaf   \n",
       "4                lcnaf; lcnaf   \n",
       "\n",
       "                                           corpnames     corpnames_source  \\\n",
       "0                               United States. Army.                lcnaf   \n",
       "1  Bentley Historical Library.; Michigan Historic...  lcnaf; lcnaf; lcnaf   \n",
       "2                     University of the Philippines.                lcnaf   \n",
       "3                               CBS News.; CBS News.         lcnaf; lcnaf   \n",
       "4  United States. Army. Japanese Language School ...  lcnaf; lcnaf; lcnaf   \n",
       "\n",
       "       famnames famnames_source  \n",
       "0  Oram family.           lcnaf  \n",
       "1           NaN             NaN  \n",
       "2           NaN             NaN  \n",
       "3           NaN             NaN  \n",
       "4           NaN             NaN  "
      ]
     },
     "execution_count": 7,
     "metadata": {},
     "output_type": "execute_result"
    }
   ],
   "source": [
    "eads_df.head()"
   ]
  },
  {
   "cell_type": "code",
   "execution_count": 9,
   "metadata": {},
   "outputs": [
    {
     "data": {
      "text/plain": [
       "Index(['resource_id', 'eadid', 'titleproper', 'abstract', 'language',\n",
       "       'scopecontent', 'bioghist', 'subjects', 'subjects_source', 'genreforms',\n",
       "       'genreforms_source', 'geognames', 'geognames_source', 'persnames',\n",
       "       'persnames_source', 'corpnames', 'corpnames_source', 'famnames',\n",
       "       'famnames_source'],\n",
       "      dtype='object')"
      ]
     },
     "execution_count": 9,
     "metadata": {},
     "output_type": "execute_result"
    }
   ],
   "source": [
    "eads_df.columns"
   ]
  },
  {
   "cell_type": "code",
   "execution_count": 8,
   "metadata": {},
   "outputs": [],
   "source": [
    "# rename eadid to ead_id\n",
    "eads_df = eads_df.rename(columns={'eadid':'ead_id'})"
   ]
  },
  {
   "cell_type": "markdown",
   "metadata": {},
   "source": [
    "## Tally and Record\n",
    "\n",
    "Use the `match_and_visualize()` function to count the matches."
   ]
  },
  {
   "cell_type": "code",
   "execution_count": 9,
   "metadata": {},
   "outputs": [
    {
     "name": "stdout",
     "output_type": "stream",
     "text": [
      "Matched results for Bentley\n"
     ]
    },
    {
     "data": {
      "text/html": [
       "<div>\n",
       "<style scoped>\n",
       "    .dataframe tbody tr th:only-of-type {\n",
       "        vertical-align: middle;\n",
       "    }\n",
       "\n",
       "    .dataframe tbody tr th {\n",
       "        vertical-align: top;\n",
       "    }\n",
       "\n",
       "    .dataframe thead th {\n",
       "        text-align: right;\n",
       "    }\n",
       "</style>\n",
       "<table border=\"1\" class=\"dataframe\">\n",
       "  <thead>\n",
       "    <tr style=\"text-align: right;\">\n",
       "      <th></th>\n",
       "      <th>ead_id</th>\n",
       "      <th>resource_id</th>\n",
       "      <th>titleproper</th>\n",
       "      <th>Term</th>\n",
       "      <th>Matched_Times</th>\n",
       "      <th>Matched_From</th>\n",
       "      <th>Matched_Paragraph</th>\n",
       "    </tr>\n",
       "  </thead>\n",
       "  <tbody>\n",
       "    <tr>\n",
       "      <th>0</th>\n",
       "      <td>umich-bhl-0336</td>\n",
       "      <td>1051</td>\n",
       "      <td>Grant Kohn Goodman papers, 1943-1995</td>\n",
       "      <td>Death</td>\n",
       "      <td>1</td>\n",
       "      <td>bioghist</td>\n",
       "      <td>Goodman worked as a professor of Japanese hist...</td>\n",
       "    </tr>\n",
       "    <tr>\n",
       "      <th>1</th>\n",
       "      <td>umich-bhl-0375</td>\n",
       "      <td>2620</td>\n",
       "      <td>Museum of Anthropological Archaeology (Univers...</td>\n",
       "      <td>Native</td>\n",
       "      <td>1</td>\n",
       "      <td>bioghist</td>\n",
       "      <td>The Division of Ethnology was established to ...</td>\n",
       "    </tr>\n",
       "    <tr>\n",
       "      <th>2</th>\n",
       "      <td>umich-bhl-0420</td>\n",
       "      <td>9275</td>\n",
       "      <td>the Albert Kahn Associates records, 1825-2014</td>\n",
       "      <td>Death</td>\n",
       "      <td>1</td>\n",
       "      <td>abstract</td>\n",
       "      <td>Albert Kahn was a Detroit-based architect, act...</td>\n",
       "    </tr>\n",
       "    <tr>\n",
       "      <th>3</th>\n",
       "      <td>umich-bhl-0420</td>\n",
       "      <td>9275</td>\n",
       "      <td>the Albert Kahn Associates records, 1825-2014</td>\n",
       "      <td>Death</td>\n",
       "      <td>1</td>\n",
       "      <td>scopecontent</td>\n",
       "      <td>The narrative and visual materials in the coll...</td>\n",
       "    </tr>\n",
       "    <tr>\n",
       "      <th>4</th>\n",
       "      <td>umich-bhl-0420</td>\n",
       "      <td>9275</td>\n",
       "      <td>the Albert Kahn Associates records, 1825-2014</td>\n",
       "      <td>Death</td>\n",
       "      <td>1</td>\n",
       "      <td>bioghist</td>\n",
       "      <td>The final chapter in Kahn's industrial archit...</td>\n",
       "    </tr>\n",
       "    <tr>\n",
       "      <th>...</th>\n",
       "      <td>...</td>\n",
       "      <td>...</td>\n",
       "      <td>...</td>\n",
       "      <td>...</td>\n",
       "      <td>...</td>\n",
       "      <td>...</td>\n",
       "      <td>...</td>\n",
       "    </tr>\n",
       "    <tr>\n",
       "      <th>178</th>\n",
       "      <td>umich-bhl-9573</td>\n",
       "      <td>510</td>\n",
       "      <td>Walker Lee Cisler Papers</td>\n",
       "      <td>Death</td>\n",
       "      <td>1</td>\n",
       "      <td>bioghist</td>\n",
       "      <td>Walker Cisler remained active in his many end...</td>\n",
       "    </tr>\n",
       "    <tr>\n",
       "      <th>179</th>\n",
       "      <td>umich-bhl-9833</td>\n",
       "      <td>985</td>\n",
       "      <td>Edward Gajec Papers</td>\n",
       "      <td>Death</td>\n",
       "      <td>1</td>\n",
       "      <td>bioghist</td>\n",
       "      <td>Edward Gajec was a musician, a music educator,...</td>\n",
       "    </tr>\n",
       "    <tr>\n",
       "      <th>180</th>\n",
       "      <td>umich-bhl-9840</td>\n",
       "      <td>1466</td>\n",
       "      <td>Charles W. Lane papers, 1935-1997</td>\n",
       "      <td>Types</td>\n",
       "      <td>1</td>\n",
       "      <td>scopecontent</td>\n",
       "      <td>The collection is arranged into five series, B...</td>\n",
       "    </tr>\n",
       "    <tr>\n",
       "      <th>181</th>\n",
       "      <td>umich-bhl-9940</td>\n",
       "      <td>295</td>\n",
       "      <td>James J. Blanchard Papers, 1982-2002</td>\n",
       "      <td>Remains</td>\n",
       "      <td>2</td>\n",
       "      <td>scopecontent</td>\n",
       "      <td>The Personnel Division was charged with filli...</td>\n",
       "    </tr>\n",
       "    <tr>\n",
       "      <th>182</th>\n",
       "      <td>umich-bhl-9961</td>\n",
       "      <td>1400</td>\n",
       "      <td>Frank R. Kennedy Papers</td>\n",
       "      <td>Death</td>\n",
       "      <td>1</td>\n",
       "      <td>bioghist</td>\n",
       "      <td>Professor Kennedy's relationship with the Uni...</td>\n",
       "    </tr>\n",
       "  </tbody>\n",
       "</table>\n",
       "<p>183 rows × 7 columns</p>\n",
       "</div>"
      ],
      "text/plain": [
       "             ead_id  resource_id  \\\n",
       "0    umich-bhl-0336         1051   \n",
       "1    umich-bhl-0375         2620   \n",
       "2    umich-bhl-0420         9275   \n",
       "3    umich-bhl-0420         9275   \n",
       "4    umich-bhl-0420         9275   \n",
       "..              ...          ...   \n",
       "178  umich-bhl-9573          510   \n",
       "179  umich-bhl-9833          985   \n",
       "180  umich-bhl-9840         1466   \n",
       "181  umich-bhl-9940          295   \n",
       "182  umich-bhl-9961         1400   \n",
       "\n",
       "                                           titleproper     Term  \\\n",
       "0                 Grant Kohn Goodman papers, 1943-1995    Death   \n",
       "1    Museum of Anthropological Archaeology (Univers...   Native   \n",
       "2        the Albert Kahn Associates records, 1825-2014    Death   \n",
       "3        the Albert Kahn Associates records, 1825-2014    Death   \n",
       "4        the Albert Kahn Associates records, 1825-2014    Death   \n",
       "..                                                 ...      ...   \n",
       "178                           Walker Lee Cisler Papers    Death   \n",
       "179                                Edward Gajec Papers    Death   \n",
       "180                  Charles W. Lane papers, 1935-1997    Types   \n",
       "181               James J. Blanchard Papers, 1982-2002  Remains   \n",
       "182                            Frank R. Kennedy Papers    Death   \n",
       "\n",
       "     Matched_Times  Matched_From  \\\n",
       "0                1      bioghist   \n",
       "1                1      bioghist   \n",
       "2                1      abstract   \n",
       "3                1  scopecontent   \n",
       "4                1      bioghist   \n",
       "..             ...           ...   \n",
       "178              1      bioghist   \n",
       "179              1      bioghist   \n",
       "180              1  scopecontent   \n",
       "181              2  scopecontent   \n",
       "182              1      bioghist   \n",
       "\n",
       "                                     Matched_Paragraph  \n",
       "0    Goodman worked as a professor of Japanese hist...  \n",
       "1     The Division of Ethnology was established to ...  \n",
       "2    Albert Kahn was a Detroit-based architect, act...  \n",
       "3    The narrative and visual materials in the coll...  \n",
       "4     The final chapter in Kahn's industrial archit...  \n",
       "..                                                 ...  \n",
       "178   Walker Cisler remained active in his many end...  \n",
       "179  Edward Gajec was a musician, a music educator,...  \n",
       "180  The collection is arranged into five series, B...  \n",
       "181   The Personnel Division was charged with filli...  \n",
       "182   Professor Kennedy's relationship with the Uni...  \n",
       "\n",
       "[183 rows x 7 columns]"
      ]
     },
     "metadata": {},
     "output_type": "display_data"
    },
    {
     "data": {
      "text/html": [
       "<div>\n",
       "<style scoped>\n",
       "    .dataframe tbody tr th:only-of-type {\n",
       "        vertical-align: middle;\n",
       "    }\n",
       "\n",
       "    .dataframe tbody tr th {\n",
       "        vertical-align: top;\n",
       "    }\n",
       "\n",
       "    .dataframe thead th {\n",
       "        text-align: right;\n",
       "    }\n",
       "</style>\n",
       "<table border=\"1\" class=\"dataframe\">\n",
       "  <thead>\n",
       "    <tr style=\"text-align: right;\">\n",
       "      <th></th>\n",
       "      <th>ead_id</th>\n",
       "      <th>resource_id</th>\n",
       "      <th>titleproper</th>\n",
       "      <th>Term</th>\n",
       "      <th>Matched_Times</th>\n",
       "      <th>Matched_From</th>\n",
       "      <th>Matched_Paragraph</th>\n",
       "    </tr>\n",
       "  </thead>\n",
       "  <tbody>\n",
       "    <tr>\n",
       "      <th>0</th>\n",
       "      <td>umich-bhl-0336</td>\n",
       "      <td>1051</td>\n",
       "      <td>Grant Kohn Goodman papers, 1943-1995</td>\n",
       "      <td>Death</td>\n",
       "      <td>1</td>\n",
       "      <td>bioghist</td>\n",
       "      <td>Goodman worked as a professor of Japanese hist...</td>\n",
       "    </tr>\n",
       "    <tr>\n",
       "      <th>1</th>\n",
       "      <td>umich-bhl-0375</td>\n",
       "      <td>2620</td>\n",
       "      <td>Museum of Anthropological Archaeology (Univers...</td>\n",
       "      <td>Native</td>\n",
       "      <td>1</td>\n",
       "      <td>bioghist</td>\n",
       "      <td>The Division of Ethnology was established to ...</td>\n",
       "    </tr>\n",
       "    <tr>\n",
       "      <th>2</th>\n",
       "      <td>umich-bhl-0420</td>\n",
       "      <td>9275</td>\n",
       "      <td>the Albert Kahn Associates records, 1825-2014</td>\n",
       "      <td>Death</td>\n",
       "      <td>1</td>\n",
       "      <td>abstract</td>\n",
       "      <td>Albert Kahn was a Detroit-based architect, act...</td>\n",
       "    </tr>\n",
       "    <tr>\n",
       "      <th>3</th>\n",
       "      <td>umich-bhl-0420</td>\n",
       "      <td>9275</td>\n",
       "      <td>the Albert Kahn Associates records, 1825-2014</td>\n",
       "      <td>Death</td>\n",
       "      <td>1</td>\n",
       "      <td>scopecontent</td>\n",
       "      <td>The narrative and visual materials in the coll...</td>\n",
       "    </tr>\n",
       "    <tr>\n",
       "      <th>4</th>\n",
       "      <td>umich-bhl-0420</td>\n",
       "      <td>9275</td>\n",
       "      <td>the Albert Kahn Associates records, 1825-2014</td>\n",
       "      <td>Death</td>\n",
       "      <td>1</td>\n",
       "      <td>bioghist</td>\n",
       "      <td>The final chapter in Kahn's industrial archit...</td>\n",
       "    </tr>\n",
       "    <tr>\n",
       "      <th>...</th>\n",
       "      <td>...</td>\n",
       "      <td>...</td>\n",
       "      <td>...</td>\n",
       "      <td>...</td>\n",
       "      <td>...</td>\n",
       "      <td>...</td>\n",
       "      <td>...</td>\n",
       "    </tr>\n",
       "    <tr>\n",
       "      <th>178</th>\n",
       "      <td>umich-bhl-9573</td>\n",
       "      <td>510</td>\n",
       "      <td>Walker Lee Cisler Papers</td>\n",
       "      <td>Death</td>\n",
       "      <td>1</td>\n",
       "      <td>bioghist</td>\n",
       "      <td>Walker Cisler remained active in his many end...</td>\n",
       "    </tr>\n",
       "    <tr>\n",
       "      <th>179</th>\n",
       "      <td>umich-bhl-9833</td>\n",
       "      <td>985</td>\n",
       "      <td>Edward Gajec Papers</td>\n",
       "      <td>Death</td>\n",
       "      <td>1</td>\n",
       "      <td>bioghist</td>\n",
       "      <td>Edward Gajec was a musician, a music educator,...</td>\n",
       "    </tr>\n",
       "    <tr>\n",
       "      <th>180</th>\n",
       "      <td>umich-bhl-9840</td>\n",
       "      <td>1466</td>\n",
       "      <td>Charles W. Lane papers, 1935-1997</td>\n",
       "      <td>Types</td>\n",
       "      <td>1</td>\n",
       "      <td>scopecontent</td>\n",
       "      <td>The collection is arranged into five series, B...</td>\n",
       "    </tr>\n",
       "    <tr>\n",
       "      <th>181</th>\n",
       "      <td>umich-bhl-9940</td>\n",
       "      <td>295</td>\n",
       "      <td>James J. Blanchard Papers, 1982-2002</td>\n",
       "      <td>Remains</td>\n",
       "      <td>2</td>\n",
       "      <td>scopecontent</td>\n",
       "      <td>The Personnel Division was charged with filli...</td>\n",
       "    </tr>\n",
       "    <tr>\n",
       "      <th>182</th>\n",
       "      <td>umich-bhl-9961</td>\n",
       "      <td>1400</td>\n",
       "      <td>Frank R. Kennedy Papers</td>\n",
       "      <td>Death</td>\n",
       "      <td>1</td>\n",
       "      <td>bioghist</td>\n",
       "      <td>Professor Kennedy's relationship with the Uni...</td>\n",
       "    </tr>\n",
       "  </tbody>\n",
       "</table>\n",
       "<p>183 rows × 7 columns</p>\n",
       "</div>"
      ],
      "text/plain": [
       "             ead_id  resource_id  \\\n",
       "0    umich-bhl-0336         1051   \n",
       "1    umich-bhl-0375         2620   \n",
       "2    umich-bhl-0420         9275   \n",
       "3    umich-bhl-0420         9275   \n",
       "4    umich-bhl-0420         9275   \n",
       "..              ...          ...   \n",
       "178  umich-bhl-9573          510   \n",
       "179  umich-bhl-9833          985   \n",
       "180  umich-bhl-9840         1466   \n",
       "181  umich-bhl-9940          295   \n",
       "182  umich-bhl-9961         1400   \n",
       "\n",
       "                                           titleproper     Term  \\\n",
       "0                 Grant Kohn Goodman papers, 1943-1995    Death   \n",
       "1    Museum of Anthropological Archaeology (Univers...   Native   \n",
       "2        the Albert Kahn Associates records, 1825-2014    Death   \n",
       "3        the Albert Kahn Associates records, 1825-2014    Death   \n",
       "4        the Albert Kahn Associates records, 1825-2014    Death   \n",
       "..                                                 ...      ...   \n",
       "178                           Walker Lee Cisler Papers    Death   \n",
       "179                                Edward Gajec Papers    Death   \n",
       "180                  Charles W. Lane papers, 1935-1997    Types   \n",
       "181               James J. Blanchard Papers, 1982-2002  Remains   \n",
       "182                            Frank R. Kennedy Papers    Death   \n",
       "\n",
       "     Matched_Times  Matched_From  \\\n",
       "0                1      bioghist   \n",
       "1                1      bioghist   \n",
       "2                1      abstract   \n",
       "3                1  scopecontent   \n",
       "4                1      bioghist   \n",
       "..             ...           ...   \n",
       "178              1      bioghist   \n",
       "179              1      bioghist   \n",
       "180              1  scopecontent   \n",
       "181              2  scopecontent   \n",
       "182              1      bioghist   \n",
       "\n",
       "                                     Matched_Paragraph  \n",
       "0    Goodman worked as a professor of Japanese hist...  \n",
       "1     The Division of Ethnology was established to ...  \n",
       "2    Albert Kahn was a Detroit-based architect, act...  \n",
       "3    The narrative and visual materials in the coll...  \n",
       "4     The final chapter in Kahn's industrial archit...  \n",
       "..                                                 ...  \n",
       "178   Walker Cisler remained active in his many end...  \n",
       "179  Edward Gajec was a musician, a music educator,...  \n",
       "180  The collection is arranged into five series, B...  \n",
       "181   The Personnel Division was charged with filli...  \n",
       "182   Professor Kennedy's relationship with the Uni...  \n",
       "\n",
       "[183 rows x 7 columns]"
      ]
     },
     "execution_count": 9,
     "metadata": {},
     "output_type": "execute_result"
    }
   ],
   "source": [
    "match_and_visualize(eads_df, 'Bentley')"
   ]
  },
  {
   "cell_type": "markdown",
   "metadata": {},
   "source": [
    "The `calculate_term_frequency()` function uses the matched term list\n",
    "and regroups according to the matched terms and tallies the frequncy of the terms."
   ]
  },
  {
   "cell_type": "code",
   "execution_count": 10,
   "metadata": {},
   "outputs": [],
   "source": [
    "def calculate_term_frequency(df, df_name):\n",
    "    term_frequency = df.groupby('Term')['Matched_Times'].sum().reset_index()\n",
    "    term_frequency.rename(columns={'Matched_Times': 'Total_Frequency'}, inplace=True)\n",
    "    term_frequency['DataFrame'] = df_name\n",
    "\n",
    "    # Sort in descending order\n",
    "    term_frequency.sort_values(by='Total_Frequency', ascending=False, inplace=True)\n",
    "    \n",
    "    # Show frequency table\n",
    "    print('Term frequency for', df_name)\n",
    "    display(term_frequency)\n",
    "\n",
    "    return term_frequency"
   ]
  },
  {
   "cell_type": "markdown",
   "metadata": {},
   "source": [
    "## Match from multiple sources\n",
    "\n",
    "In our originating use case at the University of Michigan,\n",
    "we were interested to see how the terms were used across different\n",
    "collections. We were, specifically, working with three on-campus repositories:\n",
    "the Bentley Historical Library, Clements Library, and the Special Collections Research Center (part of the University Library).\n",
    "\n",
    "If you are working with multiple groups of finding aids, \n",
    "you might adapt the following code, which concatenates multiple\n",
    "lists (may be provided as dataframes or CSVs) and tallies across them. "
   ]
  },
  {
   "cell_type": "code",
   "execution_count": null,
   "metadata": {},
   "outputs": [],
   "source": [
    "# for each dataframe representing matched terms\n",
    "file_list = [(df1_Bentley, 'Bentley'), (df2_Clements, 'Clements'), (df3_SCRC, 'SCRC')]\n",
    "matched_results = {name: match_and_visualize(df, name) for df, name in file_list}"
   ]
  },
  {
   "cell_type": "markdown",
   "metadata": {},
   "source": [
    "# Visualize matches\n",
    "\n",
    "This should probably be split to its own file, but here for dev purposes\n",
    "\n",
    "### Visualization values\n",
    "\n",
    "Use the below to set global values, such as the names of repositories\n",
    "under analysis, or fonts and colors for charts. "
   ]
  },
  {
   "cell_type": "code",
   "execution_count": 11,
   "metadata": {},
   "outputs": [
    {
     "name": "stdout",
     "output_type": "stream",
     "text": [
      "Matched results for Bentley\n"
     ]
    },
    {
     "data": {
      "text/html": [
       "<div>\n",
       "<style scoped>\n",
       "    .dataframe tbody tr th:only-of-type {\n",
       "        vertical-align: middle;\n",
       "    }\n",
       "\n",
       "    .dataframe tbody tr th {\n",
       "        vertical-align: top;\n",
       "    }\n",
       "\n",
       "    .dataframe thead th {\n",
       "        text-align: right;\n",
       "    }\n",
       "</style>\n",
       "<table border=\"1\" class=\"dataframe\">\n",
       "  <thead>\n",
       "    <tr style=\"text-align: right;\">\n",
       "      <th></th>\n",
       "      <th>ead_id</th>\n",
       "      <th>resource_id</th>\n",
       "      <th>titleproper</th>\n",
       "      <th>Term</th>\n",
       "      <th>Matched_Times</th>\n",
       "      <th>Matched_From</th>\n",
       "      <th>Matched_Paragraph</th>\n",
       "    </tr>\n",
       "  </thead>\n",
       "  <tbody>\n",
       "    <tr>\n",
       "      <th>0</th>\n",
       "      <td>umich-bhl-0336</td>\n",
       "      <td>1051</td>\n",
       "      <td>Grant Kohn Goodman papers, 1943-1995</td>\n",
       "      <td>Death</td>\n",
       "      <td>1</td>\n",
       "      <td>bioghist</td>\n",
       "      <td>Goodman worked as a professor of Japanese hist...</td>\n",
       "    </tr>\n",
       "    <tr>\n",
       "      <th>1</th>\n",
       "      <td>umich-bhl-0375</td>\n",
       "      <td>2620</td>\n",
       "      <td>Museum of Anthropological Archaeology (Univers...</td>\n",
       "      <td>Native</td>\n",
       "      <td>1</td>\n",
       "      <td>bioghist</td>\n",
       "      <td>The Division of Ethnology was established to ...</td>\n",
       "    </tr>\n",
       "    <tr>\n",
       "      <th>2</th>\n",
       "      <td>umich-bhl-0420</td>\n",
       "      <td>9275</td>\n",
       "      <td>the Albert Kahn Associates records, 1825-2014</td>\n",
       "      <td>Death</td>\n",
       "      <td>1</td>\n",
       "      <td>abstract</td>\n",
       "      <td>Albert Kahn was a Detroit-based architect, act...</td>\n",
       "    </tr>\n",
       "    <tr>\n",
       "      <th>3</th>\n",
       "      <td>umich-bhl-0420</td>\n",
       "      <td>9275</td>\n",
       "      <td>the Albert Kahn Associates records, 1825-2014</td>\n",
       "      <td>Death</td>\n",
       "      <td>1</td>\n",
       "      <td>scopecontent</td>\n",
       "      <td>The narrative and visual materials in the coll...</td>\n",
       "    </tr>\n",
       "    <tr>\n",
       "      <th>4</th>\n",
       "      <td>umich-bhl-0420</td>\n",
       "      <td>9275</td>\n",
       "      <td>the Albert Kahn Associates records, 1825-2014</td>\n",
       "      <td>Death</td>\n",
       "      <td>1</td>\n",
       "      <td>bioghist</td>\n",
       "      <td>The final chapter in Kahn's industrial archit...</td>\n",
       "    </tr>\n",
       "    <tr>\n",
       "      <th>...</th>\n",
       "      <td>...</td>\n",
       "      <td>...</td>\n",
       "      <td>...</td>\n",
       "      <td>...</td>\n",
       "      <td>...</td>\n",
       "      <td>...</td>\n",
       "      <td>...</td>\n",
       "    </tr>\n",
       "    <tr>\n",
       "      <th>178</th>\n",
       "      <td>umich-bhl-9573</td>\n",
       "      <td>510</td>\n",
       "      <td>Walker Lee Cisler Papers</td>\n",
       "      <td>Death</td>\n",
       "      <td>1</td>\n",
       "      <td>bioghist</td>\n",
       "      <td>Walker Cisler remained active in his many end...</td>\n",
       "    </tr>\n",
       "    <tr>\n",
       "      <th>179</th>\n",
       "      <td>umich-bhl-9833</td>\n",
       "      <td>985</td>\n",
       "      <td>Edward Gajec Papers</td>\n",
       "      <td>Death</td>\n",
       "      <td>1</td>\n",
       "      <td>bioghist</td>\n",
       "      <td>Edward Gajec was a musician, a music educator,...</td>\n",
       "    </tr>\n",
       "    <tr>\n",
       "      <th>180</th>\n",
       "      <td>umich-bhl-9840</td>\n",
       "      <td>1466</td>\n",
       "      <td>Charles W. Lane papers, 1935-1997</td>\n",
       "      <td>Types</td>\n",
       "      <td>1</td>\n",
       "      <td>scopecontent</td>\n",
       "      <td>The collection is arranged into five series, B...</td>\n",
       "    </tr>\n",
       "    <tr>\n",
       "      <th>181</th>\n",
       "      <td>umich-bhl-9940</td>\n",
       "      <td>295</td>\n",
       "      <td>James J. Blanchard Papers, 1982-2002</td>\n",
       "      <td>Remains</td>\n",
       "      <td>2</td>\n",
       "      <td>scopecontent</td>\n",
       "      <td>The Personnel Division was charged with filli...</td>\n",
       "    </tr>\n",
       "    <tr>\n",
       "      <th>182</th>\n",
       "      <td>umich-bhl-9961</td>\n",
       "      <td>1400</td>\n",
       "      <td>Frank R. Kennedy Papers</td>\n",
       "      <td>Death</td>\n",
       "      <td>1</td>\n",
       "      <td>bioghist</td>\n",
       "      <td>Professor Kennedy's relationship with the Uni...</td>\n",
       "    </tr>\n",
       "  </tbody>\n",
       "</table>\n",
       "<p>183 rows × 7 columns</p>\n",
       "</div>"
      ],
      "text/plain": [
       "             ead_id  resource_id  \\\n",
       "0    umich-bhl-0336         1051   \n",
       "1    umich-bhl-0375         2620   \n",
       "2    umich-bhl-0420         9275   \n",
       "3    umich-bhl-0420         9275   \n",
       "4    umich-bhl-0420         9275   \n",
       "..              ...          ...   \n",
       "178  umich-bhl-9573          510   \n",
       "179  umich-bhl-9833          985   \n",
       "180  umich-bhl-9840         1466   \n",
       "181  umich-bhl-9940          295   \n",
       "182  umich-bhl-9961         1400   \n",
       "\n",
       "                                           titleproper     Term  \\\n",
       "0                 Grant Kohn Goodman papers, 1943-1995    Death   \n",
       "1    Museum of Anthropological Archaeology (Univers...   Native   \n",
       "2        the Albert Kahn Associates records, 1825-2014    Death   \n",
       "3        the Albert Kahn Associates records, 1825-2014    Death   \n",
       "4        the Albert Kahn Associates records, 1825-2014    Death   \n",
       "..                                                 ...      ...   \n",
       "178                           Walker Lee Cisler Papers    Death   \n",
       "179                                Edward Gajec Papers    Death   \n",
       "180                  Charles W. Lane papers, 1935-1997    Types   \n",
       "181               James J. Blanchard Papers, 1982-2002  Remains   \n",
       "182                            Frank R. Kennedy Papers    Death   \n",
       "\n",
       "     Matched_Times  Matched_From  \\\n",
       "0                1      bioghist   \n",
       "1                1      bioghist   \n",
       "2                1      abstract   \n",
       "3                1  scopecontent   \n",
       "4                1      bioghist   \n",
       "..             ...           ...   \n",
       "178              1      bioghist   \n",
       "179              1      bioghist   \n",
       "180              1  scopecontent   \n",
       "181              2  scopecontent   \n",
       "182              1      bioghist   \n",
       "\n",
       "                                     Matched_Paragraph  \n",
       "0    Goodman worked as a professor of Japanese hist...  \n",
       "1     The Division of Ethnology was established to ...  \n",
       "2    Albert Kahn was a Detroit-based architect, act...  \n",
       "3    The narrative and visual materials in the coll...  \n",
       "4     The final chapter in Kahn's industrial archit...  \n",
       "..                                                 ...  \n",
       "178   Walker Cisler remained active in his many end...  \n",
       "179  Edward Gajec was a musician, a music educator,...  \n",
       "180  The collection is arranged into five series, B...  \n",
       "181   The Personnel Division was charged with filli...  \n",
       "182   Professor Kennedy's relationship with the Uni...  \n",
       "\n",
       "[183 rows x 7 columns]"
      ]
     },
     "metadata": {},
     "output_type": "display_data"
    }
   ],
   "source": [
    "# set names and colors here\n",
    "repo_list = ['Bentley']\n",
    "#repo_list = ['Bentley','Clements','SCRC']\n",
    "global_font_info = {'font_family':'Georgia'}\n",
    "colors = {'Bentley': '#CFC096', 'Clements': '#A5A508', 'SCRC': '#FFCB05'}\n",
    "project_name = 'RCRC Finding Aids'\n",
    "\n",
    "# create a manifest to select which result lists you want to visualize\n",
    "match_groups = [(eads_df, 'Bentley')]\n",
    "matched_results = {name: match_and_visualize(df, name) for df, name in match_groups}"
   ]
  },
  {
   "cell_type": "markdown",
   "metadata": {},
   "source": [
    "## Visualize group matches\n",
    "\n",
    "In the use case at U Michigan, the groups represented finding aids\n",
    "created by different repositories on campus. This can be useful for\n",
    "working with subgroups of finding aids, or in comparing usage between\n",
    "different organizations."
   ]
  },
  {
   "cell_type": "code",
   "execution_count": 12,
   "metadata": {},
   "outputs": [
    {
     "name": "stdout",
     "output_type": "stream",
     "text": [
      "Term frequency for Bentley\n"
     ]
    },
    {
     "data": {
      "text/html": [
       "<div>\n",
       "<style scoped>\n",
       "    .dataframe tbody tr th:only-of-type {\n",
       "        vertical-align: middle;\n",
       "    }\n",
       "\n",
       "    .dataframe tbody tr th {\n",
       "        vertical-align: top;\n",
       "    }\n",
       "\n",
       "    .dataframe thead th {\n",
       "        text-align: right;\n",
       "    }\n",
       "</style>\n",
       "<table border=\"1\" class=\"dataframe\">\n",
       "  <thead>\n",
       "    <tr style=\"text-align: right;\">\n",
       "      <th></th>\n",
       "      <th>Term</th>\n",
       "      <th>Total_Frequency</th>\n",
       "      <th>DataFrame</th>\n",
       "    </tr>\n",
       "  </thead>\n",
       "  <tbody>\n",
       "    <tr>\n",
       "      <th>5</th>\n",
       "      <td>Death</td>\n",
       "      <td>51</td>\n",
       "      <td>Bentley</td>\n",
       "    </tr>\n",
       "    <tr>\n",
       "      <th>19</th>\n",
       "      <td>Philippine Islands</td>\n",
       "      <td>33</td>\n",
       "      <td>Bentley</td>\n",
       "    </tr>\n",
       "    <tr>\n",
       "      <th>17</th>\n",
       "      <td>Native</td>\n",
       "      <td>21</td>\n",
       "      <td>Bentley</td>\n",
       "    </tr>\n",
       "    <tr>\n",
       "      <th>6</th>\n",
       "      <td>Dwellings</td>\n",
       "      <td>19</td>\n",
       "      <td>Bentley</td>\n",
       "    </tr>\n",
       "    <tr>\n",
       "      <th>10</th>\n",
       "      <td>Igorot</td>\n",
       "      <td>15</td>\n",
       "      <td>Bentley</td>\n",
       "    </tr>\n",
       "    <tr>\n",
       "      <th>29</th>\n",
       "      <td>Types</td>\n",
       "      <td>8</td>\n",
       "      <td>Bentley</td>\n",
       "    </tr>\n",
       "    <tr>\n",
       "      <th>22</th>\n",
       "      <td>Remains</td>\n",
       "      <td>5</td>\n",
       "      <td>Bentley</td>\n",
       "    </tr>\n",
       "    <tr>\n",
       "      <th>21</th>\n",
       "      <td>Race</td>\n",
       "      <td>5</td>\n",
       "      <td>Bentley</td>\n",
       "    </tr>\n",
       "    <tr>\n",
       "      <th>11</th>\n",
       "      <td>Igorots</td>\n",
       "      <td>5</td>\n",
       "      <td>Bentley</td>\n",
       "    </tr>\n",
       "    <tr>\n",
       "      <th>0</th>\n",
       "      <td>Colonial</td>\n",
       "      <td>5</td>\n",
       "      <td>Bentley</td>\n",
       "    </tr>\n",
       "    <tr>\n",
       "      <th>9</th>\n",
       "      <td>Hygiene</td>\n",
       "      <td>4</td>\n",
       "      <td>Bentley</td>\n",
       "    </tr>\n",
       "    <tr>\n",
       "      <th>28</th>\n",
       "      <td>Type</td>\n",
       "      <td>4</td>\n",
       "      <td>Bentley</td>\n",
       "    </tr>\n",
       "    <tr>\n",
       "      <th>26</th>\n",
       "      <td>Tribe</td>\n",
       "      <td>4</td>\n",
       "      <td>Bentley</td>\n",
       "    </tr>\n",
       "    <tr>\n",
       "      <th>12</th>\n",
       "      <td>Indigenous</td>\n",
       "      <td>3</td>\n",
       "      <td>Bentley</td>\n",
       "    </tr>\n",
       "    <tr>\n",
       "      <th>4</th>\n",
       "      <td>Commonwealth of the Philippines</td>\n",
       "      <td>3</td>\n",
       "      <td>Bentley</td>\n",
       "    </tr>\n",
       "    <tr>\n",
       "      <th>23</th>\n",
       "      <td>Settlers</td>\n",
       "      <td>2</td>\n",
       "      <td>Bentley</td>\n",
       "    </tr>\n",
       "    <tr>\n",
       "      <th>13</th>\n",
       "      <td>Insurgency</td>\n",
       "      <td>2</td>\n",
       "      <td>Bentley</td>\n",
       "    </tr>\n",
       "    <tr>\n",
       "      <th>14</th>\n",
       "      <td>Insurgent</td>\n",
       "      <td>2</td>\n",
       "      <td>Bentley</td>\n",
       "    </tr>\n",
       "    <tr>\n",
       "      <th>27</th>\n",
       "      <td>Tribes</td>\n",
       "      <td>2</td>\n",
       "      <td>Bentley</td>\n",
       "    </tr>\n",
       "    <tr>\n",
       "      <th>18</th>\n",
       "      <td>Non-Christian</td>\n",
       "      <td>2</td>\n",
       "      <td>Bentley</td>\n",
       "    </tr>\n",
       "    <tr>\n",
       "      <th>25</th>\n",
       "      <td>Territory</td>\n",
       "      <td>2</td>\n",
       "      <td>Bentley</td>\n",
       "    </tr>\n",
       "    <tr>\n",
       "      <th>2</th>\n",
       "      <td>Colonists</td>\n",
       "      <td>2</td>\n",
       "      <td>Bentley</td>\n",
       "    </tr>\n",
       "    <tr>\n",
       "      <th>24</th>\n",
       "      <td>Slavery</td>\n",
       "      <td>1</td>\n",
       "      <td>Bentley</td>\n",
       "    </tr>\n",
       "    <tr>\n",
       "      <th>20</th>\n",
       "      <td>Plantations</td>\n",
       "      <td>1</td>\n",
       "      <td>Bentley</td>\n",
       "    </tr>\n",
       "    <tr>\n",
       "      <th>3</th>\n",
       "      <td>Colony</td>\n",
       "      <td>1</td>\n",
       "      <td>Bentley</td>\n",
       "    </tr>\n",
       "    <tr>\n",
       "      <th>8</th>\n",
       "      <td>Hanging</td>\n",
       "      <td>1</td>\n",
       "      <td>Bentley</td>\n",
       "    </tr>\n",
       "    <tr>\n",
       "      <th>7</th>\n",
       "      <td>Executions</td>\n",
       "      <td>1</td>\n",
       "      <td>Bentley</td>\n",
       "    </tr>\n",
       "    <tr>\n",
       "      <th>16</th>\n",
       "      <td>Moros</td>\n",
       "      <td>1</td>\n",
       "      <td>Bentley</td>\n",
       "    </tr>\n",
       "    <tr>\n",
       "      <th>1</th>\n",
       "      <td>Colonialism</td>\n",
       "      <td>1</td>\n",
       "      <td>Bentley</td>\n",
       "    </tr>\n",
       "    <tr>\n",
       "      <th>15</th>\n",
       "      <td>Insurrection</td>\n",
       "      <td>1</td>\n",
       "      <td>Bentley</td>\n",
       "    </tr>\n",
       "  </tbody>\n",
       "</table>\n",
       "</div>"
      ],
      "text/plain": [
       "                               Term  Total_Frequency DataFrame\n",
       "5                             Death               51   Bentley\n",
       "19               Philippine Islands               33   Bentley\n",
       "17                           Native               21   Bentley\n",
       "6                         Dwellings               19   Bentley\n",
       "10                           Igorot               15   Bentley\n",
       "29                            Types                8   Bentley\n",
       "22                          Remains                5   Bentley\n",
       "21                             Race                5   Bentley\n",
       "11                          Igorots                5   Bentley\n",
       "0                          Colonial                5   Bentley\n",
       "9                           Hygiene                4   Bentley\n",
       "28                             Type                4   Bentley\n",
       "26                            Tribe                4   Bentley\n",
       "12                       Indigenous                3   Bentley\n",
       "4   Commonwealth of the Philippines                3   Bentley\n",
       "23                         Settlers                2   Bentley\n",
       "13                       Insurgency                2   Bentley\n",
       "14                        Insurgent                2   Bentley\n",
       "27                           Tribes                2   Bentley\n",
       "18                    Non-Christian                2   Bentley\n",
       "25                        Territory                2   Bentley\n",
       "2                         Colonists                2   Bentley\n",
       "24                          Slavery                1   Bentley\n",
       "20                      Plantations                1   Bentley\n",
       "3                            Colony                1   Bentley\n",
       "8                           Hanging                1   Bentley\n",
       "7                        Executions                1   Bentley\n",
       "16                            Moros                1   Bentley\n",
       "1                       Colonialism                1   Bentley\n",
       "15                     Insurrection                1   Bentley"
      ]
     },
     "metadata": {},
     "output_type": "display_data"
    },
    {
     "data": {
      "application/vnd.plotly.v1+json": {
       "config": {
        "plotlyServerURL": "https://plot.ly"
       },
       "data": [
        {
         "alignmentgroup": "True",
         "hovertemplate": "Repository=Bentley<br>Term=%{x}<br>Term Occurence Count=%{text}<extra></extra>",
         "insidetextanchor": "middle",
         "legendgroup": "Bentley",
         "marker": {
          "color": "#CFC096",
          "pattern": {
           "shape": ""
          }
         },
         "name": "Bentley",
         "offsetgroup": "Bentley",
         "orientation": "v",
         "showlegend": true,
         "text": [
          51,
          33,
          21,
          19,
          15,
          8,
          5,
          5,
          5,
          5,
          4,
          4,
          4,
          3,
          3,
          2,
          2,
          2,
          2,
          2,
          2,
          2,
          1,
          1,
          1,
          1,
          1,
          1,
          1,
          1
         ],
         "textfont": {
          "family": "Arial",
          "size": 8
         },
         "textposition": "outside",
         "texttemplate": "%{y}",
         "type": "bar",
         "x": [
          "Death",
          "Philippine Islands",
          "Native",
          "Dwellings",
          "Igorot",
          "Types",
          "Remains",
          "Race",
          "Igorots",
          "Colonial",
          "Hygiene",
          "Type",
          "Tribe",
          "Indigenous",
          "Commonwealth of the Philippines",
          "Settlers",
          "Insurgency",
          "Insurgent",
          "Tribes",
          "Non-Christian",
          "Territory",
          "Colonists",
          "Slavery",
          "Plantations",
          "Colony",
          "Hanging",
          "Executions",
          "Moros",
          "Colonialism",
          "Insurrection"
         ],
         "xaxis": "x",
         "y": [
          51,
          33,
          21,
          19,
          15,
          8,
          5,
          5,
          5,
          5,
          4,
          4,
          4,
          3,
          3,
          2,
          2,
          2,
          2,
          2,
          2,
          2,
          1,
          1,
          1,
          1,
          1,
          1,
          1,
          1
         ],
         "yaxis": "y"
        }
       ],
       "layout": {
        "barmode": "relative",
        "font": {
         "family": "Georgia"
        },
        "legend": {
         "title": {
          "text": "Repository"
         },
         "tracegroupgap": 0
        },
        "margin": {
         "t": 60
        },
        "showlegend": false,
        "template": {
         "data": {
          "bar": [
           {
            "error_x": {
             "color": "#2a3f5f"
            },
            "error_y": {
             "color": "#2a3f5f"
            },
            "marker": {
             "line": {
              "color": "#E5ECF6",
              "width": 0.5
             },
             "pattern": {
              "fillmode": "overlay",
              "size": 10,
              "solidity": 0.2
             }
            },
            "type": "bar"
           }
          ],
          "barpolar": [
           {
            "marker": {
             "line": {
              "color": "#E5ECF6",
              "width": 0.5
             },
             "pattern": {
              "fillmode": "overlay",
              "size": 10,
              "solidity": 0.2
             }
            },
            "type": "barpolar"
           }
          ],
          "carpet": [
           {
            "aaxis": {
             "endlinecolor": "#2a3f5f",
             "gridcolor": "white",
             "linecolor": "white",
             "minorgridcolor": "white",
             "startlinecolor": "#2a3f5f"
            },
            "baxis": {
             "endlinecolor": "#2a3f5f",
             "gridcolor": "white",
             "linecolor": "white",
             "minorgridcolor": "white",
             "startlinecolor": "#2a3f5f"
            },
            "type": "carpet"
           }
          ],
          "choropleth": [
           {
            "colorbar": {
             "outlinewidth": 0,
             "ticks": ""
            },
            "type": "choropleth"
           }
          ],
          "contour": [
           {
            "colorbar": {
             "outlinewidth": 0,
             "ticks": ""
            },
            "colorscale": [
             [
              0,
              "#0d0887"
             ],
             [
              0.1111111111111111,
              "#46039f"
             ],
             [
              0.2222222222222222,
              "#7201a8"
             ],
             [
              0.3333333333333333,
              "#9c179e"
             ],
             [
              0.4444444444444444,
              "#bd3786"
             ],
             [
              0.5555555555555556,
              "#d8576b"
             ],
             [
              0.6666666666666666,
              "#ed7953"
             ],
             [
              0.7777777777777778,
              "#fb9f3a"
             ],
             [
              0.8888888888888888,
              "#fdca26"
             ],
             [
              1,
              "#f0f921"
             ]
            ],
            "type": "contour"
           }
          ],
          "contourcarpet": [
           {
            "colorbar": {
             "outlinewidth": 0,
             "ticks": ""
            },
            "type": "contourcarpet"
           }
          ],
          "heatmap": [
           {
            "colorbar": {
             "outlinewidth": 0,
             "ticks": ""
            },
            "colorscale": [
             [
              0,
              "#0d0887"
             ],
             [
              0.1111111111111111,
              "#46039f"
             ],
             [
              0.2222222222222222,
              "#7201a8"
             ],
             [
              0.3333333333333333,
              "#9c179e"
             ],
             [
              0.4444444444444444,
              "#bd3786"
             ],
             [
              0.5555555555555556,
              "#d8576b"
             ],
             [
              0.6666666666666666,
              "#ed7953"
             ],
             [
              0.7777777777777778,
              "#fb9f3a"
             ],
             [
              0.8888888888888888,
              "#fdca26"
             ],
             [
              1,
              "#f0f921"
             ]
            ],
            "type": "heatmap"
           }
          ],
          "heatmapgl": [
           {
            "colorbar": {
             "outlinewidth": 0,
             "ticks": ""
            },
            "colorscale": [
             [
              0,
              "#0d0887"
             ],
             [
              0.1111111111111111,
              "#46039f"
             ],
             [
              0.2222222222222222,
              "#7201a8"
             ],
             [
              0.3333333333333333,
              "#9c179e"
             ],
             [
              0.4444444444444444,
              "#bd3786"
             ],
             [
              0.5555555555555556,
              "#d8576b"
             ],
             [
              0.6666666666666666,
              "#ed7953"
             ],
             [
              0.7777777777777778,
              "#fb9f3a"
             ],
             [
              0.8888888888888888,
              "#fdca26"
             ],
             [
              1,
              "#f0f921"
             ]
            ],
            "type": "heatmapgl"
           }
          ],
          "histogram": [
           {
            "marker": {
             "pattern": {
              "fillmode": "overlay",
              "size": 10,
              "solidity": 0.2
             }
            },
            "type": "histogram"
           }
          ],
          "histogram2d": [
           {
            "colorbar": {
             "outlinewidth": 0,
             "ticks": ""
            },
            "colorscale": [
             [
              0,
              "#0d0887"
             ],
             [
              0.1111111111111111,
              "#46039f"
             ],
             [
              0.2222222222222222,
              "#7201a8"
             ],
             [
              0.3333333333333333,
              "#9c179e"
             ],
             [
              0.4444444444444444,
              "#bd3786"
             ],
             [
              0.5555555555555556,
              "#d8576b"
             ],
             [
              0.6666666666666666,
              "#ed7953"
             ],
             [
              0.7777777777777778,
              "#fb9f3a"
             ],
             [
              0.8888888888888888,
              "#fdca26"
             ],
             [
              1,
              "#f0f921"
             ]
            ],
            "type": "histogram2d"
           }
          ],
          "histogram2dcontour": [
           {
            "colorbar": {
             "outlinewidth": 0,
             "ticks": ""
            },
            "colorscale": [
             [
              0,
              "#0d0887"
             ],
             [
              0.1111111111111111,
              "#46039f"
             ],
             [
              0.2222222222222222,
              "#7201a8"
             ],
             [
              0.3333333333333333,
              "#9c179e"
             ],
             [
              0.4444444444444444,
              "#bd3786"
             ],
             [
              0.5555555555555556,
              "#d8576b"
             ],
             [
              0.6666666666666666,
              "#ed7953"
             ],
             [
              0.7777777777777778,
              "#fb9f3a"
             ],
             [
              0.8888888888888888,
              "#fdca26"
             ],
             [
              1,
              "#f0f921"
             ]
            ],
            "type": "histogram2dcontour"
           }
          ],
          "mesh3d": [
           {
            "colorbar": {
             "outlinewidth": 0,
             "ticks": ""
            },
            "type": "mesh3d"
           }
          ],
          "parcoords": [
           {
            "line": {
             "colorbar": {
              "outlinewidth": 0,
              "ticks": ""
             }
            },
            "type": "parcoords"
           }
          ],
          "pie": [
           {
            "automargin": true,
            "type": "pie"
           }
          ],
          "scatter": [
           {
            "fillpattern": {
             "fillmode": "overlay",
             "size": 10,
             "solidity": 0.2
            },
            "type": "scatter"
           }
          ],
          "scatter3d": [
           {
            "line": {
             "colorbar": {
              "outlinewidth": 0,
              "ticks": ""
             }
            },
            "marker": {
             "colorbar": {
              "outlinewidth": 0,
              "ticks": ""
             }
            },
            "type": "scatter3d"
           }
          ],
          "scattercarpet": [
           {
            "marker": {
             "colorbar": {
              "outlinewidth": 0,
              "ticks": ""
             }
            },
            "type": "scattercarpet"
           }
          ],
          "scattergeo": [
           {
            "marker": {
             "colorbar": {
              "outlinewidth": 0,
              "ticks": ""
             }
            },
            "type": "scattergeo"
           }
          ],
          "scattergl": [
           {
            "marker": {
             "colorbar": {
              "outlinewidth": 0,
              "ticks": ""
             }
            },
            "type": "scattergl"
           }
          ],
          "scattermapbox": [
           {
            "marker": {
             "colorbar": {
              "outlinewidth": 0,
              "ticks": ""
             }
            },
            "type": "scattermapbox"
           }
          ],
          "scatterpolar": [
           {
            "marker": {
             "colorbar": {
              "outlinewidth": 0,
              "ticks": ""
             }
            },
            "type": "scatterpolar"
           }
          ],
          "scatterpolargl": [
           {
            "marker": {
             "colorbar": {
              "outlinewidth": 0,
              "ticks": ""
             }
            },
            "type": "scatterpolargl"
           }
          ],
          "scatterternary": [
           {
            "marker": {
             "colorbar": {
              "outlinewidth": 0,
              "ticks": ""
             }
            },
            "type": "scatterternary"
           }
          ],
          "surface": [
           {
            "colorbar": {
             "outlinewidth": 0,
             "ticks": ""
            },
            "colorscale": [
             [
              0,
              "#0d0887"
             ],
             [
              0.1111111111111111,
              "#46039f"
             ],
             [
              0.2222222222222222,
              "#7201a8"
             ],
             [
              0.3333333333333333,
              "#9c179e"
             ],
             [
              0.4444444444444444,
              "#bd3786"
             ],
             [
              0.5555555555555556,
              "#d8576b"
             ],
             [
              0.6666666666666666,
              "#ed7953"
             ],
             [
              0.7777777777777778,
              "#fb9f3a"
             ],
             [
              0.8888888888888888,
              "#fdca26"
             ],
             [
              1,
              "#f0f921"
             ]
            ],
            "type": "surface"
           }
          ],
          "table": [
           {
            "cells": {
             "fill": {
              "color": "#EBF0F8"
             },
             "line": {
              "color": "white"
             }
            },
            "header": {
             "fill": {
              "color": "#C8D4E3"
             },
             "line": {
              "color": "white"
             }
            },
            "type": "table"
           }
          ]
         },
         "layout": {
          "annotationdefaults": {
           "arrowcolor": "#2a3f5f",
           "arrowhead": 0,
           "arrowwidth": 1
          },
          "autotypenumbers": "strict",
          "coloraxis": {
           "colorbar": {
            "outlinewidth": 0,
            "ticks": ""
           }
          },
          "colorscale": {
           "diverging": [
            [
             0,
             "#8e0152"
            ],
            [
             0.1,
             "#c51b7d"
            ],
            [
             0.2,
             "#de77ae"
            ],
            [
             0.3,
             "#f1b6da"
            ],
            [
             0.4,
             "#fde0ef"
            ],
            [
             0.5,
             "#f7f7f7"
            ],
            [
             0.6,
             "#e6f5d0"
            ],
            [
             0.7,
             "#b8e186"
            ],
            [
             0.8,
             "#7fbc41"
            ],
            [
             0.9,
             "#4d9221"
            ],
            [
             1,
             "#276419"
            ]
           ],
           "sequential": [
            [
             0,
             "#0d0887"
            ],
            [
             0.1111111111111111,
             "#46039f"
            ],
            [
             0.2222222222222222,
             "#7201a8"
            ],
            [
             0.3333333333333333,
             "#9c179e"
            ],
            [
             0.4444444444444444,
             "#bd3786"
            ],
            [
             0.5555555555555556,
             "#d8576b"
            ],
            [
             0.6666666666666666,
             "#ed7953"
            ],
            [
             0.7777777777777778,
             "#fb9f3a"
            ],
            [
             0.8888888888888888,
             "#fdca26"
            ],
            [
             1,
             "#f0f921"
            ]
           ],
           "sequentialminus": [
            [
             0,
             "#0d0887"
            ],
            [
             0.1111111111111111,
             "#46039f"
            ],
            [
             0.2222222222222222,
             "#7201a8"
            ],
            [
             0.3333333333333333,
             "#9c179e"
            ],
            [
             0.4444444444444444,
             "#bd3786"
            ],
            [
             0.5555555555555556,
             "#d8576b"
            ],
            [
             0.6666666666666666,
             "#ed7953"
            ],
            [
             0.7777777777777778,
             "#fb9f3a"
            ],
            [
             0.8888888888888888,
             "#fdca26"
            ],
            [
             1,
             "#f0f921"
            ]
           ]
          },
          "colorway": [
           "#636efa",
           "#EF553B",
           "#00cc96",
           "#ab63fa",
           "#FFA15A",
           "#19d3f3",
           "#FF6692",
           "#B6E880",
           "#FF97FF",
           "#FECB52"
          ],
          "font": {
           "color": "#2a3f5f"
          },
          "geo": {
           "bgcolor": "white",
           "lakecolor": "white",
           "landcolor": "#E5ECF6",
           "showlakes": true,
           "showland": true,
           "subunitcolor": "white"
          },
          "hoverlabel": {
           "align": "left"
          },
          "hovermode": "closest",
          "mapbox": {
           "style": "light"
          },
          "paper_bgcolor": "white",
          "plot_bgcolor": "#E5ECF6",
          "polar": {
           "angularaxis": {
            "gridcolor": "white",
            "linecolor": "white",
            "ticks": ""
           },
           "bgcolor": "#E5ECF6",
           "radialaxis": {
            "gridcolor": "white",
            "linecolor": "white",
            "ticks": ""
           }
          },
          "scene": {
           "xaxis": {
            "backgroundcolor": "#E5ECF6",
            "gridcolor": "white",
            "gridwidth": 2,
            "linecolor": "white",
            "showbackground": true,
            "ticks": "",
            "zerolinecolor": "white"
           },
           "yaxis": {
            "backgroundcolor": "#E5ECF6",
            "gridcolor": "white",
            "gridwidth": 2,
            "linecolor": "white",
            "showbackground": true,
            "ticks": "",
            "zerolinecolor": "white"
           },
           "zaxis": {
            "backgroundcolor": "#E5ECF6",
            "gridcolor": "white",
            "gridwidth": 2,
            "linecolor": "white",
            "showbackground": true,
            "ticks": "",
            "zerolinecolor": "white"
           }
          },
          "shapedefaults": {
           "line": {
            "color": "#2a3f5f"
           }
          },
          "ternary": {
           "aaxis": {
            "gridcolor": "white",
            "linecolor": "white",
            "ticks": ""
           },
           "baxis": {
            "gridcolor": "white",
            "linecolor": "white",
            "ticks": ""
           },
           "bgcolor": "#E5ECF6",
           "caxis": {
            "gridcolor": "white",
            "linecolor": "white",
            "ticks": ""
           }
          },
          "title": {
           "x": 0.05
          },
          "xaxis": {
           "automargin": true,
           "gridcolor": "white",
           "linecolor": "white",
           "ticks": "",
           "title": {
            "standoff": 15
           },
           "zerolinecolor": "white",
           "zerolinewidth": 2
          },
          "yaxis": {
           "automargin": true,
           "gridcolor": "white",
           "linecolor": "white",
           "ticks": "",
           "title": {
            "standoff": 15
           },
           "zerolinecolor": "white",
           "zerolinewidth": 2
          }
         }
        },
        "title": {
         "text": "Term Frequency for Bentley (RCRC Finding Aids)"
        },
        "xaxis": {
         "anchor": "y",
         "domain": [
          0,
          1
         ],
         "tickangle": 45,
         "tickfont": {
          "color": "black",
          "family": "Arial",
          "size": 10
         },
         "title": {
          "standoff": 10,
          "text": "Term"
         }
        },
        "yaxis": {
         "anchor": "x",
         "domain": [
          0,
          1
         ],
         "tickfont": {
          "family": "Arial",
          "size": 10
         },
         "title": {
          "text": "Term Occurence Count"
         }
        }
       }
      }
     },
     "metadata": {},
     "output_type": "display_data"
    }
   ],
   "source": [
    "# bar charts for individual groups\n",
    "\n",
    "def visualize_individual_repository_terms_bar(list_of_dataframes):\n",
    "    '''\n",
    "    This function takes a list of strings (list_of_dataframes), which identify the names of dataframes (corresponding to an archival repository),\n",
    "    then generates a bar chart to show how many times a list of requested terms appears in the corresponding finding aid documents.\n",
    "    Requires the calculate_term_frequency function.\n",
    "    Processes data using pandas and generates charts using plotly (px) & plotly express (pio).\n",
    "    '''\n",
    "    for i in range(len(list_of_dataframes)):\n",
    "        # calculate term frequency\n",
    "        term_frequency = calculate_term_frequency(matched_results[repo_list[i]], repo_list[i])\n",
    "        term_frequency.head()\n",
    "\n",
    "        # Visualization in Multiple Charts\n",
    "        fig = px.bar(term_frequency, x='Term', y='Total_Frequency', text='Total_Frequency', \n",
    "                        color='DataFrame', color_discrete_map=colors, text_auto=True,\n",
    "                        labels={'Total_Frequency':'Term Occurence Count','DataFrame':'Repository'})\n",
    "        fig.update_traces(textposition='outside', insidetextanchor='middle',\n",
    "                          textfont=dict(family='Arial', size=8))\n",
    "        fig.update_layout(title_text=f'Term Frequency for { repo_list[i] } ({ project_name })', \n",
    "                          xaxis_title_standoff=10, \n",
    "                          showlegend=False, font_family=global_font_info['font_family'])\n",
    "        fig.update_xaxes(tickangle=45, tickfont=dict(family='Arial', color='black', size=10))\n",
    "        fig.update_yaxes(tickfont=dict(family='Arial', size=10))\n",
    "        fig.show()\n",
    "        pio.write_image(fig, f'term_frequency_byrepo_{ repo_list[i] }.png', width=700)\n",
    "\n",
    "visualize_individual_repository_terms_bar(repo_list)"
   ]
  },
  {
   "cell_type": "markdown",
   "metadata": {},
   "source": [
    "The above shows a basic bar chart, ordered from most frequent\n",
    "to least frequent term. If looking at multiple groupings, the above\n",
    "function will create multiple bar charts. \n",
    "\n",
    "The following sections demonstrate additional visualizations, for a single grouping\n",
    "of finding aid data. For the case of multiple groups (or, in our case repositories)\n",
    "see the additional visualization notebooks.\n",
    "\n",
    "## Visualization: occurence in a horizontal bar chart"
   ]
  },
  {
   "cell_type": "code",
   "execution_count": 17,
   "metadata": {},
   "outputs": [
    {
     "name": "stdout",
     "output_type": "stream",
     "text": [
      "Term frequency for Bentley\n"
     ]
    },
    {
     "data": {
      "text/html": [
       "<div>\n",
       "<style scoped>\n",
       "    .dataframe tbody tr th:only-of-type {\n",
       "        vertical-align: middle;\n",
       "    }\n",
       "\n",
       "    .dataframe tbody tr th {\n",
       "        vertical-align: top;\n",
       "    }\n",
       "\n",
       "    .dataframe thead th {\n",
       "        text-align: right;\n",
       "    }\n",
       "</style>\n",
       "<table border=\"1\" class=\"dataframe\">\n",
       "  <thead>\n",
       "    <tr style=\"text-align: right;\">\n",
       "      <th></th>\n",
       "      <th>Term</th>\n",
       "      <th>Total_Frequency</th>\n",
       "      <th>DataFrame</th>\n",
       "    </tr>\n",
       "  </thead>\n",
       "  <tbody>\n",
       "    <tr>\n",
       "      <th>5</th>\n",
       "      <td>Death</td>\n",
       "      <td>51</td>\n",
       "      <td>Bentley</td>\n",
       "    </tr>\n",
       "    <tr>\n",
       "      <th>19</th>\n",
       "      <td>Philippine Islands</td>\n",
       "      <td>33</td>\n",
       "      <td>Bentley</td>\n",
       "    </tr>\n",
       "    <tr>\n",
       "      <th>17</th>\n",
       "      <td>Native</td>\n",
       "      <td>21</td>\n",
       "      <td>Bentley</td>\n",
       "    </tr>\n",
       "    <tr>\n",
       "      <th>6</th>\n",
       "      <td>Dwellings</td>\n",
       "      <td>19</td>\n",
       "      <td>Bentley</td>\n",
       "    </tr>\n",
       "    <tr>\n",
       "      <th>10</th>\n",
       "      <td>Igorot</td>\n",
       "      <td>15</td>\n",
       "      <td>Bentley</td>\n",
       "    </tr>\n",
       "    <tr>\n",
       "      <th>29</th>\n",
       "      <td>Types</td>\n",
       "      <td>8</td>\n",
       "      <td>Bentley</td>\n",
       "    </tr>\n",
       "    <tr>\n",
       "      <th>22</th>\n",
       "      <td>Remains</td>\n",
       "      <td>5</td>\n",
       "      <td>Bentley</td>\n",
       "    </tr>\n",
       "    <tr>\n",
       "      <th>21</th>\n",
       "      <td>Race</td>\n",
       "      <td>5</td>\n",
       "      <td>Bentley</td>\n",
       "    </tr>\n",
       "    <tr>\n",
       "      <th>11</th>\n",
       "      <td>Igorots</td>\n",
       "      <td>5</td>\n",
       "      <td>Bentley</td>\n",
       "    </tr>\n",
       "    <tr>\n",
       "      <th>0</th>\n",
       "      <td>Colonial</td>\n",
       "      <td>5</td>\n",
       "      <td>Bentley</td>\n",
       "    </tr>\n",
       "    <tr>\n",
       "      <th>9</th>\n",
       "      <td>Hygiene</td>\n",
       "      <td>4</td>\n",
       "      <td>Bentley</td>\n",
       "    </tr>\n",
       "    <tr>\n",
       "      <th>28</th>\n",
       "      <td>Type</td>\n",
       "      <td>4</td>\n",
       "      <td>Bentley</td>\n",
       "    </tr>\n",
       "    <tr>\n",
       "      <th>26</th>\n",
       "      <td>Tribe</td>\n",
       "      <td>4</td>\n",
       "      <td>Bentley</td>\n",
       "    </tr>\n",
       "    <tr>\n",
       "      <th>12</th>\n",
       "      <td>Indigenous</td>\n",
       "      <td>3</td>\n",
       "      <td>Bentley</td>\n",
       "    </tr>\n",
       "    <tr>\n",
       "      <th>4</th>\n",
       "      <td>Commonwealth of the Philippines</td>\n",
       "      <td>3</td>\n",
       "      <td>Bentley</td>\n",
       "    </tr>\n",
       "    <tr>\n",
       "      <th>23</th>\n",
       "      <td>Settlers</td>\n",
       "      <td>2</td>\n",
       "      <td>Bentley</td>\n",
       "    </tr>\n",
       "    <tr>\n",
       "      <th>13</th>\n",
       "      <td>Insurgency</td>\n",
       "      <td>2</td>\n",
       "      <td>Bentley</td>\n",
       "    </tr>\n",
       "    <tr>\n",
       "      <th>14</th>\n",
       "      <td>Insurgent</td>\n",
       "      <td>2</td>\n",
       "      <td>Bentley</td>\n",
       "    </tr>\n",
       "    <tr>\n",
       "      <th>27</th>\n",
       "      <td>Tribes</td>\n",
       "      <td>2</td>\n",
       "      <td>Bentley</td>\n",
       "    </tr>\n",
       "    <tr>\n",
       "      <th>18</th>\n",
       "      <td>Non-Christian</td>\n",
       "      <td>2</td>\n",
       "      <td>Bentley</td>\n",
       "    </tr>\n",
       "    <tr>\n",
       "      <th>25</th>\n",
       "      <td>Territory</td>\n",
       "      <td>2</td>\n",
       "      <td>Bentley</td>\n",
       "    </tr>\n",
       "    <tr>\n",
       "      <th>2</th>\n",
       "      <td>Colonists</td>\n",
       "      <td>2</td>\n",
       "      <td>Bentley</td>\n",
       "    </tr>\n",
       "    <tr>\n",
       "      <th>24</th>\n",
       "      <td>Slavery</td>\n",
       "      <td>1</td>\n",
       "      <td>Bentley</td>\n",
       "    </tr>\n",
       "    <tr>\n",
       "      <th>20</th>\n",
       "      <td>Plantations</td>\n",
       "      <td>1</td>\n",
       "      <td>Bentley</td>\n",
       "    </tr>\n",
       "    <tr>\n",
       "      <th>3</th>\n",
       "      <td>Colony</td>\n",
       "      <td>1</td>\n",
       "      <td>Bentley</td>\n",
       "    </tr>\n",
       "    <tr>\n",
       "      <th>8</th>\n",
       "      <td>Hanging</td>\n",
       "      <td>1</td>\n",
       "      <td>Bentley</td>\n",
       "    </tr>\n",
       "    <tr>\n",
       "      <th>7</th>\n",
       "      <td>Executions</td>\n",
       "      <td>1</td>\n",
       "      <td>Bentley</td>\n",
       "    </tr>\n",
       "    <tr>\n",
       "      <th>16</th>\n",
       "      <td>Moros</td>\n",
       "      <td>1</td>\n",
       "      <td>Bentley</td>\n",
       "    </tr>\n",
       "    <tr>\n",
       "      <th>1</th>\n",
       "      <td>Colonialism</td>\n",
       "      <td>1</td>\n",
       "      <td>Bentley</td>\n",
       "    </tr>\n",
       "    <tr>\n",
       "      <th>15</th>\n",
       "      <td>Insurrection</td>\n",
       "      <td>1</td>\n",
       "      <td>Bentley</td>\n",
       "    </tr>\n",
       "  </tbody>\n",
       "</table>\n",
       "</div>"
      ],
      "text/plain": [
       "                               Term  Total_Frequency DataFrame\n",
       "5                             Death               51   Bentley\n",
       "19               Philippine Islands               33   Bentley\n",
       "17                           Native               21   Bentley\n",
       "6                         Dwellings               19   Bentley\n",
       "10                           Igorot               15   Bentley\n",
       "29                            Types                8   Bentley\n",
       "22                          Remains                5   Bentley\n",
       "21                             Race                5   Bentley\n",
       "11                          Igorots                5   Bentley\n",
       "0                          Colonial                5   Bentley\n",
       "9                           Hygiene                4   Bentley\n",
       "28                             Type                4   Bentley\n",
       "26                            Tribe                4   Bentley\n",
       "12                       Indigenous                3   Bentley\n",
       "4   Commonwealth of the Philippines                3   Bentley\n",
       "23                         Settlers                2   Bentley\n",
       "13                       Insurgency                2   Bentley\n",
       "14                        Insurgent                2   Bentley\n",
       "27                           Tribes                2   Bentley\n",
       "18                    Non-Christian                2   Bentley\n",
       "25                        Territory                2   Bentley\n",
       "2                         Colonists                2   Bentley\n",
       "24                          Slavery                1   Bentley\n",
       "20                      Plantations                1   Bentley\n",
       "3                            Colony                1   Bentley\n",
       "8                           Hanging                1   Bentley\n",
       "7                        Executions                1   Bentley\n",
       "16                            Moros                1   Bentley\n",
       "1                       Colonialism                1   Bentley\n",
       "15                     Insurrection                1   Bentley"
      ]
     },
     "metadata": {},
     "output_type": "display_data"
    },
    {
     "data": {
      "application/vnd.plotly.v1+json": {
       "config": {
        "plotlyServerURL": "https://plot.ly"
       },
       "data": [
        {
         "alignmentgroup": "True",
         "hovertemplate": "Repository=Bentley<br>Term Occurence Count=%{text}<br>Term=%{y}<extra></extra>",
         "insidetextanchor": "middle",
         "legendgroup": "Bentley",
         "marker": {
          "color": "#CFC096",
          "pattern": {
           "shape": ""
          }
         },
         "name": "Bentley",
         "offsetgroup": "Bentley",
         "orientation": "h",
         "showlegend": true,
         "text": [
          1,
          1,
          1,
          1,
          1,
          1,
          1,
          1,
          2,
          2,
          2,
          2,
          2,
          2,
          2,
          3,
          3,
          4,
          4,
          4,
          5,
          5,
          5,
          5,
          8,
          15,
          19,
          21,
          33,
          51
         ],
         "textfont": {
          "family": "Arial",
          "size": 8
         },
         "textposition": "outside",
         "texttemplate": "%{x}",
         "type": "bar",
         "x": [
          1,
          1,
          1,
          1,
          1,
          1,
          1,
          1,
          2,
          2,
          2,
          2,
          2,
          2,
          2,
          3,
          3,
          4,
          4,
          4,
          5,
          5,
          5,
          5,
          8,
          15,
          19,
          21,
          33,
          51
         ],
         "xaxis": "x",
         "y": [
          "Insurrection",
          "Moros",
          "Executions",
          "Hanging",
          "Colony",
          "Plantations",
          "Slavery",
          "Colonialism",
          "Colonists",
          "Territory",
          "Non-Christian",
          "Tribes",
          "Insurgent",
          "Insurgency",
          "Settlers",
          "Commonwealth of the Philippines",
          "Indigenous",
          "Tribe",
          "Type",
          "Hygiene",
          "Colonial",
          "Igorots",
          "Race",
          "Remains",
          "Types",
          "Igorot",
          "Dwellings",
          "Native",
          "Philippine Islands",
          "Death"
         ],
         "yaxis": "y"
        }
       ],
       "layout": {
        "barmode": "relative",
        "font": {
         "family": "Georgia"
        },
        "height": 600,
        "legend": {
         "title": {
          "text": "Repository"
         },
         "tracegroupgap": 0
        },
        "margin": {
         "t": 60
        },
        "showlegend": false,
        "template": {
         "data": {
          "bar": [
           {
            "error_x": {
             "color": "#2a3f5f"
            },
            "error_y": {
             "color": "#2a3f5f"
            },
            "marker": {
             "line": {
              "color": "#E5ECF6",
              "width": 0.5
             },
             "pattern": {
              "fillmode": "overlay",
              "size": 10,
              "solidity": 0.2
             }
            },
            "type": "bar"
           }
          ],
          "barpolar": [
           {
            "marker": {
             "line": {
              "color": "#E5ECF6",
              "width": 0.5
             },
             "pattern": {
              "fillmode": "overlay",
              "size": 10,
              "solidity": 0.2
             }
            },
            "type": "barpolar"
           }
          ],
          "carpet": [
           {
            "aaxis": {
             "endlinecolor": "#2a3f5f",
             "gridcolor": "white",
             "linecolor": "white",
             "minorgridcolor": "white",
             "startlinecolor": "#2a3f5f"
            },
            "baxis": {
             "endlinecolor": "#2a3f5f",
             "gridcolor": "white",
             "linecolor": "white",
             "minorgridcolor": "white",
             "startlinecolor": "#2a3f5f"
            },
            "type": "carpet"
           }
          ],
          "choropleth": [
           {
            "colorbar": {
             "outlinewidth": 0,
             "ticks": ""
            },
            "type": "choropleth"
           }
          ],
          "contour": [
           {
            "colorbar": {
             "outlinewidth": 0,
             "ticks": ""
            },
            "colorscale": [
             [
              0,
              "#0d0887"
             ],
             [
              0.1111111111111111,
              "#46039f"
             ],
             [
              0.2222222222222222,
              "#7201a8"
             ],
             [
              0.3333333333333333,
              "#9c179e"
             ],
             [
              0.4444444444444444,
              "#bd3786"
             ],
             [
              0.5555555555555556,
              "#d8576b"
             ],
             [
              0.6666666666666666,
              "#ed7953"
             ],
             [
              0.7777777777777778,
              "#fb9f3a"
             ],
             [
              0.8888888888888888,
              "#fdca26"
             ],
             [
              1,
              "#f0f921"
             ]
            ],
            "type": "contour"
           }
          ],
          "contourcarpet": [
           {
            "colorbar": {
             "outlinewidth": 0,
             "ticks": ""
            },
            "type": "contourcarpet"
           }
          ],
          "heatmap": [
           {
            "colorbar": {
             "outlinewidth": 0,
             "ticks": ""
            },
            "colorscale": [
             [
              0,
              "#0d0887"
             ],
             [
              0.1111111111111111,
              "#46039f"
             ],
             [
              0.2222222222222222,
              "#7201a8"
             ],
             [
              0.3333333333333333,
              "#9c179e"
             ],
             [
              0.4444444444444444,
              "#bd3786"
             ],
             [
              0.5555555555555556,
              "#d8576b"
             ],
             [
              0.6666666666666666,
              "#ed7953"
             ],
             [
              0.7777777777777778,
              "#fb9f3a"
             ],
             [
              0.8888888888888888,
              "#fdca26"
             ],
             [
              1,
              "#f0f921"
             ]
            ],
            "type": "heatmap"
           }
          ],
          "heatmapgl": [
           {
            "colorbar": {
             "outlinewidth": 0,
             "ticks": ""
            },
            "colorscale": [
             [
              0,
              "#0d0887"
             ],
             [
              0.1111111111111111,
              "#46039f"
             ],
             [
              0.2222222222222222,
              "#7201a8"
             ],
             [
              0.3333333333333333,
              "#9c179e"
             ],
             [
              0.4444444444444444,
              "#bd3786"
             ],
             [
              0.5555555555555556,
              "#d8576b"
             ],
             [
              0.6666666666666666,
              "#ed7953"
             ],
             [
              0.7777777777777778,
              "#fb9f3a"
             ],
             [
              0.8888888888888888,
              "#fdca26"
             ],
             [
              1,
              "#f0f921"
             ]
            ],
            "type": "heatmapgl"
           }
          ],
          "histogram": [
           {
            "marker": {
             "pattern": {
              "fillmode": "overlay",
              "size": 10,
              "solidity": 0.2
             }
            },
            "type": "histogram"
           }
          ],
          "histogram2d": [
           {
            "colorbar": {
             "outlinewidth": 0,
             "ticks": ""
            },
            "colorscale": [
             [
              0,
              "#0d0887"
             ],
             [
              0.1111111111111111,
              "#46039f"
             ],
             [
              0.2222222222222222,
              "#7201a8"
             ],
             [
              0.3333333333333333,
              "#9c179e"
             ],
             [
              0.4444444444444444,
              "#bd3786"
             ],
             [
              0.5555555555555556,
              "#d8576b"
             ],
             [
              0.6666666666666666,
              "#ed7953"
             ],
             [
              0.7777777777777778,
              "#fb9f3a"
             ],
             [
              0.8888888888888888,
              "#fdca26"
             ],
             [
              1,
              "#f0f921"
             ]
            ],
            "type": "histogram2d"
           }
          ],
          "histogram2dcontour": [
           {
            "colorbar": {
             "outlinewidth": 0,
             "ticks": ""
            },
            "colorscale": [
             [
              0,
              "#0d0887"
             ],
             [
              0.1111111111111111,
              "#46039f"
             ],
             [
              0.2222222222222222,
              "#7201a8"
             ],
             [
              0.3333333333333333,
              "#9c179e"
             ],
             [
              0.4444444444444444,
              "#bd3786"
             ],
             [
              0.5555555555555556,
              "#d8576b"
             ],
             [
              0.6666666666666666,
              "#ed7953"
             ],
             [
              0.7777777777777778,
              "#fb9f3a"
             ],
             [
              0.8888888888888888,
              "#fdca26"
             ],
             [
              1,
              "#f0f921"
             ]
            ],
            "type": "histogram2dcontour"
           }
          ],
          "mesh3d": [
           {
            "colorbar": {
             "outlinewidth": 0,
             "ticks": ""
            },
            "type": "mesh3d"
           }
          ],
          "parcoords": [
           {
            "line": {
             "colorbar": {
              "outlinewidth": 0,
              "ticks": ""
             }
            },
            "type": "parcoords"
           }
          ],
          "pie": [
           {
            "automargin": true,
            "type": "pie"
           }
          ],
          "scatter": [
           {
            "fillpattern": {
             "fillmode": "overlay",
             "size": 10,
             "solidity": 0.2
            },
            "type": "scatter"
           }
          ],
          "scatter3d": [
           {
            "line": {
             "colorbar": {
              "outlinewidth": 0,
              "ticks": ""
             }
            },
            "marker": {
             "colorbar": {
              "outlinewidth": 0,
              "ticks": ""
             }
            },
            "type": "scatter3d"
           }
          ],
          "scattercarpet": [
           {
            "marker": {
             "colorbar": {
              "outlinewidth": 0,
              "ticks": ""
             }
            },
            "type": "scattercarpet"
           }
          ],
          "scattergeo": [
           {
            "marker": {
             "colorbar": {
              "outlinewidth": 0,
              "ticks": ""
             }
            },
            "type": "scattergeo"
           }
          ],
          "scattergl": [
           {
            "marker": {
             "colorbar": {
              "outlinewidth": 0,
              "ticks": ""
             }
            },
            "type": "scattergl"
           }
          ],
          "scattermapbox": [
           {
            "marker": {
             "colorbar": {
              "outlinewidth": 0,
              "ticks": ""
             }
            },
            "type": "scattermapbox"
           }
          ],
          "scatterpolar": [
           {
            "marker": {
             "colorbar": {
              "outlinewidth": 0,
              "ticks": ""
             }
            },
            "type": "scatterpolar"
           }
          ],
          "scatterpolargl": [
           {
            "marker": {
             "colorbar": {
              "outlinewidth": 0,
              "ticks": ""
             }
            },
            "type": "scatterpolargl"
           }
          ],
          "scatterternary": [
           {
            "marker": {
             "colorbar": {
              "outlinewidth": 0,
              "ticks": ""
             }
            },
            "type": "scatterternary"
           }
          ],
          "surface": [
           {
            "colorbar": {
             "outlinewidth": 0,
             "ticks": ""
            },
            "colorscale": [
             [
              0,
              "#0d0887"
             ],
             [
              0.1111111111111111,
              "#46039f"
             ],
             [
              0.2222222222222222,
              "#7201a8"
             ],
             [
              0.3333333333333333,
              "#9c179e"
             ],
             [
              0.4444444444444444,
              "#bd3786"
             ],
             [
              0.5555555555555556,
              "#d8576b"
             ],
             [
              0.6666666666666666,
              "#ed7953"
             ],
             [
              0.7777777777777778,
              "#fb9f3a"
             ],
             [
              0.8888888888888888,
              "#fdca26"
             ],
             [
              1,
              "#f0f921"
             ]
            ],
            "type": "surface"
           }
          ],
          "table": [
           {
            "cells": {
             "fill": {
              "color": "#EBF0F8"
             },
             "line": {
              "color": "white"
             }
            },
            "header": {
             "fill": {
              "color": "#C8D4E3"
             },
             "line": {
              "color": "white"
             }
            },
            "type": "table"
           }
          ]
         },
         "layout": {
          "annotationdefaults": {
           "arrowcolor": "#2a3f5f",
           "arrowhead": 0,
           "arrowwidth": 1
          },
          "autotypenumbers": "strict",
          "coloraxis": {
           "colorbar": {
            "outlinewidth": 0,
            "ticks": ""
           }
          },
          "colorscale": {
           "diverging": [
            [
             0,
             "#8e0152"
            ],
            [
             0.1,
             "#c51b7d"
            ],
            [
             0.2,
             "#de77ae"
            ],
            [
             0.3,
             "#f1b6da"
            ],
            [
             0.4,
             "#fde0ef"
            ],
            [
             0.5,
             "#f7f7f7"
            ],
            [
             0.6,
             "#e6f5d0"
            ],
            [
             0.7,
             "#b8e186"
            ],
            [
             0.8,
             "#7fbc41"
            ],
            [
             0.9,
             "#4d9221"
            ],
            [
             1,
             "#276419"
            ]
           ],
           "sequential": [
            [
             0,
             "#0d0887"
            ],
            [
             0.1111111111111111,
             "#46039f"
            ],
            [
             0.2222222222222222,
             "#7201a8"
            ],
            [
             0.3333333333333333,
             "#9c179e"
            ],
            [
             0.4444444444444444,
             "#bd3786"
            ],
            [
             0.5555555555555556,
             "#d8576b"
            ],
            [
             0.6666666666666666,
             "#ed7953"
            ],
            [
             0.7777777777777778,
             "#fb9f3a"
            ],
            [
             0.8888888888888888,
             "#fdca26"
            ],
            [
             1,
             "#f0f921"
            ]
           ],
           "sequentialminus": [
            [
             0,
             "#0d0887"
            ],
            [
             0.1111111111111111,
             "#46039f"
            ],
            [
             0.2222222222222222,
             "#7201a8"
            ],
            [
             0.3333333333333333,
             "#9c179e"
            ],
            [
             0.4444444444444444,
             "#bd3786"
            ],
            [
             0.5555555555555556,
             "#d8576b"
            ],
            [
             0.6666666666666666,
             "#ed7953"
            ],
            [
             0.7777777777777778,
             "#fb9f3a"
            ],
            [
             0.8888888888888888,
             "#fdca26"
            ],
            [
             1,
             "#f0f921"
            ]
           ]
          },
          "colorway": [
           "#636efa",
           "#EF553B",
           "#00cc96",
           "#ab63fa",
           "#FFA15A",
           "#19d3f3",
           "#FF6692",
           "#B6E880",
           "#FF97FF",
           "#FECB52"
          ],
          "font": {
           "color": "#2a3f5f"
          },
          "geo": {
           "bgcolor": "white",
           "lakecolor": "white",
           "landcolor": "#E5ECF6",
           "showlakes": true,
           "showland": true,
           "subunitcolor": "white"
          },
          "hoverlabel": {
           "align": "left"
          },
          "hovermode": "closest",
          "mapbox": {
           "style": "light"
          },
          "paper_bgcolor": "white",
          "plot_bgcolor": "#E5ECF6",
          "polar": {
           "angularaxis": {
            "gridcolor": "white",
            "linecolor": "white",
            "ticks": ""
           },
           "bgcolor": "#E5ECF6",
           "radialaxis": {
            "gridcolor": "white",
            "linecolor": "white",
            "ticks": ""
           }
          },
          "scene": {
           "xaxis": {
            "backgroundcolor": "#E5ECF6",
            "gridcolor": "white",
            "gridwidth": 2,
            "linecolor": "white",
            "showbackground": true,
            "ticks": "",
            "zerolinecolor": "white"
           },
           "yaxis": {
            "backgroundcolor": "#E5ECF6",
            "gridcolor": "white",
            "gridwidth": 2,
            "linecolor": "white",
            "showbackground": true,
            "ticks": "",
            "zerolinecolor": "white"
           },
           "zaxis": {
            "backgroundcolor": "#E5ECF6",
            "gridcolor": "white",
            "gridwidth": 2,
            "linecolor": "white",
            "showbackground": true,
            "ticks": "",
            "zerolinecolor": "white"
           }
          },
          "shapedefaults": {
           "line": {
            "color": "#2a3f5f"
           }
          },
          "ternary": {
           "aaxis": {
            "gridcolor": "white",
            "linecolor": "white",
            "ticks": ""
           },
           "baxis": {
            "gridcolor": "white",
            "linecolor": "white",
            "ticks": ""
           },
           "bgcolor": "#E5ECF6",
           "caxis": {
            "gridcolor": "white",
            "linecolor": "white",
            "ticks": ""
           }
          },
          "title": {
           "x": 0.05
          },
          "xaxis": {
           "automargin": true,
           "gridcolor": "white",
           "linecolor": "white",
           "ticks": "",
           "title": {
            "standoff": 15
           },
           "zerolinecolor": "white",
           "zerolinewidth": 2
          },
          "yaxis": {
           "automargin": true,
           "gridcolor": "white",
           "linecolor": "white",
           "ticks": "",
           "title": {
            "standoff": 15
           },
           "zerolinecolor": "white",
           "zerolinewidth": 2
          }
         }
        },
        "title": {
         "text": "Term Frequency for Bentley (RCRC Finding Aids)"
        },
        "xaxis": {
         "anchor": "y",
         "domain": [
          0,
          1
         ],
         "tickangle": 0,
         "tickfont": {
          "color": "black",
          "family": "Arial",
          "size": 10
         },
         "title": {
          "standoff": 10,
          "text": "Term Occurence Count"
         }
        },
        "yaxis": {
         "anchor": "x",
         "domain": [
          0,
          1
         ],
         "tickfont": {
          "family": "Arial",
          "size": 10
         },
         "title": {
          "text": "Term"
         }
        }
       }
      }
     },
     "metadata": {},
     "output_type": "display_data"
    }
   ],
   "source": [
    "# bar charts for individual repos - horizontal\n",
    "\n",
    "def visualize_individual_repository_terms_bar_horiz(list_of_dataframes):\n",
    "    '''\n",
    "    This function takes a list of strings (list_of_dataframes), which identify the names of dataframes (corresponding to an archival repository),\n",
    "    then generates a horizontal bar chart to show how many times a list of requested terms appears in the corresponding finding aid documents.\n",
    "    Requires the calculate_term_frequency function.\n",
    "    Processes data using pandas and generates charts using plotly (px) & plotly express (pio).\n",
    "    '''\n",
    "    for i in range(len(list_of_dataframes)):\n",
    "        # calculate term frequency\n",
    "        term_frequency = calculate_term_frequency(matched_results[repo_list[i]], repo_list[i]).sort_values('Total_Frequency', ascending=True)\n",
    "        term_frequency.head()\n",
    "\n",
    "        # Visualization in Charts Horizontallly\n",
    "        fig = px.bar(term_frequency, y='Term', x='Total_Frequency', text='Total_Frequency',\n",
    "                        color='DataFrame', color_discrete_map=colors, text_auto=True,\n",
    "                        labels={'Total_Frequency':'Term Occurence Count','DataFrame':'Repository'})\n",
    "        fig.update_traces(textposition='outside', insidetextanchor='middle', \n",
    "                          textfont=dict(family='Arial',size=8))\n",
    "        fig.update_layout(title_text=f'Term Frequency for { repo_list[i] } ({project_name})',\n",
    "                          xaxis_title_standoff=10, height=600, \n",
    "                          showlegend=False, font_family=global_font_info['font_family'])\n",
    "        fig.update_yaxes(tickfont=dict(family='Arial', size=10))\n",
    "        fig.update_xaxes(tickangle=0, tickfont=dict(family='Arial', color='black', size=10))\n",
    "        fig.show()\n",
    "        pio.write_image(fig, f'term_frequency_byrepo_{ repo_list[i] }_horizbar.png', scale=4)\n",
    "\n",
    "visualize_individual_repository_terms_bar_horiz(repo_list)"
   ]
  },
  {
   "cell_type": "markdown",
   "metadata": {},
   "source": [
    "The horizontal bar chart seems more well-suited to displaying occurences\n",
    "of the terms, since the terms are easier to read in this orientation.\n",
    "\n",
    "## Visualization: Occurence by EAD tag/element\n",
    "\n",
    "This section of the script helps identify the EAD (Encoded Archival Description) elements with the highest occurrences of the specified harmful terms.\n",
    "\n",
    "The function `calculate_element_frequency(df, df_name)` is used to calculate the sum of matched terms for each subsection in a DataFrame. The results are sorted in descending order and returned as a DataFrame with columns `Subsection`, `harmful_terms_frequency`, and `Source`.\n",
    "\n",
    "This function is applied to each DataFrame in matched_results, and the results are concatenated into a single DataFrame, `all_element_frequencies`.\n",
    "\n",
    "Finally, a grouped bar chart is created to visualize the frequency of terms across different subsections and sources.\n",
    "\n",
    "In the chart, the x-axis represents the subsections, the y-axis shows the frequency of harmful terms, and different colors distinguish between sources. The `barmode='group'` setting places the bars side by side for easier comparison between sources."
   ]
  },
  {
   "cell_type": "code",
   "execution_count": 18,
   "metadata": {},
   "outputs": [
    {
     "name": "stdout",
     "output_type": "stream",
     "text": [
      "Element frequencies across all file pools:\n"
     ]
    },
    {
     "data": {
      "text/html": [
       "<div>\n",
       "<style scoped>\n",
       "    .dataframe tbody tr th:only-of-type {\n",
       "        vertical-align: middle;\n",
       "    }\n",
       "\n",
       "    .dataframe tbody tr th {\n",
       "        vertical-align: top;\n",
       "    }\n",
       "\n",
       "    .dataframe thead th {\n",
       "        text-align: right;\n",
       "    }\n",
       "</style>\n",
       "<table border=\"1\" class=\"dataframe\">\n",
       "  <thead>\n",
       "    <tr style=\"text-align: right;\">\n",
       "      <th></th>\n",
       "      <th>Subsection</th>\n",
       "      <th>harmful_terms_frequency</th>\n",
       "      <th>Source</th>\n",
       "    </tr>\n",
       "  </thead>\n",
       "  <tbody>\n",
       "    <tr>\n",
       "      <th>0</th>\n",
       "      <td>bioghist</td>\n",
       "      <td>102</td>\n",
       "      <td>Bentley</td>\n",
       "    </tr>\n",
       "    <tr>\n",
       "      <th>1</th>\n",
       "      <td>scopecontent</td>\n",
       "      <td>52</td>\n",
       "      <td>Bentley</td>\n",
       "    </tr>\n",
       "    <tr>\n",
       "      <th>2</th>\n",
       "      <td>subjects</td>\n",
       "      <td>30</td>\n",
       "      <td>Bentley</td>\n",
       "    </tr>\n",
       "    <tr>\n",
       "      <th>3</th>\n",
       "      <td>abstract</td>\n",
       "      <td>17</td>\n",
       "      <td>Bentley</td>\n",
       "    </tr>\n",
       "    <tr>\n",
       "      <th>4</th>\n",
       "      <td>corpnames</td>\n",
       "      <td>3</td>\n",
       "      <td>Bentley</td>\n",
       "    </tr>\n",
       "    <tr>\n",
       "      <th>5</th>\n",
       "      <td>geognames</td>\n",
       "      <td>3</td>\n",
       "      <td>Bentley</td>\n",
       "    </tr>\n",
       "  </tbody>\n",
       "</table>\n",
       "</div>"
      ],
      "text/plain": [
       "     Subsection  harmful_terms_frequency   Source\n",
       "0      bioghist                      102  Bentley\n",
       "1  scopecontent                       52  Bentley\n",
       "2      subjects                       30  Bentley\n",
       "3      abstract                       17  Bentley\n",
       "4     corpnames                        3  Bentley\n",
       "5     geognames                        3  Bentley"
      ]
     },
     "metadata": {},
     "output_type": "display_data"
    },
    {
     "data": {
      "application/vnd.plotly.v1+json": {
       "config": {
        "plotlyServerURL": "https://plot.ly"
       },
       "data": [
        {
         "alignmentgroup": "True",
         "hovertemplate": "Repository=Bentley<br>EAD Tag=%{x}<br>harmful_terms_frequency=%{text}<extra></extra>",
         "legendgroup": "Bentley",
         "marker": {
          "color": "#CFC096",
          "pattern": {
           "shape": ""
          }
         },
         "name": "Bentley",
         "offsetgroup": "Bentley",
         "orientation": "v",
         "showlegend": true,
         "text": [
          102,
          52,
          30,
          17,
          3,
          3
         ],
         "textfont": {
          "family": "Arial",
          "size": 8
         },
         "textposition": "outside",
         "type": "bar",
         "x": [
          "bioghist",
          "scopecontent",
          "subjects",
          "abstract",
          "corpnames",
          "geognames"
         ],
         "xaxis": "x",
         "y": [
          102,
          52,
          30,
          17,
          3,
          3
         ],
         "yaxis": "y"
        }
       ],
       "layout": {
        "barmode": "group",
        "font": {
         "family": "Georgia"
        },
        "height": 600,
        "legend": {
         "title": {
          "text": "Repository"
         },
         "tracegroupgap": 0
        },
        "margin": {
         "t": 60
        },
        "template": {
         "data": {
          "bar": [
           {
            "error_x": {
             "color": "#2a3f5f"
            },
            "error_y": {
             "color": "#2a3f5f"
            },
            "marker": {
             "line": {
              "color": "#E5ECF6",
              "width": 0.5
             },
             "pattern": {
              "fillmode": "overlay",
              "size": 10,
              "solidity": 0.2
             }
            },
            "type": "bar"
           }
          ],
          "barpolar": [
           {
            "marker": {
             "line": {
              "color": "#E5ECF6",
              "width": 0.5
             },
             "pattern": {
              "fillmode": "overlay",
              "size": 10,
              "solidity": 0.2
             }
            },
            "type": "barpolar"
           }
          ],
          "carpet": [
           {
            "aaxis": {
             "endlinecolor": "#2a3f5f",
             "gridcolor": "white",
             "linecolor": "white",
             "minorgridcolor": "white",
             "startlinecolor": "#2a3f5f"
            },
            "baxis": {
             "endlinecolor": "#2a3f5f",
             "gridcolor": "white",
             "linecolor": "white",
             "minorgridcolor": "white",
             "startlinecolor": "#2a3f5f"
            },
            "type": "carpet"
           }
          ],
          "choropleth": [
           {
            "colorbar": {
             "outlinewidth": 0,
             "ticks": ""
            },
            "type": "choropleth"
           }
          ],
          "contour": [
           {
            "colorbar": {
             "outlinewidth": 0,
             "ticks": ""
            },
            "colorscale": [
             [
              0,
              "#0d0887"
             ],
             [
              0.1111111111111111,
              "#46039f"
             ],
             [
              0.2222222222222222,
              "#7201a8"
             ],
             [
              0.3333333333333333,
              "#9c179e"
             ],
             [
              0.4444444444444444,
              "#bd3786"
             ],
             [
              0.5555555555555556,
              "#d8576b"
             ],
             [
              0.6666666666666666,
              "#ed7953"
             ],
             [
              0.7777777777777778,
              "#fb9f3a"
             ],
             [
              0.8888888888888888,
              "#fdca26"
             ],
             [
              1,
              "#f0f921"
             ]
            ],
            "type": "contour"
           }
          ],
          "contourcarpet": [
           {
            "colorbar": {
             "outlinewidth": 0,
             "ticks": ""
            },
            "type": "contourcarpet"
           }
          ],
          "heatmap": [
           {
            "colorbar": {
             "outlinewidth": 0,
             "ticks": ""
            },
            "colorscale": [
             [
              0,
              "#0d0887"
             ],
             [
              0.1111111111111111,
              "#46039f"
             ],
             [
              0.2222222222222222,
              "#7201a8"
             ],
             [
              0.3333333333333333,
              "#9c179e"
             ],
             [
              0.4444444444444444,
              "#bd3786"
             ],
             [
              0.5555555555555556,
              "#d8576b"
             ],
             [
              0.6666666666666666,
              "#ed7953"
             ],
             [
              0.7777777777777778,
              "#fb9f3a"
             ],
             [
              0.8888888888888888,
              "#fdca26"
             ],
             [
              1,
              "#f0f921"
             ]
            ],
            "type": "heatmap"
           }
          ],
          "heatmapgl": [
           {
            "colorbar": {
             "outlinewidth": 0,
             "ticks": ""
            },
            "colorscale": [
             [
              0,
              "#0d0887"
             ],
             [
              0.1111111111111111,
              "#46039f"
             ],
             [
              0.2222222222222222,
              "#7201a8"
             ],
             [
              0.3333333333333333,
              "#9c179e"
             ],
             [
              0.4444444444444444,
              "#bd3786"
             ],
             [
              0.5555555555555556,
              "#d8576b"
             ],
             [
              0.6666666666666666,
              "#ed7953"
             ],
             [
              0.7777777777777778,
              "#fb9f3a"
             ],
             [
              0.8888888888888888,
              "#fdca26"
             ],
             [
              1,
              "#f0f921"
             ]
            ],
            "type": "heatmapgl"
           }
          ],
          "histogram": [
           {
            "marker": {
             "pattern": {
              "fillmode": "overlay",
              "size": 10,
              "solidity": 0.2
             }
            },
            "type": "histogram"
           }
          ],
          "histogram2d": [
           {
            "colorbar": {
             "outlinewidth": 0,
             "ticks": ""
            },
            "colorscale": [
             [
              0,
              "#0d0887"
             ],
             [
              0.1111111111111111,
              "#46039f"
             ],
             [
              0.2222222222222222,
              "#7201a8"
             ],
             [
              0.3333333333333333,
              "#9c179e"
             ],
             [
              0.4444444444444444,
              "#bd3786"
             ],
             [
              0.5555555555555556,
              "#d8576b"
             ],
             [
              0.6666666666666666,
              "#ed7953"
             ],
             [
              0.7777777777777778,
              "#fb9f3a"
             ],
             [
              0.8888888888888888,
              "#fdca26"
             ],
             [
              1,
              "#f0f921"
             ]
            ],
            "type": "histogram2d"
           }
          ],
          "histogram2dcontour": [
           {
            "colorbar": {
             "outlinewidth": 0,
             "ticks": ""
            },
            "colorscale": [
             [
              0,
              "#0d0887"
             ],
             [
              0.1111111111111111,
              "#46039f"
             ],
             [
              0.2222222222222222,
              "#7201a8"
             ],
             [
              0.3333333333333333,
              "#9c179e"
             ],
             [
              0.4444444444444444,
              "#bd3786"
             ],
             [
              0.5555555555555556,
              "#d8576b"
             ],
             [
              0.6666666666666666,
              "#ed7953"
             ],
             [
              0.7777777777777778,
              "#fb9f3a"
             ],
             [
              0.8888888888888888,
              "#fdca26"
             ],
             [
              1,
              "#f0f921"
             ]
            ],
            "type": "histogram2dcontour"
           }
          ],
          "mesh3d": [
           {
            "colorbar": {
             "outlinewidth": 0,
             "ticks": ""
            },
            "type": "mesh3d"
           }
          ],
          "parcoords": [
           {
            "line": {
             "colorbar": {
              "outlinewidth": 0,
              "ticks": ""
             }
            },
            "type": "parcoords"
           }
          ],
          "pie": [
           {
            "automargin": true,
            "type": "pie"
           }
          ],
          "scatter": [
           {
            "fillpattern": {
             "fillmode": "overlay",
             "size": 10,
             "solidity": 0.2
            },
            "type": "scatter"
           }
          ],
          "scatter3d": [
           {
            "line": {
             "colorbar": {
              "outlinewidth": 0,
              "ticks": ""
             }
            },
            "marker": {
             "colorbar": {
              "outlinewidth": 0,
              "ticks": ""
             }
            },
            "type": "scatter3d"
           }
          ],
          "scattercarpet": [
           {
            "marker": {
             "colorbar": {
              "outlinewidth": 0,
              "ticks": ""
             }
            },
            "type": "scattercarpet"
           }
          ],
          "scattergeo": [
           {
            "marker": {
             "colorbar": {
              "outlinewidth": 0,
              "ticks": ""
             }
            },
            "type": "scattergeo"
           }
          ],
          "scattergl": [
           {
            "marker": {
             "colorbar": {
              "outlinewidth": 0,
              "ticks": ""
             }
            },
            "type": "scattergl"
           }
          ],
          "scattermapbox": [
           {
            "marker": {
             "colorbar": {
              "outlinewidth": 0,
              "ticks": ""
             }
            },
            "type": "scattermapbox"
           }
          ],
          "scatterpolar": [
           {
            "marker": {
             "colorbar": {
              "outlinewidth": 0,
              "ticks": ""
             }
            },
            "type": "scatterpolar"
           }
          ],
          "scatterpolargl": [
           {
            "marker": {
             "colorbar": {
              "outlinewidth": 0,
              "ticks": ""
             }
            },
            "type": "scatterpolargl"
           }
          ],
          "scatterternary": [
           {
            "marker": {
             "colorbar": {
              "outlinewidth": 0,
              "ticks": ""
             }
            },
            "type": "scatterternary"
           }
          ],
          "surface": [
           {
            "colorbar": {
             "outlinewidth": 0,
             "ticks": ""
            },
            "colorscale": [
             [
              0,
              "#0d0887"
             ],
             [
              0.1111111111111111,
              "#46039f"
             ],
             [
              0.2222222222222222,
              "#7201a8"
             ],
             [
              0.3333333333333333,
              "#9c179e"
             ],
             [
              0.4444444444444444,
              "#bd3786"
             ],
             [
              0.5555555555555556,
              "#d8576b"
             ],
             [
              0.6666666666666666,
              "#ed7953"
             ],
             [
              0.7777777777777778,
              "#fb9f3a"
             ],
             [
              0.8888888888888888,
              "#fdca26"
             ],
             [
              1,
              "#f0f921"
             ]
            ],
            "type": "surface"
           }
          ],
          "table": [
           {
            "cells": {
             "fill": {
              "color": "#EBF0F8"
             },
             "line": {
              "color": "white"
             }
            },
            "header": {
             "fill": {
              "color": "#C8D4E3"
             },
             "line": {
              "color": "white"
             }
            },
            "type": "table"
           }
          ]
         },
         "layout": {
          "annotationdefaults": {
           "arrowcolor": "#2a3f5f",
           "arrowhead": 0,
           "arrowwidth": 1
          },
          "autotypenumbers": "strict",
          "coloraxis": {
           "colorbar": {
            "outlinewidth": 0,
            "ticks": ""
           }
          },
          "colorscale": {
           "diverging": [
            [
             0,
             "#8e0152"
            ],
            [
             0.1,
             "#c51b7d"
            ],
            [
             0.2,
             "#de77ae"
            ],
            [
             0.3,
             "#f1b6da"
            ],
            [
             0.4,
             "#fde0ef"
            ],
            [
             0.5,
             "#f7f7f7"
            ],
            [
             0.6,
             "#e6f5d0"
            ],
            [
             0.7,
             "#b8e186"
            ],
            [
             0.8,
             "#7fbc41"
            ],
            [
             0.9,
             "#4d9221"
            ],
            [
             1,
             "#276419"
            ]
           ],
           "sequential": [
            [
             0,
             "#0d0887"
            ],
            [
             0.1111111111111111,
             "#46039f"
            ],
            [
             0.2222222222222222,
             "#7201a8"
            ],
            [
             0.3333333333333333,
             "#9c179e"
            ],
            [
             0.4444444444444444,
             "#bd3786"
            ],
            [
             0.5555555555555556,
             "#d8576b"
            ],
            [
             0.6666666666666666,
             "#ed7953"
            ],
            [
             0.7777777777777778,
             "#fb9f3a"
            ],
            [
             0.8888888888888888,
             "#fdca26"
            ],
            [
             1,
             "#f0f921"
            ]
           ],
           "sequentialminus": [
            [
             0,
             "#0d0887"
            ],
            [
             0.1111111111111111,
             "#46039f"
            ],
            [
             0.2222222222222222,
             "#7201a8"
            ],
            [
             0.3333333333333333,
             "#9c179e"
            ],
            [
             0.4444444444444444,
             "#bd3786"
            ],
            [
             0.5555555555555556,
             "#d8576b"
            ],
            [
             0.6666666666666666,
             "#ed7953"
            ],
            [
             0.7777777777777778,
             "#fb9f3a"
            ],
            [
             0.8888888888888888,
             "#fdca26"
            ],
            [
             1,
             "#f0f921"
            ]
           ]
          },
          "colorway": [
           "#636efa",
           "#EF553B",
           "#00cc96",
           "#ab63fa",
           "#FFA15A",
           "#19d3f3",
           "#FF6692",
           "#B6E880",
           "#FF97FF",
           "#FECB52"
          ],
          "font": {
           "color": "#2a3f5f"
          },
          "geo": {
           "bgcolor": "white",
           "lakecolor": "white",
           "landcolor": "#E5ECF6",
           "showlakes": true,
           "showland": true,
           "subunitcolor": "white"
          },
          "hoverlabel": {
           "align": "left"
          },
          "hovermode": "closest",
          "mapbox": {
           "style": "light"
          },
          "paper_bgcolor": "white",
          "plot_bgcolor": "#E5ECF6",
          "polar": {
           "angularaxis": {
            "gridcolor": "white",
            "linecolor": "white",
            "ticks": ""
           },
           "bgcolor": "#E5ECF6",
           "radialaxis": {
            "gridcolor": "white",
            "linecolor": "white",
            "ticks": ""
           }
          },
          "scene": {
           "xaxis": {
            "backgroundcolor": "#E5ECF6",
            "gridcolor": "white",
            "gridwidth": 2,
            "linecolor": "white",
            "showbackground": true,
            "ticks": "",
            "zerolinecolor": "white"
           },
           "yaxis": {
            "backgroundcolor": "#E5ECF6",
            "gridcolor": "white",
            "gridwidth": 2,
            "linecolor": "white",
            "showbackground": true,
            "ticks": "",
            "zerolinecolor": "white"
           },
           "zaxis": {
            "backgroundcolor": "#E5ECF6",
            "gridcolor": "white",
            "gridwidth": 2,
            "linecolor": "white",
            "showbackground": true,
            "ticks": "",
            "zerolinecolor": "white"
           }
          },
          "shapedefaults": {
           "line": {
            "color": "#2a3f5f"
           }
          },
          "ternary": {
           "aaxis": {
            "gridcolor": "white",
            "linecolor": "white",
            "ticks": ""
           },
           "baxis": {
            "gridcolor": "white",
            "linecolor": "white",
            "ticks": ""
           },
           "bgcolor": "#E5ECF6",
           "caxis": {
            "gridcolor": "white",
            "linecolor": "white",
            "ticks": ""
           }
          },
          "title": {
           "x": 0.05
          },
          "xaxis": {
           "automargin": true,
           "gridcolor": "white",
           "linecolor": "white",
           "ticks": "",
           "title": {
            "standoff": 15
           },
           "zerolinecolor": "white",
           "zerolinewidth": 2
          },
          "yaxis": {
           "automargin": true,
           "gridcolor": "white",
           "linecolor": "white",
           "ticks": "",
           "title": {
            "standoff": 15
           },
           "zerolinecolor": "white",
           "zerolinewidth": 2
          }
         }
        },
        "title": {
         "text": "Term Occurence Frequency by EAD Tag"
        },
        "xaxis": {
         "anchor": "y",
         "domain": [
          0,
          1
         ],
         "tickangle": 0,
         "tickfont": {
          "color": "black",
          "family": "Arial",
          "size": 10
         },
         "title": {
          "text": "EAD Tag"
         }
        },
        "yaxis": {
         "anchor": "x",
         "domain": [
          0,
          1
         ],
         "tickfont": {
          "family": "Arial",
          "size": 10
         },
         "title": {
          "text": "Term Frequency"
         }
        }
       }
      }
     },
     "metadata": {},
     "output_type": "display_data"
    },
    {
     "data": {
      "application/vnd.plotly.v1+json": {
       "config": {
        "plotlyServerURL": "https://plot.ly"
       },
       "data": [
        {
         "alignmentgroup": "True",
         "hovertemplate": "Repository=Bentley<br>EAD Tag=%{x}<br>harmful_terms_frequency=%{text}<extra></extra>",
         "insidetextanchor": "middle",
         "legendgroup": "Bentley",
         "marker": {
          "color": "#CFC096",
          "pattern": {
           "shape": ""
          }
         },
         "name": "Bentley",
         "offsetgroup": "Bentley",
         "orientation": "v",
         "showlegend": true,
         "text": [
          102,
          52,
          30,
          17,
          3,
          3
         ],
         "textfont": {
          "family": "Arial",
          "size": 8
         },
         "textposition": "inside",
         "type": "bar",
         "x": [
          "bioghist",
          "scopecontent",
          "subjects",
          "abstract",
          "corpnames",
          "geognames"
         ],
         "xaxis": "x",
         "y": [
          102,
          52,
          30,
          17,
          3,
          3
         ],
         "yaxis": "y"
        }
       ],
       "layout": {
        "barmode": "stack",
        "font": {
         "family": "Georgia"
        },
        "height": 600,
        "legend": {
         "title": {
          "text": "Repository"
         },
         "tracegroupgap": 0
        },
        "margin": {
         "t": 60
        },
        "template": {
         "data": {
          "bar": [
           {
            "error_x": {
             "color": "#2a3f5f"
            },
            "error_y": {
             "color": "#2a3f5f"
            },
            "marker": {
             "line": {
              "color": "#E5ECF6",
              "width": 0.5
             },
             "pattern": {
              "fillmode": "overlay",
              "size": 10,
              "solidity": 0.2
             }
            },
            "type": "bar"
           }
          ],
          "barpolar": [
           {
            "marker": {
             "line": {
              "color": "#E5ECF6",
              "width": 0.5
             },
             "pattern": {
              "fillmode": "overlay",
              "size": 10,
              "solidity": 0.2
             }
            },
            "type": "barpolar"
           }
          ],
          "carpet": [
           {
            "aaxis": {
             "endlinecolor": "#2a3f5f",
             "gridcolor": "white",
             "linecolor": "white",
             "minorgridcolor": "white",
             "startlinecolor": "#2a3f5f"
            },
            "baxis": {
             "endlinecolor": "#2a3f5f",
             "gridcolor": "white",
             "linecolor": "white",
             "minorgridcolor": "white",
             "startlinecolor": "#2a3f5f"
            },
            "type": "carpet"
           }
          ],
          "choropleth": [
           {
            "colorbar": {
             "outlinewidth": 0,
             "ticks": ""
            },
            "type": "choropleth"
           }
          ],
          "contour": [
           {
            "colorbar": {
             "outlinewidth": 0,
             "ticks": ""
            },
            "colorscale": [
             [
              0,
              "#0d0887"
             ],
             [
              0.1111111111111111,
              "#46039f"
             ],
             [
              0.2222222222222222,
              "#7201a8"
             ],
             [
              0.3333333333333333,
              "#9c179e"
             ],
             [
              0.4444444444444444,
              "#bd3786"
             ],
             [
              0.5555555555555556,
              "#d8576b"
             ],
             [
              0.6666666666666666,
              "#ed7953"
             ],
             [
              0.7777777777777778,
              "#fb9f3a"
             ],
             [
              0.8888888888888888,
              "#fdca26"
             ],
             [
              1,
              "#f0f921"
             ]
            ],
            "type": "contour"
           }
          ],
          "contourcarpet": [
           {
            "colorbar": {
             "outlinewidth": 0,
             "ticks": ""
            },
            "type": "contourcarpet"
           }
          ],
          "heatmap": [
           {
            "colorbar": {
             "outlinewidth": 0,
             "ticks": ""
            },
            "colorscale": [
             [
              0,
              "#0d0887"
             ],
             [
              0.1111111111111111,
              "#46039f"
             ],
             [
              0.2222222222222222,
              "#7201a8"
             ],
             [
              0.3333333333333333,
              "#9c179e"
             ],
             [
              0.4444444444444444,
              "#bd3786"
             ],
             [
              0.5555555555555556,
              "#d8576b"
             ],
             [
              0.6666666666666666,
              "#ed7953"
             ],
             [
              0.7777777777777778,
              "#fb9f3a"
             ],
             [
              0.8888888888888888,
              "#fdca26"
             ],
             [
              1,
              "#f0f921"
             ]
            ],
            "type": "heatmap"
           }
          ],
          "heatmapgl": [
           {
            "colorbar": {
             "outlinewidth": 0,
             "ticks": ""
            },
            "colorscale": [
             [
              0,
              "#0d0887"
             ],
             [
              0.1111111111111111,
              "#46039f"
             ],
             [
              0.2222222222222222,
              "#7201a8"
             ],
             [
              0.3333333333333333,
              "#9c179e"
             ],
             [
              0.4444444444444444,
              "#bd3786"
             ],
             [
              0.5555555555555556,
              "#d8576b"
             ],
             [
              0.6666666666666666,
              "#ed7953"
             ],
             [
              0.7777777777777778,
              "#fb9f3a"
             ],
             [
              0.8888888888888888,
              "#fdca26"
             ],
             [
              1,
              "#f0f921"
             ]
            ],
            "type": "heatmapgl"
           }
          ],
          "histogram": [
           {
            "marker": {
             "pattern": {
              "fillmode": "overlay",
              "size": 10,
              "solidity": 0.2
             }
            },
            "type": "histogram"
           }
          ],
          "histogram2d": [
           {
            "colorbar": {
             "outlinewidth": 0,
             "ticks": ""
            },
            "colorscale": [
             [
              0,
              "#0d0887"
             ],
             [
              0.1111111111111111,
              "#46039f"
             ],
             [
              0.2222222222222222,
              "#7201a8"
             ],
             [
              0.3333333333333333,
              "#9c179e"
             ],
             [
              0.4444444444444444,
              "#bd3786"
             ],
             [
              0.5555555555555556,
              "#d8576b"
             ],
             [
              0.6666666666666666,
              "#ed7953"
             ],
             [
              0.7777777777777778,
              "#fb9f3a"
             ],
             [
              0.8888888888888888,
              "#fdca26"
             ],
             [
              1,
              "#f0f921"
             ]
            ],
            "type": "histogram2d"
           }
          ],
          "histogram2dcontour": [
           {
            "colorbar": {
             "outlinewidth": 0,
             "ticks": ""
            },
            "colorscale": [
             [
              0,
              "#0d0887"
             ],
             [
              0.1111111111111111,
              "#46039f"
             ],
             [
              0.2222222222222222,
              "#7201a8"
             ],
             [
              0.3333333333333333,
              "#9c179e"
             ],
             [
              0.4444444444444444,
              "#bd3786"
             ],
             [
              0.5555555555555556,
              "#d8576b"
             ],
             [
              0.6666666666666666,
              "#ed7953"
             ],
             [
              0.7777777777777778,
              "#fb9f3a"
             ],
             [
              0.8888888888888888,
              "#fdca26"
             ],
             [
              1,
              "#f0f921"
             ]
            ],
            "type": "histogram2dcontour"
           }
          ],
          "mesh3d": [
           {
            "colorbar": {
             "outlinewidth": 0,
             "ticks": ""
            },
            "type": "mesh3d"
           }
          ],
          "parcoords": [
           {
            "line": {
             "colorbar": {
              "outlinewidth": 0,
              "ticks": ""
             }
            },
            "type": "parcoords"
           }
          ],
          "pie": [
           {
            "automargin": true,
            "type": "pie"
           }
          ],
          "scatter": [
           {
            "fillpattern": {
             "fillmode": "overlay",
             "size": 10,
             "solidity": 0.2
            },
            "type": "scatter"
           }
          ],
          "scatter3d": [
           {
            "line": {
             "colorbar": {
              "outlinewidth": 0,
              "ticks": ""
             }
            },
            "marker": {
             "colorbar": {
              "outlinewidth": 0,
              "ticks": ""
             }
            },
            "type": "scatter3d"
           }
          ],
          "scattercarpet": [
           {
            "marker": {
             "colorbar": {
              "outlinewidth": 0,
              "ticks": ""
             }
            },
            "type": "scattercarpet"
           }
          ],
          "scattergeo": [
           {
            "marker": {
             "colorbar": {
              "outlinewidth": 0,
              "ticks": ""
             }
            },
            "type": "scattergeo"
           }
          ],
          "scattergl": [
           {
            "marker": {
             "colorbar": {
              "outlinewidth": 0,
              "ticks": ""
             }
            },
            "type": "scattergl"
           }
          ],
          "scattermapbox": [
           {
            "marker": {
             "colorbar": {
              "outlinewidth": 0,
              "ticks": ""
             }
            },
            "type": "scattermapbox"
           }
          ],
          "scatterpolar": [
           {
            "marker": {
             "colorbar": {
              "outlinewidth": 0,
              "ticks": ""
             }
            },
            "type": "scatterpolar"
           }
          ],
          "scatterpolargl": [
           {
            "marker": {
             "colorbar": {
              "outlinewidth": 0,
              "ticks": ""
             }
            },
            "type": "scatterpolargl"
           }
          ],
          "scatterternary": [
           {
            "marker": {
             "colorbar": {
              "outlinewidth": 0,
              "ticks": ""
             }
            },
            "type": "scatterternary"
           }
          ],
          "surface": [
           {
            "colorbar": {
             "outlinewidth": 0,
             "ticks": ""
            },
            "colorscale": [
             [
              0,
              "#0d0887"
             ],
             [
              0.1111111111111111,
              "#46039f"
             ],
             [
              0.2222222222222222,
              "#7201a8"
             ],
             [
              0.3333333333333333,
              "#9c179e"
             ],
             [
              0.4444444444444444,
              "#bd3786"
             ],
             [
              0.5555555555555556,
              "#d8576b"
             ],
             [
              0.6666666666666666,
              "#ed7953"
             ],
             [
              0.7777777777777778,
              "#fb9f3a"
             ],
             [
              0.8888888888888888,
              "#fdca26"
             ],
             [
              1,
              "#f0f921"
             ]
            ],
            "type": "surface"
           }
          ],
          "table": [
           {
            "cells": {
             "fill": {
              "color": "#EBF0F8"
             },
             "line": {
              "color": "white"
             }
            },
            "header": {
             "fill": {
              "color": "#C8D4E3"
             },
             "line": {
              "color": "white"
             }
            },
            "type": "table"
           }
          ]
         },
         "layout": {
          "annotationdefaults": {
           "arrowcolor": "#2a3f5f",
           "arrowhead": 0,
           "arrowwidth": 1
          },
          "autotypenumbers": "strict",
          "coloraxis": {
           "colorbar": {
            "outlinewidth": 0,
            "ticks": ""
           }
          },
          "colorscale": {
           "diverging": [
            [
             0,
             "#8e0152"
            ],
            [
             0.1,
             "#c51b7d"
            ],
            [
             0.2,
             "#de77ae"
            ],
            [
             0.3,
             "#f1b6da"
            ],
            [
             0.4,
             "#fde0ef"
            ],
            [
             0.5,
             "#f7f7f7"
            ],
            [
             0.6,
             "#e6f5d0"
            ],
            [
             0.7,
             "#b8e186"
            ],
            [
             0.8,
             "#7fbc41"
            ],
            [
             0.9,
             "#4d9221"
            ],
            [
             1,
             "#276419"
            ]
           ],
           "sequential": [
            [
             0,
             "#0d0887"
            ],
            [
             0.1111111111111111,
             "#46039f"
            ],
            [
             0.2222222222222222,
             "#7201a8"
            ],
            [
             0.3333333333333333,
             "#9c179e"
            ],
            [
             0.4444444444444444,
             "#bd3786"
            ],
            [
             0.5555555555555556,
             "#d8576b"
            ],
            [
             0.6666666666666666,
             "#ed7953"
            ],
            [
             0.7777777777777778,
             "#fb9f3a"
            ],
            [
             0.8888888888888888,
             "#fdca26"
            ],
            [
             1,
             "#f0f921"
            ]
           ],
           "sequentialminus": [
            [
             0,
             "#0d0887"
            ],
            [
             0.1111111111111111,
             "#46039f"
            ],
            [
             0.2222222222222222,
             "#7201a8"
            ],
            [
             0.3333333333333333,
             "#9c179e"
            ],
            [
             0.4444444444444444,
             "#bd3786"
            ],
            [
             0.5555555555555556,
             "#d8576b"
            ],
            [
             0.6666666666666666,
             "#ed7953"
            ],
            [
             0.7777777777777778,
             "#fb9f3a"
            ],
            [
             0.8888888888888888,
             "#fdca26"
            ],
            [
             1,
             "#f0f921"
            ]
           ]
          },
          "colorway": [
           "#636efa",
           "#EF553B",
           "#00cc96",
           "#ab63fa",
           "#FFA15A",
           "#19d3f3",
           "#FF6692",
           "#B6E880",
           "#FF97FF",
           "#FECB52"
          ],
          "font": {
           "color": "#2a3f5f"
          },
          "geo": {
           "bgcolor": "white",
           "lakecolor": "white",
           "landcolor": "#E5ECF6",
           "showlakes": true,
           "showland": true,
           "subunitcolor": "white"
          },
          "hoverlabel": {
           "align": "left"
          },
          "hovermode": "closest",
          "mapbox": {
           "style": "light"
          },
          "paper_bgcolor": "white",
          "plot_bgcolor": "#E5ECF6",
          "polar": {
           "angularaxis": {
            "gridcolor": "white",
            "linecolor": "white",
            "ticks": ""
           },
           "bgcolor": "#E5ECF6",
           "radialaxis": {
            "gridcolor": "white",
            "linecolor": "white",
            "ticks": ""
           }
          },
          "scene": {
           "xaxis": {
            "backgroundcolor": "#E5ECF6",
            "gridcolor": "white",
            "gridwidth": 2,
            "linecolor": "white",
            "showbackground": true,
            "ticks": "",
            "zerolinecolor": "white"
           },
           "yaxis": {
            "backgroundcolor": "#E5ECF6",
            "gridcolor": "white",
            "gridwidth": 2,
            "linecolor": "white",
            "showbackground": true,
            "ticks": "",
            "zerolinecolor": "white"
           },
           "zaxis": {
            "backgroundcolor": "#E5ECF6",
            "gridcolor": "white",
            "gridwidth": 2,
            "linecolor": "white",
            "showbackground": true,
            "ticks": "",
            "zerolinecolor": "white"
           }
          },
          "shapedefaults": {
           "line": {
            "color": "#2a3f5f"
           }
          },
          "ternary": {
           "aaxis": {
            "gridcolor": "white",
            "linecolor": "white",
            "ticks": ""
           },
           "baxis": {
            "gridcolor": "white",
            "linecolor": "white",
            "ticks": ""
           },
           "bgcolor": "#E5ECF6",
           "caxis": {
            "gridcolor": "white",
            "linecolor": "white",
            "ticks": ""
           }
          },
          "title": {
           "x": 0.05
          },
          "xaxis": {
           "automargin": true,
           "gridcolor": "white",
           "linecolor": "white",
           "ticks": "",
           "title": {
            "standoff": 15
           },
           "zerolinecolor": "white",
           "zerolinewidth": 2
          },
          "yaxis": {
           "automargin": true,
           "gridcolor": "white",
           "linecolor": "white",
           "ticks": "",
           "title": {
            "standoff": 15
           },
           "zerolinecolor": "white",
           "zerolinewidth": 2
          }
         }
        },
        "title": {
         "text": "Term Occurence Frequency by EAD Tag (Stacked Totals)"
        },
        "xaxis": {
         "anchor": "y",
         "domain": [
          0,
          1
         ],
         "tickangle": 0,
         "tickfont": {
          "color": "black",
          "family": "Arial",
          "size": 10
         },
         "title": {
          "text": "EAD Tag"
         }
        },
        "yaxis": {
         "anchor": "x",
         "domain": [
          0,
          1
         ],
         "tickfont": {
          "family": "Arial",
          "size": 10
         },
         "title": {
          "text": "Term Frequency"
         }
        }
       }
      }
     },
     "metadata": {},
     "output_type": "display_data"
    }
   ],
   "source": [
    "def calculate_element_frequency(df, df_name):\n",
    "    element_counts = df.groupby('Matched_From')['Matched_Times'].sum()\n",
    "    element_counts_sorted = element_counts.sort_values(ascending=False)\n",
    "    df_element_counts = pd.DataFrame(list(element_counts_sorted.items()), columns=['Subsection', 'harmful_terms_frequency'])\n",
    "    df_element_counts['Source'] = df_name  # Indicate the source dataframe\n",
    "    return df_element_counts\n",
    "\n",
    "# Use the function for each dataframes\n",
    "element_frequencies_list = [calculate_element_frequency(df, name) for name, df in matched_results.items()]\n",
    "\n",
    "# Concatenate all element frequencies\n",
    "all_element_frequencies = pd.concat(element_frequencies_list)\n",
    "\n",
    "# Show the DataFrame\n",
    "print(\"Element frequencies across all file pools:\")\n",
    "display(all_element_frequencies)\n",
    "\n",
    "# Set colors\n",
    "colors = {'Bentley': '#CFC096', 'Clements': '#A5A508', 'SCRC': '#FFCB05'}\n",
    "\n",
    "# Visualization\n",
    "fig = px.bar(all_element_frequencies, x='Subsection', y='harmful_terms_frequency', color='Source', \n",
    "             text='harmful_terms_frequency', barmode='group',\n",
    "             labels={'Subsection':'EAD Tag','Source':'Repository'},\n",
    "             color_discrete_map=colors)\n",
    "fig.update_traces(textposition='outside', textfont=dict(family='Arial',size=8))\n",
    "fig.update_layout(title_text=\"Term Occurence Frequency by EAD Tag\", yaxis_title=\"Term Frequency\", height=600,\n",
    "                  font_family=global_font_info['font_family'])\n",
    "fig.update_yaxes(tickfont=dict(family='Arial', size=10))\n",
    "fig.update_xaxes(tickangle=0, tickfont=dict(family='Arial', color='black', size=10))\n",
    "fig.show()\n",
    "pio.write_image(fig, 'element_frequency_across_dfs.png', scale=5)\n",
    "\n",
    "# Visualization Variation: Stacked bars\n",
    "fig = px.bar(all_element_frequencies, x='Subsection', y='harmful_terms_frequency', color='Source', \n",
    "             text='harmful_terms_frequency', barmode='stack',\n",
    "             labels={'Subsection':'EAD Tag','Source':'Repository'},\n",
    "             color_discrete_map=colors)\n",
    "fig.update_traces(textposition='inside', insidetextanchor='middle', textfont=dict(family='Arial',size=8))\n",
    "fig.update_layout(title_text=\"Term Occurence Frequency by EAD Tag (Stacked Totals)\", yaxis_title=\"Term Frequency\", height=600,\n",
    "                  font_family=global_font_info['font_family'])\n",
    "fig.update_yaxes(tickfont=dict(family='Arial', size=10))\n",
    "fig.update_xaxes(tickangle=0, tickfont=dict(family='Arial', color='black', size=10))\n",
    "fig.show()\n",
    "pio.write_image(fig, 'element_frequency_across_dfs_stacked.png', scale=5)"
   ]
  },
  {
   "cell_type": "markdown",
   "metadata": {},
   "source": [
    "### Visualizing Term Frequencies Across Subsections\n",
    "\n",
    "This section calculates the term frequencies in different subsections of each data source and visualizes the results using treemap and sunburst diagrams.\n",
    "\n",
    "The `calculate_subsection_term_frequency(df, df_name)` function is used to calculate the sum of matched terms for each term in each subsection of a DataFrame. The results are returned as a DataFrame with columns `Subsection`, `Term`, `Term_Frequency`, and `Source`. This function is applied to each DataFrame in matched_results, and the results are concatenated into a single DataFrame, `all_subsection_term_frequencies`.\n",
    "\n",
    "Treemap diagrams are then created to visualize the frequencies of terms in each subsection for every data source. The size of each section in the treemap corresponds to the term frequency in that section. Two types of treemaps are generated: one with uniform colors and one with a color scale indicating term frequency. The color scale ranges from yellow ('Yl') for lower frequencies to red ('Rd') for higher frequencies.\n",
    "\n",
    "A sunburst diagram is created with a similar color scale. In this diagram, the data sources are represented in the inner circle, subsections in the middle ring, and terms in the outer ring. This hierarchical view allows for easy comparison of term frequencies across different sources and subsections. The resulting visualizations are displayed but not saved. If you wish to save them, you can use fig.write_image('filename.png') as in the previous sections."
   ]
  },
  {
   "cell_type": "code",
   "execution_count": 19,
   "metadata": {},
   "outputs": [],
   "source": [
    "def calculate_subsection_term_frequency(df, df_name):\n",
    "    subsection_term_frequency = df.groupby(['Matched_From', 'Term'])['Matched_Times'].sum().reset_index()\n",
    "    subsection_term_frequency.rename(columns={'Matched_From': 'Subsection', 'Matched_Times': 'Term_Frequency'}, inplace=True)\n",
    "    subsection_term_frequency['Source'] = df_name\n",
    "    return subsection_term_frequency\n",
    "\n",
    "# Use the function for each pool\n",
    "subsection_term_frequencies_list = [calculate_subsection_term_frequency(df, name) for name, df in matched_results.items()]\n",
    "\n",
    "# Concatenate all subsection term frequencies\n",
    "all_subsection_term_frequencies = pd.concat(subsection_term_frequencies_list)"
   ]
  },
  {
   "cell_type": "markdown",
   "metadata": {},
   "source": [
    "### Treemap visualization\n",
    "\n",
    "The tree map visualization, initially used in digital context to\n",
    "represent the proportional size of files and directories on a hard disk,\n",
    "provides a useful way to show and explore hierarchy. \n",
    "\n",
    "The primary grouping in this treemap is the holding repository. In the case of U-Michigan,\n",
    "we were interested in how occurence patterns might differ between repositories. But in other cases, the hierarchy might be used to separate finding aid groups by\n",
    "topic, time period, media, or any other grouping that might be of interest.\n",
    "\n",
    "The secondary groping in this tree map is the EAD tag. It would, instead, be\n",
    "possible to group by term (and then tag), or in other orders. For our case,\n",
    "it was most interesting to point out the \"biggest\" (that is, most prevalent)\n",
    "tags that included terms of interest. Finally, individual terms are grouped in their own box. \n",
    "\n",
    "The first tree map uses individual colors for each top-level parent tag. The second tree map uses a gradient so that color intensity, in addition to box size helps to indicate term prevalence (more intense and larger is a greater occurence while lighter and smaller indicates less occurence). "
   ]
  },
  {
   "cell_type": "code",
   "execution_count": 20,
   "metadata": {},
   "outputs": [
    {
     "data": {
      "application/vnd.plotly.v1+json": {
       "config": {
        "plotlyServerURL": "https://plot.ly"
       },
       "data": [
        {
         "branchvalues": "total",
         "domain": {
          "x": [
           0,
           1
          ],
          "y": [
           0,
           1
          ]
         },
         "hovertemplate": "labels=%{label}<br>Term_Frequency=%{value}<br>parent=%{parent}<br>id=%{id}<extra></extra>",
         "ids": [
          "Bentley/abstract/Colonial",
          "Bentley/bioghist/Colonial",
          "Bentley/scopecontent/Colonial",
          "Bentley/abstract/Colonialism",
          "Bentley/subjects/Colonists",
          "Bentley/bioghist/Colony",
          "Bentley/abstract/Commonwealth of the Philippines",
          "Bentley/bioghist/Commonwealth of the Philippines",
          "Bentley/abstract/Death",
          "Bentley/bioghist/Death",
          "Bentley/scopecontent/Death",
          "Bentley/subjects/Death",
          "Bentley/subjects/Dwellings",
          "Bentley/subjects/Executions",
          "Bentley/bioghist/Hanging",
          "Bentley/bioghist/Hygiene",
          "Bentley/corpnames/Hygiene",
          "Bentley/abstract/Igorot",
          "Bentley/bioghist/Igorot",
          "Bentley/scopecontent/Igorot",
          "Bentley/subjects/Igorot",
          "Bentley/bioghist/Igorots",
          "Bentley/scopecontent/Igorots",
          "Bentley/scopecontent/Indigenous",
          "Bentley/subjects/Indigenous",
          "Bentley/abstract/Insurgency",
          "Bentley/scopecontent/Insurgency",
          "Bentley/bioghist/Insurgent",
          "Bentley/bioghist/Insurrection",
          "Bentley/scopecontent/Moros",
          "Bentley/abstract/Native",
          "Bentley/bioghist/Native",
          "Bentley/scopecontent/Native",
          "Bentley/abstract/Non-Christian",
          "Bentley/bioghist/Non-Christian",
          "Bentley/abstract/Philippine Islands",
          "Bentley/bioghist/Philippine Islands",
          "Bentley/scopecontent/Philippine Islands",
          "Bentley/subjects/Plantations",
          "Bentley/bioghist/Race",
          "Bentley/corpnames/Race",
          "Bentley/subjects/Race",
          "Bentley/bioghist/Remains",
          "Bentley/scopecontent/Remains",
          "Bentley/bioghist/Settlers",
          "Bentley/scopecontent/Settlers",
          "Bentley/scopecontent/Slavery",
          "Bentley/bioghist/Territory",
          "Bentley/geognames/Tribe",
          "Bentley/subjects/Tribe",
          "Bentley/bioghist/Tribes",
          "Bentley/scopecontent/Tribes",
          "Bentley/abstract/Type",
          "Bentley/bioghist/Type",
          "Bentley/scopecontent/Type",
          "Bentley/bioghist/Types",
          "Bentley/scopecontent/Types",
          "Bentley/abstract",
          "Bentley/bioghist",
          "Bentley/corpnames",
          "Bentley/geognames",
          "Bentley/scopecontent",
          "Bentley/subjects",
          "Bentley"
         ],
         "labels": [
          "Colonial",
          "Colonial",
          "Colonial",
          "Colonialism",
          "Colonists",
          "Colony",
          "Commonwealth of the Philippines",
          "Commonwealth of the Philippines",
          "Death",
          "Death",
          "Death",
          "Death",
          "Dwellings",
          "Executions",
          "Hanging",
          "Hygiene",
          "Hygiene",
          "Igorot",
          "Igorot",
          "Igorot",
          "Igorot",
          "Igorots",
          "Igorots",
          "Indigenous",
          "Indigenous",
          "Insurgency",
          "Insurgency",
          "Insurgent",
          "Insurrection",
          "Moros",
          "Native",
          "Native",
          "Native",
          "Non-Christian",
          "Non-Christian",
          "Philippine Islands",
          "Philippine Islands",
          "Philippine Islands",
          "Plantations",
          "Race",
          "Race",
          "Race",
          "Remains",
          "Remains",
          "Settlers",
          "Settlers",
          "Slavery",
          "Territory",
          "Tribe",
          "Tribe",
          "Tribes",
          "Tribes",
          "Type",
          "Type",
          "Type",
          "Types",
          "Types",
          "abstract",
          "bioghist",
          "corpnames",
          "geognames",
          "scopecontent",
          "subjects",
          "Bentley"
         ],
         "name": "",
         "parents": [
          "Bentley/abstract",
          "Bentley/bioghist",
          "Bentley/scopecontent",
          "Bentley/abstract",
          "Bentley/subjects",
          "Bentley/bioghist",
          "Bentley/abstract",
          "Bentley/bioghist",
          "Bentley/abstract",
          "Bentley/bioghist",
          "Bentley/scopecontent",
          "Bentley/subjects",
          "Bentley/subjects",
          "Bentley/subjects",
          "Bentley/bioghist",
          "Bentley/bioghist",
          "Bentley/corpnames",
          "Bentley/abstract",
          "Bentley/bioghist",
          "Bentley/scopecontent",
          "Bentley/subjects",
          "Bentley/bioghist",
          "Bentley/scopecontent",
          "Bentley/scopecontent",
          "Bentley/subjects",
          "Bentley/abstract",
          "Bentley/scopecontent",
          "Bentley/bioghist",
          "Bentley/bioghist",
          "Bentley/scopecontent",
          "Bentley/abstract",
          "Bentley/bioghist",
          "Bentley/scopecontent",
          "Bentley/abstract",
          "Bentley/bioghist",
          "Bentley/abstract",
          "Bentley/bioghist",
          "Bentley/scopecontent",
          "Bentley/subjects",
          "Bentley/bioghist",
          "Bentley/corpnames",
          "Bentley/subjects",
          "Bentley/bioghist",
          "Bentley/scopecontent",
          "Bentley/bioghist",
          "Bentley/scopecontent",
          "Bentley/scopecontent",
          "Bentley/bioghist",
          "Bentley/geognames",
          "Bentley/subjects",
          "Bentley/bioghist",
          "Bentley/scopecontent",
          "Bentley/abstract",
          "Bentley/bioghist",
          "Bentley/scopecontent",
          "Bentley/bioghist",
          "Bentley/scopecontent",
          "Bentley",
          "Bentley",
          "Bentley",
          "Bentley",
          "Bentley",
          "Bentley",
          ""
         ],
         "type": "treemap",
         "values": [
          1,
          2,
          2,
          1,
          2,
          1,
          1,
          2,
          1,
          39,
          8,
          3,
          19,
          1,
          1,
          3,
          1,
          2,
          4,
          8,
          1,
          3,
          2,
          2,
          1,
          1,
          1,
          2,
          1,
          1,
          2,
          16,
          3,
          1,
          1,
          6,
          13,
          14,
          1,
          2,
          2,
          1,
          2,
          3,
          1,
          1,
          1,
          2,
          3,
          1,
          1,
          1,
          1,
          2,
          1,
          4,
          4,
          17,
          102,
          3,
          3,
          52,
          30,
          207
         ]
        }
       ],
       "layout": {
        "height": 800,
        "legend": {
         "tracegroupgap": 0
        },
        "margin": {
         "t": 60
        },
        "template": {
         "data": {
          "bar": [
           {
            "error_x": {
             "color": "#2a3f5f"
            },
            "error_y": {
             "color": "#2a3f5f"
            },
            "marker": {
             "line": {
              "color": "#E5ECF6",
              "width": 0.5
             },
             "pattern": {
              "fillmode": "overlay",
              "size": 10,
              "solidity": 0.2
             }
            },
            "type": "bar"
           }
          ],
          "barpolar": [
           {
            "marker": {
             "line": {
              "color": "#E5ECF6",
              "width": 0.5
             },
             "pattern": {
              "fillmode": "overlay",
              "size": 10,
              "solidity": 0.2
             }
            },
            "type": "barpolar"
           }
          ],
          "carpet": [
           {
            "aaxis": {
             "endlinecolor": "#2a3f5f",
             "gridcolor": "white",
             "linecolor": "white",
             "minorgridcolor": "white",
             "startlinecolor": "#2a3f5f"
            },
            "baxis": {
             "endlinecolor": "#2a3f5f",
             "gridcolor": "white",
             "linecolor": "white",
             "minorgridcolor": "white",
             "startlinecolor": "#2a3f5f"
            },
            "type": "carpet"
           }
          ],
          "choropleth": [
           {
            "colorbar": {
             "outlinewidth": 0,
             "ticks": ""
            },
            "type": "choropleth"
           }
          ],
          "contour": [
           {
            "colorbar": {
             "outlinewidth": 0,
             "ticks": ""
            },
            "colorscale": [
             [
              0,
              "#0d0887"
             ],
             [
              0.1111111111111111,
              "#46039f"
             ],
             [
              0.2222222222222222,
              "#7201a8"
             ],
             [
              0.3333333333333333,
              "#9c179e"
             ],
             [
              0.4444444444444444,
              "#bd3786"
             ],
             [
              0.5555555555555556,
              "#d8576b"
             ],
             [
              0.6666666666666666,
              "#ed7953"
             ],
             [
              0.7777777777777778,
              "#fb9f3a"
             ],
             [
              0.8888888888888888,
              "#fdca26"
             ],
             [
              1,
              "#f0f921"
             ]
            ],
            "type": "contour"
           }
          ],
          "contourcarpet": [
           {
            "colorbar": {
             "outlinewidth": 0,
             "ticks": ""
            },
            "type": "contourcarpet"
           }
          ],
          "heatmap": [
           {
            "colorbar": {
             "outlinewidth": 0,
             "ticks": ""
            },
            "colorscale": [
             [
              0,
              "#0d0887"
             ],
             [
              0.1111111111111111,
              "#46039f"
             ],
             [
              0.2222222222222222,
              "#7201a8"
             ],
             [
              0.3333333333333333,
              "#9c179e"
             ],
             [
              0.4444444444444444,
              "#bd3786"
             ],
             [
              0.5555555555555556,
              "#d8576b"
             ],
             [
              0.6666666666666666,
              "#ed7953"
             ],
             [
              0.7777777777777778,
              "#fb9f3a"
             ],
             [
              0.8888888888888888,
              "#fdca26"
             ],
             [
              1,
              "#f0f921"
             ]
            ],
            "type": "heatmap"
           }
          ],
          "heatmapgl": [
           {
            "colorbar": {
             "outlinewidth": 0,
             "ticks": ""
            },
            "colorscale": [
             [
              0,
              "#0d0887"
             ],
             [
              0.1111111111111111,
              "#46039f"
             ],
             [
              0.2222222222222222,
              "#7201a8"
             ],
             [
              0.3333333333333333,
              "#9c179e"
             ],
             [
              0.4444444444444444,
              "#bd3786"
             ],
             [
              0.5555555555555556,
              "#d8576b"
             ],
             [
              0.6666666666666666,
              "#ed7953"
             ],
             [
              0.7777777777777778,
              "#fb9f3a"
             ],
             [
              0.8888888888888888,
              "#fdca26"
             ],
             [
              1,
              "#f0f921"
             ]
            ],
            "type": "heatmapgl"
           }
          ],
          "histogram": [
           {
            "marker": {
             "pattern": {
              "fillmode": "overlay",
              "size": 10,
              "solidity": 0.2
             }
            },
            "type": "histogram"
           }
          ],
          "histogram2d": [
           {
            "colorbar": {
             "outlinewidth": 0,
             "ticks": ""
            },
            "colorscale": [
             [
              0,
              "#0d0887"
             ],
             [
              0.1111111111111111,
              "#46039f"
             ],
             [
              0.2222222222222222,
              "#7201a8"
             ],
             [
              0.3333333333333333,
              "#9c179e"
             ],
             [
              0.4444444444444444,
              "#bd3786"
             ],
             [
              0.5555555555555556,
              "#d8576b"
             ],
             [
              0.6666666666666666,
              "#ed7953"
             ],
             [
              0.7777777777777778,
              "#fb9f3a"
             ],
             [
              0.8888888888888888,
              "#fdca26"
             ],
             [
              1,
              "#f0f921"
             ]
            ],
            "type": "histogram2d"
           }
          ],
          "histogram2dcontour": [
           {
            "colorbar": {
             "outlinewidth": 0,
             "ticks": ""
            },
            "colorscale": [
             [
              0,
              "#0d0887"
             ],
             [
              0.1111111111111111,
              "#46039f"
             ],
             [
              0.2222222222222222,
              "#7201a8"
             ],
             [
              0.3333333333333333,
              "#9c179e"
             ],
             [
              0.4444444444444444,
              "#bd3786"
             ],
             [
              0.5555555555555556,
              "#d8576b"
             ],
             [
              0.6666666666666666,
              "#ed7953"
             ],
             [
              0.7777777777777778,
              "#fb9f3a"
             ],
             [
              0.8888888888888888,
              "#fdca26"
             ],
             [
              1,
              "#f0f921"
             ]
            ],
            "type": "histogram2dcontour"
           }
          ],
          "mesh3d": [
           {
            "colorbar": {
             "outlinewidth": 0,
             "ticks": ""
            },
            "type": "mesh3d"
           }
          ],
          "parcoords": [
           {
            "line": {
             "colorbar": {
              "outlinewidth": 0,
              "ticks": ""
             }
            },
            "type": "parcoords"
           }
          ],
          "pie": [
           {
            "automargin": true,
            "type": "pie"
           }
          ],
          "scatter": [
           {
            "fillpattern": {
             "fillmode": "overlay",
             "size": 10,
             "solidity": 0.2
            },
            "type": "scatter"
           }
          ],
          "scatter3d": [
           {
            "line": {
             "colorbar": {
              "outlinewidth": 0,
              "ticks": ""
             }
            },
            "marker": {
             "colorbar": {
              "outlinewidth": 0,
              "ticks": ""
             }
            },
            "type": "scatter3d"
           }
          ],
          "scattercarpet": [
           {
            "marker": {
             "colorbar": {
              "outlinewidth": 0,
              "ticks": ""
             }
            },
            "type": "scattercarpet"
           }
          ],
          "scattergeo": [
           {
            "marker": {
             "colorbar": {
              "outlinewidth": 0,
              "ticks": ""
             }
            },
            "type": "scattergeo"
           }
          ],
          "scattergl": [
           {
            "marker": {
             "colorbar": {
              "outlinewidth": 0,
              "ticks": ""
             }
            },
            "type": "scattergl"
           }
          ],
          "scattermapbox": [
           {
            "marker": {
             "colorbar": {
              "outlinewidth": 0,
              "ticks": ""
             }
            },
            "type": "scattermapbox"
           }
          ],
          "scatterpolar": [
           {
            "marker": {
             "colorbar": {
              "outlinewidth": 0,
              "ticks": ""
             }
            },
            "type": "scatterpolar"
           }
          ],
          "scatterpolargl": [
           {
            "marker": {
             "colorbar": {
              "outlinewidth": 0,
              "ticks": ""
             }
            },
            "type": "scatterpolargl"
           }
          ],
          "scatterternary": [
           {
            "marker": {
             "colorbar": {
              "outlinewidth": 0,
              "ticks": ""
             }
            },
            "type": "scatterternary"
           }
          ],
          "surface": [
           {
            "colorbar": {
             "outlinewidth": 0,
             "ticks": ""
            },
            "colorscale": [
             [
              0,
              "#0d0887"
             ],
             [
              0.1111111111111111,
              "#46039f"
             ],
             [
              0.2222222222222222,
              "#7201a8"
             ],
             [
              0.3333333333333333,
              "#9c179e"
             ],
             [
              0.4444444444444444,
              "#bd3786"
             ],
             [
              0.5555555555555556,
              "#d8576b"
             ],
             [
              0.6666666666666666,
              "#ed7953"
             ],
             [
              0.7777777777777778,
              "#fb9f3a"
             ],
             [
              0.8888888888888888,
              "#fdca26"
             ],
             [
              1,
              "#f0f921"
             ]
            ],
            "type": "surface"
           }
          ],
          "table": [
           {
            "cells": {
             "fill": {
              "color": "#EBF0F8"
             },
             "line": {
              "color": "white"
             }
            },
            "header": {
             "fill": {
              "color": "#C8D4E3"
             },
             "line": {
              "color": "white"
             }
            },
            "type": "table"
           }
          ]
         },
         "layout": {
          "annotationdefaults": {
           "arrowcolor": "#2a3f5f",
           "arrowhead": 0,
           "arrowwidth": 1
          },
          "autotypenumbers": "strict",
          "coloraxis": {
           "colorbar": {
            "outlinewidth": 0,
            "ticks": ""
           }
          },
          "colorscale": {
           "diverging": [
            [
             0,
             "#8e0152"
            ],
            [
             0.1,
             "#c51b7d"
            ],
            [
             0.2,
             "#de77ae"
            ],
            [
             0.3,
             "#f1b6da"
            ],
            [
             0.4,
             "#fde0ef"
            ],
            [
             0.5,
             "#f7f7f7"
            ],
            [
             0.6,
             "#e6f5d0"
            ],
            [
             0.7,
             "#b8e186"
            ],
            [
             0.8,
             "#7fbc41"
            ],
            [
             0.9,
             "#4d9221"
            ],
            [
             1,
             "#276419"
            ]
           ],
           "sequential": [
            [
             0,
             "#0d0887"
            ],
            [
             0.1111111111111111,
             "#46039f"
            ],
            [
             0.2222222222222222,
             "#7201a8"
            ],
            [
             0.3333333333333333,
             "#9c179e"
            ],
            [
             0.4444444444444444,
             "#bd3786"
            ],
            [
             0.5555555555555556,
             "#d8576b"
            ],
            [
             0.6666666666666666,
             "#ed7953"
            ],
            [
             0.7777777777777778,
             "#fb9f3a"
            ],
            [
             0.8888888888888888,
             "#fdca26"
            ],
            [
             1,
             "#f0f921"
            ]
           ],
           "sequentialminus": [
            [
             0,
             "#0d0887"
            ],
            [
             0.1111111111111111,
             "#46039f"
            ],
            [
             0.2222222222222222,
             "#7201a8"
            ],
            [
             0.3333333333333333,
             "#9c179e"
            ],
            [
             0.4444444444444444,
             "#bd3786"
            ],
            [
             0.5555555555555556,
             "#d8576b"
            ],
            [
             0.6666666666666666,
             "#ed7953"
            ],
            [
             0.7777777777777778,
             "#fb9f3a"
            ],
            [
             0.8888888888888888,
             "#fdca26"
            ],
            [
             1,
             "#f0f921"
            ]
           ]
          },
          "colorway": [
           "#636efa",
           "#EF553B",
           "#00cc96",
           "#ab63fa",
           "#FFA15A",
           "#19d3f3",
           "#FF6692",
           "#B6E880",
           "#FF97FF",
           "#FECB52"
          ],
          "font": {
           "color": "#2a3f5f"
          },
          "geo": {
           "bgcolor": "white",
           "lakecolor": "white",
           "landcolor": "#E5ECF6",
           "showlakes": true,
           "showland": true,
           "subunitcolor": "white"
          },
          "hoverlabel": {
           "align": "left"
          },
          "hovermode": "closest",
          "mapbox": {
           "style": "light"
          },
          "paper_bgcolor": "white",
          "plot_bgcolor": "#E5ECF6",
          "polar": {
           "angularaxis": {
            "gridcolor": "white",
            "linecolor": "white",
            "ticks": ""
           },
           "bgcolor": "#E5ECF6",
           "radialaxis": {
            "gridcolor": "white",
            "linecolor": "white",
            "ticks": ""
           }
          },
          "scene": {
           "xaxis": {
            "backgroundcolor": "#E5ECF6",
            "gridcolor": "white",
            "gridwidth": 2,
            "linecolor": "white",
            "showbackground": true,
            "ticks": "",
            "zerolinecolor": "white"
           },
           "yaxis": {
            "backgroundcolor": "#E5ECF6",
            "gridcolor": "white",
            "gridwidth": 2,
            "linecolor": "white",
            "showbackground": true,
            "ticks": "",
            "zerolinecolor": "white"
           },
           "zaxis": {
            "backgroundcolor": "#E5ECF6",
            "gridcolor": "white",
            "gridwidth": 2,
            "linecolor": "white",
            "showbackground": true,
            "ticks": "",
            "zerolinecolor": "white"
           }
          },
          "shapedefaults": {
           "line": {
            "color": "#2a3f5f"
           }
          },
          "ternary": {
           "aaxis": {
            "gridcolor": "white",
            "linecolor": "white",
            "ticks": ""
           },
           "baxis": {
            "gridcolor": "white",
            "linecolor": "white",
            "ticks": ""
           },
           "bgcolor": "#E5ECF6",
           "caxis": {
            "gridcolor": "white",
            "linecolor": "white",
            "ticks": ""
           }
          },
          "title": {
           "x": 0.05
          },
          "xaxis": {
           "automargin": true,
           "gridcolor": "white",
           "linecolor": "white",
           "ticks": "",
           "title": {
            "standoff": 15
           },
           "zerolinecolor": "white",
           "zerolinewidth": 2
          },
          "yaxis": {
           "automargin": true,
           "gridcolor": "white",
           "linecolor": "white",
           "ticks": "",
           "title": {
            "standoff": 15
           },
           "zerolinecolor": "white",
           "zerolinewidth": 2
          }
         }
        },
        "width": 1500
       }
      }
     },
     "metadata": {},
     "output_type": "display_data"
    }
   ],
   "source": [
    "# Treemap\n",
    "color_map = {'Bentley': 'blue', 'Clements': 'red', 'SCRC': 'green'}\n",
    "fig = px.treemap(all_subsection_term_frequencies, path=['Source', 'Subsection', 'Term'], values='Term_Frequency')\n",
    "fig.update_layout(width=1500, height=800)\n",
    "fig.show()"
   ]
  },
  {
   "cell_type": "markdown",
   "metadata": {},
   "source": [
    "A color gradient indicates higher term prevalence in darker, or more intense, colors,\n",
    "while lighter colors indicate lower occurence."
   ]
  },
  {
   "cell_type": "code",
   "execution_count": 21,
   "metadata": {},
   "outputs": [
    {
     "data": {
      "application/vnd.plotly.v1+json": {
       "config": {
        "plotlyServerURL": "https://plot.ly"
       },
       "data": [
        {
         "branchvalues": "total",
         "customdata": [
          [
           1
          ],
          [
           2
          ],
          [
           2
          ],
          [
           1
          ],
          [
           2
          ],
          [
           1
          ],
          [
           1
          ],
          [
           2
          ],
          [
           1
          ],
          [
           39
          ],
          [
           8
          ],
          [
           3
          ],
          [
           19
          ],
          [
           1
          ],
          [
           1
          ],
          [
           3
          ],
          [
           1
          ],
          [
           2
          ],
          [
           4
          ],
          [
           8
          ],
          [
           1
          ],
          [
           3
          ],
          [
           2
          ],
          [
           2
          ],
          [
           1
          ],
          [
           1
          ],
          [
           1
          ],
          [
           2
          ],
          [
           1
          ],
          [
           1
          ],
          [
           2
          ],
          [
           16
          ],
          [
           3
          ],
          [
           1
          ],
          [
           1
          ],
          [
           6
          ],
          [
           13
          ],
          [
           14
          ],
          [
           1
          ],
          [
           2
          ],
          [
           2
          ],
          [
           1
          ],
          [
           2
          ],
          [
           3
          ],
          [
           1
          ],
          [
           1
          ],
          [
           1
          ],
          [
           2
          ],
          [
           3
          ],
          [
           1
          ],
          [
           1
          ],
          [
           1
          ],
          [
           1
          ],
          [
           2
          ],
          [
           1
          ],
          [
           4
          ],
          [
           4
          ],
          [
           3
          ],
          [
           19.901960784313726
          ],
          [
           1.6666666666666667
          ],
          [
           3
          ],
          [
           7.230769230769231
          ],
          [
           12.666666666666666
          ],
          [
           13.772946859903382
          ]
         ],
         "domain": {
          "x": [
           0,
           1
          ],
          "y": [
           0,
           1
          ]
         },
         "hovertemplate": "labels=%{label}<br>Term_Frequency=%{value}<br>parent=%{parent}<br>id=%{id}<br>color=%{color}<extra></extra>",
         "ids": [
          "Bentley/abstract/Colonial",
          "Bentley/bioghist/Colonial",
          "Bentley/scopecontent/Colonial",
          "Bentley/abstract/Colonialism",
          "Bentley/subjects/Colonists",
          "Bentley/bioghist/Colony",
          "Bentley/abstract/Commonwealth of the Philippines",
          "Bentley/bioghist/Commonwealth of the Philippines",
          "Bentley/abstract/Death",
          "Bentley/bioghist/Death",
          "Bentley/scopecontent/Death",
          "Bentley/subjects/Death",
          "Bentley/subjects/Dwellings",
          "Bentley/subjects/Executions",
          "Bentley/bioghist/Hanging",
          "Bentley/bioghist/Hygiene",
          "Bentley/corpnames/Hygiene",
          "Bentley/abstract/Igorot",
          "Bentley/bioghist/Igorot",
          "Bentley/scopecontent/Igorot",
          "Bentley/subjects/Igorot",
          "Bentley/bioghist/Igorots",
          "Bentley/scopecontent/Igorots",
          "Bentley/scopecontent/Indigenous",
          "Bentley/subjects/Indigenous",
          "Bentley/abstract/Insurgency",
          "Bentley/scopecontent/Insurgency",
          "Bentley/bioghist/Insurgent",
          "Bentley/bioghist/Insurrection",
          "Bentley/scopecontent/Moros",
          "Bentley/abstract/Native",
          "Bentley/bioghist/Native",
          "Bentley/scopecontent/Native",
          "Bentley/abstract/Non-Christian",
          "Bentley/bioghist/Non-Christian",
          "Bentley/abstract/Philippine Islands",
          "Bentley/bioghist/Philippine Islands",
          "Bentley/scopecontent/Philippine Islands",
          "Bentley/subjects/Plantations",
          "Bentley/bioghist/Race",
          "Bentley/corpnames/Race",
          "Bentley/subjects/Race",
          "Bentley/bioghist/Remains",
          "Bentley/scopecontent/Remains",
          "Bentley/bioghist/Settlers",
          "Bentley/scopecontent/Settlers",
          "Bentley/scopecontent/Slavery",
          "Bentley/bioghist/Territory",
          "Bentley/geognames/Tribe",
          "Bentley/subjects/Tribe",
          "Bentley/bioghist/Tribes",
          "Bentley/scopecontent/Tribes",
          "Bentley/abstract/Type",
          "Bentley/bioghist/Type",
          "Bentley/scopecontent/Type",
          "Bentley/bioghist/Types",
          "Bentley/scopecontent/Types",
          "Bentley/abstract",
          "Bentley/bioghist",
          "Bentley/corpnames",
          "Bentley/geognames",
          "Bentley/scopecontent",
          "Bentley/subjects",
          "Bentley"
         ],
         "labels": [
          "Colonial",
          "Colonial",
          "Colonial",
          "Colonialism",
          "Colonists",
          "Colony",
          "Commonwealth of the Philippines",
          "Commonwealth of the Philippines",
          "Death",
          "Death",
          "Death",
          "Death",
          "Dwellings",
          "Executions",
          "Hanging",
          "Hygiene",
          "Hygiene",
          "Igorot",
          "Igorot",
          "Igorot",
          "Igorot",
          "Igorots",
          "Igorots",
          "Indigenous",
          "Indigenous",
          "Insurgency",
          "Insurgency",
          "Insurgent",
          "Insurrection",
          "Moros",
          "Native",
          "Native",
          "Native",
          "Non-Christian",
          "Non-Christian",
          "Philippine Islands",
          "Philippine Islands",
          "Philippine Islands",
          "Plantations",
          "Race",
          "Race",
          "Race",
          "Remains",
          "Remains",
          "Settlers",
          "Settlers",
          "Slavery",
          "Territory",
          "Tribe",
          "Tribe",
          "Tribes",
          "Tribes",
          "Type",
          "Type",
          "Type",
          "Types",
          "Types",
          "abstract",
          "bioghist",
          "corpnames",
          "geognames",
          "scopecontent",
          "subjects",
          "Bentley"
         ],
         "marker": {
          "coloraxis": "coloraxis",
          "colors": [
           1,
           2,
           2,
           1,
           2,
           1,
           1,
           2,
           1,
           39,
           8,
           3,
           19,
           1,
           1,
           3,
           1,
           2,
           4,
           8,
           1,
           3,
           2,
           2,
           1,
           1,
           1,
           2,
           1,
           1,
           2,
           16,
           3,
           1,
           1,
           6,
           13,
           14,
           1,
           2,
           2,
           1,
           2,
           3,
           1,
           1,
           1,
           2,
           3,
           1,
           1,
           1,
           1,
           2,
           1,
           4,
           4,
           3,
           19.901960784313726,
           1.6666666666666667,
           3,
           7.230769230769231,
           12.666666666666666,
           13.772946859903382
          ]
         },
         "name": "",
         "parents": [
          "Bentley/abstract",
          "Bentley/bioghist",
          "Bentley/scopecontent",
          "Bentley/abstract",
          "Bentley/subjects",
          "Bentley/bioghist",
          "Bentley/abstract",
          "Bentley/bioghist",
          "Bentley/abstract",
          "Bentley/bioghist",
          "Bentley/scopecontent",
          "Bentley/subjects",
          "Bentley/subjects",
          "Bentley/subjects",
          "Bentley/bioghist",
          "Bentley/bioghist",
          "Bentley/corpnames",
          "Bentley/abstract",
          "Bentley/bioghist",
          "Bentley/scopecontent",
          "Bentley/subjects",
          "Bentley/bioghist",
          "Bentley/scopecontent",
          "Bentley/scopecontent",
          "Bentley/subjects",
          "Bentley/abstract",
          "Bentley/scopecontent",
          "Bentley/bioghist",
          "Bentley/bioghist",
          "Bentley/scopecontent",
          "Bentley/abstract",
          "Bentley/bioghist",
          "Bentley/scopecontent",
          "Bentley/abstract",
          "Bentley/bioghist",
          "Bentley/abstract",
          "Bentley/bioghist",
          "Bentley/scopecontent",
          "Bentley/subjects",
          "Bentley/bioghist",
          "Bentley/corpnames",
          "Bentley/subjects",
          "Bentley/bioghist",
          "Bentley/scopecontent",
          "Bentley/bioghist",
          "Bentley/scopecontent",
          "Bentley/scopecontent",
          "Bentley/bioghist",
          "Bentley/geognames",
          "Bentley/subjects",
          "Bentley/bioghist",
          "Bentley/scopecontent",
          "Bentley/abstract",
          "Bentley/bioghist",
          "Bentley/scopecontent",
          "Bentley/bioghist",
          "Bentley/scopecontent",
          "Bentley",
          "Bentley",
          "Bentley",
          "Bentley",
          "Bentley",
          "Bentley",
          ""
         ],
         "type": "treemap",
         "values": [
          1,
          2,
          2,
          1,
          2,
          1,
          1,
          2,
          1,
          39,
          8,
          3,
          19,
          1,
          1,
          3,
          1,
          2,
          4,
          8,
          1,
          3,
          2,
          2,
          1,
          1,
          1,
          2,
          1,
          1,
          2,
          16,
          3,
          1,
          1,
          6,
          13,
          14,
          1,
          2,
          2,
          1,
          2,
          3,
          1,
          1,
          1,
          2,
          3,
          1,
          1,
          1,
          1,
          2,
          1,
          4,
          4,
          17,
          102,
          3,
          3,
          52,
          30,
          207
         ]
        }
       ],
       "layout": {
        "coloraxis": {
         "colorbar": {
          "title": {
           "text": "color"
          }
         },
         "colorscale": [
          [
           0,
           "rgb(255,255,217)"
          ],
          [
           0.125,
           "rgb(237,248,177)"
          ],
          [
           0.25,
           "rgb(199,233,180)"
          ],
          [
           0.375,
           "rgb(127,205,187)"
          ],
          [
           0.5,
           "rgb(65,182,196)"
          ],
          [
           0.625,
           "rgb(29,145,192)"
          ],
          [
           0.75,
           "rgb(34,94,168)"
          ],
          [
           0.875,
           "rgb(37,52,148)"
          ],
          [
           1,
           "rgb(8,29,88)"
          ]
         ]
        },
        "height": 800,
        "legend": {
         "tracegroupgap": 0
        },
        "margin": {
         "t": 60
        },
        "template": {
         "data": {
          "bar": [
           {
            "error_x": {
             "color": "#2a3f5f"
            },
            "error_y": {
             "color": "#2a3f5f"
            },
            "marker": {
             "line": {
              "color": "#E5ECF6",
              "width": 0.5
             },
             "pattern": {
              "fillmode": "overlay",
              "size": 10,
              "solidity": 0.2
             }
            },
            "type": "bar"
           }
          ],
          "barpolar": [
           {
            "marker": {
             "line": {
              "color": "#E5ECF6",
              "width": 0.5
             },
             "pattern": {
              "fillmode": "overlay",
              "size": 10,
              "solidity": 0.2
             }
            },
            "type": "barpolar"
           }
          ],
          "carpet": [
           {
            "aaxis": {
             "endlinecolor": "#2a3f5f",
             "gridcolor": "white",
             "linecolor": "white",
             "minorgridcolor": "white",
             "startlinecolor": "#2a3f5f"
            },
            "baxis": {
             "endlinecolor": "#2a3f5f",
             "gridcolor": "white",
             "linecolor": "white",
             "minorgridcolor": "white",
             "startlinecolor": "#2a3f5f"
            },
            "type": "carpet"
           }
          ],
          "choropleth": [
           {
            "colorbar": {
             "outlinewidth": 0,
             "ticks": ""
            },
            "type": "choropleth"
           }
          ],
          "contour": [
           {
            "colorbar": {
             "outlinewidth": 0,
             "ticks": ""
            },
            "colorscale": [
             [
              0,
              "#0d0887"
             ],
             [
              0.1111111111111111,
              "#46039f"
             ],
             [
              0.2222222222222222,
              "#7201a8"
             ],
             [
              0.3333333333333333,
              "#9c179e"
             ],
             [
              0.4444444444444444,
              "#bd3786"
             ],
             [
              0.5555555555555556,
              "#d8576b"
             ],
             [
              0.6666666666666666,
              "#ed7953"
             ],
             [
              0.7777777777777778,
              "#fb9f3a"
             ],
             [
              0.8888888888888888,
              "#fdca26"
             ],
             [
              1,
              "#f0f921"
             ]
            ],
            "type": "contour"
           }
          ],
          "contourcarpet": [
           {
            "colorbar": {
             "outlinewidth": 0,
             "ticks": ""
            },
            "type": "contourcarpet"
           }
          ],
          "heatmap": [
           {
            "colorbar": {
             "outlinewidth": 0,
             "ticks": ""
            },
            "colorscale": [
             [
              0,
              "#0d0887"
             ],
             [
              0.1111111111111111,
              "#46039f"
             ],
             [
              0.2222222222222222,
              "#7201a8"
             ],
             [
              0.3333333333333333,
              "#9c179e"
             ],
             [
              0.4444444444444444,
              "#bd3786"
             ],
             [
              0.5555555555555556,
              "#d8576b"
             ],
             [
              0.6666666666666666,
              "#ed7953"
             ],
             [
              0.7777777777777778,
              "#fb9f3a"
             ],
             [
              0.8888888888888888,
              "#fdca26"
             ],
             [
              1,
              "#f0f921"
             ]
            ],
            "type": "heatmap"
           }
          ],
          "heatmapgl": [
           {
            "colorbar": {
             "outlinewidth": 0,
             "ticks": ""
            },
            "colorscale": [
             [
              0,
              "#0d0887"
             ],
             [
              0.1111111111111111,
              "#46039f"
             ],
             [
              0.2222222222222222,
              "#7201a8"
             ],
             [
              0.3333333333333333,
              "#9c179e"
             ],
             [
              0.4444444444444444,
              "#bd3786"
             ],
             [
              0.5555555555555556,
              "#d8576b"
             ],
             [
              0.6666666666666666,
              "#ed7953"
             ],
             [
              0.7777777777777778,
              "#fb9f3a"
             ],
             [
              0.8888888888888888,
              "#fdca26"
             ],
             [
              1,
              "#f0f921"
             ]
            ],
            "type": "heatmapgl"
           }
          ],
          "histogram": [
           {
            "marker": {
             "pattern": {
              "fillmode": "overlay",
              "size": 10,
              "solidity": 0.2
             }
            },
            "type": "histogram"
           }
          ],
          "histogram2d": [
           {
            "colorbar": {
             "outlinewidth": 0,
             "ticks": ""
            },
            "colorscale": [
             [
              0,
              "#0d0887"
             ],
             [
              0.1111111111111111,
              "#46039f"
             ],
             [
              0.2222222222222222,
              "#7201a8"
             ],
             [
              0.3333333333333333,
              "#9c179e"
             ],
             [
              0.4444444444444444,
              "#bd3786"
             ],
             [
              0.5555555555555556,
              "#d8576b"
             ],
             [
              0.6666666666666666,
              "#ed7953"
             ],
             [
              0.7777777777777778,
              "#fb9f3a"
             ],
             [
              0.8888888888888888,
              "#fdca26"
             ],
             [
              1,
              "#f0f921"
             ]
            ],
            "type": "histogram2d"
           }
          ],
          "histogram2dcontour": [
           {
            "colorbar": {
             "outlinewidth": 0,
             "ticks": ""
            },
            "colorscale": [
             [
              0,
              "#0d0887"
             ],
             [
              0.1111111111111111,
              "#46039f"
             ],
             [
              0.2222222222222222,
              "#7201a8"
             ],
             [
              0.3333333333333333,
              "#9c179e"
             ],
             [
              0.4444444444444444,
              "#bd3786"
             ],
             [
              0.5555555555555556,
              "#d8576b"
             ],
             [
              0.6666666666666666,
              "#ed7953"
             ],
             [
              0.7777777777777778,
              "#fb9f3a"
             ],
             [
              0.8888888888888888,
              "#fdca26"
             ],
             [
              1,
              "#f0f921"
             ]
            ],
            "type": "histogram2dcontour"
           }
          ],
          "mesh3d": [
           {
            "colorbar": {
             "outlinewidth": 0,
             "ticks": ""
            },
            "type": "mesh3d"
           }
          ],
          "parcoords": [
           {
            "line": {
             "colorbar": {
              "outlinewidth": 0,
              "ticks": ""
             }
            },
            "type": "parcoords"
           }
          ],
          "pie": [
           {
            "automargin": true,
            "type": "pie"
           }
          ],
          "scatter": [
           {
            "fillpattern": {
             "fillmode": "overlay",
             "size": 10,
             "solidity": 0.2
            },
            "type": "scatter"
           }
          ],
          "scatter3d": [
           {
            "line": {
             "colorbar": {
              "outlinewidth": 0,
              "ticks": ""
             }
            },
            "marker": {
             "colorbar": {
              "outlinewidth": 0,
              "ticks": ""
             }
            },
            "type": "scatter3d"
           }
          ],
          "scattercarpet": [
           {
            "marker": {
             "colorbar": {
              "outlinewidth": 0,
              "ticks": ""
             }
            },
            "type": "scattercarpet"
           }
          ],
          "scattergeo": [
           {
            "marker": {
             "colorbar": {
              "outlinewidth": 0,
              "ticks": ""
             }
            },
            "type": "scattergeo"
           }
          ],
          "scattergl": [
           {
            "marker": {
             "colorbar": {
              "outlinewidth": 0,
              "ticks": ""
             }
            },
            "type": "scattergl"
           }
          ],
          "scattermapbox": [
           {
            "marker": {
             "colorbar": {
              "outlinewidth": 0,
              "ticks": ""
             }
            },
            "type": "scattermapbox"
           }
          ],
          "scatterpolar": [
           {
            "marker": {
             "colorbar": {
              "outlinewidth": 0,
              "ticks": ""
             }
            },
            "type": "scatterpolar"
           }
          ],
          "scatterpolargl": [
           {
            "marker": {
             "colorbar": {
              "outlinewidth": 0,
              "ticks": ""
             }
            },
            "type": "scatterpolargl"
           }
          ],
          "scatterternary": [
           {
            "marker": {
             "colorbar": {
              "outlinewidth": 0,
              "ticks": ""
             }
            },
            "type": "scatterternary"
           }
          ],
          "surface": [
           {
            "colorbar": {
             "outlinewidth": 0,
             "ticks": ""
            },
            "colorscale": [
             [
              0,
              "#0d0887"
             ],
             [
              0.1111111111111111,
              "#46039f"
             ],
             [
              0.2222222222222222,
              "#7201a8"
             ],
             [
              0.3333333333333333,
              "#9c179e"
             ],
             [
              0.4444444444444444,
              "#bd3786"
             ],
             [
              0.5555555555555556,
              "#d8576b"
             ],
             [
              0.6666666666666666,
              "#ed7953"
             ],
             [
              0.7777777777777778,
              "#fb9f3a"
             ],
             [
              0.8888888888888888,
              "#fdca26"
             ],
             [
              1,
              "#f0f921"
             ]
            ],
            "type": "surface"
           }
          ],
          "table": [
           {
            "cells": {
             "fill": {
              "color": "#EBF0F8"
             },
             "line": {
              "color": "white"
             }
            },
            "header": {
             "fill": {
              "color": "#C8D4E3"
             },
             "line": {
              "color": "white"
             }
            },
            "type": "table"
           }
          ]
         },
         "layout": {
          "annotationdefaults": {
           "arrowcolor": "#2a3f5f",
           "arrowhead": 0,
           "arrowwidth": 1
          },
          "autotypenumbers": "strict",
          "coloraxis": {
           "colorbar": {
            "outlinewidth": 0,
            "ticks": ""
           }
          },
          "colorscale": {
           "diverging": [
            [
             0,
             "#8e0152"
            ],
            [
             0.1,
             "#c51b7d"
            ],
            [
             0.2,
             "#de77ae"
            ],
            [
             0.3,
             "#f1b6da"
            ],
            [
             0.4,
             "#fde0ef"
            ],
            [
             0.5,
             "#f7f7f7"
            ],
            [
             0.6,
             "#e6f5d0"
            ],
            [
             0.7,
             "#b8e186"
            ],
            [
             0.8,
             "#7fbc41"
            ],
            [
             0.9,
             "#4d9221"
            ],
            [
             1,
             "#276419"
            ]
           ],
           "sequential": [
            [
             0,
             "#0d0887"
            ],
            [
             0.1111111111111111,
             "#46039f"
            ],
            [
             0.2222222222222222,
             "#7201a8"
            ],
            [
             0.3333333333333333,
             "#9c179e"
            ],
            [
             0.4444444444444444,
             "#bd3786"
            ],
            [
             0.5555555555555556,
             "#d8576b"
            ],
            [
             0.6666666666666666,
             "#ed7953"
            ],
            [
             0.7777777777777778,
             "#fb9f3a"
            ],
            [
             0.8888888888888888,
             "#fdca26"
            ],
            [
             1,
             "#f0f921"
            ]
           ],
           "sequentialminus": [
            [
             0,
             "#0d0887"
            ],
            [
             0.1111111111111111,
             "#46039f"
            ],
            [
             0.2222222222222222,
             "#7201a8"
            ],
            [
             0.3333333333333333,
             "#9c179e"
            ],
            [
             0.4444444444444444,
             "#bd3786"
            ],
            [
             0.5555555555555556,
             "#d8576b"
            ],
            [
             0.6666666666666666,
             "#ed7953"
            ],
            [
             0.7777777777777778,
             "#fb9f3a"
            ],
            [
             0.8888888888888888,
             "#fdca26"
            ],
            [
             1,
             "#f0f921"
            ]
           ]
          },
          "colorway": [
           "#636efa",
           "#EF553B",
           "#00cc96",
           "#ab63fa",
           "#FFA15A",
           "#19d3f3",
           "#FF6692",
           "#B6E880",
           "#FF97FF",
           "#FECB52"
          ],
          "font": {
           "color": "#2a3f5f"
          },
          "geo": {
           "bgcolor": "white",
           "lakecolor": "white",
           "landcolor": "#E5ECF6",
           "showlakes": true,
           "showland": true,
           "subunitcolor": "white"
          },
          "hoverlabel": {
           "align": "left"
          },
          "hovermode": "closest",
          "mapbox": {
           "style": "light"
          },
          "paper_bgcolor": "white",
          "plot_bgcolor": "#E5ECF6",
          "polar": {
           "angularaxis": {
            "gridcolor": "white",
            "linecolor": "white",
            "ticks": ""
           },
           "bgcolor": "#E5ECF6",
           "radialaxis": {
            "gridcolor": "white",
            "linecolor": "white",
            "ticks": ""
           }
          },
          "scene": {
           "xaxis": {
            "backgroundcolor": "#E5ECF6",
            "gridcolor": "white",
            "gridwidth": 2,
            "linecolor": "white",
            "showbackground": true,
            "ticks": "",
            "zerolinecolor": "white"
           },
           "yaxis": {
            "backgroundcolor": "#E5ECF6",
            "gridcolor": "white",
            "gridwidth": 2,
            "linecolor": "white",
            "showbackground": true,
            "ticks": "",
            "zerolinecolor": "white"
           },
           "zaxis": {
            "backgroundcolor": "#E5ECF6",
            "gridcolor": "white",
            "gridwidth": 2,
            "linecolor": "white",
            "showbackground": true,
            "ticks": "",
            "zerolinecolor": "white"
           }
          },
          "shapedefaults": {
           "line": {
            "color": "#2a3f5f"
           }
          },
          "ternary": {
           "aaxis": {
            "gridcolor": "white",
            "linecolor": "white",
            "ticks": ""
           },
           "baxis": {
            "gridcolor": "white",
            "linecolor": "white",
            "ticks": ""
           },
           "bgcolor": "#E5ECF6",
           "caxis": {
            "gridcolor": "white",
            "linecolor": "white",
            "ticks": ""
           }
          },
          "title": {
           "x": 0.05
          },
          "xaxis": {
           "automargin": true,
           "gridcolor": "white",
           "linecolor": "white",
           "ticks": "",
           "title": {
            "standoff": 15
           },
           "zerolinecolor": "white",
           "zerolinewidth": 2
          },
          "yaxis": {
           "automargin": true,
           "gridcolor": "white",
           "linecolor": "white",
           "ticks": "",
           "title": {
            "standoff": 15
           },
           "zerolinecolor": "white",
           "zerolinewidth": 2
          }
         }
        },
        "width": 1500
       }
      }
     },
     "metadata": {},
     "output_type": "display_data"
    }
   ],
   "source": [
    "# Add a dummy color column\n",
    "all_subsection_term_frequencies['color'] = all_subsection_term_frequencies['Term_Frequency']\n",
    "\n",
    "# Treemap - color scale\n",
    "fig = px.treemap(all_subsection_term_frequencies, path=['Source', 'Subsection', 'Term'], values='Term_Frequency',\n",
    "                 color='color', color_continuous_scale='ylgnbu')\n",
    "fig.update_layout(width=1500, height=800)\n",
    "fig.show()"
   ]
  },
  {
   "cell_type": "markdown",
   "metadata": {},
   "source": [
    "## Sunburst visualization\n",
    "\n",
    "The sunburst visualization is similarly useful for visualizing components in a hierarchy.\n",
    "In this case, the added benefit of the subsections of each layer of the circle\n",
    "give a sense of proportion of the whole group. So, for example, in this case, one may note that nearly half of the potentially problematic terms occur in the `bioghist`\n",
    "note. \n",
    "\n",
    "In the second example, the EAD tag is used as the central component, or level of\n",
    "first division for the hierarchy. Given that this visualization presumes\n",
    "a knowledge of the EAD tags and terminology, we provisionally described\n",
    "this as an \"archivist's view\".\n",
    "\n",
    "The third example places the potentially problematic terms at the center.\n",
    "In this example, we suggested this might be a \"community view\" since it focuses\n",
    "on the potentially problematic terms, which may be useful starting points\n",
    "for discussion with community members who are interested in how certain terms\n",
    "are used by the archives, how frequently they occur, and potentially in which\n",
    "finding aids they may be most prevalent."
   ]
  },
  {
   "cell_type": "code",
   "execution_count": 22,
   "metadata": {},
   "outputs": [
    {
     "data": {
      "application/vnd.plotly.v1+json": {
       "config": {
        "plotlyServerURL": "https://plot.ly"
       },
       "data": [
        {
         "branchvalues": "total",
         "customdata": [
          [
           1
          ],
          [
           2
          ],
          [
           2
          ],
          [
           1
          ],
          [
           2
          ],
          [
           1
          ],
          [
           1
          ],
          [
           2
          ],
          [
           1
          ],
          [
           39
          ],
          [
           8
          ],
          [
           3
          ],
          [
           19
          ],
          [
           1
          ],
          [
           1
          ],
          [
           3
          ],
          [
           1
          ],
          [
           2
          ],
          [
           4
          ],
          [
           8
          ],
          [
           1
          ],
          [
           3
          ],
          [
           2
          ],
          [
           2
          ],
          [
           1
          ],
          [
           1
          ],
          [
           1
          ],
          [
           2
          ],
          [
           1
          ],
          [
           1
          ],
          [
           2
          ],
          [
           16
          ],
          [
           3
          ],
          [
           1
          ],
          [
           1
          ],
          [
           6
          ],
          [
           13
          ],
          [
           14
          ],
          [
           1
          ],
          [
           2
          ],
          [
           2
          ],
          [
           1
          ],
          [
           2
          ],
          [
           3
          ],
          [
           1
          ],
          [
           1
          ],
          [
           1
          ],
          [
           2
          ],
          [
           3
          ],
          [
           1
          ],
          [
           1
          ],
          [
           1
          ],
          [
           1
          ],
          [
           2
          ],
          [
           1
          ],
          [
           4
          ],
          [
           4
          ],
          [
           3
          ],
          [
           19.901960784313726
          ],
          [
           1.6666666666666667
          ],
          [
           3
          ],
          [
           7.230769230769231
          ],
          [
           12.666666666666666
          ],
          [
           13.772946859903382
          ]
         ],
         "domain": {
          "x": [
           0,
           1
          ],
          "y": [
           0,
           1
          ]
         },
         "hovertemplate": "labels=%{label}<br>Term_Frequency_sum=%{value}<br>parent=%{parent}<br>id=%{id}<br>Term_Frequency=%{color}<extra></extra>",
         "ids": [
          "Bentley/abstract/Colonial",
          "Bentley/bioghist/Colonial",
          "Bentley/scopecontent/Colonial",
          "Bentley/abstract/Colonialism",
          "Bentley/subjects/Colonists",
          "Bentley/bioghist/Colony",
          "Bentley/abstract/Commonwealth of the Philippines",
          "Bentley/bioghist/Commonwealth of the Philippines",
          "Bentley/abstract/Death",
          "Bentley/bioghist/Death",
          "Bentley/scopecontent/Death",
          "Bentley/subjects/Death",
          "Bentley/subjects/Dwellings",
          "Bentley/subjects/Executions",
          "Bentley/bioghist/Hanging",
          "Bentley/bioghist/Hygiene",
          "Bentley/corpnames/Hygiene",
          "Bentley/abstract/Igorot",
          "Bentley/bioghist/Igorot",
          "Bentley/scopecontent/Igorot",
          "Bentley/subjects/Igorot",
          "Bentley/bioghist/Igorots",
          "Bentley/scopecontent/Igorots",
          "Bentley/scopecontent/Indigenous",
          "Bentley/subjects/Indigenous",
          "Bentley/abstract/Insurgency",
          "Bentley/scopecontent/Insurgency",
          "Bentley/bioghist/Insurgent",
          "Bentley/bioghist/Insurrection",
          "Bentley/scopecontent/Moros",
          "Bentley/abstract/Native",
          "Bentley/bioghist/Native",
          "Bentley/scopecontent/Native",
          "Bentley/abstract/Non-Christian",
          "Bentley/bioghist/Non-Christian",
          "Bentley/abstract/Philippine Islands",
          "Bentley/bioghist/Philippine Islands",
          "Bentley/scopecontent/Philippine Islands",
          "Bentley/subjects/Plantations",
          "Bentley/bioghist/Race",
          "Bentley/corpnames/Race",
          "Bentley/subjects/Race",
          "Bentley/bioghist/Remains",
          "Bentley/scopecontent/Remains",
          "Bentley/bioghist/Settlers",
          "Bentley/scopecontent/Settlers",
          "Bentley/scopecontent/Slavery",
          "Bentley/bioghist/Territory",
          "Bentley/geognames/Tribe",
          "Bentley/subjects/Tribe",
          "Bentley/bioghist/Tribes",
          "Bentley/scopecontent/Tribes",
          "Bentley/abstract/Type",
          "Bentley/bioghist/Type",
          "Bentley/scopecontent/Type",
          "Bentley/bioghist/Types",
          "Bentley/scopecontent/Types",
          "Bentley/abstract",
          "Bentley/bioghist",
          "Bentley/corpnames",
          "Bentley/geognames",
          "Bentley/scopecontent",
          "Bentley/subjects",
          "Bentley"
         ],
         "labels": [
          "Colonial",
          "Colonial",
          "Colonial",
          "Colonialism",
          "Colonists",
          "Colony",
          "Commonwealth of the Philippines",
          "Commonwealth of the Philippines",
          "Death",
          "Death",
          "Death",
          "Death",
          "Dwellings",
          "Executions",
          "Hanging",
          "Hygiene",
          "Hygiene",
          "Igorot",
          "Igorot",
          "Igorot",
          "Igorot",
          "Igorots",
          "Igorots",
          "Indigenous",
          "Indigenous",
          "Insurgency",
          "Insurgency",
          "Insurgent",
          "Insurrection",
          "Moros",
          "Native",
          "Native",
          "Native",
          "Non-Christian",
          "Non-Christian",
          "Philippine Islands",
          "Philippine Islands",
          "Philippine Islands",
          "Plantations",
          "Race",
          "Race",
          "Race",
          "Remains",
          "Remains",
          "Settlers",
          "Settlers",
          "Slavery",
          "Territory",
          "Tribe",
          "Tribe",
          "Tribes",
          "Tribes",
          "Type",
          "Type",
          "Type",
          "Types",
          "Types",
          "abstract",
          "bioghist",
          "corpnames",
          "geognames",
          "scopecontent",
          "subjects",
          "Bentley"
         ],
         "marker": {
          "coloraxis": "coloraxis",
          "colors": [
           1,
           2,
           2,
           1,
           2,
           1,
           1,
           2,
           1,
           39,
           8,
           3,
           19,
           1,
           1,
           3,
           1,
           2,
           4,
           8,
           1,
           3,
           2,
           2,
           1,
           1,
           1,
           2,
           1,
           1,
           2,
           16,
           3,
           1,
           1,
           6,
           13,
           14,
           1,
           2,
           2,
           1,
           2,
           3,
           1,
           1,
           1,
           2,
           3,
           1,
           1,
           1,
           1,
           2,
           1,
           4,
           4,
           3,
           19.901960784313726,
           1.6666666666666667,
           3,
           7.230769230769231,
           12.666666666666666,
           13.772946859903382
          ]
         },
         "name": "",
         "parents": [
          "Bentley/abstract",
          "Bentley/bioghist",
          "Bentley/scopecontent",
          "Bentley/abstract",
          "Bentley/subjects",
          "Bentley/bioghist",
          "Bentley/abstract",
          "Bentley/bioghist",
          "Bentley/abstract",
          "Bentley/bioghist",
          "Bentley/scopecontent",
          "Bentley/subjects",
          "Bentley/subjects",
          "Bentley/subjects",
          "Bentley/bioghist",
          "Bentley/bioghist",
          "Bentley/corpnames",
          "Bentley/abstract",
          "Bentley/bioghist",
          "Bentley/scopecontent",
          "Bentley/subjects",
          "Bentley/bioghist",
          "Bentley/scopecontent",
          "Bentley/scopecontent",
          "Bentley/subjects",
          "Bentley/abstract",
          "Bentley/scopecontent",
          "Bentley/bioghist",
          "Bentley/bioghist",
          "Bentley/scopecontent",
          "Bentley/abstract",
          "Bentley/bioghist",
          "Bentley/scopecontent",
          "Bentley/abstract",
          "Bentley/bioghist",
          "Bentley/abstract",
          "Bentley/bioghist",
          "Bentley/scopecontent",
          "Bentley/subjects",
          "Bentley/bioghist",
          "Bentley/corpnames",
          "Bentley/subjects",
          "Bentley/bioghist",
          "Bentley/scopecontent",
          "Bentley/bioghist",
          "Bentley/scopecontent",
          "Bentley/scopecontent",
          "Bentley/bioghist",
          "Bentley/geognames",
          "Bentley/subjects",
          "Bentley/bioghist",
          "Bentley/scopecontent",
          "Bentley/abstract",
          "Bentley/bioghist",
          "Bentley/scopecontent",
          "Bentley/bioghist",
          "Bentley/scopecontent",
          "Bentley",
          "Bentley",
          "Bentley",
          "Bentley",
          "Bentley",
          "Bentley",
          ""
         ],
         "type": "sunburst",
         "values": [
          1,
          2,
          2,
          1,
          2,
          1,
          1,
          2,
          1,
          39,
          8,
          3,
          19,
          1,
          1,
          3,
          1,
          2,
          4,
          8,
          1,
          3,
          2,
          2,
          1,
          1,
          1,
          2,
          1,
          1,
          2,
          16,
          3,
          1,
          1,
          6,
          13,
          14,
          1,
          2,
          2,
          1,
          2,
          3,
          1,
          1,
          1,
          2,
          3,
          1,
          1,
          1,
          1,
          2,
          1,
          4,
          4,
          17,
          102,
          3,
          3,
          52,
          30,
          207
         ]
        }
       ],
       "layout": {
        "coloraxis": {
         "colorbar": {
          "title": {
           "text": "Term_Frequency"
          }
         },
         "colorscale": [
          [
           0,
           "rgb(255,255,217)"
          ],
          [
           0.125,
           "rgb(237,248,177)"
          ],
          [
           0.25,
           "rgb(199,233,180)"
          ],
          [
           0.375,
           "rgb(127,205,187)"
          ],
          [
           0.5,
           "rgb(65,182,196)"
          ],
          [
           0.625,
           "rgb(29,145,192)"
          ],
          [
           0.75,
           "rgb(34,94,168)"
          ],
          [
           0.875,
           "rgb(37,52,148)"
          ],
          [
           1,
           "rgb(8,29,88)"
          ]
         ]
        },
        "height": 800,
        "legend": {
         "tracegroupgap": 0
        },
        "margin": {
         "t": 60
        },
        "template": {
         "data": {
          "bar": [
           {
            "error_x": {
             "color": "#2a3f5f"
            },
            "error_y": {
             "color": "#2a3f5f"
            },
            "marker": {
             "line": {
              "color": "#E5ECF6",
              "width": 0.5
             },
             "pattern": {
              "fillmode": "overlay",
              "size": 10,
              "solidity": 0.2
             }
            },
            "type": "bar"
           }
          ],
          "barpolar": [
           {
            "marker": {
             "line": {
              "color": "#E5ECF6",
              "width": 0.5
             },
             "pattern": {
              "fillmode": "overlay",
              "size": 10,
              "solidity": 0.2
             }
            },
            "type": "barpolar"
           }
          ],
          "carpet": [
           {
            "aaxis": {
             "endlinecolor": "#2a3f5f",
             "gridcolor": "white",
             "linecolor": "white",
             "minorgridcolor": "white",
             "startlinecolor": "#2a3f5f"
            },
            "baxis": {
             "endlinecolor": "#2a3f5f",
             "gridcolor": "white",
             "linecolor": "white",
             "minorgridcolor": "white",
             "startlinecolor": "#2a3f5f"
            },
            "type": "carpet"
           }
          ],
          "choropleth": [
           {
            "colorbar": {
             "outlinewidth": 0,
             "ticks": ""
            },
            "type": "choropleth"
           }
          ],
          "contour": [
           {
            "colorbar": {
             "outlinewidth": 0,
             "ticks": ""
            },
            "colorscale": [
             [
              0,
              "#0d0887"
             ],
             [
              0.1111111111111111,
              "#46039f"
             ],
             [
              0.2222222222222222,
              "#7201a8"
             ],
             [
              0.3333333333333333,
              "#9c179e"
             ],
             [
              0.4444444444444444,
              "#bd3786"
             ],
             [
              0.5555555555555556,
              "#d8576b"
             ],
             [
              0.6666666666666666,
              "#ed7953"
             ],
             [
              0.7777777777777778,
              "#fb9f3a"
             ],
             [
              0.8888888888888888,
              "#fdca26"
             ],
             [
              1,
              "#f0f921"
             ]
            ],
            "type": "contour"
           }
          ],
          "contourcarpet": [
           {
            "colorbar": {
             "outlinewidth": 0,
             "ticks": ""
            },
            "type": "contourcarpet"
           }
          ],
          "heatmap": [
           {
            "colorbar": {
             "outlinewidth": 0,
             "ticks": ""
            },
            "colorscale": [
             [
              0,
              "#0d0887"
             ],
             [
              0.1111111111111111,
              "#46039f"
             ],
             [
              0.2222222222222222,
              "#7201a8"
             ],
             [
              0.3333333333333333,
              "#9c179e"
             ],
             [
              0.4444444444444444,
              "#bd3786"
             ],
             [
              0.5555555555555556,
              "#d8576b"
             ],
             [
              0.6666666666666666,
              "#ed7953"
             ],
             [
              0.7777777777777778,
              "#fb9f3a"
             ],
             [
              0.8888888888888888,
              "#fdca26"
             ],
             [
              1,
              "#f0f921"
             ]
            ],
            "type": "heatmap"
           }
          ],
          "heatmapgl": [
           {
            "colorbar": {
             "outlinewidth": 0,
             "ticks": ""
            },
            "colorscale": [
             [
              0,
              "#0d0887"
             ],
             [
              0.1111111111111111,
              "#46039f"
             ],
             [
              0.2222222222222222,
              "#7201a8"
             ],
             [
              0.3333333333333333,
              "#9c179e"
             ],
             [
              0.4444444444444444,
              "#bd3786"
             ],
             [
              0.5555555555555556,
              "#d8576b"
             ],
             [
              0.6666666666666666,
              "#ed7953"
             ],
             [
              0.7777777777777778,
              "#fb9f3a"
             ],
             [
              0.8888888888888888,
              "#fdca26"
             ],
             [
              1,
              "#f0f921"
             ]
            ],
            "type": "heatmapgl"
           }
          ],
          "histogram": [
           {
            "marker": {
             "pattern": {
              "fillmode": "overlay",
              "size": 10,
              "solidity": 0.2
             }
            },
            "type": "histogram"
           }
          ],
          "histogram2d": [
           {
            "colorbar": {
             "outlinewidth": 0,
             "ticks": ""
            },
            "colorscale": [
             [
              0,
              "#0d0887"
             ],
             [
              0.1111111111111111,
              "#46039f"
             ],
             [
              0.2222222222222222,
              "#7201a8"
             ],
             [
              0.3333333333333333,
              "#9c179e"
             ],
             [
              0.4444444444444444,
              "#bd3786"
             ],
             [
              0.5555555555555556,
              "#d8576b"
             ],
             [
              0.6666666666666666,
              "#ed7953"
             ],
             [
              0.7777777777777778,
              "#fb9f3a"
             ],
             [
              0.8888888888888888,
              "#fdca26"
             ],
             [
              1,
              "#f0f921"
             ]
            ],
            "type": "histogram2d"
           }
          ],
          "histogram2dcontour": [
           {
            "colorbar": {
             "outlinewidth": 0,
             "ticks": ""
            },
            "colorscale": [
             [
              0,
              "#0d0887"
             ],
             [
              0.1111111111111111,
              "#46039f"
             ],
             [
              0.2222222222222222,
              "#7201a8"
             ],
             [
              0.3333333333333333,
              "#9c179e"
             ],
             [
              0.4444444444444444,
              "#bd3786"
             ],
             [
              0.5555555555555556,
              "#d8576b"
             ],
             [
              0.6666666666666666,
              "#ed7953"
             ],
             [
              0.7777777777777778,
              "#fb9f3a"
             ],
             [
              0.8888888888888888,
              "#fdca26"
             ],
             [
              1,
              "#f0f921"
             ]
            ],
            "type": "histogram2dcontour"
           }
          ],
          "mesh3d": [
           {
            "colorbar": {
             "outlinewidth": 0,
             "ticks": ""
            },
            "type": "mesh3d"
           }
          ],
          "parcoords": [
           {
            "line": {
             "colorbar": {
              "outlinewidth": 0,
              "ticks": ""
             }
            },
            "type": "parcoords"
           }
          ],
          "pie": [
           {
            "automargin": true,
            "type": "pie"
           }
          ],
          "scatter": [
           {
            "fillpattern": {
             "fillmode": "overlay",
             "size": 10,
             "solidity": 0.2
            },
            "type": "scatter"
           }
          ],
          "scatter3d": [
           {
            "line": {
             "colorbar": {
              "outlinewidth": 0,
              "ticks": ""
             }
            },
            "marker": {
             "colorbar": {
              "outlinewidth": 0,
              "ticks": ""
             }
            },
            "type": "scatter3d"
           }
          ],
          "scattercarpet": [
           {
            "marker": {
             "colorbar": {
              "outlinewidth": 0,
              "ticks": ""
             }
            },
            "type": "scattercarpet"
           }
          ],
          "scattergeo": [
           {
            "marker": {
             "colorbar": {
              "outlinewidth": 0,
              "ticks": ""
             }
            },
            "type": "scattergeo"
           }
          ],
          "scattergl": [
           {
            "marker": {
             "colorbar": {
              "outlinewidth": 0,
              "ticks": ""
             }
            },
            "type": "scattergl"
           }
          ],
          "scattermapbox": [
           {
            "marker": {
             "colorbar": {
              "outlinewidth": 0,
              "ticks": ""
             }
            },
            "type": "scattermapbox"
           }
          ],
          "scatterpolar": [
           {
            "marker": {
             "colorbar": {
              "outlinewidth": 0,
              "ticks": ""
             }
            },
            "type": "scatterpolar"
           }
          ],
          "scatterpolargl": [
           {
            "marker": {
             "colorbar": {
              "outlinewidth": 0,
              "ticks": ""
             }
            },
            "type": "scatterpolargl"
           }
          ],
          "scatterternary": [
           {
            "marker": {
             "colorbar": {
              "outlinewidth": 0,
              "ticks": ""
             }
            },
            "type": "scatterternary"
           }
          ],
          "surface": [
           {
            "colorbar": {
             "outlinewidth": 0,
             "ticks": ""
            },
            "colorscale": [
             [
              0,
              "#0d0887"
             ],
             [
              0.1111111111111111,
              "#46039f"
             ],
             [
              0.2222222222222222,
              "#7201a8"
             ],
             [
              0.3333333333333333,
              "#9c179e"
             ],
             [
              0.4444444444444444,
              "#bd3786"
             ],
             [
              0.5555555555555556,
              "#d8576b"
             ],
             [
              0.6666666666666666,
              "#ed7953"
             ],
             [
              0.7777777777777778,
              "#fb9f3a"
             ],
             [
              0.8888888888888888,
              "#fdca26"
             ],
             [
              1,
              "#f0f921"
             ]
            ],
            "type": "surface"
           }
          ],
          "table": [
           {
            "cells": {
             "fill": {
              "color": "#EBF0F8"
             },
             "line": {
              "color": "white"
             }
            },
            "header": {
             "fill": {
              "color": "#C8D4E3"
             },
             "line": {
              "color": "white"
             }
            },
            "type": "table"
           }
          ]
         },
         "layout": {
          "annotationdefaults": {
           "arrowcolor": "#2a3f5f",
           "arrowhead": 0,
           "arrowwidth": 1
          },
          "autotypenumbers": "strict",
          "coloraxis": {
           "colorbar": {
            "outlinewidth": 0,
            "ticks": ""
           }
          },
          "colorscale": {
           "diverging": [
            [
             0,
             "#8e0152"
            ],
            [
             0.1,
             "#c51b7d"
            ],
            [
             0.2,
             "#de77ae"
            ],
            [
             0.3,
             "#f1b6da"
            ],
            [
             0.4,
             "#fde0ef"
            ],
            [
             0.5,
             "#f7f7f7"
            ],
            [
             0.6,
             "#e6f5d0"
            ],
            [
             0.7,
             "#b8e186"
            ],
            [
             0.8,
             "#7fbc41"
            ],
            [
             0.9,
             "#4d9221"
            ],
            [
             1,
             "#276419"
            ]
           ],
           "sequential": [
            [
             0,
             "#0d0887"
            ],
            [
             0.1111111111111111,
             "#46039f"
            ],
            [
             0.2222222222222222,
             "#7201a8"
            ],
            [
             0.3333333333333333,
             "#9c179e"
            ],
            [
             0.4444444444444444,
             "#bd3786"
            ],
            [
             0.5555555555555556,
             "#d8576b"
            ],
            [
             0.6666666666666666,
             "#ed7953"
            ],
            [
             0.7777777777777778,
             "#fb9f3a"
            ],
            [
             0.8888888888888888,
             "#fdca26"
            ],
            [
             1,
             "#f0f921"
            ]
           ],
           "sequentialminus": [
            [
             0,
             "#0d0887"
            ],
            [
             0.1111111111111111,
             "#46039f"
            ],
            [
             0.2222222222222222,
             "#7201a8"
            ],
            [
             0.3333333333333333,
             "#9c179e"
            ],
            [
             0.4444444444444444,
             "#bd3786"
            ],
            [
             0.5555555555555556,
             "#d8576b"
            ],
            [
             0.6666666666666666,
             "#ed7953"
            ],
            [
             0.7777777777777778,
             "#fb9f3a"
            ],
            [
             0.8888888888888888,
             "#fdca26"
            ],
            [
             1,
             "#f0f921"
            ]
           ]
          },
          "colorway": [
           "#636efa",
           "#EF553B",
           "#00cc96",
           "#ab63fa",
           "#FFA15A",
           "#19d3f3",
           "#FF6692",
           "#B6E880",
           "#FF97FF",
           "#FECB52"
          ],
          "font": {
           "color": "#2a3f5f"
          },
          "geo": {
           "bgcolor": "white",
           "lakecolor": "white",
           "landcolor": "#E5ECF6",
           "showlakes": true,
           "showland": true,
           "subunitcolor": "white"
          },
          "hoverlabel": {
           "align": "left"
          },
          "hovermode": "closest",
          "mapbox": {
           "style": "light"
          },
          "paper_bgcolor": "white",
          "plot_bgcolor": "#E5ECF6",
          "polar": {
           "angularaxis": {
            "gridcolor": "white",
            "linecolor": "white",
            "ticks": ""
           },
           "bgcolor": "#E5ECF6",
           "radialaxis": {
            "gridcolor": "white",
            "linecolor": "white",
            "ticks": ""
           }
          },
          "scene": {
           "xaxis": {
            "backgroundcolor": "#E5ECF6",
            "gridcolor": "white",
            "gridwidth": 2,
            "linecolor": "white",
            "showbackground": true,
            "ticks": "",
            "zerolinecolor": "white"
           },
           "yaxis": {
            "backgroundcolor": "#E5ECF6",
            "gridcolor": "white",
            "gridwidth": 2,
            "linecolor": "white",
            "showbackground": true,
            "ticks": "",
            "zerolinecolor": "white"
           },
           "zaxis": {
            "backgroundcolor": "#E5ECF6",
            "gridcolor": "white",
            "gridwidth": 2,
            "linecolor": "white",
            "showbackground": true,
            "ticks": "",
            "zerolinecolor": "white"
           }
          },
          "shapedefaults": {
           "line": {
            "color": "#2a3f5f"
           }
          },
          "ternary": {
           "aaxis": {
            "gridcolor": "white",
            "linecolor": "white",
            "ticks": ""
           },
           "baxis": {
            "gridcolor": "white",
            "linecolor": "white",
            "ticks": ""
           },
           "bgcolor": "#E5ECF6",
           "caxis": {
            "gridcolor": "white",
            "linecolor": "white",
            "ticks": ""
           }
          },
          "title": {
           "x": 0.05
          },
          "xaxis": {
           "automargin": true,
           "gridcolor": "white",
           "linecolor": "white",
           "ticks": "",
           "title": {
            "standoff": 15
           },
           "zerolinecolor": "white",
           "zerolinewidth": 2
          },
          "yaxis": {
           "automargin": true,
           "gridcolor": "white",
           "linecolor": "white",
           "ticks": "",
           "title": {
            "standoff": 15
           },
           "zerolinecolor": "white",
           "zerolinewidth": 2
          }
         }
        },
        "title": {
         "text": "Sunburst with holding repository as central component"
        },
        "width": 1300
       }
      }
     },
     "metadata": {},
     "output_type": "display_data"
    }
   ],
   "source": [
    "# Sunburst - color scale\n",
    "fig = px.sunburst(all_subsection_term_frequencies, path=['Source', 'Subsection', 'Term'], values='Term_Frequency', \n",
    "                  color='Term_Frequency', color_continuous_scale='ylgnbu')\n",
    "fig.update_layout(width=1300, height=800, title='Sunburst with holding repository as central component')\n",
    "fig.show()"
   ]
  },
  {
   "cell_type": "code",
   "execution_count": 23,
   "metadata": {},
   "outputs": [
    {
     "data": {
      "application/vnd.plotly.v1+json": {
       "config": {
        "plotlyServerURL": "https://plot.ly"
       },
       "data": [
        {
         "branchvalues": "total",
         "customdata": [
          [
           1
          ],
          [
           2
          ],
          [
           2
          ],
          [
           1
          ],
          [
           2
          ],
          [
           1
          ],
          [
           1
          ],
          [
           2
          ],
          [
           1
          ],
          [
           39
          ],
          [
           8
          ],
          [
           3
          ],
          [
           19
          ],
          [
           1
          ],
          [
           1
          ],
          [
           3
          ],
          [
           1
          ],
          [
           2
          ],
          [
           4
          ],
          [
           8
          ],
          [
           1
          ],
          [
           3
          ],
          [
           2
          ],
          [
           2
          ],
          [
           1
          ],
          [
           1
          ],
          [
           1
          ],
          [
           2
          ],
          [
           1
          ],
          [
           1
          ],
          [
           2
          ],
          [
           16
          ],
          [
           3
          ],
          [
           1
          ],
          [
           1
          ],
          [
           6
          ],
          [
           13
          ],
          [
           14
          ],
          [
           1
          ],
          [
           2
          ],
          [
           2
          ],
          [
           1
          ],
          [
           2
          ],
          [
           3
          ],
          [
           1
          ],
          [
           1
          ],
          [
           1
          ],
          [
           2
          ],
          [
           3
          ],
          [
           1
          ],
          [
           1
          ],
          [
           1
          ],
          [
           1
          ],
          [
           2
          ],
          [
           1
          ],
          [
           4
          ],
          [
           4
          ],
          [
           1
          ],
          [
           2
          ],
          [
           2
          ],
          [
           1
          ],
          [
           2
          ],
          [
           1
          ],
          [
           1
          ],
          [
           2
          ],
          [
           1
          ],
          [
           39
          ],
          [
           8
          ],
          [
           3
          ],
          [
           19
          ],
          [
           1
          ],
          [
           1
          ],
          [
           3
          ],
          [
           1
          ],
          [
           2
          ],
          [
           4
          ],
          [
           8
          ],
          [
           1
          ],
          [
           3
          ],
          [
           2
          ],
          [
           2
          ],
          [
           1
          ],
          [
           1
          ],
          [
           1
          ],
          [
           2
          ],
          [
           1
          ],
          [
           1
          ],
          [
           2
          ],
          [
           16
          ],
          [
           3
          ],
          [
           1
          ],
          [
           1
          ],
          [
           6
          ],
          [
           13
          ],
          [
           14
          ],
          [
           1
          ],
          [
           2
          ],
          [
           2
          ],
          [
           1
          ],
          [
           2
          ],
          [
           3
          ],
          [
           1
          ],
          [
           1
          ],
          [
           1
          ],
          [
           2
          ],
          [
           3
          ],
          [
           1
          ],
          [
           1
          ],
          [
           1
          ],
          [
           1
          ],
          [
           2
          ],
          [
           1
          ],
          [
           4
          ],
          [
           4
          ],
          [
           3
          ],
          [
           19.901960784313726
          ],
          [
           1.6666666666666667
          ],
          [
           3
          ],
          [
           7.230769230769231
          ],
          [
           12.666666666666666
          ]
         ],
         "domain": {
          "x": [
           0,
           1
          ],
          "y": [
           0,
           1
          ]
         },
         "hovertemplate": "labels=%{label}<br>Term_Frequency_sum=%{value}<br>parent=%{parent}<br>id=%{id}<br>Term_Frequency=%{color}<extra></extra>",
         "ids": [
          "abstract/Colonial/Bentley",
          "bioghist/Colonial/Bentley",
          "scopecontent/Colonial/Bentley",
          "abstract/Colonialism/Bentley",
          "subjects/Colonists/Bentley",
          "bioghist/Colony/Bentley",
          "abstract/Commonwealth of the Philippines/Bentley",
          "bioghist/Commonwealth of the Philippines/Bentley",
          "abstract/Death/Bentley",
          "bioghist/Death/Bentley",
          "scopecontent/Death/Bentley",
          "subjects/Death/Bentley",
          "subjects/Dwellings/Bentley",
          "subjects/Executions/Bentley",
          "bioghist/Hanging/Bentley",
          "bioghist/Hygiene/Bentley",
          "corpnames/Hygiene/Bentley",
          "abstract/Igorot/Bentley",
          "bioghist/Igorot/Bentley",
          "scopecontent/Igorot/Bentley",
          "subjects/Igorot/Bentley",
          "bioghist/Igorots/Bentley",
          "scopecontent/Igorots/Bentley",
          "scopecontent/Indigenous/Bentley",
          "subjects/Indigenous/Bentley",
          "abstract/Insurgency/Bentley",
          "scopecontent/Insurgency/Bentley",
          "bioghist/Insurgent/Bentley",
          "bioghist/Insurrection/Bentley",
          "scopecontent/Moros/Bentley",
          "abstract/Native/Bentley",
          "bioghist/Native/Bentley",
          "scopecontent/Native/Bentley",
          "abstract/Non-Christian/Bentley",
          "bioghist/Non-Christian/Bentley",
          "abstract/Philippine Islands/Bentley",
          "bioghist/Philippine Islands/Bentley",
          "scopecontent/Philippine Islands/Bentley",
          "subjects/Plantations/Bentley",
          "bioghist/Race/Bentley",
          "corpnames/Race/Bentley",
          "subjects/Race/Bentley",
          "bioghist/Remains/Bentley",
          "scopecontent/Remains/Bentley",
          "bioghist/Settlers/Bentley",
          "scopecontent/Settlers/Bentley",
          "scopecontent/Slavery/Bentley",
          "bioghist/Territory/Bentley",
          "geognames/Tribe/Bentley",
          "subjects/Tribe/Bentley",
          "bioghist/Tribes/Bentley",
          "scopecontent/Tribes/Bentley",
          "abstract/Type/Bentley",
          "bioghist/Type/Bentley",
          "scopecontent/Type/Bentley",
          "bioghist/Types/Bentley",
          "scopecontent/Types/Bentley",
          "abstract/Colonial",
          "bioghist/Colonial",
          "scopecontent/Colonial",
          "abstract/Colonialism",
          "subjects/Colonists",
          "bioghist/Colony",
          "abstract/Commonwealth of the Philippines",
          "bioghist/Commonwealth of the Philippines",
          "abstract/Death",
          "bioghist/Death",
          "scopecontent/Death",
          "subjects/Death",
          "subjects/Dwellings",
          "subjects/Executions",
          "bioghist/Hanging",
          "bioghist/Hygiene",
          "corpnames/Hygiene",
          "abstract/Igorot",
          "bioghist/Igorot",
          "scopecontent/Igorot",
          "subjects/Igorot",
          "bioghist/Igorots",
          "scopecontent/Igorots",
          "scopecontent/Indigenous",
          "subjects/Indigenous",
          "abstract/Insurgency",
          "scopecontent/Insurgency",
          "bioghist/Insurgent",
          "bioghist/Insurrection",
          "scopecontent/Moros",
          "abstract/Native",
          "bioghist/Native",
          "scopecontent/Native",
          "abstract/Non-Christian",
          "bioghist/Non-Christian",
          "abstract/Philippine Islands",
          "bioghist/Philippine Islands",
          "scopecontent/Philippine Islands",
          "subjects/Plantations",
          "bioghist/Race",
          "corpnames/Race",
          "subjects/Race",
          "bioghist/Remains",
          "scopecontent/Remains",
          "bioghist/Settlers",
          "scopecontent/Settlers",
          "scopecontent/Slavery",
          "bioghist/Territory",
          "geognames/Tribe",
          "subjects/Tribe",
          "bioghist/Tribes",
          "scopecontent/Tribes",
          "abstract/Type",
          "bioghist/Type",
          "scopecontent/Type",
          "bioghist/Types",
          "scopecontent/Types",
          "abstract",
          "bioghist",
          "corpnames",
          "geognames",
          "scopecontent",
          "subjects"
         ],
         "labels": [
          "Bentley",
          "Bentley",
          "Bentley",
          "Bentley",
          "Bentley",
          "Bentley",
          "Bentley",
          "Bentley",
          "Bentley",
          "Bentley",
          "Bentley",
          "Bentley",
          "Bentley",
          "Bentley",
          "Bentley",
          "Bentley",
          "Bentley",
          "Bentley",
          "Bentley",
          "Bentley",
          "Bentley",
          "Bentley",
          "Bentley",
          "Bentley",
          "Bentley",
          "Bentley",
          "Bentley",
          "Bentley",
          "Bentley",
          "Bentley",
          "Bentley",
          "Bentley",
          "Bentley",
          "Bentley",
          "Bentley",
          "Bentley",
          "Bentley",
          "Bentley",
          "Bentley",
          "Bentley",
          "Bentley",
          "Bentley",
          "Bentley",
          "Bentley",
          "Bentley",
          "Bentley",
          "Bentley",
          "Bentley",
          "Bentley",
          "Bentley",
          "Bentley",
          "Bentley",
          "Bentley",
          "Bentley",
          "Bentley",
          "Bentley",
          "Bentley",
          "Colonial",
          "Colonial",
          "Colonial",
          "Colonialism",
          "Colonists",
          "Colony",
          "Commonwealth of the Philippines",
          "Commonwealth of the Philippines",
          "Death",
          "Death",
          "Death",
          "Death",
          "Dwellings",
          "Executions",
          "Hanging",
          "Hygiene",
          "Hygiene",
          "Igorot",
          "Igorot",
          "Igorot",
          "Igorot",
          "Igorots",
          "Igorots",
          "Indigenous",
          "Indigenous",
          "Insurgency",
          "Insurgency",
          "Insurgent",
          "Insurrection",
          "Moros",
          "Native",
          "Native",
          "Native",
          "Non-Christian",
          "Non-Christian",
          "Philippine Islands",
          "Philippine Islands",
          "Philippine Islands",
          "Plantations",
          "Race",
          "Race",
          "Race",
          "Remains",
          "Remains",
          "Settlers",
          "Settlers",
          "Slavery",
          "Territory",
          "Tribe",
          "Tribe",
          "Tribes",
          "Tribes",
          "Type",
          "Type",
          "Type",
          "Types",
          "Types",
          "abstract",
          "bioghist",
          "corpnames",
          "geognames",
          "scopecontent",
          "subjects"
         ],
         "marker": {
          "coloraxis": "coloraxis",
          "colors": [
           1,
           2,
           2,
           1,
           2,
           1,
           1,
           2,
           1,
           39,
           8,
           3,
           19,
           1,
           1,
           3,
           1,
           2,
           4,
           8,
           1,
           3,
           2,
           2,
           1,
           1,
           1,
           2,
           1,
           1,
           2,
           16,
           3,
           1,
           1,
           6,
           13,
           14,
           1,
           2,
           2,
           1,
           2,
           3,
           1,
           1,
           1,
           2,
           3,
           1,
           1,
           1,
           1,
           2,
           1,
           4,
           4,
           1,
           2,
           2,
           1,
           2,
           1,
           1,
           2,
           1,
           39,
           8,
           3,
           19,
           1,
           1,
           3,
           1,
           2,
           4,
           8,
           1,
           3,
           2,
           2,
           1,
           1,
           1,
           2,
           1,
           1,
           2,
           16,
           3,
           1,
           1,
           6,
           13,
           14,
           1,
           2,
           2,
           1,
           2,
           3,
           1,
           1,
           1,
           2,
           3,
           1,
           1,
           1,
           1,
           2,
           1,
           4,
           4,
           3,
           19.901960784313726,
           1.6666666666666667,
           3,
           7.230769230769231,
           12.666666666666666
          ]
         },
         "name": "",
         "parents": [
          "abstract/Colonial",
          "bioghist/Colonial",
          "scopecontent/Colonial",
          "abstract/Colonialism",
          "subjects/Colonists",
          "bioghist/Colony",
          "abstract/Commonwealth of the Philippines",
          "bioghist/Commonwealth of the Philippines",
          "abstract/Death",
          "bioghist/Death",
          "scopecontent/Death",
          "subjects/Death",
          "subjects/Dwellings",
          "subjects/Executions",
          "bioghist/Hanging",
          "bioghist/Hygiene",
          "corpnames/Hygiene",
          "abstract/Igorot",
          "bioghist/Igorot",
          "scopecontent/Igorot",
          "subjects/Igorot",
          "bioghist/Igorots",
          "scopecontent/Igorots",
          "scopecontent/Indigenous",
          "subjects/Indigenous",
          "abstract/Insurgency",
          "scopecontent/Insurgency",
          "bioghist/Insurgent",
          "bioghist/Insurrection",
          "scopecontent/Moros",
          "abstract/Native",
          "bioghist/Native",
          "scopecontent/Native",
          "abstract/Non-Christian",
          "bioghist/Non-Christian",
          "abstract/Philippine Islands",
          "bioghist/Philippine Islands",
          "scopecontent/Philippine Islands",
          "subjects/Plantations",
          "bioghist/Race",
          "corpnames/Race",
          "subjects/Race",
          "bioghist/Remains",
          "scopecontent/Remains",
          "bioghist/Settlers",
          "scopecontent/Settlers",
          "scopecontent/Slavery",
          "bioghist/Territory",
          "geognames/Tribe",
          "subjects/Tribe",
          "bioghist/Tribes",
          "scopecontent/Tribes",
          "abstract/Type",
          "bioghist/Type",
          "scopecontent/Type",
          "bioghist/Types",
          "scopecontent/Types",
          "abstract",
          "bioghist",
          "scopecontent",
          "abstract",
          "subjects",
          "bioghist",
          "abstract",
          "bioghist",
          "abstract",
          "bioghist",
          "scopecontent",
          "subjects",
          "subjects",
          "subjects",
          "bioghist",
          "bioghist",
          "corpnames",
          "abstract",
          "bioghist",
          "scopecontent",
          "subjects",
          "bioghist",
          "scopecontent",
          "scopecontent",
          "subjects",
          "abstract",
          "scopecontent",
          "bioghist",
          "bioghist",
          "scopecontent",
          "abstract",
          "bioghist",
          "scopecontent",
          "abstract",
          "bioghist",
          "abstract",
          "bioghist",
          "scopecontent",
          "subjects",
          "bioghist",
          "corpnames",
          "subjects",
          "bioghist",
          "scopecontent",
          "bioghist",
          "scopecontent",
          "scopecontent",
          "bioghist",
          "geognames",
          "subjects",
          "bioghist",
          "scopecontent",
          "abstract",
          "bioghist",
          "scopecontent",
          "bioghist",
          "scopecontent",
          "",
          "",
          "",
          "",
          "",
          ""
         ],
         "type": "sunburst",
         "values": [
          1,
          2,
          2,
          1,
          2,
          1,
          1,
          2,
          1,
          39,
          8,
          3,
          19,
          1,
          1,
          3,
          1,
          2,
          4,
          8,
          1,
          3,
          2,
          2,
          1,
          1,
          1,
          2,
          1,
          1,
          2,
          16,
          3,
          1,
          1,
          6,
          13,
          14,
          1,
          2,
          2,
          1,
          2,
          3,
          1,
          1,
          1,
          2,
          3,
          1,
          1,
          1,
          1,
          2,
          1,
          4,
          4,
          1,
          2,
          2,
          1,
          2,
          1,
          1,
          2,
          1,
          39,
          8,
          3,
          19,
          1,
          1,
          3,
          1,
          2,
          4,
          8,
          1,
          3,
          2,
          2,
          1,
          1,
          1,
          2,
          1,
          1,
          2,
          16,
          3,
          1,
          1,
          6,
          13,
          14,
          1,
          2,
          2,
          1,
          2,
          3,
          1,
          1,
          1,
          2,
          3,
          1,
          1,
          1,
          1,
          2,
          1,
          4,
          4,
          17,
          102,
          3,
          3,
          52,
          30
         ]
        }
       ],
       "layout": {
        "coloraxis": {
         "colorbar": {
          "title": {
           "text": "Term_Frequency"
          }
         },
         "colorscale": [
          [
           0,
           "rgb(247,251,255)"
          ],
          [
           0.125,
           "rgb(222,235,247)"
          ],
          [
           0.25,
           "rgb(198,219,239)"
          ],
          [
           0.375,
           "rgb(158,202,225)"
          ],
          [
           0.5,
           "rgb(107,174,214)"
          ],
          [
           0.625,
           "rgb(66,146,198)"
          ],
          [
           0.75,
           "rgb(33,113,181)"
          ],
          [
           0.875,
           "rgb(8,81,156)"
          ],
          [
           1,
           "rgb(8,48,107)"
          ]
         ]
        },
        "height": 800,
        "legend": {
         "tracegroupgap": 0
        },
        "margin": {
         "t": 60
        },
        "template": {
         "data": {
          "bar": [
           {
            "error_x": {
             "color": "#2a3f5f"
            },
            "error_y": {
             "color": "#2a3f5f"
            },
            "marker": {
             "line": {
              "color": "#E5ECF6",
              "width": 0.5
             },
             "pattern": {
              "fillmode": "overlay",
              "size": 10,
              "solidity": 0.2
             }
            },
            "type": "bar"
           }
          ],
          "barpolar": [
           {
            "marker": {
             "line": {
              "color": "#E5ECF6",
              "width": 0.5
             },
             "pattern": {
              "fillmode": "overlay",
              "size": 10,
              "solidity": 0.2
             }
            },
            "type": "barpolar"
           }
          ],
          "carpet": [
           {
            "aaxis": {
             "endlinecolor": "#2a3f5f",
             "gridcolor": "white",
             "linecolor": "white",
             "minorgridcolor": "white",
             "startlinecolor": "#2a3f5f"
            },
            "baxis": {
             "endlinecolor": "#2a3f5f",
             "gridcolor": "white",
             "linecolor": "white",
             "minorgridcolor": "white",
             "startlinecolor": "#2a3f5f"
            },
            "type": "carpet"
           }
          ],
          "choropleth": [
           {
            "colorbar": {
             "outlinewidth": 0,
             "ticks": ""
            },
            "type": "choropleth"
           }
          ],
          "contour": [
           {
            "colorbar": {
             "outlinewidth": 0,
             "ticks": ""
            },
            "colorscale": [
             [
              0,
              "#0d0887"
             ],
             [
              0.1111111111111111,
              "#46039f"
             ],
             [
              0.2222222222222222,
              "#7201a8"
             ],
             [
              0.3333333333333333,
              "#9c179e"
             ],
             [
              0.4444444444444444,
              "#bd3786"
             ],
             [
              0.5555555555555556,
              "#d8576b"
             ],
             [
              0.6666666666666666,
              "#ed7953"
             ],
             [
              0.7777777777777778,
              "#fb9f3a"
             ],
             [
              0.8888888888888888,
              "#fdca26"
             ],
             [
              1,
              "#f0f921"
             ]
            ],
            "type": "contour"
           }
          ],
          "contourcarpet": [
           {
            "colorbar": {
             "outlinewidth": 0,
             "ticks": ""
            },
            "type": "contourcarpet"
           }
          ],
          "heatmap": [
           {
            "colorbar": {
             "outlinewidth": 0,
             "ticks": ""
            },
            "colorscale": [
             [
              0,
              "#0d0887"
             ],
             [
              0.1111111111111111,
              "#46039f"
             ],
             [
              0.2222222222222222,
              "#7201a8"
             ],
             [
              0.3333333333333333,
              "#9c179e"
             ],
             [
              0.4444444444444444,
              "#bd3786"
             ],
             [
              0.5555555555555556,
              "#d8576b"
             ],
             [
              0.6666666666666666,
              "#ed7953"
             ],
             [
              0.7777777777777778,
              "#fb9f3a"
             ],
             [
              0.8888888888888888,
              "#fdca26"
             ],
             [
              1,
              "#f0f921"
             ]
            ],
            "type": "heatmap"
           }
          ],
          "heatmapgl": [
           {
            "colorbar": {
             "outlinewidth": 0,
             "ticks": ""
            },
            "colorscale": [
             [
              0,
              "#0d0887"
             ],
             [
              0.1111111111111111,
              "#46039f"
             ],
             [
              0.2222222222222222,
              "#7201a8"
             ],
             [
              0.3333333333333333,
              "#9c179e"
             ],
             [
              0.4444444444444444,
              "#bd3786"
             ],
             [
              0.5555555555555556,
              "#d8576b"
             ],
             [
              0.6666666666666666,
              "#ed7953"
             ],
             [
              0.7777777777777778,
              "#fb9f3a"
             ],
             [
              0.8888888888888888,
              "#fdca26"
             ],
             [
              1,
              "#f0f921"
             ]
            ],
            "type": "heatmapgl"
           }
          ],
          "histogram": [
           {
            "marker": {
             "pattern": {
              "fillmode": "overlay",
              "size": 10,
              "solidity": 0.2
             }
            },
            "type": "histogram"
           }
          ],
          "histogram2d": [
           {
            "colorbar": {
             "outlinewidth": 0,
             "ticks": ""
            },
            "colorscale": [
             [
              0,
              "#0d0887"
             ],
             [
              0.1111111111111111,
              "#46039f"
             ],
             [
              0.2222222222222222,
              "#7201a8"
             ],
             [
              0.3333333333333333,
              "#9c179e"
             ],
             [
              0.4444444444444444,
              "#bd3786"
             ],
             [
              0.5555555555555556,
              "#d8576b"
             ],
             [
              0.6666666666666666,
              "#ed7953"
             ],
             [
              0.7777777777777778,
              "#fb9f3a"
             ],
             [
              0.8888888888888888,
              "#fdca26"
             ],
             [
              1,
              "#f0f921"
             ]
            ],
            "type": "histogram2d"
           }
          ],
          "histogram2dcontour": [
           {
            "colorbar": {
             "outlinewidth": 0,
             "ticks": ""
            },
            "colorscale": [
             [
              0,
              "#0d0887"
             ],
             [
              0.1111111111111111,
              "#46039f"
             ],
             [
              0.2222222222222222,
              "#7201a8"
             ],
             [
              0.3333333333333333,
              "#9c179e"
             ],
             [
              0.4444444444444444,
              "#bd3786"
             ],
             [
              0.5555555555555556,
              "#d8576b"
             ],
             [
              0.6666666666666666,
              "#ed7953"
             ],
             [
              0.7777777777777778,
              "#fb9f3a"
             ],
             [
              0.8888888888888888,
              "#fdca26"
             ],
             [
              1,
              "#f0f921"
             ]
            ],
            "type": "histogram2dcontour"
           }
          ],
          "mesh3d": [
           {
            "colorbar": {
             "outlinewidth": 0,
             "ticks": ""
            },
            "type": "mesh3d"
           }
          ],
          "parcoords": [
           {
            "line": {
             "colorbar": {
              "outlinewidth": 0,
              "ticks": ""
             }
            },
            "type": "parcoords"
           }
          ],
          "pie": [
           {
            "automargin": true,
            "type": "pie"
           }
          ],
          "scatter": [
           {
            "fillpattern": {
             "fillmode": "overlay",
             "size": 10,
             "solidity": 0.2
            },
            "type": "scatter"
           }
          ],
          "scatter3d": [
           {
            "line": {
             "colorbar": {
              "outlinewidth": 0,
              "ticks": ""
             }
            },
            "marker": {
             "colorbar": {
              "outlinewidth": 0,
              "ticks": ""
             }
            },
            "type": "scatter3d"
           }
          ],
          "scattercarpet": [
           {
            "marker": {
             "colorbar": {
              "outlinewidth": 0,
              "ticks": ""
             }
            },
            "type": "scattercarpet"
           }
          ],
          "scattergeo": [
           {
            "marker": {
             "colorbar": {
              "outlinewidth": 0,
              "ticks": ""
             }
            },
            "type": "scattergeo"
           }
          ],
          "scattergl": [
           {
            "marker": {
             "colorbar": {
              "outlinewidth": 0,
              "ticks": ""
             }
            },
            "type": "scattergl"
           }
          ],
          "scattermapbox": [
           {
            "marker": {
             "colorbar": {
              "outlinewidth": 0,
              "ticks": ""
             }
            },
            "type": "scattermapbox"
           }
          ],
          "scatterpolar": [
           {
            "marker": {
             "colorbar": {
              "outlinewidth": 0,
              "ticks": ""
             }
            },
            "type": "scatterpolar"
           }
          ],
          "scatterpolargl": [
           {
            "marker": {
             "colorbar": {
              "outlinewidth": 0,
              "ticks": ""
             }
            },
            "type": "scatterpolargl"
           }
          ],
          "scatterternary": [
           {
            "marker": {
             "colorbar": {
              "outlinewidth": 0,
              "ticks": ""
             }
            },
            "type": "scatterternary"
           }
          ],
          "surface": [
           {
            "colorbar": {
             "outlinewidth": 0,
             "ticks": ""
            },
            "colorscale": [
             [
              0,
              "#0d0887"
             ],
             [
              0.1111111111111111,
              "#46039f"
             ],
             [
              0.2222222222222222,
              "#7201a8"
             ],
             [
              0.3333333333333333,
              "#9c179e"
             ],
             [
              0.4444444444444444,
              "#bd3786"
             ],
             [
              0.5555555555555556,
              "#d8576b"
             ],
             [
              0.6666666666666666,
              "#ed7953"
             ],
             [
              0.7777777777777778,
              "#fb9f3a"
             ],
             [
              0.8888888888888888,
              "#fdca26"
             ],
             [
              1,
              "#f0f921"
             ]
            ],
            "type": "surface"
           }
          ],
          "table": [
           {
            "cells": {
             "fill": {
              "color": "#EBF0F8"
             },
             "line": {
              "color": "white"
             }
            },
            "header": {
             "fill": {
              "color": "#C8D4E3"
             },
             "line": {
              "color": "white"
             }
            },
            "type": "table"
           }
          ]
         },
         "layout": {
          "annotationdefaults": {
           "arrowcolor": "#2a3f5f",
           "arrowhead": 0,
           "arrowwidth": 1
          },
          "autotypenumbers": "strict",
          "coloraxis": {
           "colorbar": {
            "outlinewidth": 0,
            "ticks": ""
           }
          },
          "colorscale": {
           "diverging": [
            [
             0,
             "#8e0152"
            ],
            [
             0.1,
             "#c51b7d"
            ],
            [
             0.2,
             "#de77ae"
            ],
            [
             0.3,
             "#f1b6da"
            ],
            [
             0.4,
             "#fde0ef"
            ],
            [
             0.5,
             "#f7f7f7"
            ],
            [
             0.6,
             "#e6f5d0"
            ],
            [
             0.7,
             "#b8e186"
            ],
            [
             0.8,
             "#7fbc41"
            ],
            [
             0.9,
             "#4d9221"
            ],
            [
             1,
             "#276419"
            ]
           ],
           "sequential": [
            [
             0,
             "#0d0887"
            ],
            [
             0.1111111111111111,
             "#46039f"
            ],
            [
             0.2222222222222222,
             "#7201a8"
            ],
            [
             0.3333333333333333,
             "#9c179e"
            ],
            [
             0.4444444444444444,
             "#bd3786"
            ],
            [
             0.5555555555555556,
             "#d8576b"
            ],
            [
             0.6666666666666666,
             "#ed7953"
            ],
            [
             0.7777777777777778,
             "#fb9f3a"
            ],
            [
             0.8888888888888888,
             "#fdca26"
            ],
            [
             1,
             "#f0f921"
            ]
           ],
           "sequentialminus": [
            [
             0,
             "#0d0887"
            ],
            [
             0.1111111111111111,
             "#46039f"
            ],
            [
             0.2222222222222222,
             "#7201a8"
            ],
            [
             0.3333333333333333,
             "#9c179e"
            ],
            [
             0.4444444444444444,
             "#bd3786"
            ],
            [
             0.5555555555555556,
             "#d8576b"
            ],
            [
             0.6666666666666666,
             "#ed7953"
            ],
            [
             0.7777777777777778,
             "#fb9f3a"
            ],
            [
             0.8888888888888888,
             "#fdca26"
            ],
            [
             1,
             "#f0f921"
            ]
           ]
          },
          "colorway": [
           "#636efa",
           "#EF553B",
           "#00cc96",
           "#ab63fa",
           "#FFA15A",
           "#19d3f3",
           "#FF6692",
           "#B6E880",
           "#FF97FF",
           "#FECB52"
          ],
          "font": {
           "color": "#2a3f5f"
          },
          "geo": {
           "bgcolor": "white",
           "lakecolor": "white",
           "landcolor": "#E5ECF6",
           "showlakes": true,
           "showland": true,
           "subunitcolor": "white"
          },
          "hoverlabel": {
           "align": "left"
          },
          "hovermode": "closest",
          "mapbox": {
           "style": "light"
          },
          "paper_bgcolor": "white",
          "plot_bgcolor": "#E5ECF6",
          "polar": {
           "angularaxis": {
            "gridcolor": "white",
            "linecolor": "white",
            "ticks": ""
           },
           "bgcolor": "#E5ECF6",
           "radialaxis": {
            "gridcolor": "white",
            "linecolor": "white",
            "ticks": ""
           }
          },
          "scene": {
           "xaxis": {
            "backgroundcolor": "#E5ECF6",
            "gridcolor": "white",
            "gridwidth": 2,
            "linecolor": "white",
            "showbackground": true,
            "ticks": "",
            "zerolinecolor": "white"
           },
           "yaxis": {
            "backgroundcolor": "#E5ECF6",
            "gridcolor": "white",
            "gridwidth": 2,
            "linecolor": "white",
            "showbackground": true,
            "ticks": "",
            "zerolinecolor": "white"
           },
           "zaxis": {
            "backgroundcolor": "#E5ECF6",
            "gridcolor": "white",
            "gridwidth": 2,
            "linecolor": "white",
            "showbackground": true,
            "ticks": "",
            "zerolinecolor": "white"
           }
          },
          "shapedefaults": {
           "line": {
            "color": "#2a3f5f"
           }
          },
          "ternary": {
           "aaxis": {
            "gridcolor": "white",
            "linecolor": "white",
            "ticks": ""
           },
           "baxis": {
            "gridcolor": "white",
            "linecolor": "white",
            "ticks": ""
           },
           "bgcolor": "#E5ECF6",
           "caxis": {
            "gridcolor": "white",
            "linecolor": "white",
            "ticks": ""
           }
          },
          "title": {
           "x": 0.05
          },
          "xaxis": {
           "automargin": true,
           "gridcolor": "white",
           "linecolor": "white",
           "ticks": "",
           "title": {
            "standoff": 15
           },
           "zerolinecolor": "white",
           "zerolinewidth": 2
          },
          "yaxis": {
           "automargin": true,
           "gridcolor": "white",
           "linecolor": "white",
           "ticks": "",
           "title": {
            "standoff": 15
           },
           "zerolinecolor": "white",
           "zerolinewidth": 2
          }
         }
        },
        "title": {
         "text": "Sunburst divided by EAD tag, term, then repository (archivists view?)"
        },
        "width": 1300
       }
      }
     },
     "metadata": {},
     "output_type": "display_data"
    }
   ],
   "source": [
    "# Sunburst - color scale\n",
    "fig = px.sunburst(all_subsection_term_frequencies, path=['Subsection','Term','Source'], values='Term_Frequency', \n",
    "                  color='Term_Frequency', color_continuous_scale='blues')\n",
    "fig.update_layout(width=1300, height=800, title='Sunburst divided by EAD tag, term, then repository (archivists view?)')\n",
    "fig.show()"
   ]
  },
  {
   "cell_type": "code",
   "execution_count": 24,
   "metadata": {},
   "outputs": [
    {
     "data": {
      "application/vnd.plotly.v1+json": {
       "config": {
        "plotlyServerURL": "https://plot.ly"
       },
       "data": [
        {
         "branchvalues": "total",
         "customdata": [
          [
           1
          ],
          [
           1
          ],
          [
           1
          ],
          [
           1
          ],
          [
           2
          ],
          [
           1
          ],
          [
           2
          ],
          [
           1
          ],
          [
           6
          ],
          [
           1
          ],
          [
           2
          ],
          [
           1
          ],
          [
           2
          ],
          [
           39
          ],
          [
           1
          ],
          [
           3
          ],
          [
           4
          ],
          [
           3
          ],
          [
           2
          ],
          [
           1
          ],
          [
           16
          ],
          [
           1
          ],
          [
           13
          ],
          [
           2
          ],
          [
           2
          ],
          [
           1
          ],
          [
           2
          ],
          [
           1
          ],
          [
           2
          ],
          [
           4
          ],
          [
           1
          ],
          [
           2
          ],
          [
           3
          ],
          [
           2
          ],
          [
           8
          ],
          [
           8
          ],
          [
           2
          ],
          [
           2
          ],
          [
           1
          ],
          [
           1
          ],
          [
           3
          ],
          [
           14
          ],
          [
           3
          ],
          [
           1
          ],
          [
           1
          ],
          [
           1
          ],
          [
           1
          ],
          [
           4
          ],
          [
           2
          ],
          [
           3
          ],
          [
           19
          ],
          [
           1
          ],
          [
           1
          ],
          [
           1
          ],
          [
           1
          ],
          [
           1
          ],
          [
           1
          ],
          [
           1.8
          ],
          [
           1
          ],
          [
           2
          ],
          [
           1
          ],
          [
           1.6666666666666667
          ],
          [
           31.274509803921568
          ],
          [
           19
          ],
          [
           1
          ],
          [
           1
          ],
          [
           2.5
          ],
          [
           5.666666666666667
          ],
          [
           2.6
          ],
          [
           1.6666666666666667
          ],
          [
           1
          ],
          [
           2
          ],
          [
           1
          ],
          [
           1
          ],
          [
           12.80952380952381
          ],
          [
           1
          ],
          [
           12.151515151515152
          ],
          [
           1
          ],
          [
           1.8
          ],
          [
           2.6
          ],
          [
           1
          ],
          [
           1
          ],
          [
           2
          ],
          [
           2.5
          ],
          [
           1
          ],
          [
           1.5
          ],
          [
           4
          ],
          [
           1.8
          ],
          [
           1
          ],
          [
           2
          ],
          [
           1
          ],
          [
           1.6666666666666667
          ],
          [
           31.274509803921568
          ],
          [
           19
          ],
          [
           1
          ],
          [
           1
          ],
          [
           2.5
          ],
          [
           5.666666666666667
          ],
          [
           2.6
          ],
          [
           1.6666666666666667
          ],
          [
           1
          ],
          [
           2
          ],
          [
           1
          ],
          [
           1
          ],
          [
           12.80952380952381
          ],
          [
           1
          ],
          [
           12.151515151515152
          ],
          [
           1
          ],
          [
           1.8
          ],
          [
           2.6
          ],
          [
           1
          ],
          [
           1
          ],
          [
           2
          ],
          [
           2.5
          ],
          [
           1
          ],
          [
           1.5
          ],
          [
           4
          ]
         ],
         "domain": {
          "x": [
           0,
           1
          ],
          "y": [
           0,
           1
          ]
         },
         "hovertemplate": "labels=%{label}<br>Term_Frequency_sum=%{value}<br>parent=%{parent}<br>id=%{id}<br>Term_Frequency=%{color}<extra></extra>",
         "ids": [
          "Colonial/Bentley/abstract",
          "Colonialism/Bentley/abstract",
          "Commonwealth of the Philippines/Bentley/abstract",
          "Death/Bentley/abstract",
          "Igorot/Bentley/abstract",
          "Insurgency/Bentley/abstract",
          "Native/Bentley/abstract",
          "Non-Christian/Bentley/abstract",
          "Philippine Islands/Bentley/abstract",
          "Type/Bentley/abstract",
          "Colonial/Bentley/bioghist",
          "Colony/Bentley/bioghist",
          "Commonwealth of the Philippines/Bentley/bioghist",
          "Death/Bentley/bioghist",
          "Hanging/Bentley/bioghist",
          "Hygiene/Bentley/bioghist",
          "Igorot/Bentley/bioghist",
          "Igorots/Bentley/bioghist",
          "Insurgent/Bentley/bioghist",
          "Insurrection/Bentley/bioghist",
          "Native/Bentley/bioghist",
          "Non-Christian/Bentley/bioghist",
          "Philippine Islands/Bentley/bioghist",
          "Race/Bentley/bioghist",
          "Remains/Bentley/bioghist",
          "Settlers/Bentley/bioghist",
          "Territory/Bentley/bioghist",
          "Tribes/Bentley/bioghist",
          "Type/Bentley/bioghist",
          "Types/Bentley/bioghist",
          "Hygiene/Bentley/corpnames",
          "Race/Bentley/corpnames",
          "Tribe/Bentley/geognames",
          "Colonial/Bentley/scopecontent",
          "Death/Bentley/scopecontent",
          "Igorot/Bentley/scopecontent",
          "Igorots/Bentley/scopecontent",
          "Indigenous/Bentley/scopecontent",
          "Insurgency/Bentley/scopecontent",
          "Moros/Bentley/scopecontent",
          "Native/Bentley/scopecontent",
          "Philippine Islands/Bentley/scopecontent",
          "Remains/Bentley/scopecontent",
          "Settlers/Bentley/scopecontent",
          "Slavery/Bentley/scopecontent",
          "Tribes/Bentley/scopecontent",
          "Type/Bentley/scopecontent",
          "Types/Bentley/scopecontent",
          "Colonists/Bentley/subjects",
          "Death/Bentley/subjects",
          "Dwellings/Bentley/subjects",
          "Executions/Bentley/subjects",
          "Igorot/Bentley/subjects",
          "Indigenous/Bentley/subjects",
          "Plantations/Bentley/subjects",
          "Race/Bentley/subjects",
          "Tribe/Bentley/subjects",
          "Colonial/Bentley",
          "Colonialism/Bentley",
          "Colonists/Bentley",
          "Colony/Bentley",
          "Commonwealth of the Philippines/Bentley",
          "Death/Bentley",
          "Dwellings/Bentley",
          "Executions/Bentley",
          "Hanging/Bentley",
          "Hygiene/Bentley",
          "Igorot/Bentley",
          "Igorots/Bentley",
          "Indigenous/Bentley",
          "Insurgency/Bentley",
          "Insurgent/Bentley",
          "Insurrection/Bentley",
          "Moros/Bentley",
          "Native/Bentley",
          "Non-Christian/Bentley",
          "Philippine Islands/Bentley",
          "Plantations/Bentley",
          "Race/Bentley",
          "Remains/Bentley",
          "Settlers/Bentley",
          "Slavery/Bentley",
          "Territory/Bentley",
          "Tribe/Bentley",
          "Tribes/Bentley",
          "Type/Bentley",
          "Types/Bentley",
          "Colonial",
          "Colonialism",
          "Colonists",
          "Colony",
          "Commonwealth of the Philippines",
          "Death",
          "Dwellings",
          "Executions",
          "Hanging",
          "Hygiene",
          "Igorot",
          "Igorots",
          "Indigenous",
          "Insurgency",
          "Insurgent",
          "Insurrection",
          "Moros",
          "Native",
          "Non-Christian",
          "Philippine Islands",
          "Plantations",
          "Race",
          "Remains",
          "Settlers",
          "Slavery",
          "Territory",
          "Tribe",
          "Tribes",
          "Type",
          "Types"
         ],
         "labels": [
          "abstract",
          "abstract",
          "abstract",
          "abstract",
          "abstract",
          "abstract",
          "abstract",
          "abstract",
          "abstract",
          "abstract",
          "bioghist",
          "bioghist",
          "bioghist",
          "bioghist",
          "bioghist",
          "bioghist",
          "bioghist",
          "bioghist",
          "bioghist",
          "bioghist",
          "bioghist",
          "bioghist",
          "bioghist",
          "bioghist",
          "bioghist",
          "bioghist",
          "bioghist",
          "bioghist",
          "bioghist",
          "bioghist",
          "corpnames",
          "corpnames",
          "geognames",
          "scopecontent",
          "scopecontent",
          "scopecontent",
          "scopecontent",
          "scopecontent",
          "scopecontent",
          "scopecontent",
          "scopecontent",
          "scopecontent",
          "scopecontent",
          "scopecontent",
          "scopecontent",
          "scopecontent",
          "scopecontent",
          "scopecontent",
          "subjects",
          "subjects",
          "subjects",
          "subjects",
          "subjects",
          "subjects",
          "subjects",
          "subjects",
          "subjects",
          "Bentley",
          "Bentley",
          "Bentley",
          "Bentley",
          "Bentley",
          "Bentley",
          "Bentley",
          "Bentley",
          "Bentley",
          "Bentley",
          "Bentley",
          "Bentley",
          "Bentley",
          "Bentley",
          "Bentley",
          "Bentley",
          "Bentley",
          "Bentley",
          "Bentley",
          "Bentley",
          "Bentley",
          "Bentley",
          "Bentley",
          "Bentley",
          "Bentley",
          "Bentley",
          "Bentley",
          "Bentley",
          "Bentley",
          "Bentley",
          "Colonial",
          "Colonialism",
          "Colonists",
          "Colony",
          "Commonwealth of the Philippines",
          "Death",
          "Dwellings",
          "Executions",
          "Hanging",
          "Hygiene",
          "Igorot",
          "Igorots",
          "Indigenous",
          "Insurgency",
          "Insurgent",
          "Insurrection",
          "Moros",
          "Native",
          "Non-Christian",
          "Philippine Islands",
          "Plantations",
          "Race",
          "Remains",
          "Settlers",
          "Slavery",
          "Territory",
          "Tribe",
          "Tribes",
          "Type",
          "Types"
         ],
         "marker": {
          "coloraxis": "coloraxis",
          "colors": [
           1,
           1,
           1,
           1,
           2,
           1,
           2,
           1,
           6,
           1,
           2,
           1,
           2,
           39,
           1,
           3,
           4,
           3,
           2,
           1,
           16,
           1,
           13,
           2,
           2,
           1,
           2,
           1,
           2,
           4,
           1,
           2,
           3,
           2,
           8,
           8,
           2,
           2,
           1,
           1,
           3,
           14,
           3,
           1,
           1,
           1,
           1,
           4,
           2,
           3,
           19,
           1,
           1,
           1,
           1,
           1,
           1,
           1.8,
           1,
           2,
           1,
           1.6666666666666667,
           31.274509803921568,
           19,
           1,
           1,
           2.5,
           5.666666666666667,
           2.6,
           1.6666666666666667,
           1,
           2,
           1,
           1,
           12.80952380952381,
           1,
           12.151515151515152,
           1,
           1.8,
           2.6,
           1,
           1,
           2,
           2.5,
           1,
           1.5,
           4,
           1.8,
           1,
           2,
           1,
           1.6666666666666667,
           31.274509803921568,
           19,
           1,
           1,
           2.5,
           5.666666666666667,
           2.6,
           1.6666666666666667,
           1,
           2,
           1,
           1,
           12.80952380952381,
           1,
           12.151515151515152,
           1,
           1.8,
           2.6,
           1,
           1,
           2,
           2.5,
           1,
           1.5,
           4
          ]
         },
         "name": "",
         "parents": [
          "Colonial/Bentley",
          "Colonialism/Bentley",
          "Commonwealth of the Philippines/Bentley",
          "Death/Bentley",
          "Igorot/Bentley",
          "Insurgency/Bentley",
          "Native/Bentley",
          "Non-Christian/Bentley",
          "Philippine Islands/Bentley",
          "Type/Bentley",
          "Colonial/Bentley",
          "Colony/Bentley",
          "Commonwealth of the Philippines/Bentley",
          "Death/Bentley",
          "Hanging/Bentley",
          "Hygiene/Bentley",
          "Igorot/Bentley",
          "Igorots/Bentley",
          "Insurgent/Bentley",
          "Insurrection/Bentley",
          "Native/Bentley",
          "Non-Christian/Bentley",
          "Philippine Islands/Bentley",
          "Race/Bentley",
          "Remains/Bentley",
          "Settlers/Bentley",
          "Territory/Bentley",
          "Tribes/Bentley",
          "Type/Bentley",
          "Types/Bentley",
          "Hygiene/Bentley",
          "Race/Bentley",
          "Tribe/Bentley",
          "Colonial/Bentley",
          "Death/Bentley",
          "Igorot/Bentley",
          "Igorots/Bentley",
          "Indigenous/Bentley",
          "Insurgency/Bentley",
          "Moros/Bentley",
          "Native/Bentley",
          "Philippine Islands/Bentley",
          "Remains/Bentley",
          "Settlers/Bentley",
          "Slavery/Bentley",
          "Tribes/Bentley",
          "Type/Bentley",
          "Types/Bentley",
          "Colonists/Bentley",
          "Death/Bentley",
          "Dwellings/Bentley",
          "Executions/Bentley",
          "Igorot/Bentley",
          "Indigenous/Bentley",
          "Plantations/Bentley",
          "Race/Bentley",
          "Tribe/Bentley",
          "Colonial",
          "Colonialism",
          "Colonists",
          "Colony",
          "Commonwealth of the Philippines",
          "Death",
          "Dwellings",
          "Executions",
          "Hanging",
          "Hygiene",
          "Igorot",
          "Igorots",
          "Indigenous",
          "Insurgency",
          "Insurgent",
          "Insurrection",
          "Moros",
          "Native",
          "Non-Christian",
          "Philippine Islands",
          "Plantations",
          "Race",
          "Remains",
          "Settlers",
          "Slavery",
          "Territory",
          "Tribe",
          "Tribes",
          "Type",
          "Types",
          "",
          "",
          "",
          "",
          "",
          "",
          "",
          "",
          "",
          "",
          "",
          "",
          "",
          "",
          "",
          "",
          "",
          "",
          "",
          "",
          "",
          "",
          "",
          "",
          "",
          "",
          "",
          "",
          "",
          ""
         ],
         "type": "sunburst",
         "values": [
          1,
          1,
          1,
          1,
          2,
          1,
          2,
          1,
          6,
          1,
          2,
          1,
          2,
          39,
          1,
          3,
          4,
          3,
          2,
          1,
          16,
          1,
          13,
          2,
          2,
          1,
          2,
          1,
          2,
          4,
          1,
          2,
          3,
          2,
          8,
          8,
          2,
          2,
          1,
          1,
          3,
          14,
          3,
          1,
          1,
          1,
          1,
          4,
          2,
          3,
          19,
          1,
          1,
          1,
          1,
          1,
          1,
          5,
          1,
          2,
          1,
          3,
          51,
          19,
          1,
          1,
          4,
          15,
          5,
          3,
          2,
          2,
          1,
          1,
          21,
          2,
          33,
          1,
          5,
          5,
          2,
          1,
          2,
          4,
          2,
          4,
          8,
          5,
          1,
          2,
          1,
          3,
          51,
          19,
          1,
          1,
          4,
          15,
          5,
          3,
          2,
          2,
          1,
          1,
          21,
          2,
          33,
          1,
          5,
          5,
          2,
          1,
          2,
          4,
          2,
          4,
          8
         ]
        }
       ],
       "layout": {
        "coloraxis": {
         "colorbar": {
          "title": {
           "text": "Term_Frequency"
          }
         },
         "colorscale": [
          [
           0,
           "rgb(247,251,255)"
          ],
          [
           0.125,
           "rgb(222,235,247)"
          ],
          [
           0.25,
           "rgb(198,219,239)"
          ],
          [
           0.375,
           "rgb(158,202,225)"
          ],
          [
           0.5,
           "rgb(107,174,214)"
          ],
          [
           0.625,
           "rgb(66,146,198)"
          ],
          [
           0.75,
           "rgb(33,113,181)"
          ],
          [
           0.875,
           "rgb(8,81,156)"
          ],
          [
           1,
           "rgb(8,48,107)"
          ]
         ]
        },
        "height": 800,
        "legend": {
         "tracegroupgap": 0
        },
        "margin": {
         "t": 60
        },
        "template": {
         "data": {
          "bar": [
           {
            "error_x": {
             "color": "#2a3f5f"
            },
            "error_y": {
             "color": "#2a3f5f"
            },
            "marker": {
             "line": {
              "color": "#E5ECF6",
              "width": 0.5
             },
             "pattern": {
              "fillmode": "overlay",
              "size": 10,
              "solidity": 0.2
             }
            },
            "type": "bar"
           }
          ],
          "barpolar": [
           {
            "marker": {
             "line": {
              "color": "#E5ECF6",
              "width": 0.5
             },
             "pattern": {
              "fillmode": "overlay",
              "size": 10,
              "solidity": 0.2
             }
            },
            "type": "barpolar"
           }
          ],
          "carpet": [
           {
            "aaxis": {
             "endlinecolor": "#2a3f5f",
             "gridcolor": "white",
             "linecolor": "white",
             "minorgridcolor": "white",
             "startlinecolor": "#2a3f5f"
            },
            "baxis": {
             "endlinecolor": "#2a3f5f",
             "gridcolor": "white",
             "linecolor": "white",
             "minorgridcolor": "white",
             "startlinecolor": "#2a3f5f"
            },
            "type": "carpet"
           }
          ],
          "choropleth": [
           {
            "colorbar": {
             "outlinewidth": 0,
             "ticks": ""
            },
            "type": "choropleth"
           }
          ],
          "contour": [
           {
            "colorbar": {
             "outlinewidth": 0,
             "ticks": ""
            },
            "colorscale": [
             [
              0,
              "#0d0887"
             ],
             [
              0.1111111111111111,
              "#46039f"
             ],
             [
              0.2222222222222222,
              "#7201a8"
             ],
             [
              0.3333333333333333,
              "#9c179e"
             ],
             [
              0.4444444444444444,
              "#bd3786"
             ],
             [
              0.5555555555555556,
              "#d8576b"
             ],
             [
              0.6666666666666666,
              "#ed7953"
             ],
             [
              0.7777777777777778,
              "#fb9f3a"
             ],
             [
              0.8888888888888888,
              "#fdca26"
             ],
             [
              1,
              "#f0f921"
             ]
            ],
            "type": "contour"
           }
          ],
          "contourcarpet": [
           {
            "colorbar": {
             "outlinewidth": 0,
             "ticks": ""
            },
            "type": "contourcarpet"
           }
          ],
          "heatmap": [
           {
            "colorbar": {
             "outlinewidth": 0,
             "ticks": ""
            },
            "colorscale": [
             [
              0,
              "#0d0887"
             ],
             [
              0.1111111111111111,
              "#46039f"
             ],
             [
              0.2222222222222222,
              "#7201a8"
             ],
             [
              0.3333333333333333,
              "#9c179e"
             ],
             [
              0.4444444444444444,
              "#bd3786"
             ],
             [
              0.5555555555555556,
              "#d8576b"
             ],
             [
              0.6666666666666666,
              "#ed7953"
             ],
             [
              0.7777777777777778,
              "#fb9f3a"
             ],
             [
              0.8888888888888888,
              "#fdca26"
             ],
             [
              1,
              "#f0f921"
             ]
            ],
            "type": "heatmap"
           }
          ],
          "heatmapgl": [
           {
            "colorbar": {
             "outlinewidth": 0,
             "ticks": ""
            },
            "colorscale": [
             [
              0,
              "#0d0887"
             ],
             [
              0.1111111111111111,
              "#46039f"
             ],
             [
              0.2222222222222222,
              "#7201a8"
             ],
             [
              0.3333333333333333,
              "#9c179e"
             ],
             [
              0.4444444444444444,
              "#bd3786"
             ],
             [
              0.5555555555555556,
              "#d8576b"
             ],
             [
              0.6666666666666666,
              "#ed7953"
             ],
             [
              0.7777777777777778,
              "#fb9f3a"
             ],
             [
              0.8888888888888888,
              "#fdca26"
             ],
             [
              1,
              "#f0f921"
             ]
            ],
            "type": "heatmapgl"
           }
          ],
          "histogram": [
           {
            "marker": {
             "pattern": {
              "fillmode": "overlay",
              "size": 10,
              "solidity": 0.2
             }
            },
            "type": "histogram"
           }
          ],
          "histogram2d": [
           {
            "colorbar": {
             "outlinewidth": 0,
             "ticks": ""
            },
            "colorscale": [
             [
              0,
              "#0d0887"
             ],
             [
              0.1111111111111111,
              "#46039f"
             ],
             [
              0.2222222222222222,
              "#7201a8"
             ],
             [
              0.3333333333333333,
              "#9c179e"
             ],
             [
              0.4444444444444444,
              "#bd3786"
             ],
             [
              0.5555555555555556,
              "#d8576b"
             ],
             [
              0.6666666666666666,
              "#ed7953"
             ],
             [
              0.7777777777777778,
              "#fb9f3a"
             ],
             [
              0.8888888888888888,
              "#fdca26"
             ],
             [
              1,
              "#f0f921"
             ]
            ],
            "type": "histogram2d"
           }
          ],
          "histogram2dcontour": [
           {
            "colorbar": {
             "outlinewidth": 0,
             "ticks": ""
            },
            "colorscale": [
             [
              0,
              "#0d0887"
             ],
             [
              0.1111111111111111,
              "#46039f"
             ],
             [
              0.2222222222222222,
              "#7201a8"
             ],
             [
              0.3333333333333333,
              "#9c179e"
             ],
             [
              0.4444444444444444,
              "#bd3786"
             ],
             [
              0.5555555555555556,
              "#d8576b"
             ],
             [
              0.6666666666666666,
              "#ed7953"
             ],
             [
              0.7777777777777778,
              "#fb9f3a"
             ],
             [
              0.8888888888888888,
              "#fdca26"
             ],
             [
              1,
              "#f0f921"
             ]
            ],
            "type": "histogram2dcontour"
           }
          ],
          "mesh3d": [
           {
            "colorbar": {
             "outlinewidth": 0,
             "ticks": ""
            },
            "type": "mesh3d"
           }
          ],
          "parcoords": [
           {
            "line": {
             "colorbar": {
              "outlinewidth": 0,
              "ticks": ""
             }
            },
            "type": "parcoords"
           }
          ],
          "pie": [
           {
            "automargin": true,
            "type": "pie"
           }
          ],
          "scatter": [
           {
            "fillpattern": {
             "fillmode": "overlay",
             "size": 10,
             "solidity": 0.2
            },
            "type": "scatter"
           }
          ],
          "scatter3d": [
           {
            "line": {
             "colorbar": {
              "outlinewidth": 0,
              "ticks": ""
             }
            },
            "marker": {
             "colorbar": {
              "outlinewidth": 0,
              "ticks": ""
             }
            },
            "type": "scatter3d"
           }
          ],
          "scattercarpet": [
           {
            "marker": {
             "colorbar": {
              "outlinewidth": 0,
              "ticks": ""
             }
            },
            "type": "scattercarpet"
           }
          ],
          "scattergeo": [
           {
            "marker": {
             "colorbar": {
              "outlinewidth": 0,
              "ticks": ""
             }
            },
            "type": "scattergeo"
           }
          ],
          "scattergl": [
           {
            "marker": {
             "colorbar": {
              "outlinewidth": 0,
              "ticks": ""
             }
            },
            "type": "scattergl"
           }
          ],
          "scattermapbox": [
           {
            "marker": {
             "colorbar": {
              "outlinewidth": 0,
              "ticks": ""
             }
            },
            "type": "scattermapbox"
           }
          ],
          "scatterpolar": [
           {
            "marker": {
             "colorbar": {
              "outlinewidth": 0,
              "ticks": ""
             }
            },
            "type": "scatterpolar"
           }
          ],
          "scatterpolargl": [
           {
            "marker": {
             "colorbar": {
              "outlinewidth": 0,
              "ticks": ""
             }
            },
            "type": "scatterpolargl"
           }
          ],
          "scatterternary": [
           {
            "marker": {
             "colorbar": {
              "outlinewidth": 0,
              "ticks": ""
             }
            },
            "type": "scatterternary"
           }
          ],
          "surface": [
           {
            "colorbar": {
             "outlinewidth": 0,
             "ticks": ""
            },
            "colorscale": [
             [
              0,
              "#0d0887"
             ],
             [
              0.1111111111111111,
              "#46039f"
             ],
             [
              0.2222222222222222,
              "#7201a8"
             ],
             [
              0.3333333333333333,
              "#9c179e"
             ],
             [
              0.4444444444444444,
              "#bd3786"
             ],
             [
              0.5555555555555556,
              "#d8576b"
             ],
             [
              0.6666666666666666,
              "#ed7953"
             ],
             [
              0.7777777777777778,
              "#fb9f3a"
             ],
             [
              0.8888888888888888,
              "#fdca26"
             ],
             [
              1,
              "#f0f921"
             ]
            ],
            "type": "surface"
           }
          ],
          "table": [
           {
            "cells": {
             "fill": {
              "color": "#EBF0F8"
             },
             "line": {
              "color": "white"
             }
            },
            "header": {
             "fill": {
              "color": "#C8D4E3"
             },
             "line": {
              "color": "white"
             }
            },
            "type": "table"
           }
          ]
         },
         "layout": {
          "annotationdefaults": {
           "arrowcolor": "#2a3f5f",
           "arrowhead": 0,
           "arrowwidth": 1
          },
          "autotypenumbers": "strict",
          "coloraxis": {
           "colorbar": {
            "outlinewidth": 0,
            "ticks": ""
           }
          },
          "colorscale": {
           "diverging": [
            [
             0,
             "#8e0152"
            ],
            [
             0.1,
             "#c51b7d"
            ],
            [
             0.2,
             "#de77ae"
            ],
            [
             0.3,
             "#f1b6da"
            ],
            [
             0.4,
             "#fde0ef"
            ],
            [
             0.5,
             "#f7f7f7"
            ],
            [
             0.6,
             "#e6f5d0"
            ],
            [
             0.7,
             "#b8e186"
            ],
            [
             0.8,
             "#7fbc41"
            ],
            [
             0.9,
             "#4d9221"
            ],
            [
             1,
             "#276419"
            ]
           ],
           "sequential": [
            [
             0,
             "#0d0887"
            ],
            [
             0.1111111111111111,
             "#46039f"
            ],
            [
             0.2222222222222222,
             "#7201a8"
            ],
            [
             0.3333333333333333,
             "#9c179e"
            ],
            [
             0.4444444444444444,
             "#bd3786"
            ],
            [
             0.5555555555555556,
             "#d8576b"
            ],
            [
             0.6666666666666666,
             "#ed7953"
            ],
            [
             0.7777777777777778,
             "#fb9f3a"
            ],
            [
             0.8888888888888888,
             "#fdca26"
            ],
            [
             1,
             "#f0f921"
            ]
           ],
           "sequentialminus": [
            [
             0,
             "#0d0887"
            ],
            [
             0.1111111111111111,
             "#46039f"
            ],
            [
             0.2222222222222222,
             "#7201a8"
            ],
            [
             0.3333333333333333,
             "#9c179e"
            ],
            [
             0.4444444444444444,
             "#bd3786"
            ],
            [
             0.5555555555555556,
             "#d8576b"
            ],
            [
             0.6666666666666666,
             "#ed7953"
            ],
            [
             0.7777777777777778,
             "#fb9f3a"
            ],
            [
             0.8888888888888888,
             "#fdca26"
            ],
            [
             1,
             "#f0f921"
            ]
           ]
          },
          "colorway": [
           "#636efa",
           "#EF553B",
           "#00cc96",
           "#ab63fa",
           "#FFA15A",
           "#19d3f3",
           "#FF6692",
           "#B6E880",
           "#FF97FF",
           "#FECB52"
          ],
          "font": {
           "color": "#2a3f5f"
          },
          "geo": {
           "bgcolor": "white",
           "lakecolor": "white",
           "landcolor": "#E5ECF6",
           "showlakes": true,
           "showland": true,
           "subunitcolor": "white"
          },
          "hoverlabel": {
           "align": "left"
          },
          "hovermode": "closest",
          "mapbox": {
           "style": "light"
          },
          "paper_bgcolor": "white",
          "plot_bgcolor": "#E5ECF6",
          "polar": {
           "angularaxis": {
            "gridcolor": "white",
            "linecolor": "white",
            "ticks": ""
           },
           "bgcolor": "#E5ECF6",
           "radialaxis": {
            "gridcolor": "white",
            "linecolor": "white",
            "ticks": ""
           }
          },
          "scene": {
           "xaxis": {
            "backgroundcolor": "#E5ECF6",
            "gridcolor": "white",
            "gridwidth": 2,
            "linecolor": "white",
            "showbackground": true,
            "ticks": "",
            "zerolinecolor": "white"
           },
           "yaxis": {
            "backgroundcolor": "#E5ECF6",
            "gridcolor": "white",
            "gridwidth": 2,
            "linecolor": "white",
            "showbackground": true,
            "ticks": "",
            "zerolinecolor": "white"
           },
           "zaxis": {
            "backgroundcolor": "#E5ECF6",
            "gridcolor": "white",
            "gridwidth": 2,
            "linecolor": "white",
            "showbackground": true,
            "ticks": "",
            "zerolinecolor": "white"
           }
          },
          "shapedefaults": {
           "line": {
            "color": "#2a3f5f"
           }
          },
          "ternary": {
           "aaxis": {
            "gridcolor": "white",
            "linecolor": "white",
            "ticks": ""
           },
           "baxis": {
            "gridcolor": "white",
            "linecolor": "white",
            "ticks": ""
           },
           "bgcolor": "#E5ECF6",
           "caxis": {
            "gridcolor": "white",
            "linecolor": "white",
            "ticks": ""
           }
          },
          "title": {
           "x": 0.05
          },
          "xaxis": {
           "automargin": true,
           "gridcolor": "white",
           "linecolor": "white",
           "ticks": "",
           "title": {
            "standoff": 15
           },
           "zerolinecolor": "white",
           "zerolinewidth": 2
          },
          "yaxis": {
           "automargin": true,
           "gridcolor": "white",
           "linecolor": "white",
           "ticks": "",
           "title": {
            "standoff": 15
           },
           "zerolinecolor": "white",
           "zerolinewidth": 2
          }
         }
        },
        "title": {
         "text": "Sunburst divided by term, then repository, then EAD tag (\"community\" view?)"
        },
        "width": 1300
       }
      }
     },
     "metadata": {},
     "output_type": "display_data"
    }
   ],
   "source": [
    "# Sunburst - color scale\n",
    "fig = px.sunburst(all_subsection_term_frequencies, path=['Term','Source','Subsection'], values='Term_Frequency', \n",
    "                  color='Term_Frequency', color_continuous_scale='blues')\n",
    "fig.update_layout(width=1300, height=800, title='Sunburst divided by term, then repository, then EAD tag (\"community\" view?)')\n",
    "fig.show()"
   ]
  },
  {
   "cell_type": "markdown",
   "metadata": {},
   "source": [
    "## Visualization: Source Frequencies\n",
    "\n",
    "This section of the script is designed to create bar plots displaying the frequencies of source controlled vocabularies in the EAD `controlaccess` section.\n",
    "\n",
    "The `source_columns` list includes the following column names:\n",
    "\n",
    "* 'subjects_source'\n",
    "* 'genreforms_source'\n",
    "* 'geognames_source'\n",
    "* 'persnames_source'\n",
    "* 'corpnames_source'\n",
    "* 'famnames_source'\n",
    "\n",
    "You can modify this list according to the source columns present in your specific DataFrames.\n",
    "\n",
    "Note: In the case where a DataFrame doesn't have the specified column, an empty series is created to prevent errors. The sources in the column are separated using `str.split('; ').explode()`, which handles multiple sources in the same cell."
   ]
  },
  {
   "cell_type": "code",
   "execution_count": 15,
   "metadata": {},
   "outputs": [],
   "source": [
    "#TODO: this code originally assumed three repositories - the conversion was hacky, no longer works with multiple sets?\n",
    "\n",
    "def plot_source_frequencies(df, df_name, column):\n",
    "    if column in df.columns:\n",
    "        df_counts = df[column].fillna('').str.split('; ').explode().value_counts()\n",
    "    else:\n",
    "        df_counts = pd.Series(dtype='int')\n",
    "        \n",
    "    # Create a new DataFrame to store these counts\n",
    "    counts_df = pd.DataFrame({\n",
    "        df_name: df_counts,\n",
    "        #df2_name: df2_counts,\n",
    "        #df3_name: df3_counts\n",
    "    }).fillna(0)\n",
    "\n",
    "    # Create a color palette\n",
    "    colors = {'df1_Bentley': '#2F65A7', 'df2_Clements': '#9A3324', 'df3_SCRC': '#A5A508'}\n",
    "\n",
    "    # Plot with rotated x-axis labels\n",
    "    counts_df.plot(kind='bar', figsize=(6, 4), rot=0, color=colors)\n",
    "    tag_label = column.split('_')[0].capitalize()\n",
    "    plt.title(f'Source Frequencies for {tag_label}')\n",
    "    plt.ylabel('Frequency')\n",
    "    plt.xlabel(f'{tag_label} Source')\n",
    "    plt.legend(labels={'Bentley':'df1_Bentley','Clements':'df2_Clements','SCRC':'df3_SCRC'})\n",
    "    plt.tight_layout()\n",
    "    plt.show()\n",
    "\n",
    "# Specify the source columns\n",
    "source_columns = ['subjects_source', 'genreforms_source', 'geognames_source', 'persnames_source', 'corpnames_source', 'famnames_source']"
   ]
  },
  {
   "cell_type": "code",
   "execution_count": 16,
   "metadata": {},
   "outputs": [
    {
     "data": {
      "image/png": "[encoded data removed]",
      "text/plain": [
       "<Figure size 600x400 with 1 Axes>"
      ]
     },
     "metadata": {},
     "output_type": "display_data"
    },
    {
     "data": {
      "image/png": "[encoded data removed]",
      "text/plain": [
       "<Figure size 600x400 with 1 Axes>"
      ]
     },
     "metadata": {},
     "output_type": "display_data"
    },
    {
     "data": {
      "image/png": "[encoded data removed]",
      "text/plain": [
       "<Figure size 600x400 with 1 Axes>"
      ]
     },
     "metadata": {},
     "output_type": "display_data"
    },
    {
     "data": {
      "image/png": "[encoded data removed]",
      "text/plain": [
       "<Figure size 600x400 with 1 Axes>"
      ]
     },
     "metadata": {},
     "output_type": "display_data"
    },
    {
     "data": {
      "image/png": "[encoded data removed]",
      "text/plain": [
       "<Figure size 600x400 with 1 Axes>"
      ]
     },
     "metadata": {},
     "output_type": "display_data"
    },
    {
     "data": {
      "image/png": "[encoded data removed]",
      "text/plain": [
       "<Figure size 600x400 with 1 Axes>"
      ]
     },
     "metadata": {},
     "output_type": "display_data"
    }
   ],
   "source": [
    "# Call the function for each source column\n",
    "for column in source_columns:\n",
    "#    plot_source_frequencies(df1_Bentley, df2_Clements, df3_SCRC, 'df1_Bentley', 'df2_Clements', 'df3_SCRC', column)\n",
    "    plot_source_frequencies(eads_df, 'df1_Bentley', column)"
   ]
  }
 ],
 "metadata": {
  "kernelspec": {
   "display_name": "base",
   "language": "python",
   "name": "python3"
  },
  "language_info": {
   "codemirror_mode": {
    "name": "ipython",
    "version": 3
   },
   "file_extension": ".py",
   "mimetype": "text/x-python",
   "name": "python",
   "nbconvert_exporter": "python",
   "pygments_lexer": "ipython3",
   "version": "3.9.18"
  }
 },
 "nbformat": 4,
 "nbformat_minor": 2
}
